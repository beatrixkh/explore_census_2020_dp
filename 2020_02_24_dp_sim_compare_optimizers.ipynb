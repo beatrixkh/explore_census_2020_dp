{
 "cells": [
  {
   "cell_type": "code",
   "execution_count": 1,
   "metadata": {
    "scrolled": true
   },
   "outputs": [
    {
     "name": "stdout",
     "output_type": "stream",
     "text": [
      "Mon Feb 24 13:50:50 PST 2020\r\n"
     ]
    }
   ],
   "source": [
    "import os\n",
    "import numpy as np\n",
    "import pandas as pd\n",
    "import matplotlib.pyplot as plt\n",
    "import matplotlib.axes as axes\n",
    "import time, datetime\n",
    "pd.set_option('display.max_rows', 101)\n",
    "!date"
   ]
  },
  {
   "cell_type": "markdown",
   "metadata": {},
   "source": [
    "# Aggregate and plot outputs of Minimal minority-majority sim"
   ]
  },
  {
   "cell_type": "markdown",
   "metadata": {},
   "source": [
    "launch code at /ihme/code/beatrixh/microsim_2020/census_2020/launch_majority_minority_jobs.py \\\n",
    "sim code at /ihme/code/beatrixh/microsim_2020/census_2020/launch_majority_minority_jobs.py"
   ]
  },
  {
   "cell_type": "code",
   "execution_count": 7,
   "metadata": {},
   "outputs": [],
   "source": [
    "def summarize_dir(path):\n",
    "    \"\"\"\n",
    "    Parameter: input dir containing csvs\n",
    "    ---------\n",
    "    Output: 1-column df containing the row means of the concatenated csvs\n",
    "    \"\"\"\n",
    "    files = os.listdir(path)\n",
    "    output = pd.DataFrame(np.zeros([11,1]))\n",
    "    for file in files:\n",
    "        df = pd.read_csv(path + '/' + file, index_col=False)\n",
    "        df = df.iloc[:,1:]\n",
    "        output = pd.concat([output,df], axis=1, ignore_index=True)\n",
    "    return output.mean(axis=1)"
   ]
  },
  {
   "cell_type": "code",
   "execution_count": 31,
   "metadata": {},
   "outputs": [],
   "source": [
    "weighted_path = '/ihme/scratch/users/beatrixh/2020-02-24/wei/'\n",
    "std_path = '/ihme/scratch/users/beatrixh/2020-02-24/non/'\n",
    "\n",
    "weighted_dirs = [weighted_path + i for i in os.listdir(weighted_path)]\n",
    "std_dirs = [std_path + i for i in os.listdir(std_path)]\n",
    "\n",
    "weighted_dt = pd.DataFrame()\n",
    "for path in weighted_dirs:\n",
    "    new = summarize_dir(path)\n",
    "    weighted_dt = pd.concat([weighted_dt, new], axis = 1, ignore_index=True)\n",
    "# print(weighted_dt.T)\n",
    "\n",
    "std_dt = pd.DataFrame()\n",
    "for path in std_dirs:\n",
    "    new = summarize_dir(path)\n",
    "    std_dt = pd.concat([std_dt, new], axis = 1, ignore_index=True)"
   ]
  },
  {
   "cell_type": "code",
   "execution_count": 29,
   "metadata": {},
   "outputs": [],
   "source": [
    "names = ['precise','dp','non_neg','pct_change',\n",
    "        'number_counties','alpha','beta','total_pop',\n",
    "        'prop_minority','segregation_factor','seed']\n",
    "names_dict = {i : names[i] for i in range(0,len(names))}\n",
    "data_weighted = weighted_dt.T.rename(columns=names_dict)\n",
    "# data_weighted.sort_values(by='total_pop')"
   ]
  },
  {
   "cell_type": "code",
   "execution_count": 30,
   "metadata": {},
   "outputs": [],
   "source": [
    "names = ['precise','dp','non_neg','pct_change',\n",
    "        'number_counties','alpha','beta','total_pop',\n",
    "        'prop_minority','segregation_factor','seed']\n",
    "names_dict = {i : names[i] for i in range(0,len(names))}\n",
    "data_std = std_dt.T.rename(columns=names_dict)\n",
    "# data_std.sort_values(by='total_pop')"
   ]
  },
  {
   "cell_type": "markdown",
   "metadata": {},
   "source": [
    "## standard: $\\min_{i\\in\\text{counties}} (\\text{dp_counts(i)}-\\text{non-neg_counts(i)})^2$"
   ]
  },
  {
   "cell_type": "markdown",
   "metadata": {},
   "source": [
    "## weighted: $\\min_{i\\in\\text{counties}} \\text{dp_counts(i)}^2\\times (\\text{dp_counts(i)}-\\text{non-neg_counts(i)})^2$"
   ]
  },
  {
   "cell_type": "code",
   "execution_count": 23,
   "metadata": {},
   "outputs": [
    {
     "name": "stdout",
     "output_type": "stream",
     "text": [
      "(10, 11)\n",
      "(9, 11)\n",
      "(9, 14)\n"
     ]
    },
    {
     "data": {
      "text/html": [
       "<div>\n",
       "<style scoped>\n",
       "    .dataframe tbody tr th:only-of-type {\n",
       "        vertical-align: middle;\n",
       "    }\n",
       "\n",
       "    .dataframe tbody tr th {\n",
       "        vertical-align: top;\n",
       "    }\n",
       "\n",
       "    .dataframe thead th {\n",
       "        text-align: right;\n",
       "    }\n",
       "</style>\n",
       "<table border=\"1\" class=\"dataframe\">\n",
       "  <thead>\n",
       "    <tr style=\"text-align: right;\">\n",
       "      <th></th>\n",
       "      <th>precise</th>\n",
       "      <th>dp</th>\n",
       "      <th>non_neg_std</th>\n",
       "      <th>non_neg_weighted</th>\n",
       "      <th>total_pop</th>\n",
       "      <th>pct_change_std</th>\n",
       "      <th>pct_change_weighted</th>\n",
       "    </tr>\n",
       "  </thead>\n",
       "  <tbody>\n",
       "    <tr>\n",
       "      <th>3</th>\n",
       "      <td>37.235764</td>\n",
       "      <td>37.987013</td>\n",
       "      <td>2.460612</td>\n",
       "      <td>2.370797</td>\n",
       "      <td>2.997003e+03</td>\n",
       "      <td>0.931037</td>\n",
       "      <td>0.932939</td>\n",
       "    </tr>\n",
       "    <tr>\n",
       "      <th>7</th>\n",
       "      <td>191.737263</td>\n",
       "      <td>192.488511</td>\n",
       "      <td>14.622474</td>\n",
       "      <td>14.188028</td>\n",
       "      <td>9.477356e+03</td>\n",
       "      <td>0.921817</td>\n",
       "      <td>0.924062</td>\n",
       "    </tr>\n",
       "    <tr>\n",
       "      <th>2</th>\n",
       "      <td>722.678322</td>\n",
       "      <td>724.028971</td>\n",
       "      <td>81.132914</td>\n",
       "      <td>83.290169</td>\n",
       "      <td>2.997003e+04</td>\n",
       "      <td>0.887322</td>\n",
       "      <td>0.884349</td>\n",
       "    </tr>\n",
       "    <tr>\n",
       "      <th>0</th>\n",
       "      <td>2438.414585</td>\n",
       "      <td>2449.876124</td>\n",
       "      <td>936.100693</td>\n",
       "      <td>1123.468586</td>\n",
       "      <td>9.477356e+04</td>\n",
       "      <td>0.618800</td>\n",
       "      <td>0.542943</td>\n",
       "    </tr>\n",
       "    <tr>\n",
       "      <th>5</th>\n",
       "      <td>7890.475524</td>\n",
       "      <td>7874.085914</td>\n",
       "      <td>5721.404956</td>\n",
       "      <td>6498.866427</td>\n",
       "      <td>2.997003e+05</td>\n",
       "      <td>0.276768</td>\n",
       "      <td>0.178137</td>\n",
       "    </tr>\n",
       "    <tr>\n",
       "      <th>4</th>\n",
       "      <td>25151.210789</td>\n",
       "      <td>25142.654346</td>\n",
       "      <td>22687.311832</td>\n",
       "      <td>24030.444526</td>\n",
       "      <td>9.477356e+05</td>\n",
       "      <td>0.098797</td>\n",
       "      <td>0.045126</td>\n",
       "    </tr>\n",
       "    <tr>\n",
       "      <th>6</th>\n",
       "      <td>79748.700300</td>\n",
       "      <td>79730.367632</td>\n",
       "      <td>77212.359833</td>\n",
       "      <td>78899.852392</td>\n",
       "      <td>2.997003e+06</td>\n",
       "      <td>0.032099</td>\n",
       "      <td>0.010775</td>\n",
       "    </tr>\n",
       "    <tr>\n",
       "      <th>8</th>\n",
       "      <td>252406.841159</td>\n",
       "      <td>252411.167832</td>\n",
       "      <td>249937.005902</td>\n",
       "      <td>251792.126827</td>\n",
       "      <td>9.477356e+06</td>\n",
       "      <td>0.009884</td>\n",
       "      <td>0.002469</td>\n",
       "    </tr>\n",
       "    <tr>\n",
       "      <th>1</th>\n",
       "      <td>798436.925075</td>\n",
       "      <td>798446.857143</td>\n",
       "      <td>796066.614331</td>\n",
       "      <td>797972.402752</td>\n",
       "      <td>2.997003e+07</td>\n",
       "      <td>0.003001</td>\n",
       "      <td>0.000593</td>\n",
       "    </tr>\n",
       "  </tbody>\n",
       "</table>\n",
       "</div>"
      ],
      "text/plain": [
       "         precise             dp    non_neg_std  non_neg_weighted  \\\n",
       "3      37.235764      37.987013       2.460612          2.370797   \n",
       "7     191.737263     192.488511      14.622474         14.188028   \n",
       "2     722.678322     724.028971      81.132914         83.290169   \n",
       "0    2438.414585    2449.876124     936.100693       1123.468586   \n",
       "5    7890.475524    7874.085914    5721.404956       6498.866427   \n",
       "4   25151.210789   25142.654346   22687.311832      24030.444526   \n",
       "6   79748.700300   79730.367632   77212.359833      78899.852392   \n",
       "8  252406.841159  252411.167832  249937.005902     251792.126827   \n",
       "1  798436.925075  798446.857143  796066.614331     797972.402752   \n",
       "\n",
       "      total_pop  pct_change_std  pct_change_weighted  \n",
       "3  2.997003e+03        0.931037             0.932939  \n",
       "7  9.477356e+03        0.921817             0.924062  \n",
       "2  2.997003e+04        0.887322             0.884349  \n",
       "0  9.477356e+04        0.618800             0.542943  \n",
       "5  2.997003e+05        0.276768             0.178137  \n",
       "4  9.477356e+05        0.098797             0.045126  \n",
       "6  2.997003e+06        0.032099             0.010775  \n",
       "8  9.477356e+06        0.009884             0.002469  \n",
       "1  2.997003e+07        0.003001             0.000593  "
      ]
     },
     "execution_count": 23,
     "metadata": {},
     "output_type": "execute_result"
    }
   ],
   "source": [
    "compare_weighted_to_std = data_std.merge(data_weighted, how = 'inner',\n",
    "                                         on = ['precise','dp','total_pop','seed',\n",
    "                                               'alpha','beta','number_counties','prop_minority'],\n",
    "                                         suffixes=('_std','_weighted'))\n",
    "print(data_std.shape)\n",
    "print(data_weighted.shape)\n",
    "print(compare_weighted_to_std.shape)\n",
    "compare_weighted_to_std[['precise','dp','non_neg_std','non_neg_weighted','total_pop',\n",
    "                         'pct_change_std','pct_change_weighted']].sort_values('total_pop')"
   ]
  },
  {
   "cell_type": "code",
   "execution_count": 47,
   "metadata": {},
   "outputs": [
    {
     "data": {
      "image/png": "[encoded data removed]",
      "text/plain": [
       "<Figure size 432x288 with 1 Axes>"
      ]
     },
     "metadata": {
      "needs_background": "light"
     },
     "output_type": "display_data"
    }
   ],
   "source": [
    "x = compare_weighted_to_std['total_pop']\n",
    "y_1 = compare_weighted_to_std['pct_change_std']\n",
    "y_2 = compare_weighted_to_std['pct_change_weighted']\n",
    "\n",
    "fig = plt.figure() \n",
    "\n",
    "ax = fig.add_subplot(111)\n",
    "ax.scatter(x, y_1, facecolors='none', edgecolors = 'cornflowerblue')\n",
    "ax.scatter(x, y_2, facecolors='none', edgecolors = 'red')\n",
    "\n",
    "plt.xscale('log')\n",
    "plt.xlabel('pop size: log scale')\n",
    "plt.ylabel('pct drop in minority population')\n",
    "plt.title(\"comparing LS to weighted LS\")\n",
    "\n",
    "plt.show()"
   ]
  },
  {
   "cell_type": "code",
   "execution_count": null,
   "metadata": {},
   "outputs": [],
   "source": []
  },
  {
   "cell_type": "code",
   "execution_count": null,
   "metadata": {},
   "outputs": [],
   "source": []
  }
 ],
 "metadata": {
  "kernelspec": {
   "display_name": "Python 3",
   "language": "python",
   "name": "python3"
  },
  "language_info": {
   "codemirror_mode": {
    "name": "ipython",
    "version": 3
   },
   "file_extension": ".py",
   "mimetype": "text/x-python",
   "name": "python",
   "nbconvert_exporter": "python",
   "pygments_lexer": "ipython3",
   "version": "3.6.10"
  }
 },
 "nbformat": 4,
 "nbformat_minor": 2
}
