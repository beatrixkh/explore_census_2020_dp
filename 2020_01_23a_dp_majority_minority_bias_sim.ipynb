{
 "cells": [
  {
   "cell_type": "code",
   "execution_count": 21,
   "metadata": {},
   "outputs": [
    {
     "name": "stdout",
     "output_type": "stream",
     "text": [
      "Thu Jan 30 14:59:28 PST 2020\n",
      "The autoreload extension is already loaded. To reload it, use:\n",
      "  %reload_ext autoreload\n"
     ]
    }
   ],
   "source": [
    "import numpy as np, pandas as pd\n",
    "pd.set_option('display.max_rows', 8)\n",
    "!date\n",
    "\n",
    "%load_ext autoreload\n",
    "%autoreload 2"
   ]
  },
  {
   "cell_type": "markdown",
   "metadata": {},
   "source": [
    "# Attempt at a minimal model that reproduces the sort of bias observed by Akee in AIAN counts\n",
    "\n",
    "I think it is necessary and sufficient to have a two-level geographic hierarchy with two race groups."
   ]
  },
  {
   "cell_type": "code",
   "execution_count": 22,
   "metadata": {},
   "outputs": [],
   "source": [
    "np.random.seed(12345) # set random seed for reproducibility"
   ]
  },
  {
   "cell_type": "code",
   "execution_count": 23,
   "metadata": {},
   "outputs": [
    {
     "name": "stdout",
     "output_type": "stream",
     "text": [
      "Minority majority areas if size was large: 154 out of 10000\n"
     ]
    }
   ],
   "source": [
    "K = 10_000  # number of areas at most-detailed level\n",
    "n_k = 1_000 # number of individuals in area k\n",
    "\n",
    "overall_minority_share = 0.02 # 2% of total population is in minority race group\n",
    "segregation_factor = 1 # tunable parameter controlling how many areas are \"majority minority\"  --- TODO: should this be parameterized differently?\n",
    "\n",
    "minority_share = np.random.beta(overall_minority_share/segregation_factor,\n",
    "                                (1-overall_minority_share)/segregation_factor, size=K)\n",
    "\n",
    "print('Minority majority areas if size was large:', (minority_share > .5).sum(), 'out of', K)"
   ]
  },
  {
   "cell_type": "code",
   "execution_count": 24,
   "metadata": {},
   "outputs": [
    {
     "name": "stdout",
     "output_type": "stream",
     "text": [
      "Minority majority areas with size from sim: 153 out of 10000\n"
     ]
    }
   ],
   "source": [
    "# simulate race-/location-stratified counts\n",
    "precise_minority_count = np.random.binomial(n_k, minority_share)\n",
    "precise_majority_count = n_k - precise_minority_count\n",
    "\n",
    "print('Minority majority areas with size from sim:',\n",
    "      (precise_minority_count > precise_majority_count).sum(), 'out of', K)"
   ]
  },
  {
   "cell_type": "code",
   "execution_count": 25,
   "metadata": {},
   "outputs": [
    {
     "name": "stdout",
     "output_type": "stream",
     "text": [
      "Overall minority share if size was large : 2.0 %\n",
      "Overall minority share with size from sim: 2.04406 %\n"
     ]
    }
   ],
   "source": [
    "print('Overall minority share if size was large :', 100*overall_minority_share, '%')\n",
    "print('Overall minority share with size from sim:', 100*precise_minority_count.sum()/(n_k*K), '%')"
   ]
  },
  {
   "cell_type": "code",
   "execution_count": 26,
   "metadata": {},
   "outputs": [],
   "source": [
    "# add Geometric noise, to make counts differentially private\n",
    "def GDPC(epsilon, exact_counts):\n",
    "    \"\"\" Geometric DP Counts\n",
    "    Parameters\n",
    "    ----------\n",
    "    epsilon : float-able\n",
    "    exact_counts : pd.Series\n",
    "    \n",
    "    Results\n",
    "    -------\n",
    "    returns dp_counts, a pd.Series with index matching exact_counts\"\"\"\n",
    "    \n",
    "    z = float(epsilon)\n",
    "\n",
    "    all_errors = (np.random.geometric(z, size=len(exact_counts))\n",
    "                    - np.random.geometric(z, size=len(exact_counts)))\n",
    "    dp_counts = exact_counts + all_errors\n",
    "    return dp_counts\n",
    "\n",
    "epsilon = '0.1'\n",
    "dp_minority_count = GDPC(epsilon, precise_minority_count)\n",
    "dp_majority_count = GDPC(epsilon, precise_majority_count)"
   ]
  },
  {
   "cell_type": "code",
   "execution_count": 27,
   "metadata": {},
   "outputs": [
    {
     "name": "stdout",
     "output_type": "stream",
     "text": [
      "DP estimate of minority share: 2.0455684233798275 %\n"
     ]
    }
   ],
   "source": [
    "print('DP estimate of minority share:', 100*dp_minority_count.sum()/(dp_minority_count + dp_majority_count).sum(), '%')"
   ]
  },
  {
   "cell_type": "code",
   "execution_count": 28,
   "metadata": {},
   "outputs": [
    {
     "name": "stdout",
     "output_type": "stream",
     "text": [
      "Number of negative minority counts in DP estimate: 4273\n",
      "Number of negative majority counts in DP estimate: 0\n"
     ]
    }
   ],
   "source": [
    "# but this probably includes illogical counts, such as negative numbers of the minority population\n",
    "print('Number of negative minority counts in DP estimate:', (dp_minority_count < 0).sum())\n",
    "print('Number of negative majority counts in DP estimate:', (dp_majority_count < 0).sum())"
   ]
  },
  {
   "cell_type": "code",
   "execution_count": 29,
   "metadata": {},
   "outputs": [],
   "source": [
    "# the complex part of the TopDown Algorithm is an optimization step that\n",
    "# removes illogical counts such as negatives, using constrained convex optimization\n",
    "\n",
    "# in this minimal example, I will optimize to find counts that are \"close\" to the dp counts,\n",
    "# are non-negative, and have race-stratified sums that match the precise total sum for both minority and majority\n",
    "# groups\n",
    "\n",
    "import pyomo.environ\n",
    "from pyomo.core import *\n",
    "from pyomo.opt import SolverFactory\n"
   ]
  },
  {
   "cell_type": "code",
   "execution_count": 30,
   "metadata": {},
   "outputs": [],
   "source": [
    "def nonnegative_optimize(imprecise_counts, control_total):\n",
    "    \"\"\"optimize the imprecise counts so that they sum to\n",
    "    the control total and are non-negative\n",
    "    \n",
    "    Parameters\n",
    "    ----------\n",
    "    imprecise_counts : list-like of floats\n",
    "    control_total : float\n",
    "    \n",
    "    Results\n",
    "    -------\n",
    "    returns optimized_counts, which are close to imprecise counts,\n",
    "    but not negative, and match control total in aggregate\n",
    "    \"\"\"\n",
    "    imprecise_counts = list(imprecise_counts)\n",
    "    \n",
    "    model = ConcreteModel()\n",
    "    model.I = range(len(imprecise_counts))\n",
    "    model.x = Var(model.I, within=NonNegativeReals)\n",
    "    model.objective = Objective(\n",
    "        expr=sum((model.x[i] - imprecise_counts[i])**2 for i in model.I))\n",
    "    model.constraint = Constraint(\n",
    "        expr=summation(model.x) == control_total)\n",
    "    \n",
    "    solver = SolverFactory('ipopt')\n",
    "    results = solver.solve(model, options={'acceptable_tol':1e-4}, tee=True)\n",
    "    optimized_counts = [value(model.x[i]) for i in model.I]\n",
    "        \n",
    "    return np.array(optimized_counts)"
   ]
  },
  {
   "cell_type": "code",
   "execution_count": 31,
   "metadata": {},
   "outputs": [
    {
     "name": "stdout",
     "output_type": "stream",
     "text": [
      "Ipopt 3.12.13: acceptable_tol=0.0001\n",
      "\n",
      "\n",
      "******************************************************************************\n",
      "This program contains Ipopt, a library for large-scale nonlinear optimization.\n",
      " Ipopt is released as open source code under the Eclipse Public License (EPL).\n",
      "         For more information visit http://projects.coin-or.org/Ipopt\n",
      "******************************************************************************\n",
      "\n",
      "This is Ipopt version 3.12.13, running with linear solver mumps.\n",
      "NOTE: Other linear solvers might be more efficient (see Ipopt documentation).\n",
      "\n",
      "Number of nonzeros in equality constraint Jacobian...:        4\n",
      "Number of nonzeros in inequality constraint Jacobian.:        0\n",
      "Number of nonzeros in Lagrangian Hessian.............:        4\n",
      "\n",
      "Total number of variables............................:        4\n",
      "                     variables with only lower bounds:        4\n",
      "                variables with lower and upper bounds:        0\n",
      "                     variables with only upper bounds:        0\n",
      "Total number of equality constraints.................:        1\n",
      "Total number of inequality constraints...............:        0\n",
      "        inequality constraints with only lower bounds:        0\n",
      "   inequality constraints with lower and upper bounds:        0\n",
      "        inequality constraints with only upper bounds:        0\n",
      "\n",
      "iter    objective    inf_pr   inf_du lg(mu)  ||d||  lg(rg) alpha_du alpha_pr  ls\n",
      "   0  3.9960040e+02 4.00e+01 3.00e+01  -1.0 0.00e+00    -  0.00e+00 0.00e+00   0\n",
      "   1  3.8835063e+02 0.00e+00 9.99e+02  -1.0 1.01e+01    -  9.90e-04 1.00e+00f  1\n",
      "   2  1.3464001e+02 7.11e-15 3.45e+02  -1.0 1.47e+01    -  1.00e+00 6.55e-01f  1\n",
      "   3  1.3334628e+02 0.00e+00 3.36e+02  -1.0 3.56e+00    -  1.00e+00 2.70e-02f  1\n",
      "   4  1.3362888e+02 0.00e+00 1.00e-06  -1.0 2.11e-02    -  1.00e+00 1.00e+00f  1\n",
      "   5  1.3335457e+02 7.11e-15 2.00e-07  -1.7 2.05e-02    -  1.00e+00 1.00e+00f  1\n",
      "   6  1.3333349e+02 0.00e+00 1.50e-09  -3.8 1.58e-03    -  1.00e+00 1.00e+00f  1\n",
      "   7  1.3333334e+02 7.11e-15 1.84e-11  -5.7 1.18e-05    -  1.00e+00 1.00e+00f  1\n",
      "   8  1.3333333e+02 7.11e-15 2.49e-14  -8.6 1.38e-07    -  1.00e+00 1.00e+00f  1\n",
      "\n",
      "Number of Iterations....: 8\n",
      "\n",
      "                                   (scaled)                 (unscaled)\n",
      "Objective...............:   1.3333333320250594e+02    1.3333333320250594e+02\n",
      "Dual infeasibility......:   2.4868995751603507e-14    2.4868995751603507e-14\n",
      "Constraint violation....:   7.1054273576010019e-15    7.1054273576010019e-15\n",
      "Complementarity.........:   2.5059736032010633e-09    2.5059736032010633e-09\n",
      "Overall NLP error.......:   2.5059736032010633e-09    2.5059736032010633e-09\n",
      "\n",
      "\n",
      "Number of objective function evaluations             = 9\n",
      "Number of objective gradient evaluations             = 9\n",
      "Number of equality constraint evaluations            = 9\n",
      "Number of inequality constraint evaluations          = 0\n",
      "Number of equality constraint Jacobian evaluations   = 9\n",
      "Number of inequality constraint Jacobian evaluations = 0\n",
      "Number of Lagrangian Hessian evaluations             = 8\n",
      "Total CPU secs in IPOPT (w/o function evaluations)   =      0.045\n",
      "Total CPU secs in NLP function evaluations           =      0.001\n",
      "\n",
      "EXIT: Optimal Solution Found.\n"
     ]
    },
    {
     "data": {
      "text/plain": [
       "array([13.33333334, 13.33333334, 13.33333334,  0.        ])"
      ]
     },
     "execution_count": 31,
     "metadata": {},
     "output_type": "execute_result"
    }
   ],
   "source": [
    "nonnegative_optimize([10, 10, 10, -10], 40)"
   ]
  },
  {
   "cell_type": "code",
   "execution_count": 32,
   "metadata": {},
   "outputs": [
    {
     "name": "stdout",
     "output_type": "stream",
     "text": [
      "Ipopt 3.12.13: acceptable_tol=0.0001\n",
      "\n",
      "\n",
      "******************************************************************************\n",
      "This program contains Ipopt, a library for large-scale nonlinear optimization.\n",
      " Ipopt is released as open source code under the Eclipse Public License (EPL).\n",
      "         For more information visit http://projects.coin-or.org/Ipopt\n",
      "******************************************************************************\n",
      "\n",
      "This is Ipopt version 3.12.13, running with linear solver mumps.\n",
      "NOTE: Other linear solvers might be more efficient (see Ipopt documentation).\n",
      "\n",
      "Number of nonzeros in equality constraint Jacobian...:    10000\n",
      "Number of nonzeros in inequality constraint Jacobian.:        0\n",
      "Number of nonzeros in Lagrangian Hessian.............:    10000\n",
      "\n",
      "Total number of variables............................:    10000\n",
      "                     variables with only lower bounds:    10000\n",
      "                variables with lower and upper bounds:        0\n",
      "                     variables with only upper bounds:        0\n",
      "Total number of equality constraints.................:        1\n",
      "Total number of inequality constraints...............:        0\n",
      "        inequality constraints with only lower bounds:        0\n",
      "   inequality constraints with lower and upper bounds:        0\n",
      "        inequality constraints with only upper bounds:        0\n",
      "\n",
      "iter    objective    inf_pr   inf_du lg(mu)  ||d||  lg(rg) alpha_du alpha_pr  ls\n",
      "   0  1.0826032e+08 2.04e+05 9.80e+01  -1.0 0.00e+00    -  0.00e+00 0.00e+00   0\n",
      "   1  1.0387725e+08 2.07e-09 2.13e+03  -1.0 2.14e+01    -  4.64e-04 1.00e+00f  1\n",
      "   2  6.4497937e+07 3.26e-09 1.67e+03  -1.0 1.00e+03    -  2.09e-02 2.15e-01f  1\n",
      "   3  6.2973474e+07 8.29e-09 1.65e+03  -1.0 7.91e+02    -  2.38e-01 1.19e-02f  1\n",
      "   4  5.2718272e+07 1.19e-09 1.51e+03  -1.0 7.81e+02    -  2.99e-01 8.54e-02f  1\n",
      "   5  3.9127840e+07 4.19e-09 1.30e+03  -1.0 7.14e+02    -  5.51e-01 1.40e-01f  1\n",
      "   6  2.3014705e+07 2.10e-09 9.92e+02  -1.0 6.13e+02    -  1.00e+00 2.38e-01f  1\n",
      "   7  1.0065174e+07 1.37e-09 6.38e+02  -1.0 4.66e+02    -  1.00e+00 3.57e-01f  1\n",
      "   8  4.4542907e+06 5.30e-09 3.90e+02  -1.0 2.97e+02    -  1.00e+00 3.89e-01f  1\n",
      "   9  2.4098923e+06 3.93e-09 2.37e+02  -1.0 1.79e+02    -  1.00e+00 3.93e-01f  1\n",
      "iter    objective    inf_pr   inf_du lg(mu)  ||d||  lg(rg) alpha_du alpha_pr  ls\n",
      "  10  1.6695962e+06 6.37e-09 1.40e+02  -1.0 1.07e+02    -  1.00e+00 4.07e-01f  1\n",
      "  11  1.3824241e+06 1.46e-10 7.08e+01  -1.0 6.21e+01    -  1.00e+00 4.95e-01f  1\n",
      "  12  1.2922471e+06 2.42e-09 1.68e+01  -1.0 3.08e+01    -  1.00e+00 7.63e-01f  1\n",
      "  13  1.2870843e+06 3.35e-09 1.00e-06  -1.0 7.10e+00    -  1.00e+00 1.00e+00f  1\n",
      "  14  1.2725319e+06 5.82e-11 2.93e-03  -2.5 5.04e-01    -  9.66e-01 1.00e+00f  1\n",
      "  15  1.2716862e+06 3.90e-09 2.83e-08  -2.5 1.81e-01    -  1.00e+00 1.00e+00f  1\n",
      "  16  1.2712187e+06 7.89e-09 1.50e-09  -3.8 9.13e-02    -  1.00e+00 1.00e+00f  1\n",
      "  17  1.2711892e+06 6.32e-09 1.85e-11  -5.7 2.11e-02    -  1.00e+00 1.00e+00f  1\n",
      "  18  1.2711890e+06 1.60e-09 1.85e-11  -5.7 9.55e-04    -  1.00e+00 1.00e+00f  1\n",
      "  19  1.2711887e+06 5.85e-09 3.07e-14  -8.6 3.72e-05    -  1.00e+00 1.00e+00f  1\n",
      "\n",
      "Number of Iterations....: 19\n",
      "\n",
      "                                   (scaled)                 (unscaled)\n",
      "Objective...............:   6.1828245807450694e+04    1.2711887338011863e+06\n",
      "Dual infeasibility......:   3.0681416527958451e-14    6.3080992381482575e-13\n",
      "Constraint violation....:   5.8498699218034744e-09    5.8498699218034744e-09\n",
      "Complementarity.........:   2.6933562358553190e-09    5.5375404209185355e-08\n",
      "Overall NLP error.......:   5.8498699218034744e-09    5.5375404209185355e-08\n",
      "\n",
      "\n",
      "Number of objective function evaluations             = 20\n",
      "Number of objective gradient evaluations             = 20\n",
      "Number of equality constraint evaluations            = 20\n",
      "Number of inequality constraint evaluations          = 0\n",
      "Number of equality constraint Jacobian evaluations   = 20\n",
      "Number of inequality constraint Jacobian evaluations = 0\n",
      "Number of Lagrangian Hessian evaluations             = 19\n",
      "Total CPU secs in IPOPT (w/o function evaluations)   =      2.836\n",
      "Total CPU secs in NLP function evaluations           =      0.026\n",
      "\n",
      "EXIT: Optimal Solution Found.\n",
      "Ipopt 3.12.13: acceptable_tol=0.0001\n",
      "\n",
      "\n",
      "******************************************************************************\n",
      "This program contains Ipopt, a library for large-scale nonlinear optimization.\n",
      " Ipopt is released as open source code under the Eclipse Public License (EPL).\n",
      "         For more information visit http://projects.coin-or.org/Ipopt\n",
      "******************************************************************************\n",
      "\n",
      "This is Ipopt version 3.12.13, running with linear solver mumps.\n",
      "NOTE: Other linear solvers might be more efficient (see Ipopt documentation).\n",
      "\n",
      "Number of nonzeros in equality constraint Jacobian...:    10000\n",
      "Number of nonzeros in inequality constraint Jacobian.:        0\n",
      "Number of nonzeros in Lagrangian Hessian.............:    10000\n",
      "\n",
      "Total number of variables............................:    10000\n",
      "                     variables with only lower bounds:    10000\n",
      "                variables with lower and upper bounds:        0\n",
      "                     variables with only upper bounds:        0\n",
      "Total number of equality constraints.................:        1\n",
      "Total number of inequality constraints...............:        0\n",
      "        inequality constraints with only lower bounds:        0\n",
      "   inequality constraints with lower and upper bounds:        0\n",
      "        inequality constraints with only upper bounds:        0\n",
      "\n",
      "iter    objective    inf_pr   inf_du lg(mu)  ||d||  lg(rg) alpha_du alpha_pr  ls\n",
      "   0  9.7003832e+09 9.80e+06 8.92e+01  -1.0 0.00e+00    -  0.00e+00 0.00e+00   0\n",
      "   1  1.0389713e+08 1.01e-07 9.80e+04  -1.0 9.80e+02    -  1.01e-05 1.00e+00f  1\n",
      "   2  1.0536731e+04 6.33e-08 9.73e+02  -1.0 9.79e+02    -  8.91e-01 9.90e-01f  1\n",
      "   3  3.3213452e+01 2.35e-07 1.00e-06  -1.0 9.63e+00    -  1.00e+00 1.00e+00f  1\n",
      "   4  3.3109133e+01 2.09e-07 2.83e-08  -2.5 1.54e-01    -  1.00e+00 1.00e+00f  1\n",
      "   5  3.3078301e+01 2.46e-07 1.50e-09  -3.8 8.31e-02    -  1.00e+00 1.00e+00f  1\n",
      "   6  3.3069152e+01 3.93e-07 1.85e-11  -5.7 4.41e-02    -  1.00e+00 1.00e+00h  1\n",
      "   7  3.3066491e+01 2.12e-07 1.85e-11  -5.7 1.84e-02    -  1.00e+00 1.00e+00h  1\n",
      "   8  3.3065895e+01 6.13e-07 1.85e-11  -5.7 4.91e-03    -  1.00e+00 1.00e+00h  1\n",
      "   9  3.3065808e+01 1.94e-07 3.37e-14  -8.6 7.51e-04    -  1.00e+00 1.00e+00h  1\n",
      "iter    objective    inf_pr   inf_du lg(mu)  ||d||  lg(rg) alpha_du alpha_pr  ls\n",
      "  10  3.3065807e+01 1.97e-06 3.41e-14  -8.6 9.81e-06    -  1.00e+00 1.00e+00h  1\n",
      "  11  3.3065806e+01 2.06e-06 3.53e-14  -8.6 1.67e-09    -  1.00e+00 1.00e+00H  1\n",
      "  12  3.3065806e+01 2.09e-06 3.51e-14  -8.6 2.06e-10    -  1.00e+00 1.00e+00H  1\n",
      "  13  3.3065806e+01 2.10e-06 3.47e-14  -8.6 2.09e-10    -  1.00e+00 1.00e+00H  1\n",
      "  14  3.3065806e+01 2.10e-06 3.42e-14  -8.6 2.10e-10    -  1.00e+00 1.00e+00H  1\n",
      "  15  3.3065806e+01 2.10e-06 3.52e-14  -8.6 2.10e-10    -  1.00e+00 1.00e+00H  1\n",
      "  16  3.3065806e+01 2.34e-06 3.53e-14  -8.6 2.10e-10    -  1.00e+00 1.00e+00H  1\n",
      "  17  3.3065807e+01 1.92e-06 1.07e-11  -8.6 2.34e-10    -  1.00e+00 5.00e-01h  2\n",
      "  18  3.3065806e+01 2.05e-06 3.53e-14  -8.6 1.92e-10    -  1.00e+00 1.00e+00H  1\n",
      "  19  3.3065806e+01 2.09e-06 3.43e-14  -8.6 2.05e-10    -  1.00e+00 1.00e+00H  1\n",
      "iter    objective    inf_pr   inf_du lg(mu)  ||d||  lg(rg) alpha_du alpha_pr  ls\n",
      "  20  3.3065806e+01 2.09e-06 3.46e-14  -8.6 2.09e-10    -  1.00e+00 1.00e+00H  1\n",
      "  21  3.3065806e+01 2.09e-06 3.47e-14  -8.6 2.09e-10    -  1.00e+00 1.00e+00H  1\n",
      "\n",
      "Number of Iterations....: 21\n",
      "\n",
      "                                   (scaled)                 (unscaled)\n",
      "Objective...............:   1.5057288906500981e+00    3.3065806438676155e+01\n",
      "Dual infeasibility......:   3.4668977401606329e-14    7.6133074373927500e-13\n",
      "Constraint violation....:   2.0936131477355957e-06    2.0936131477355957e-06\n",
      "Complementarity.........:   2.5059035596800622e-09    5.5029642170574167e-08\n",
      "Overall NLP error.......:   2.0936131477355957e-06    2.0936131477355957e-06\n",
      "\n",
      "\n",
      "Number of objective function evaluations             = 33\n",
      "Number of objective gradient evaluations             = 22\n",
      "Number of equality constraint evaluations            = 33\n",
      "Number of inequality constraint evaluations          = 0\n",
      "Number of equality constraint Jacobian evaluations   = 22\n",
      "Number of inequality constraint Jacobian evaluations = 0\n",
      "Number of Lagrangian Hessian evaluations             = 21\n",
      "Total CPU secs in IPOPT (w/o function evaluations)   =      3.560\n",
      "Total CPU secs in NLP function evaluations           =      0.037\n",
      "\n",
      "EXIT: Solved To Acceptable Level.\n"
     ]
    }
   ],
   "source": [
    "nn_minority_count = nonnegative_optimize(dp_minority_count, precise_minority_count.sum())\n",
    "nn_majority_count = nonnegative_optimize(dp_majority_count, precise_majority_count.sum())"
   ]
  },
  {
   "cell_type": "code",
   "execution_count": 17,
   "metadata": {},
   "outputs": [
    {
     "name": "stdout",
     "output_type": "stream",
     "text": [
      "Number of negative minority counts in DP estimate: 0\n",
      "Number of negative majority counts in DP estimate: 0\n"
     ]
    }
   ],
   "source": [
    "# confirm that this got rid of negative counts\n",
    "print('Number of negative minority counts in DP estimate:', (nn_minority_count < 0).sum())\n",
    "print('Number of negative majority counts in DP estimate:', (nn_majority_count < 0).sum())"
   ]
  },
  {
   "cell_type": "code",
   "execution_count": 18,
   "metadata": {},
   "outputs": [
    {
     "name": "stdout",
     "output_type": "stream",
     "text": [
      "Number of near-zero minority counts in DP estimate: 8057\n",
      "Number of near-zero majority counts in DP estimate: 1\n"
     ]
    }
   ],
   "source": [
    "# but it does have small positive counts (and non-integral counts...)\n",
    "print('Number of near-zero minority counts in DP estimate:', (nn_minority_count < .5).sum())\n",
    "print('Number of near-zero majority counts in DP estimate:', (nn_majority_count < .5).sum())"
   ]
  },
  {
   "cell_type": "code",
   "execution_count": 19,
   "metadata": {},
   "outputs": [
    {
     "name": "stdout",
     "output_type": "stream",
     "text": [
      "Total minority counts --- precise 204406, dp 204572, non-neg 204406.00005826657\n"
     ]
    }
   ],
   "source": [
    "# the total number of minorities should now match the precise total\n",
    "print(f'Total minority counts --- precise {precise_minority_count.sum()}, dp {dp_minority_count.sum()}, non-neg {nn_minority_count.sum()}')"
   ]
  },
  {
   "cell_type": "code",
   "execution_count": 20,
   "metadata": {},
   "outputs": [
    {
     "name": "stdout",
     "output_type": "stream",
     "text": [
      "Minority counts in minority-majority areas\n",
      "precise 110945,\n",
      "     dp 110815,\n",
      "non-neg 108884.38229855901\n"
     ]
    }
   ],
   "source": [
    "# but I expect that the number of minorities in minority-majority areas is lower in the non-neg version\n",
    "minority_majority_area = (minority_share > .5)\n",
    "print(f'Minority counts in minority-majority areas')\n",
    "print(f'''precise {precise_minority_count[minority_majority_area].sum()},\n",
    "     dp {dp_minority_count[minority_majority_area].sum()},\n",
    "non-neg {nn_minority_count[minority_majority_area].sum()}''')"
   ]
  },
  {
   "cell_type": "code",
   "execution_count": null,
   "metadata": {},
   "outputs": [],
   "source": [
    "# 2% under-count, and I expect that gets worse as the counts get smaller"
   ]
  },
  {
   "cell_type": "code",
   "execution_count": null,
   "metadata": {},
   "outputs": [],
   "source": []
  },
  {
   "cell_type": "code",
   "execution_count": null,
   "metadata": {},
   "outputs": [],
   "source": []
  }
 ],
 "metadata": {
  "kernelspec": {
   "display_name": "Python 3",
   "language": "python",
   "name": "python3"
  },
  "language_info": {
   "codemirror_mode": {
    "name": "ipython",
    "version": 3
   },
   "file_extension": ".py",
   "mimetype": "text/x-python",
   "name": "python",
   "nbconvert_exporter": "python",
   "pygments_lexer": "ipython3",
   "version": "3.6.10"
  }
 },
 "nbformat": 4,
 "nbformat_minor": 2
}
