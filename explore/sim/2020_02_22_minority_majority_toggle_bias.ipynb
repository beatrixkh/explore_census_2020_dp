{
 "cells": [
  {
   "cell_type": "code",
   "execution_count": 14,
   "metadata": {},
   "outputs": [],
   "source": [
    "import numpy as np, pandas as pd\n",
    "import sys, os\n",
    "import time, datetime\n",
    "import random\n",
    "import matplotlib.pyplot as plt\n",
    "from scipy import stats\n",
    "import pyomo.environ\n",
    "from pyomo.core import *\n",
    "from pyomo.opt import SolverFactory"
   ]
  },
  {
   "cell_type": "markdown",
   "metadata": {},
   "source": [
    "# Minority majority sim for 2020 census DP"
   ]
  },
  {
   "cell_type": "markdown",
   "metadata": {},
   "source": [
    "from Abie's sim: \\\n",
    "illustration of the minority minority areas pulling the minority majority counts down after nonneg optimization"
   ]
  },
  {
   "cell_type": "code",
   "execution_count": 2,
   "metadata": {},
   "outputs": [],
   "source": [
    "# function to add geometric noise to counts\n",
    "def GDPC(eps, exact_counts):\n",
    "        \"\"\" Geometric DP Counts\n",
    "        Parameters\n",
    "        ----------\n",
    "        eps : float-able\n",
    "        exact_counts : pd.Series\n",
    "\n",
    "        Results\n",
    "        -------\n",
    "        returns dp_counts, a pd.Series with index matching exact_counts\"\"\"\n",
    "\n",
    "        z = float(eps)\n",
    "\n",
    "        all_errors = (np.random.geometric(z, size=len(exact_counts))\n",
    "                        - np.random.geometric(z, size=len(exact_counts)))\n",
    "        dp_counts = exact_counts + all_errors\n",
    "        return dp_counts"
   ]
  },
  {
   "cell_type": "code",
   "execution_count": 3,
   "metadata": {},
   "outputs": [],
   "source": [
    "# function to generate final synthetic counts\n",
    "def nonnegative_optimize(imprecise_counts, control_total):\n",
    "    \"\"\"optimize the imprecise counts so that they sum to\n",
    "    the control total and are non-negative\n",
    "\n",
    "    Parameters\n",
    "    ----------\n",
    "    imprecise_counts : list-like of floats\n",
    "    control_total : float\n",
    "\n",
    "    Results\n",
    "    -------\n",
    "    returns optimized_counts, which are close to imprecise counts,\n",
    "    but not negative, and match control total in aggregate\n",
    "    \"\"\"\n",
    "    imprecise_counts = list(imprecise_counts)\n",
    "\n",
    "    model = ConcreteModel()\n",
    "    model.I = range(len(imprecise_counts))\n",
    "    model.x = Var(model.I, within=NonNegativeReals)\n",
    "    model.objective = Objective(\n",
    "        expr=sum((model.x[i] - imprecise_counts[i])**2 for i in model.I))\n",
    "    model.sum_constraint = Constraint(\n",
    "        expr=summation(model.x) == control_total)\n",
    "\n",
    "    solver = SolverFactory('ipopt')\n",
    "    results = solver.solve(model, options={'acceptable_tol':1e-4}, tee=False)\n",
    "    optimized_counts = [value(model.x[i]) for i in model.I]\n",
    "\n",
    "    return np.array(optimized_counts)"
   ]
  },
  {
   "cell_type": "code",
   "execution_count": 4,
   "metadata": {},
   "outputs": [],
   "source": [
    "#set random seed\n",
    "np.random.seed(2)\n",
    "\n",
    "#set privacy budget\n",
    "epsilon = '0.1'\n",
    "\n",
    "#parameters for distribution of county sizes (beta)\n",
    "a = .02\n",
    "b = 10\n",
    "K = 10_000\n",
    "\n",
    "#parameters for distribution of pct minority per county\n",
    "pct_minority = .05\n",
    "segregation_factor = 1"
   ]
  },
  {
   "cell_type": "code",
   "execution_count": 5,
   "metadata": {},
   "outputs": [
    {
     "name": "stdout",
     "output_type": "stream",
     "text": [
      "total pop: 59716.71508518248\n"
     ]
    }
   ],
   "source": [
    "#create distribution of county sizes\n",
    "n_k = np.random.beta(a, b, K) # number of individuals in area k\n",
    "n_k *= 3e3\n",
    "total_pop = sum(n_k)\n",
    "print(f'total pop: {total_pop}')"
   ]
  },
  {
   "cell_type": "code",
   "execution_count": 6,
   "metadata": {},
   "outputs": [
    {
     "data": {
      "image/png": "[encoded data removed]",
      "text/plain": [
       "<Figure size 432x288 with 1 Axes>"
      ]
     },
     "metadata": {
      "needs_background": "light"
     },
     "output_type": "display_data"
    }
   ],
   "source": [
    "plt.hist(n_k, bins = 100)\n",
    "plt.title(\"distribution of county sizes\")\n",
    "plt.show()"
   ]
  },
  {
   "cell_type": "code",
   "execution_count": 7,
   "metadata": {},
   "outputs": [],
   "source": [
    "minority_share = np.random.beta(pct_minority/segregation_factor,\n",
    "                                (1-pct_minority)/segregation_factor, size=K)"
   ]
  },
  {
   "cell_type": "code",
   "execution_count": 8,
   "metadata": {
    "scrolled": true
   },
   "outputs": [
    {
     "data": {
      "image/png": "[encoded data removed]",
      "text/plain": [
       "<Figure size 432x288 with 1 Axes>"
      ]
     },
     "metadata": {
      "needs_background": "light"
     },
     "output_type": "display_data"
    }
   ],
   "source": [
    "plt.hist(minority_share, bins = 100)\n",
    "plt.title(\"distribution of % minority per county\")\n",
    "plt.show()"
   ]
  },
  {
   "cell_type": "code",
   "execution_count": 9,
   "metadata": {},
   "outputs": [],
   "source": [
    "# simulate race-/location-stratified counts\n",
    "precise_minority_count = np.random.binomial(n_k.astype(int), minority_share)\n",
    "precise_majority_count = n_k - precise_minority_count"
   ]
  },
  {
   "cell_type": "code",
   "execution_count": 10,
   "metadata": {
    "scrolled": true
   },
   "outputs": [
    {
     "name": "stdout",
     "output_type": "stream",
     "text": [
      "overall minority percentage:  0.043337949790244926\n"
     ]
    }
   ],
   "source": [
    "print(f'overall minority percentage: ',precise_minority_count.sum()/total_pop)"
   ]
  },
  {
   "cell_type": "code",
   "execution_count": 11,
   "metadata": {},
   "outputs": [
    {
     "data": {
      "image/png": "[encoded data removed]",
      "text/plain": [
       "<Figure size 432x288 with 1 Axes>"
      ]
     },
     "metadata": {
      "needs_background": "light"
     },
     "output_type": "display_data"
    }
   ],
   "source": [
    "plt.hist(precise_majority_count, bins = 100)\n",
    "plt.hist(precise_minority_count, bins = 100)\n",
    "plt.title(\"distribution of minority vs majority counts per county\")\n",
    "plt.show()"
   ]
  },
  {
   "cell_type": "code",
   "execution_count": 12,
   "metadata": {},
   "outputs": [
    {
     "data": {
      "image/png": "[encoded data removed]",
      "text/plain": [
       "<Figure size 432x288 with 1 Axes>"
      ]
     },
     "metadata": {
      "needs_background": "light"
     },
     "output_type": "display_data"
    }
   ],
   "source": [
    "plt.hist(precise_majority_count, bins = 100, log=True)\n",
    "plt.hist(precise_minority_count, bins = 100, log=True)\n",
    "plt.title(\"log scale: distribution of minority vs majority counts per county\")\n",
    "plt.show()"
   ]
  },
  {
   "cell_type": "code",
   "execution_count": 13,
   "metadata": {},
   "outputs": [
    {
     "ename": "KeyboardInterrupt",
     "evalue": "",
     "output_type": "error",
     "traceback": [
      "\u001b[0;31m---------------------------------------------------------------------------\u001b[0m",
      "\u001b[0;31mKeyboardInterrupt\u001b[0m                         Traceback (most recent call last)",
      "\u001b[0;32m<ipython-input-13-1b35cc434368>\u001b[0m in \u001b[0;36m<module>\u001b[0;34m\u001b[0m\n\u001b[1;32m      7\u001b[0m \u001b[0;31m# total sum for both minority and majority\u001b[0m\u001b[0;34m\u001b[0m\u001b[0;34m\u001b[0m\u001b[0;34m\u001b[0m\u001b[0m\n\u001b[1;32m      8\u001b[0m \u001b[0mnn_minority_count\u001b[0m \u001b[0;34m=\u001b[0m \u001b[0mnonnegative_optimize\u001b[0m\u001b[0;34m(\u001b[0m\u001b[0mdp_minority_count\u001b[0m\u001b[0;34m,\u001b[0m \u001b[0mprecise_minority_count\u001b[0m\u001b[0;34m.\u001b[0m\u001b[0msum\u001b[0m\u001b[0;34m(\u001b[0m\u001b[0;34m)\u001b[0m\u001b[0;34m)\u001b[0m\u001b[0;34m\u001b[0m\u001b[0;34m\u001b[0m\u001b[0m\n\u001b[0;32m----> 9\u001b[0;31m \u001b[0mnn_majority_count\u001b[0m \u001b[0;34m=\u001b[0m \u001b[0mnonnegative_optimize\u001b[0m\u001b[0;34m(\u001b[0m\u001b[0mdp_majority_count\u001b[0m\u001b[0;34m,\u001b[0m \u001b[0mprecise_majority_count\u001b[0m\u001b[0;34m.\u001b[0m\u001b[0msum\u001b[0m\u001b[0;34m(\u001b[0m\u001b[0;34m)\u001b[0m\u001b[0;34m)\u001b[0m\u001b[0;34m\u001b[0m\u001b[0;34m\u001b[0m\u001b[0m\n\u001b[0m",
      "\u001b[0;32m<ipython-input-3-39c7be40e7e8>\u001b[0m in \u001b[0;36mnonnegative_optimize\u001b[0;34m(imprecise_counts, control_total)\u001b[0m\n\u001b[1;32m     25\u001b[0m \u001b[0;34m\u001b[0m\u001b[0m\n\u001b[1;32m     26\u001b[0m     \u001b[0msolver\u001b[0m \u001b[0;34m=\u001b[0m \u001b[0mSolverFactory\u001b[0m\u001b[0;34m(\u001b[0m\u001b[0;34m'ipopt'\u001b[0m\u001b[0;34m)\u001b[0m\u001b[0;34m\u001b[0m\u001b[0;34m\u001b[0m\u001b[0m\n\u001b[0;32m---> 27\u001b[0;31m     \u001b[0mresults\u001b[0m \u001b[0;34m=\u001b[0m \u001b[0msolver\u001b[0m\u001b[0;34m.\u001b[0m\u001b[0msolve\u001b[0m\u001b[0;34m(\u001b[0m\u001b[0mmodel\u001b[0m\u001b[0;34m,\u001b[0m \u001b[0moptions\u001b[0m\u001b[0;34m=\u001b[0m\u001b[0;34m{\u001b[0m\u001b[0;34m'acceptable_tol'\u001b[0m\u001b[0;34m:\u001b[0m\u001b[0;36m1e-4\u001b[0m\u001b[0;34m}\u001b[0m\u001b[0;34m,\u001b[0m \u001b[0mtee\u001b[0m\u001b[0;34m=\u001b[0m\u001b[0;32mFalse\u001b[0m\u001b[0;34m)\u001b[0m\u001b[0;34m\u001b[0m\u001b[0;34m\u001b[0m\u001b[0m\n\u001b[0m\u001b[1;32m     28\u001b[0m     \u001b[0moptimized_counts\u001b[0m \u001b[0;34m=\u001b[0m \u001b[0;34m[\u001b[0m\u001b[0mvalue\u001b[0m\u001b[0;34m(\u001b[0m\u001b[0mmodel\u001b[0m\u001b[0;34m.\u001b[0m\u001b[0mx\u001b[0m\u001b[0;34m[\u001b[0m\u001b[0mi\u001b[0m\u001b[0;34m]\u001b[0m\u001b[0;34m)\u001b[0m \u001b[0;32mfor\u001b[0m \u001b[0mi\u001b[0m \u001b[0;32min\u001b[0m \u001b[0mmodel\u001b[0m\u001b[0;34m.\u001b[0m\u001b[0mI\u001b[0m\u001b[0;34m]\u001b[0m\u001b[0;34m\u001b[0m\u001b[0;34m\u001b[0m\u001b[0m\n\u001b[1;32m     29\u001b[0m \u001b[0;34m\u001b[0m\u001b[0m\n",
      "\u001b[0;32m/share/code/beatrixh/miniconda/envs/pyomo/lib/python3.6/site-packages/pyomo/opt/base/solvers.py\u001b[0m in \u001b[0;36msolve\u001b[0;34m(self, *args, **kwds)\u001b[0m\n\u001b[1;32m    603\u001b[0m                 \u001b[0mprint\u001b[0m\u001b[0;34m(\u001b[0m\u001b[0;34m\"      %6.2f seconds required for solver\"\u001b[0m \u001b[0;34m%\u001b[0m \u001b[0;34m(\u001b[0m\u001b[0msolve_completion_time\u001b[0m \u001b[0;34m-\u001b[0m \u001b[0mpresolve_completion_time\u001b[0m\u001b[0;34m)\u001b[0m\u001b[0;34m)\u001b[0m\u001b[0;34m\u001b[0m\u001b[0;34m\u001b[0m\u001b[0m\n\u001b[1;32m    604\u001b[0m \u001b[0;34m\u001b[0m\u001b[0m\n\u001b[0;32m--> 605\u001b[0;31m             \u001b[0mresult\u001b[0m \u001b[0;34m=\u001b[0m \u001b[0mself\u001b[0m\u001b[0;34m.\u001b[0m\u001b[0m_postsolve\u001b[0m\u001b[0;34m(\u001b[0m\u001b[0;34m)\u001b[0m\u001b[0;34m\u001b[0m\u001b[0;34m\u001b[0m\u001b[0m\n\u001b[0m\u001b[1;32m    606\u001b[0m             \u001b[0mresult\u001b[0m\u001b[0;34m.\u001b[0m\u001b[0m_smap_id\u001b[0m \u001b[0;34m=\u001b[0m \u001b[0mself\u001b[0m\u001b[0;34m.\u001b[0m\u001b[0m_smap_id\u001b[0m\u001b[0;34m\u001b[0m\u001b[0;34m\u001b[0m\u001b[0m\n\u001b[1;32m    607\u001b[0m             \u001b[0mresult\u001b[0m\u001b[0;34m.\u001b[0m\u001b[0m_smap\u001b[0m \u001b[0;34m=\u001b[0m \u001b[0;32mNone\u001b[0m\u001b[0;34m\u001b[0m\u001b[0;34m\u001b[0m\u001b[0m\n",
      "\u001b[0;32m/share/code/beatrixh/miniconda/envs/pyomo/lib/python3.6/site-packages/pyomo/opt/solver/shellcmd.py\u001b[0m in \u001b[0;36m_postsolve\u001b[0;34m(self)\u001b[0m\n\u001b[1;32m    268\u001b[0m \u001b[0;34m\u001b[0m\u001b[0m\n\u001b[1;32m    269\u001b[0m         \u001b[0;32mif\u001b[0m \u001b[0mself\u001b[0m\u001b[0;34m.\u001b[0m\u001b[0m_results_format\u001b[0m \u001b[0;32mis\u001b[0m \u001b[0;32mnot\u001b[0m \u001b[0;32mNone\u001b[0m\u001b[0;34m:\u001b[0m\u001b[0;34m\u001b[0m\u001b[0;34m\u001b[0m\u001b[0m\n\u001b[0;32m--> 270\u001b[0;31m             \u001b[0mresults\u001b[0m \u001b[0;34m=\u001b[0m \u001b[0mself\u001b[0m\u001b[0;34m.\u001b[0m\u001b[0mprocess_output\u001b[0m\u001b[0;34m(\u001b[0m\u001b[0mself\u001b[0m\u001b[0;34m.\u001b[0m\u001b[0m_rc\u001b[0m\u001b[0;34m)\u001b[0m\u001b[0;34m\u001b[0m\u001b[0;34m\u001b[0m\u001b[0m\n\u001b[0m\u001b[1;32m    271\u001b[0m             \u001b[0;31m#\u001b[0m\u001b[0;34m\u001b[0m\u001b[0;34m\u001b[0m\u001b[0;34m\u001b[0m\u001b[0m\n\u001b[1;32m    272\u001b[0m             \u001b[0;31m# If keepfiles is true, then we pop the\u001b[0m\u001b[0;34m\u001b[0m\u001b[0;34m\u001b[0m\u001b[0;34m\u001b[0m\u001b[0m\n",
      "\u001b[0;32m/share/code/beatrixh/miniconda/envs/pyomo/lib/python3.6/site-packages/pyomo/solvers/plugins/solvers/IPOPT.py\u001b[0m in \u001b[0;36mprocess_output\u001b[0;34m(self, rc)\u001b[0m\n\u001b[1;32m    190\u001b[0m     \u001b[0;32mdef\u001b[0m \u001b[0mprocess_output\u001b[0m\u001b[0;34m(\u001b[0m\u001b[0mself\u001b[0m\u001b[0;34m,\u001b[0m \u001b[0mrc\u001b[0m\u001b[0;34m)\u001b[0m\u001b[0;34m:\u001b[0m\u001b[0;34m\u001b[0m\u001b[0;34m\u001b[0m\u001b[0m\n\u001b[1;32m    191\u001b[0m         \u001b[0;32mif\u001b[0m \u001b[0mos\u001b[0m\u001b[0;34m.\u001b[0m\u001b[0mpath\u001b[0m\u001b[0;34m.\u001b[0m\u001b[0mexists\u001b[0m\u001b[0;34m(\u001b[0m\u001b[0mself\u001b[0m\u001b[0;34m.\u001b[0m\u001b[0m_results_file\u001b[0m\u001b[0;34m)\u001b[0m\u001b[0;34m:\u001b[0m\u001b[0;34m\u001b[0m\u001b[0;34m\u001b[0m\u001b[0m\n\u001b[0;32m--> 192\u001b[0;31m             \u001b[0;32mreturn\u001b[0m \u001b[0msuper\u001b[0m\u001b[0;34m(\u001b[0m\u001b[0mIPOPT\u001b[0m\u001b[0;34m,\u001b[0m \u001b[0mself\u001b[0m\u001b[0;34m)\u001b[0m\u001b[0;34m.\u001b[0m\u001b[0mprocess_output\u001b[0m\u001b[0;34m(\u001b[0m\u001b[0mrc\u001b[0m\u001b[0;34m)\u001b[0m\u001b[0;34m\u001b[0m\u001b[0;34m\u001b[0m\u001b[0m\n\u001b[0m\u001b[1;32m    193\u001b[0m         \u001b[0;32melse\u001b[0m\u001b[0;34m:\u001b[0m\u001b[0;34m\u001b[0m\u001b[0;34m\u001b[0m\u001b[0m\n\u001b[1;32m    194\u001b[0m             \u001b[0mres\u001b[0m \u001b[0;34m=\u001b[0m \u001b[0mSolverResults\u001b[0m\u001b[0;34m(\u001b[0m\u001b[0;34m)\u001b[0m\u001b[0;34m\u001b[0m\u001b[0;34m\u001b[0m\u001b[0m\n",
      "\u001b[0;32m/share/code/beatrixh/miniconda/envs/pyomo/lib/python3.6/site-packages/pyomo/opt/solver/shellcmd.py\u001b[0m in \u001b[0;36mprocess_output\u001b[0;34m(self, rc)\u001b[0m\n\u001b[1;32m    348\u001b[0m                 results = self._results_reader(self._results_file,\n\u001b[1;32m    349\u001b[0m                                                \u001b[0mres\u001b[0m\u001b[0;34m=\u001b[0m\u001b[0mresults\u001b[0m\u001b[0;34m,\u001b[0m\u001b[0;34m\u001b[0m\u001b[0;34m\u001b[0m\u001b[0m\n\u001b[0;32m--> 350\u001b[0;31m                                                suffixes=self._suffixes)\n\u001b[0m\u001b[1;32m    351\u001b[0m             \u001b[0mresults_reader_completion_time\u001b[0m \u001b[0;34m=\u001b[0m \u001b[0mtime\u001b[0m\u001b[0;34m.\u001b[0m\u001b[0mtime\u001b[0m\u001b[0;34m(\u001b[0m\u001b[0;34m)\u001b[0m\u001b[0;34m\u001b[0m\u001b[0;34m\u001b[0m\u001b[0m\n\u001b[1;32m    352\u001b[0m             \u001b[0;32mif\u001b[0m \u001b[0mself\u001b[0m\u001b[0;34m.\u001b[0m\u001b[0m_report_timing\u001b[0m \u001b[0;32mis\u001b[0m \u001b[0;32mTrue\u001b[0m\u001b[0;34m:\u001b[0m\u001b[0;34m\u001b[0m\u001b[0;34m\u001b[0m\u001b[0m\n",
      "\u001b[0;32m/share/code/beatrixh/miniconda/envs/pyomo/lib/python3.6/site-packages/pyomo/opt/plugins/sol.py\u001b[0m in \u001b[0;36m__call__\u001b[0;34m(self, filename, res, soln, suffixes)\u001b[0m\n\u001b[1;32m     45\u001b[0m         \u001b[0;32mtry\u001b[0m\u001b[0;34m:\u001b[0m\u001b[0;34m\u001b[0m\u001b[0;34m\u001b[0m\u001b[0m\n\u001b[1;32m     46\u001b[0m             \u001b[0;32mwith\u001b[0m \u001b[0mopen\u001b[0m\u001b[0;34m(\u001b[0m\u001b[0mfilename\u001b[0m\u001b[0;34m,\u001b[0m\u001b[0;34m\"r\"\u001b[0m\u001b[0;34m)\u001b[0m \u001b[0;32mas\u001b[0m \u001b[0mf\u001b[0m\u001b[0;34m:\u001b[0m\u001b[0;34m\u001b[0m\u001b[0;34m\u001b[0m\u001b[0m\n\u001b[0;32m---> 47\u001b[0;31m                 \u001b[0;32mreturn\u001b[0m \u001b[0mself\u001b[0m\u001b[0;34m.\u001b[0m\u001b[0m_load\u001b[0m\u001b[0;34m(\u001b[0m\u001b[0mf\u001b[0m\u001b[0;34m,\u001b[0m \u001b[0mres\u001b[0m\u001b[0;34m,\u001b[0m \u001b[0msoln\u001b[0m\u001b[0;34m,\u001b[0m \u001b[0msuffixes\u001b[0m\u001b[0;34m)\u001b[0m\u001b[0;34m\u001b[0m\u001b[0;34m\u001b[0m\u001b[0m\n\u001b[0m\u001b[1;32m     48\u001b[0m         \u001b[0;32mexcept\u001b[0m \u001b[0mValueError\u001b[0m \u001b[0;32mas\u001b[0m \u001b[0me\u001b[0m\u001b[0;34m:\u001b[0m\u001b[0;34m\u001b[0m\u001b[0;34m\u001b[0m\u001b[0m\n\u001b[1;32m     49\u001b[0m             \u001b[0;32mwith\u001b[0m \u001b[0mopen\u001b[0m\u001b[0;34m(\u001b[0m\u001b[0mfilename\u001b[0m\u001b[0;34m,\u001b[0m\u001b[0;34m\"r\"\u001b[0m\u001b[0;34m)\u001b[0m \u001b[0;32mas\u001b[0m \u001b[0mf\u001b[0m\u001b[0;34m:\u001b[0m\u001b[0;34m\u001b[0m\u001b[0;34m\u001b[0m\u001b[0m\n",
      "\u001b[0;32m/share/code/beatrixh/miniconda/envs/pyomo/lib/python3.6/site-packages/pyomo/opt/plugins/sol.py\u001b[0m in \u001b[0;36m_load\u001b[0;34m(self, fin, res, soln, suffixes)\u001b[0m\n\u001b[1;32m     97\u001b[0m         \u001b[0;32mwhile\u001b[0m \u001b[0mi\u001b[0m \u001b[0;34m<\u001b[0m \u001b[0mn\u001b[0m\u001b[0;34m:\u001b[0m\u001b[0;34m\u001b[0m\u001b[0;34m\u001b[0m\u001b[0m\n\u001b[1;32m     98\u001b[0m             \u001b[0mline\u001b[0m \u001b[0;34m=\u001b[0m \u001b[0mfin\u001b[0m\u001b[0;34m.\u001b[0m\u001b[0mreadline\u001b[0m\u001b[0;34m(\u001b[0m\u001b[0;34m)\u001b[0m\u001b[0;34m\u001b[0m\u001b[0;34m\u001b[0m\u001b[0m\n\u001b[0;32m---> 99\u001b[0;31m             \u001b[0mx\u001b[0m\u001b[0;34m.\u001b[0m\u001b[0mappend\u001b[0m\u001b[0;34m(\u001b[0m\u001b[0mfloat\u001b[0m\u001b[0;34m(\u001b[0m\u001b[0mline\u001b[0m\u001b[0;34m)\u001b[0m\u001b[0;34m)\u001b[0m\u001b[0;34m\u001b[0m\u001b[0;34m\u001b[0m\u001b[0m\n\u001b[0m\u001b[1;32m    100\u001b[0m             \u001b[0mi\u001b[0m \u001b[0;34m+=\u001b[0m \u001b[0;36m1\u001b[0m\u001b[0;34m\u001b[0m\u001b[0;34m\u001b[0m\u001b[0m\n\u001b[1;32m    101\u001b[0m         \u001b[0mobjno\u001b[0m \u001b[0;34m=\u001b[0m \u001b[0;34m[\u001b[0m\u001b[0;36m0\u001b[0m\u001b[0;34m,\u001b[0m\u001b[0;36m0\u001b[0m\u001b[0;34m]\u001b[0m\u001b[0;34m\u001b[0m\u001b[0;34m\u001b[0m\u001b[0m\n",
      "\u001b[0;31mKeyboardInterrupt\u001b[0m: "
     ]
    }
   ],
   "source": [
    "# add Geometric noise, to make counts differentially private\n",
    "dp_minority_count = GDPC(epsilon, precise_minority_count)\n",
    "dp_majority_count = GDPC(epsilon, precise_majority_count)\n",
    "\n",
    "# optimize to find counts that are \"close\" to the dp counts,\n",
    "# are non-negative, and have race-stratified sums that match the precise t\n",
    "# total sum for both minority and majority\n",
    "nn_minority_count = nonnegative_optimize(dp_minority_count, precise_minority_count.sum())\n",
    "nn_majority_count = nonnegative_optimize(dp_majority_count, precise_majority_count.sum())"
   ]
  },
  {
   "cell_type": "code",
   "execution_count": null,
   "metadata": {},
   "outputs": [],
   "source": [
    "minority_majority_area = (minority_share > .5)\n",
    "min_min_area = (minority_share <= .5)"
   ]
  },
  {
   "cell_type": "code",
   "execution_count": null,
   "metadata": {},
   "outputs": [],
   "source": [
    "print(f'precise minority count in minority majority areas: ',precise_minority_count[minority_majority_area].sum())\n",
    "print(f'precise minority count in minority minority areas: ',precise_minority_count[minority_share <= .5].sum())"
   ]
  },
  {
   "cell_type": "code",
   "execution_count": null,
   "metadata": {},
   "outputs": [],
   "source": [
    "print(f'dp minority count in minority majority areas: ',dp_minority_count[minority_majority_area].sum())\n",
    "print(f'dp minority count in minority minority areas: ',dp_minority_count[minority_share <= .5].sum())"
   ]
  },
  {
   "cell_type": "code",
   "execution_count": null,
   "metadata": {},
   "outputs": [],
   "source": [
    "print(f'sum of minority negatives in min maj areas: ',dp_minority_count[(minority_majority_area) & (dp_minority_count < 1)].sum())\n",
    "print(f'sum of minority negatives in min min areas: ',dp_minority_count[(min_min_area) & (dp_minority_count < 1)].sum())"
   ]
  },
  {
   "cell_type": "code",
   "execution_count": null,
   "metadata": {},
   "outputs": [],
   "source": [
    "print(f'''nn minority count in minority majority areas: {nn_minority_count[minority_majority_area].sum()},\n",
    "nn minority count in minority minority areas: {nn_minority_count[minority_share <= .5].sum()}''')"
   ]
  },
  {
   "cell_type": "code",
   "execution_count": null,
   "metadata": {
    "scrolled": true
   },
   "outputs": [],
   "source": [
    "mma_count = minority_majority_area.sum()\n",
    "print(f'''minority majority areas\n",
    "precise {precise_minority_count[minority_majority_area].sum()}, mean {precise_minority_count[minority_majority_area].sum()/mma_count},\n",
    "     dp {dp_minority_count[minority_majority_area].sum()}, mean {dp_minority_count[minority_majority_area].sum()/mma_count},\n",
    "non-neg {nn_minority_count[minority_majority_area].sum()}, mean {nn_minority_count[minority_majority_area].sum()/mma_count}''')\n",
    "print(f'pct diff {1-(nn_minority_count[minority_majority_area].sum()/precise_minority_count[minority_majority_area].sum())}')"
   ]
  },
  {
   "cell_type": "code",
   "execution_count": null,
   "metadata": {},
   "outputs": [],
   "source": [
    "print(f'''minority minority areas\n",
    "precise {precise_minority_count[min_min_area].sum()}, mean {precise_minority_count[min_min_area].sum()/mma_count},\n",
    "     dp {dp_minority_count[min_min_area].sum()}, mean {dp_minority_count[min_min_area].sum()/mma_count},\n",
    "non-neg {nn_minority_count[min_min_area].sum()}, mean {nn_minority_count[min_min_area].sum()/mma_count}''')\n",
    "print(f'pct diff {1-(nn_minority_count[min_min_area].sum()/precise_minority_count[min_min_area].sum())}')"
   ]
  },
  {
   "cell_type": "code",
   "execution_count": null,
   "metadata": {
    "scrolled": true
   },
   "outputs": [],
   "source": [
    "plt.hist(dp_minority_count, bins = 100)\n",
    "plt.hist(dp_minority_count[minority_majority_area], bins = 100)\n",
    "plt.title(\"minority dp counts; minority majority areas highlighted\")\n",
    "\n",
    "plt.show()"
   ]
  },
  {
   "cell_type": "code",
   "execution_count": null,
   "metadata": {},
   "outputs": [],
   "source": [
    "plt.hist(dp_minority_count, bins = 100, log = True)\n",
    "plt.hist(dp_minority_count[minority_majority_area], bins = 100, log = True)\n",
    "plt.title(\"minority dp counts\")\n",
    "\n",
    "plt.show()"
   ]
  },
  {
   "cell_type": "code",
   "execution_count": null,
   "metadata": {},
   "outputs": [],
   "source": [
    "plt.hist(dp_majority_count, bins = 100)\n",
    "plt.title(\"majority dp counts\")\n",
    "\n",
    "plt.show()"
   ]
  },
  {
   "cell_type": "code",
   "execution_count": null,
   "metadata": {},
   "outputs": [],
   "source": [
    "plt.hist(dp_minority_count[min_min_area], bins = 100, log = True)\n",
    "plt.hist(dp_minority_count[minority_majority_area], bins = 100, log = True)\n",
    "\n",
    "plt.show()"
   ]
  },
  {
   "cell_type": "code",
   "execution_count": null,
   "metadata": {},
   "outputs": [],
   "source": [
    "#set random seed\n",
    "np.random.seed(1)\n",
    "\n",
    "#set privacy budget\n",
    "epsilon = '0.1'\n",
    "\n",
    "#parameters for distribution of county sizes (beta)\n",
    "a = .02\n",
    "b = 10\n",
    "K = 10_000\n",
    "\n",
    "#parameters for distribution of pct minority per county\n",
    "pct_minority = .05\n",
    "segregation_factor = 1\n",
    "\n",
    "#create distribution of county sizes\n",
    "n_k = np.random.beta(a, b, K) # number of individuals in area k\n",
    "n_k *= 3e7\n",
    "total_pop = sum(n_k)\n",
    "print(f'total pop: {total_pop}')\n",
    "\n",
    "# add Geometric noise, to make counts differentially private\n",
    "dp_minority_count = GDPC(epsilon, precise_minority_count)\n",
    "dp_majority_count = GDPC(epsilon, precise_majority_count)\n",
    "\n",
    "# optimize to find counts that are \"close\" to the dp counts,\n",
    "# are non-negative, and have race-stratified sums that match the precise t\n",
    "# total sum for both minority and majority\n",
    "nn_minority_count = nonnegative_optimize(dp_minority_count, precise_minority_count.sum())\n",
    "nn_majority_count = nonnegative_optimize(dp_majority_count, precise_majority_count.sum())"
   ]
  },
  {
   "cell_type": "code",
   "execution_count": null,
   "metadata": {},
   "outputs": [],
   "source": [
    "plt.hist(dp_minority_count, bins = 100, log = True)\n",
    "plt.hist(dp_minority_count[minority_majority_area], bins = 100, log = True)\n",
    "plt.title(\"minority dp counts\")\n",
    "\n",
    "plt.show()"
   ]
  },
  {
   "cell_type": "code",
   "execution_count": null,
   "metadata": {},
   "outputs": [],
   "source": []
  },
  {
   "cell_type": "code",
   "execution_count": null,
   "metadata": {},
   "outputs": [],
   "source": [
    "# add constraint on how negative the counts can go\n",
    "\n",
    "# function to generate final synthetic counts\n",
    "def nonnegative_optimize_v2(imprecise_counts, control_total):\n",
    "    \"\"\"optimize the imprecise counts so that they sum to\n",
    "    the control total and are non-negative\n",
    "\n",
    "    Parameters\n",
    "    ----------\n",
    "    imprecise_counts : list-like of floats\n",
    "    control_total : float\n",
    "\n",
    "    Results\n",
    "    -------\n",
    "    returns optimized_counts, which are close to imprecise counts,\n",
    "    but not negative, and match control total in aggregate\n",
    "    \"\"\"\n",
    "    imprecise_counts = list(imprecise_counts) + max(imprecise_counts)\n",
    "    \n",
    "    model = ConcreteModel()\n",
    "    model.I = range(len(imprecise_counts))\n",
    "    model.x = Var(model.I, within=NonNegativeReals)\n",
    "    model.objective = Objective(\n",
    "        expr=sum(abs(model.x[i] - imprecise_counts[i]) for i in model.I))\n",
    "    model.sum_constraint = Constraint(\n",
    "        expr=summation(model.x) == control_total)\n",
    "#     def diff_rule(model, i):\n",
    "#         return imprecise_counts[i] - model.x[i] <= ((abs(imprecise_counts[i])))\n",
    "#     model.diff_constraint = Constraint(model.I, rule=diff_rule)\n",
    "\n",
    "\n",
    "    solver = SolverFactory('ipopt')\n",
    "    results = solver.solve(model, options={'acceptable_tol':1e-4}, tee=False)\n",
    "    optimized_counts = [value(model.x[i]) for i in model.I]\n",
    "\n",
    "    return np.array(optimized_counts)"
   ]
  },
  {
   "cell_type": "code",
   "execution_count": null,
   "metadata": {},
   "outputs": [],
   "source": [
    "# optimize to find counts that are \"close\" to the dp counts,\n",
    "# are non-negative, and have race-stratified sums that match the precise t\n",
    "\n",
    "# total sum for both minority and m\n",
    "nn_minority_count_v2 = nonnegative_optimize_v2(dp_minority_count, precise_minority_count.sum())\n",
    "nn_majority_count_v2 = nonnegative_optimize_v2(dp_majority_count, precise_majority_count.sum())"
   ]
  },
  {
   "cell_type": "code",
   "execution_count": null,
   "metadata": {},
   "outputs": [],
   "source": [
    "print(f'precise minority count in minority majority areas: ',precise_minority_count[minority_majority_area].sum())\n",
    "print(f'precise minority count in minority minority areas: ',precise_minority_count[minority_share <= .5].sum())\n",
    "print(f'dp minority count in minority majority areas: ',dp_minority_count[minority_majority_area].sum())\n",
    "print(f'dp minority count in minority minority areas: ',dp_minority_count[minority_share <= .5].sum())\n",
    "print(f'''nn minority count in minority majority areas: {nn_minority_count_v2[minority_majority_area].sum()},\n",
    "nn minority count in minority minority areas: {nn_minority_count_v2[minority_share <= .5].sum()}''')"
   ]
  },
  {
   "cell_type": "code",
   "execution_count": null,
   "metadata": {},
   "outputs": [],
   "source": [
    "max(list(dp_minority_count))"
   ]
  },
  {
   "cell_type": "code",
   "execution_count": null,
   "metadata": {},
   "outputs": [],
   "source": []
  },
  {
   "cell_type": "code",
   "execution_count": null,
   "metadata": {},
   "outputs": [],
   "source": []
  }
 ],
 "metadata": {
  "kernelspec": {
   "display_name": "Python 3",
   "language": "python",
   "name": "python3"
  },
  "language_info": {
   "codemirror_mode": {
    "name": "ipython",
    "version": 3
   },
   "file_extension": ".py",
   "mimetype": "text/x-python",
   "name": "python",
   "nbconvert_exporter": "python",
   "pygments_lexer": "ipython3",
   "version": "3.6.10"
  }
 },
 "nbformat": 4,
 "nbformat_minor": 4
}
