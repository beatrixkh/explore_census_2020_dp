{
 "cells": [
  {
   "cell_type": "code",
   "execution_count": 1,
   "metadata": {
    "scrolled": true
   },
   "outputs": [
    {
     "name": "stdout",
     "output_type": "stream",
     "text": [
      "Thu Mar 19 10:27:20 PDT 2020\r\n"
     ]
    }
   ],
   "source": [
    "import os\n",
    "import numpy as np\n",
    "import pandas as pd\n",
    "import matplotlib.pyplot as plt\n",
    "import matplotlib.axes as axes\n",
    "import time, datetime\n",
    "pd.set_option('display.max_rows', 101)\n",
    "!date"
   ]
  },
  {
   "cell_type": "markdown",
   "metadata": {},
   "source": [
    "# Aggregate and plot outputs of over under sim"
   ]
  },
  {
   "cell_type": "markdown",
   "metadata": {},
   "source": [
    "launch code at /share/code/beatrixh/microsim_2020/census_2020/dp_small_v_large/launch_small_v_large_jobs.py\n",
    "sim code at /share/code/beatrixh/microsim_2020/census_2020/dp_small_v_large/dp_small_v_large_counties.py"
   ]
  },
  {
   "cell_type": "markdown",
   "metadata": {},
   "source": [
    "Idea: when there is one area with n counties, and some large proportion of those counties have small populations, then when noise is added, only those counties with small populations will go negative. When the nonneg optimization is run over all counties, the ones that have gone negative will shift up to zero, and everything else will come down to balance out the total count. on average, the small counties will have shifted downwards more than the larger counties."
   ]
  },
  {
   "cell_type": "code",
   "execution_count": 39,
   "metadata": {},
   "outputs": [],
   "source": [
    "def summarize_dir(path):\n",
    "    \"\"\"\n",
    "    Parameter: input dir containing csvs\n",
    "    ---------\n",
    "    Output: 1-column df containing the row means of the concatenated csvs\n",
    "    \"\"\"\n",
    "    files = os.listdir(path)\n",
    "    output = pd.DataFrame(np.zeros([11,1]))\n",
    "    for file in files:\n",
    "        df = pd.read_csv(path + '/' + file, index_col=False)\n",
    "        df = df.iloc[:,1:]\n",
    "        output = pd.concat([output,df], axis=1, ignore_index=True)\n",
    "    return output.mean(axis=1)"
   ]
  },
  {
   "cell_type": "code",
   "execution_count": 91,
   "metadata": {},
   "outputs": [],
   "source": [
    "# get dt with one col per sim setting\n",
    "dirs = os.listdir('/ihme/scratch/users/beatrixh/2020-03-19/nonne/')\n",
    "dirs = ['/ihme/scratch/users/beatrixh/2020-03-18/nonne/' + i for i in dirs]\n",
    "dt = pd.DataFrame()\n",
    "for path in dirs:\n",
    "    new = summarize_dir(path)\n",
    "    dt = pd.concat([dt, new], axis = 1, ignore_index=True)"
   ]
  },
  {
   "cell_type": "code",
   "execution_count": 77,
   "metadata": {},
   "outputs": [],
   "source": [
    "metadata = pd.DataFrame(['99q','precise_over','precise_under','dp_over','dp_under','non-neg_over','non-neg_under','pct_change_over','pct_change_under','pct_change_minmaj','number of most detailed areas',\n",
    "        'alpha','beta','total_pop_count','prop_minority','segregation_factor',\n",
    "        'seed'])"
   ]
  },
  {
   "cell_type": "code",
   "execution_count": 92,
   "metadata": {
    "scrolled": true
   },
   "outputs": [
    {
     "data": {
      "text/html": [
       "<div>\n",
       "<style scoped>\n",
       "    .dataframe tbody tr th:only-of-type {\n",
       "        vertical-align: middle;\n",
       "    }\n",
       "\n",
       "    .dataframe tbody tr th {\n",
       "        vertical-align: top;\n",
       "    }\n",
       "\n",
       "    .dataframe thead th {\n",
       "        text-align: right;\n",
       "    }\n",
       "</style>\n",
       "<table border=\"1\" class=\"dataframe\">\n",
       "  <thead>\n",
       "    <tr style=\"text-align: right;\">\n",
       "      <th></th>\n",
       "      <th>99q</th>\n",
       "      <th>precise_over</th>\n",
       "      <th>precise_under</th>\n",
       "      <th>dp_over</th>\n",
       "      <th>dp_under</th>\n",
       "      <th>non-neg_over</th>\n",
       "      <th>non-neg_under</th>\n",
       "      <th>pct_change_over</th>\n",
       "      <th>pct_change_under</th>\n",
       "      <th>pct_change_minmaj</th>\n",
       "      <th>number of most detailed areas</th>\n",
       "      <th>alpha</th>\n",
       "      <th>beta</th>\n",
       "      <th>total_pop_count</th>\n",
       "      <th>prop_minority</th>\n",
       "      <th>segregation_factor</th>\n",
       "      <th>seed</th>\n",
       "    </tr>\n",
       "  </thead>\n",
       "  <tbody>\n",
       "    <tr>\n",
       "      <th>0</th>\n",
       "      <td>382.229431</td>\n",
       "      <td>8.906543e+04</td>\n",
       "      <td>6.023980e+04</td>\n",
       "      <td>8.905667e+04</td>\n",
       "      <td>6.021521e+04</td>\n",
       "      <td>8.780049e+04</td>\n",
       "      <td>6.150474e+04</td>\n",
       "      <td>0.014303</td>\n",
       "      <td>-0.021123</td>\n",
       "      <td>0.032099</td>\n",
       "      <td>9990.00999</td>\n",
       "      <td>0.2</td>\n",
       "      <td>10.0</td>\n",
       "      <td>3.000000e+06</td>\n",
       "      <td>0.05</td>\n",
       "      <td>1.0</td>\n",
       "      <td>450.0</td>\n",
       "    </tr>\n",
       "    <tr>\n",
       "      <th>1</th>\n",
       "      <td>12081.370919</td>\n",
       "      <td>2.818244e+06</td>\n",
       "      <td>1.909402e+06</td>\n",
       "      <td>2.818248e+06</td>\n",
       "      <td>1.909339e+06</td>\n",
       "      <td>2.817432e+06</td>\n",
       "      <td>1.910213e+06</td>\n",
       "      <td>0.000290</td>\n",
       "      <td>-0.000427</td>\n",
       "      <td>0.000897</td>\n",
       "      <td>9990.00999</td>\n",
       "      <td>0.2</td>\n",
       "      <td>10.0</td>\n",
       "      <td>9.486833e+07</td>\n",
       "      <td>0.05</td>\n",
       "      <td>1.0</td>\n",
       "      <td>450.0</td>\n",
       "    </tr>\n",
       "    <tr>\n",
       "      <th>2</th>\n",
       "      <td>1207.772517</td>\n",
       "      <td>2.817871e+05</td>\n",
       "      <td>1.908015e+05</td>\n",
       "      <td>2.817876e+05</td>\n",
       "      <td>1.907670e+05</td>\n",
       "      <td>2.807163e+05</td>\n",
       "      <td>1.918723e+05</td>\n",
       "      <td>0.003824</td>\n",
       "      <td>-0.005644</td>\n",
       "      <td>0.009884</td>\n",
       "      <td>9990.00999</td>\n",
       "      <td>0.2</td>\n",
       "      <td>10.0</td>\n",
       "      <td>9.486833e+06</td>\n",
       "      <td>0.05</td>\n",
       "      <td>1.0</td>\n",
       "      <td>450.0</td>\n",
       "    </tr>\n",
       "    <tr>\n",
       "      <th>3</th>\n",
       "      <td>3.809560</td>\n",
       "      <td>8.350599e+02</td>\n",
       "      <td>5.179970e+02</td>\n",
       "      <td>8.452448e+02</td>\n",
       "      <td>4.662258e+02</td>\n",
       "      <td>4.740370e+01</td>\n",
       "      <td>1.305653e+03</td>\n",
       "      <td>0.942998</td>\n",
       "      <td>-1.537366</td>\n",
       "      <td>0.887322</td>\n",
       "      <td>9990.00999</td>\n",
       "      <td>0.2</td>\n",
       "      <td>10.0</td>\n",
       "      <td>3.000000e+04</td>\n",
       "      <td>0.05</td>\n",
       "      <td>1.0</td>\n",
       "      <td>450.0</td>\n",
       "    </tr>\n",
       "    <tr>\n",
       "      <th>4</th>\n",
       "      <td>38.200430</td>\n",
       "      <td>8.857689e+03</td>\n",
       "      <td>5.917307e+03</td>\n",
       "      <td>8.854474e+03</td>\n",
       "      <td>5.892866e+03</td>\n",
       "      <td>7.009381e+03</td>\n",
       "      <td>7.765615e+03</td>\n",
       "      <td>0.210074</td>\n",
       "      <td>-0.314415</td>\n",
       "      <td>0.276768</td>\n",
       "      <td>9990.00999</td>\n",
       "      <td>0.2</td>\n",
       "      <td>10.0</td>\n",
       "      <td>3.000000e+05</td>\n",
       "      <td>0.05</td>\n",
       "      <td>1.0</td>\n",
       "      <td>450.0</td>\n",
       "    </tr>\n",
       "    <tr>\n",
       "      <th>5</th>\n",
       "      <td>120.863207</td>\n",
       "      <td>2.812948e+04</td>\n",
       "      <td>1.896250e+04</td>\n",
       "      <td>2.812761e+04</td>\n",
       "      <td>1.894196e+04</td>\n",
       "      <td>2.662150e+04</td>\n",
       "      <td>2.047049e+04</td>\n",
       "      <td>0.053982</td>\n",
       "      <td>-0.080000</td>\n",
       "      <td>0.098797</td>\n",
       "      <td>9990.00999</td>\n",
       "      <td>0.2</td>\n",
       "      <td>10.0</td>\n",
       "      <td>9.486833e+05</td>\n",
       "      <td>0.05</td>\n",
       "      <td>1.0</td>\n",
       "      <td>450.0</td>\n",
       "    </tr>\n",
       "    <tr>\n",
       "      <th>6</th>\n",
       "      <td>12.045005</td>\n",
       "      <td>2.764610e+03</td>\n",
       "      <td>1.801006e+03</td>\n",
       "      <td>2.768676e+03</td>\n",
       "      <td>1.758146e+03</td>\n",
       "      <td>1.000977e+03</td>\n",
       "      <td>3.564640e+03</td>\n",
       "      <td>0.640462</td>\n",
       "      <td>-0.984577</td>\n",
       "      <td>0.618800</td>\n",
       "      <td>9990.00999</td>\n",
       "      <td>0.2</td>\n",
       "      <td>10.0</td>\n",
       "      <td>9.486833e+04</td>\n",
       "      <td>0.05</td>\n",
       "      <td>1.0</td>\n",
       "      <td>450.0</td>\n",
       "    </tr>\n",
       "    <tr>\n",
       "      <th>7</th>\n",
       "      <td>3820.424565</td>\n",
       "      <td>8.911431e+05</td>\n",
       "      <td>6.036781e+05</td>\n",
       "      <td>8.911440e+05</td>\n",
       "      <td>6.036347e+05</td>\n",
       "      <td>8.902147e+05</td>\n",
       "      <td>6.046065e+05</td>\n",
       "      <td>0.001049</td>\n",
       "      <td>-0.001547</td>\n",
       "      <td>0.003001</td>\n",
       "      <td>9990.00999</td>\n",
       "      <td>0.2</td>\n",
       "      <td>10.0</td>\n",
       "      <td>3.000000e+07</td>\n",
       "      <td>0.05</td>\n",
       "      <td>1.0</td>\n",
       "      <td>450.0</td>\n",
       "    </tr>\n",
       "    <tr>\n",
       "      <th>8</th>\n",
       "      <td>0.000000</td>\n",
       "      <td>6.985315e+01</td>\n",
       "      <td>0.000000e+00</td>\n",
       "      <td>7.797403e+01</td>\n",
       "      <td>-4.992607e+01</td>\n",
       "      <td>3.935959e-01</td>\n",
       "      <td>6.945965e+01</td>\n",
       "      <td>0.993446</td>\n",
       "      <td>-inf</td>\n",
       "      <td>0.931037</td>\n",
       "      <td>9990.00999</td>\n",
       "      <td>0.2</td>\n",
       "      <td>10.0</td>\n",
       "      <td>3.000000e+03</td>\n",
       "      <td>0.05</td>\n",
       "      <td>1.0</td>\n",
       "      <td>450.0</td>\n",
       "    </tr>\n",
       "    <tr>\n",
       "      <th>9</th>\n",
       "      <td>0.999021</td>\n",
       "      <td>2.473097e+02</td>\n",
       "      <td>1.115614e+02</td>\n",
       "      <td>2.531139e+02</td>\n",
       "      <td>6.395205e+01</td>\n",
       "      <td>3.772372e+00</td>\n",
       "      <td>3.550989e+02</td>\n",
       "      <td>0.983882</td>\n",
       "      <td>-2.202226</td>\n",
       "      <td>0.921817</td>\n",
       "      <td>9990.00999</td>\n",
       "      <td>0.2</td>\n",
       "      <td>10.0</td>\n",
       "      <td>9.486833e+03</td>\n",
       "      <td>0.05</td>\n",
       "      <td>1.0</td>\n",
       "      <td>450.0</td>\n",
       "    </tr>\n",
       "  </tbody>\n",
       "</table>\n",
       "</div>"
      ],
      "text/plain": [
       "0           99q  precise_over  precise_under       dp_over      dp_under  \\\n",
       "0    382.229431  8.906543e+04   6.023980e+04  8.905667e+04  6.021521e+04   \n",
       "1  12081.370919  2.818244e+06   1.909402e+06  2.818248e+06  1.909339e+06   \n",
       "2   1207.772517  2.817871e+05   1.908015e+05  2.817876e+05  1.907670e+05   \n",
       "3      3.809560  8.350599e+02   5.179970e+02  8.452448e+02  4.662258e+02   \n",
       "4     38.200430  8.857689e+03   5.917307e+03  8.854474e+03  5.892866e+03   \n",
       "5    120.863207  2.812948e+04   1.896250e+04  2.812761e+04  1.894196e+04   \n",
       "6     12.045005  2.764610e+03   1.801006e+03  2.768676e+03  1.758146e+03   \n",
       "7   3820.424565  8.911431e+05   6.036781e+05  8.911440e+05  6.036347e+05   \n",
       "8      0.000000  6.985315e+01   0.000000e+00  7.797403e+01 -4.992607e+01   \n",
       "9      0.999021  2.473097e+02   1.115614e+02  2.531139e+02  6.395205e+01   \n",
       "\n",
       "0  non-neg_over  non-neg_under  pct_change_over  pct_change_under  \\\n",
       "0  8.780049e+04   6.150474e+04         0.014303         -0.021123   \n",
       "1  2.817432e+06   1.910213e+06         0.000290         -0.000427   \n",
       "2  2.807163e+05   1.918723e+05         0.003824         -0.005644   \n",
       "3  4.740370e+01   1.305653e+03         0.942998         -1.537366   \n",
       "4  7.009381e+03   7.765615e+03         0.210074         -0.314415   \n",
       "5  2.662150e+04   2.047049e+04         0.053982         -0.080000   \n",
       "6  1.000977e+03   3.564640e+03         0.640462         -0.984577   \n",
       "7  8.902147e+05   6.046065e+05         0.001049         -0.001547   \n",
       "8  3.935959e-01   6.945965e+01         0.993446              -inf   \n",
       "9  3.772372e+00   3.550989e+02         0.983882         -2.202226   \n",
       "\n",
       "0  pct_change_minmaj  number of most detailed areas  alpha  beta  \\\n",
       "0           0.032099                     9990.00999    0.2  10.0   \n",
       "1           0.000897                     9990.00999    0.2  10.0   \n",
       "2           0.009884                     9990.00999    0.2  10.0   \n",
       "3           0.887322                     9990.00999    0.2  10.0   \n",
       "4           0.276768                     9990.00999    0.2  10.0   \n",
       "5           0.098797                     9990.00999    0.2  10.0   \n",
       "6           0.618800                     9990.00999    0.2  10.0   \n",
       "7           0.003001                     9990.00999    0.2  10.0   \n",
       "8           0.931037                     9990.00999    0.2  10.0   \n",
       "9           0.921817                     9990.00999    0.2  10.0   \n",
       "\n",
       "0  total_pop_count  prop_minority  segregation_factor   seed  \n",
       "0     3.000000e+06           0.05                 1.0  450.0  \n",
       "1     9.486833e+07           0.05                 1.0  450.0  \n",
       "2     9.486833e+06           0.05                 1.0  450.0  \n",
       "3     3.000000e+04           0.05                 1.0  450.0  \n",
       "4     3.000000e+05           0.05                 1.0  450.0  \n",
       "5     9.486833e+05           0.05                 1.0  450.0  \n",
       "6     9.486833e+04           0.05                 1.0  450.0  \n",
       "7     3.000000e+07           0.05                 1.0  450.0  \n",
       "8     3.000000e+03           0.05                 1.0  450.0  \n",
       "9     9.486833e+03           0.05                 1.0  450.0  "
      ]
     },
     "execution_count": 92,
     "metadata": {},
     "output_type": "execute_result"
    }
   ],
   "source": [
    "under_dt = dt.T\n",
    "under_dt.columns = metadata[0]\n",
    "under_dt"
   ]
  },
  {
   "cell_type": "markdown",
   "metadata": {},
   "source": [
    "in the above: each row is the aggregation of 1000 sims. the county sizes for the sims came from a beta distribution. \\\n",
    "'99q' is the 99th quartile of county size. \\\n",
    "\\\n",
    "'precise_over' is the total number of people living in counties of size greater than 99q; 'precise_under' is the total number of people living in counties of size leq 99q. \\\n",
    "\\\n",
    "'dp_over' are those counties from 'precise_over', with noise added. 'dp_under are the counties from 'dp_under' with noise added.\\\n",
    "\\\n",
    "same logic for non-neg_over, non-neg_under. \\\n",
    "\\\n",
    "as we increase total_pop_count, we see the bias reducing."
   ]
  },
  {
   "cell_type": "code",
   "execution_count": 87,
   "metadata": {},
   "outputs": [
    {
     "data": {
      "image/png": "[encoded data removed]",
      "text/plain": [
       "<Figure size 432x288 with 1 Axes>"
      ]
     },
     "metadata": {
      "needs_background": "light"
     },
     "output_type": "display_data"
    }
   ],
   "source": [
    "x = under_dt['total_pop_count']\n",
    "y = under_dt['pct_change_under']\n",
    "z = under_dt['pct_change_over']\n",
    "\n",
    "fig = plt.figure() \n",
    "\n",
    "ax = fig.add_subplot(111)\n",
    "ax.scatter(x, y, facecolors='none', edgecolors = 'cornflowerblue')\n",
    "ax.scatter(x, z, facecolors='none', edgecolors = 'red')\n",
    "\n",
    "plt.title(\"avg change in county size for small (blue) vs large (red) counties\")\n",
    "plt.xlabel('population size')\n",
    "plt.ylabel('pct drop in minority population')\n",
    "\n",
    "plt.show()"
   ]
  },
  {
   "cell_type": "code",
   "execution_count": 89,
   "metadata": {},
   "outputs": [
    {
     "data": {
      "image/png": "[encoded data removed]",
      "text/plain": [
       "<Figure size 432x288 with 1 Axes>"
      ]
     },
     "metadata": {
      "needs_background": "light"
     },
     "output_type": "display_data"
    }
   ],
   "source": [
    "x = under_dt[under_dt.total_pop_count>3e4]['total_pop_count']\n",
    "y = under_dt[under_dt.total_pop_count>3e4]['pct_change_under']\n",
    "z = under_dt[under_dt.total_pop_count>3e4]['pct_change_over']\n",
    "\n",
    "fig = plt.figure() \n",
    "\n",
    "ax = fig.add_subplot(111)\n",
    "ax.scatter(x, y, facecolors='none', edgecolors = 'cornflowerblue')\n",
    "ax.scatter(x, z, facecolors='none', edgecolors = 'red')\n",
    "\n",
    "plt.title(\"zoom in: avg change in county size for small (blue) vs large (red) counties\")\n",
    "plt.xlabel('population size')\n",
    "plt.ylabel('pct drop in minority population')\n",
    "\n",
    "plt.show()"
   ]
  },
  {
   "cell_type": "code",
   "execution_count": 93,
   "metadata": {},
   "outputs": [
    {
     "data": {
      "image/png": "[encoded data removed]",
      "text/plain": [
       "<Figure size 432x288 with 1 Axes>"
      ]
     },
     "metadata": {
      "needs_background": "light"
     },
     "output_type": "display_data"
    }
   ],
   "source": [
    "x = under_dt[(under_dt.total_pop_count>3e4) & (under_dt.total_pop_count<3e6)]['total_pop_count']\n",
    "y = under_dt[(under_dt.total_pop_count>3e4) & (under_dt.total_pop_count<3e6)]['pct_change_under']\n",
    "z = under_dt[(under_dt.total_pop_count>3e4) & (under_dt.total_pop_count<3e6)]['pct_change_over']\n",
    "\n",
    "fig = plt.figure() \n",
    "\n",
    "ax = fig.add_subplot(111)\n",
    "ax.scatter(x, y, facecolors='none', edgecolors = 'cornflowerblue')\n",
    "ax.scatter(x, z, facecolors='none', edgecolors = 'red')\n",
    "\n",
    "plt.title(\"zoom in more: avg change in county size for small (blue) vs large (red) counties\")\n",
    "plt.xlabel('population size')\n",
    "plt.ylabel('pct drop in minority population')\n",
    "\n",
    "plt.show()"
   ]
  },
  {
   "cell_type": "code",
   "execution_count": null,
   "metadata": {},
   "outputs": [],
   "source": []
  }
 ],
 "metadata": {
  "kernelspec": {
   "display_name": "Python 3",
   "language": "python",
   "name": "python3"
  },
  "language_info": {
   "codemirror_mode": {
    "name": "ipython",
    "version": 3
   },
   "file_extension": ".py",
   "mimetype": "text/x-python",
   "name": "python",
   "nbconvert_exporter": "python",
   "pygments_lexer": "ipython3",
   "version": "3.6.10"
  }
 },
 "nbformat": 4,
 "nbformat_minor": 2
}
