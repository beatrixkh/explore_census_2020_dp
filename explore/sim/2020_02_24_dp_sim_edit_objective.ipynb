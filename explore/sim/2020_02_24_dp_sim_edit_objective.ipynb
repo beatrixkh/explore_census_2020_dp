{
 "cells": [
  {
   "cell_type": "code",
   "execution_count": 22,
   "metadata": {},
   "outputs": [],
   "source": [
    "import numpy as np, pandas as pd\n",
    "import sys, os\n",
    "import time, datetime\n",
    "import random\n",
    "import matplotlib.pyplot as plt\n",
    "import pyomo.environ\n",
    "from pyomo.core import *\n",
    "from pyomo.opt import SolverFactory"
   ]
  },
  {
   "cell_type": "markdown",
   "metadata": {},
   "source": [
    "# Checkout results of minority majority bias sim"
   ]
  },
  {
   "cell_type": "code",
   "execution_count": 23,
   "metadata": {},
   "outputs": [],
   "source": [
    "def GDPC(eps, exact_counts):\n",
    "        \"\"\" Geometric DP Counts\n",
    "        Parameters\n",
    "        ----------\n",
    "        eps : float-able\n",
    "        exact_counts : pd.Series\n",
    "        \n",
    "        Results\n",
    "        -------\n",
    "        returns dp_counts, a pd.Series with index matching exact_counts\"\"\"\n",
    "        \n",
    "        z = float(eps)\n",
    "\n",
    "        all_errors = (np.random.geometric(z, size=len(exact_counts))\n",
    "                        - np.random.geometric(z, size=len(exact_counts)))\n",
    "        dp_counts = exact_counts + all_errors\n",
    "        return dp_counts\n"
   ]
  },
  {
   "cell_type": "code",
   "execution_count": 24,
   "metadata": {},
   "outputs": [],
   "source": [
    "def nonnegative_optimize(imprecise_counts, control_total):\n",
    "    \"\"\"optimize the imprecise counts so that they sum to\n",
    "    the control total and are non-negative\n",
    "    \n",
    "    Parameters\n",
    "    ----------\n",
    "    imprecise_counts : list-like of floats\n",
    "    control_total : float\n",
    "    \n",
    "    Results\n",
    "    -------\n",
    "    returns optimized_counts, which are close to imprecise counts,\n",
    "    but not negative, and match control total in aggregate\n",
    "    \"\"\"\n",
    "    imprecise_counts = list(imprecise_counts)\n",
    "    \n",
    "    model = ConcreteModel()\n",
    "    model.I = range(len(imprecise_counts))\n",
    "    model.x = Var(model.I, within=NonNegativeReals)\n",
    "    model.objective = Objective(\n",
    "        expr=sum((model.x[i] - imprecise_counts[i])**2 for i in model.I))\n",
    "    model.constraint = Constraint(\n",
    "        expr=summation(model.x) == control_total)\n",
    "    \n",
    "    solver = SolverFactory('ipopt')\n",
    "    results = solver.solve(model, options={'acceptable_tol':1e-4}, tee=False)\n",
    "    optimized_counts = [value(model.x[i]) for i in model.I]\n",
    "        \n",
    "    return np.array(optimized_counts)"
   ]
  },
  {
   "cell_type": "code",
   "execution_count": 25,
   "metadata": {},
   "outputs": [],
   "source": [
    "def main(optimizer, a, b, pct_minority, segregation_factor, K, N, epsilon, seed):\n",
    "    \"\"\" run full algorithm to add geometric noise then optimize to remove negatives\n",
    "    over a population with minority and majority subpopulations\n",
    "    for which the minority pop is in the majority in some \"counties\"\n",
    "    \n",
    "    Parameters\n",
    "    ----------\n",
    "    a,b = parameters of beta distribution for # individulas per county\n",
    "    seg_factor = degree of segretation, county level\n",
    "    pct_minority = pct of population in the minority\n",
    "    K = total population size\n",
    "    epsilon = parameter for amount of privacy in overall counts\n",
    "    \n",
    "    Output\n",
    "    ------\n",
    "    array with:\n",
    "    which areas were originally minority majority, minority minority\n",
    "    precise minority counts, precise majority counts\n",
    "    dp minority counts, dp majority counts\n",
    "    nn minority counts, nn majority counts\n",
    "    \"\"\"\n",
    "    np.random.seed(seed)\n",
    "    n_k = np.random.beta(a, b, K) # number of individuals in area k\n",
    "    n_k *= N/sum(n_k)\n",
    "    total_pop = sum(n_k)\n",
    "\n",
    "    minority_share = np.random.beta(pct_minority/segregation_factor,\n",
    "                                    (1-pct_minority)/segregation_factor, size=K)\n",
    "    minmaj_area = minority_share >= 0.5\n",
    "    minmin_area = minority_share < 0.5\n",
    "    # simulate race-/location-stratified counts\n",
    "    precise_minority_count = np.random.binomial(n_k.astype(int), minority_share)\n",
    "    precise_majority_count = n_k - precise_minority_count\n",
    "\n",
    "    # add Geometric noise, to make counts differentially private\n",
    "    dp_minority_count = GDPC(epsilon, precise_minority_count)\n",
    "    dp_majority_count = GDPC(epsilon, precise_majority_count)\n",
    "\n",
    "    # optimize to find counts that are \"close\" to the dp counts,\n",
    "    # are non-negative, and have race-stratified sums that match the precise\n",
    "    # total sum for both minority and majority groups\n",
    "\n",
    "    nn_minority_count = optimizer(dp_minority_count, precise_minority_count.sum())\n",
    "    nn_majority_count = optimizer(dp_majority_count, precise_majority_count.sum())\n",
    "\n",
    "    return[minmaj_area,minmin_area,\n",
    "           precise_minority_count,precise_majority_count,\n",
    "           dp_minority_count,dp_majority_count,\n",
    "           nn_minority_count,nn_majority_count]"
   ]
  },
  {
   "cell_type": "code",
   "execution_count": 26,
   "metadata": {},
   "outputs": [],
   "source": [
    "def see_minmaj_distr(main_obj, version, use_log = False):\n",
    "    \"\"\" Plot minority counts\n",
    "    \n",
    "    Parameters\n",
    "    ----------\n",
    "    output array of \"main\"\n",
    "    whether to use precise, dp, or nn counts\n",
    "    whether to plot y axis on a log scale\n",
    "    \n",
    "    Output\n",
    "    ------\n",
    "    histogram of selected counts\n",
    "    with total minority counts\n",
    "    overlaid with the distribution of minority counts in previously minority majority areas\n",
    "    \"\"\"\n",
    "    minmaj_area,minmin_area = main_obj[0], main_obj[1]\n",
    "    if version==\"precise\":\n",
    "        x1, x2 = 2,3\n",
    "    elif version==\"dp\":\n",
    "        x1, x2 = 4,5\n",
    "    elif version==\"nn\":\n",
    "        x1, x2 = 6,7\n",
    "    else:\n",
    "        raise Exception(\"oops; version must be in ['precise','dp','nn']\")\n",
    "    minority_count,majority_count = main_obj[x1], main_obj[x2]\n",
    "    plt.hist(minority_count, bins=100)\n",
    "    plt.hist(minority_count[minmaj_area], bins = 100, log = use_log)\n",
    "    title = version + \" minority count distribution; minority majority count redistribution\"\n",
    "    if use_log:\n",
    "        title = \"log scale: \" + title\n",
    "    plt.title(title)\n",
    "    plt.show()\n",
    "    plt.close()"
   ]
  },
  {
   "cell_type": "code",
   "execution_count": 27,
   "metadata": {},
   "outputs": [],
   "source": [
    "def summaries(main_obj):\n",
    "    \"\"\"     \n",
    "    Parameters\n",
    "    ----------\n",
    "    output array of \"main\"\n",
    "    \n",
    "    Output\n",
    "    ------\n",
    "    Table with summaries of total counts for\n",
    "    {precise, dp, nn} x {minority majority areas, min min areas}\n",
    "    \"\"\"\n",
    "    #grab outputs\n",
    "    minmaj_area,minmin_area = main_obj[0], main_obj[1]\n",
    "    precise_minority_count,precise_majority_count = main_obj[2], main_obj[3]\n",
    "    dp_minority_count,dp_majority_count = main_obj[4], main_obj[5]\n",
    "    nn_minority_count,nn_majority_count = main_obj[6], main_obj[7]\n",
    "    \n",
    "    # get stats\n",
    "    minmaj_count, minmin_count = minmaj_area.sum(), minmin_area.sum()\n",
    "    \n",
    "    precise_total_minmaj, precise_mean_minmaj = precise_minority_count[minmaj_area].sum(), precise_minority_count[minmaj_area].sum()/minmaj_count\n",
    "    dp_total_minmaj, dp_mean_minmaj = dp_minority_count[minmaj_area].sum(), dp_minority_count[minmaj_area].sum()/minmaj_count\n",
    "    nn_total_minmaj, nn_mean_minmaj = nn_minority_count[minmaj_area].sum(), nn_minority_count[minmaj_area].sum()/minmaj_count\n",
    "    minmaj_change = 1-(nn_total_minmaj/dp_total_minmaj)\n",
    "    \n",
    "    precise_total_minmin, precise_mean_minmin = precise_minority_count[minmin_area].sum(), precise_minority_count[minmin_area].sum()/minmin_count\n",
    "    dp_total_minmin, dp_mean_minmin = dp_minority_count[minmin_area].sum(), dp_minority_count[minmin_area].sum()/minmin_count\n",
    "    nn_total_minmin, nn_mean_minmin = nn_minority_count[minmin_area].sum(), nn_minority_count[minmin_area].sum()/minmin_count\n",
    "    minmin_change = 1-(nn_total_minmin/dp_total_minmin)\n",
    "    \n",
    "    #compile table\n",
    "    summary = pd.DataFrame(columns=['precise','dp ','non-neg','pct change'],\n",
    "                           index=[\"minority majority totals\",\"minority minority totals\"],\n",
    "                           data = [[precise_total_minmaj,dp_total_minmaj,nn_total_minmaj,minmaj_change],\n",
    "                     [precise_total_minmin,dp_total_minmin,nn_total_minmin,minmin_change]])\n",
    "    return summary.T"
   ]
  },
  {
   "cell_type": "code",
   "execution_count": 8,
   "metadata": {},
   "outputs": [],
   "source": [
    "pop_3e3 = main(nonnegative_optimize, a=.02, b=10, pct_minority=.05, segregation_factor=1, K=10_000, N=3e3, epsilon=0.1, seed=1)\n",
    "pop_3e5 = main(nonnegative_optimize, a=.02, b=10, pct_minority=.05, segregation_factor=1, K=10_000, N=3e5, epsilon=0.1, seed=1)\n",
    "pop_3e7 = main(nonnegative_optimize, a=.02, b=10, pct_minority=.05, segregation_factor=1, K=10_000, N=3e7, epsilon=0.1, seed=1)"
   ]
  },
  {
   "cell_type": "code",
   "execution_count": 9,
   "metadata": {},
   "outputs": [
    {
     "data": {
      "text/html": [
       "<div>\n",
       "<style scoped>\n",
       "    .dataframe tbody tr th:only-of-type {\n",
       "        vertical-align: middle;\n",
       "    }\n",
       "\n",
       "    .dataframe tbody tr th {\n",
       "        vertical-align: top;\n",
       "    }\n",
       "\n",
       "    .dataframe thead th {\n",
       "        text-align: right;\n",
       "    }\n",
       "</style>\n",
       "<table border=\"1\" class=\"dataframe\">\n",
       "  <thead>\n",
       "    <tr style=\"text-align: right;\">\n",
       "      <th></th>\n",
       "      <th>minority majority totals</th>\n",
       "      <th>minority minority totals</th>\n",
       "    </tr>\n",
       "  </thead>\n",
       "  <tbody>\n",
       "    <tr>\n",
       "      <th>precise</th>\n",
       "      <td>36.0</td>\n",
       "      <td>53.000000</td>\n",
       "    </tr>\n",
       "    <tr>\n",
       "      <th>dp</th>\n",
       "      <td>-14.0</td>\n",
       "      <td>-2312.000000</td>\n",
       "    </tr>\n",
       "    <tr>\n",
       "      <th>non-neg</th>\n",
       "      <td>0.0</td>\n",
       "      <td>89.000099</td>\n",
       "    </tr>\n",
       "    <tr>\n",
       "      <th>pct change</th>\n",
       "      <td>1.0</td>\n",
       "      <td>1.038495</td>\n",
       "    </tr>\n",
       "  </tbody>\n",
       "</table>\n",
       "</div>"
      ],
      "text/plain": [
       "            minority majority totals  minority minority totals\n",
       "precise                         36.0                 53.000000\n",
       "dp                             -14.0              -2312.000000\n",
       "non-neg                          0.0                 89.000099\n",
       "pct change                       1.0                  1.038495"
      ]
     },
     "execution_count": 9,
     "metadata": {},
     "output_type": "execute_result"
    }
   ],
   "source": [
    "summaries(pop_3e3)"
   ]
  },
  {
   "cell_type": "code",
   "execution_count": 10,
   "metadata": {},
   "outputs": [
    {
     "data": {
      "text/html": [
       "<div>\n",
       "<style scoped>\n",
       "    .dataframe tbody tr th:only-of-type {\n",
       "        vertical-align: middle;\n",
       "    }\n",
       "\n",
       "    .dataframe tbody tr th {\n",
       "        vertical-align: top;\n",
       "    }\n",
       "\n",
       "    .dataframe thead th {\n",
       "        text-align: right;\n",
       "    }\n",
       "</style>\n",
       "<table border=\"1\" class=\"dataframe\">\n",
       "  <thead>\n",
       "    <tr style=\"text-align: right;\">\n",
       "      <th></th>\n",
       "      <th>minority majority totals</th>\n",
       "      <th>minority minority totals</th>\n",
       "    </tr>\n",
       "  </thead>\n",
       "  <tbody>\n",
       "    <tr>\n",
       "      <th>precise</th>\n",
       "      <td>9006.000000</td>\n",
       "      <td>5921.000000</td>\n",
       "    </tr>\n",
       "    <tr>\n",
       "      <th>dp</th>\n",
       "      <td>8770.000000</td>\n",
       "      <td>7554.000000</td>\n",
       "    </tr>\n",
       "    <tr>\n",
       "      <th>non-neg</th>\n",
       "      <td>8024.184219</td>\n",
       "      <td>6902.815865</td>\n",
       "    </tr>\n",
       "    <tr>\n",
       "      <th>pct change</th>\n",
       "      <td>0.085042</td>\n",
       "      <td>0.086204</td>\n",
       "    </tr>\n",
       "  </tbody>\n",
       "</table>\n",
       "</div>"
      ],
      "text/plain": [
       "            minority majority totals  minority minority totals\n",
       "precise                  9006.000000               5921.000000\n",
       "dp                       8770.000000               7554.000000\n",
       "non-neg                  8024.184219               6902.815865\n",
       "pct change                  0.085042                  0.086204"
      ]
     },
     "execution_count": 10,
     "metadata": {},
     "output_type": "execute_result"
    }
   ],
   "source": [
    "summaries(pop_3e5)"
   ]
  },
  {
   "cell_type": "code",
   "execution_count": 11,
   "metadata": {},
   "outputs": [
    {
     "data": {
      "text/html": [
       "<div>\n",
       "<style scoped>\n",
       "    .dataframe tbody tr th:only-of-type {\n",
       "        vertical-align: middle;\n",
       "    }\n",
       "\n",
       "    .dataframe tbody tr th {\n",
       "        vertical-align: top;\n",
       "    }\n",
       "\n",
       "    .dataframe thead th {\n",
       "        text-align: right;\n",
       "    }\n",
       "</style>\n",
       "<table border=\"1\" class=\"dataframe\">\n",
       "  <thead>\n",
       "    <tr style=\"text-align: right;\">\n",
       "      <th></th>\n",
       "      <th>minority majority totals</th>\n",
       "      <th>minority minority totals</th>\n",
       "    </tr>\n",
       "  </thead>\n",
       "  <tbody>\n",
       "    <tr>\n",
       "      <th>precise</th>\n",
       "      <td>1.054453e+06</td>\n",
       "      <td>611949.000000</td>\n",
       "    </tr>\n",
       "    <tr>\n",
       "      <th>dp</th>\n",
       "      <td>1.054622e+06</td>\n",
       "      <td>610252.000000</td>\n",
       "    </tr>\n",
       "    <tr>\n",
       "      <th>non-neg</th>\n",
       "      <td>1.053558e+06</td>\n",
       "      <td>612844.193449</td>\n",
       "    </tr>\n",
       "    <tr>\n",
       "      <th>pct change</th>\n",
       "      <td>1.009076e-03</td>\n",
       "      <td>-0.004248</td>\n",
       "    </tr>\n",
       "  </tbody>\n",
       "</table>\n",
       "</div>"
      ],
      "text/plain": [
       "            minority majority totals  minority minority totals\n",
       "precise                 1.054453e+06             611949.000000\n",
       "dp                      1.054622e+06             610252.000000\n",
       "non-neg                 1.053558e+06             612844.193449\n",
       "pct change              1.009076e-03                 -0.004248"
      ]
     },
     "execution_count": 11,
     "metadata": {},
     "output_type": "execute_result"
    }
   ],
   "source": [
    "summaries(pop_3e7)"
   ]
  },
  {
   "cell_type": "code",
   "execution_count": 12,
   "metadata": {},
   "outputs": [
    {
     "data": {
      "image/png": "[encoded data removed]",
      "text/plain": [
       "<Figure size 432x288 with 1 Axes>"
      ]
     },
     "metadata": {
      "needs_background": "light"
     },
     "output_type": "display_data"
    },
    {
     "data": {
      "image/png": "[encoded data removed]",
      "text/plain": [
       "<Figure size 432x288 with 1 Axes>"
      ]
     },
     "metadata": {
      "needs_background": "light"
     },
     "output_type": "display_data"
    },
    {
     "data": {
      "image/png": "[encoded data removed]",
      "text/plain": [
       "<Figure size 432x288 with 1 Axes>"
      ]
     },
     "metadata": {
      "needs_background": "light"
     },
     "output_type": "display_data"
    }
   ],
   "source": [
    "see_minmaj_distr(pop_3e3, version = \"precise\", use_log = True)\n",
    "see_minmaj_distr(pop_3e3, version = \"dp\", use_log = True)\n",
    "see_minmaj_distr(pop_3e3, version = \"nn\", use_log = True)"
   ]
  },
  {
   "cell_type": "code",
   "execution_count": 13,
   "metadata": {},
   "outputs": [
    {
     "data": {
      "image/png": "[encoded data removed]",
      "text/plain": [
       "<Figure size 432x288 with 1 Axes>"
      ]
     },
     "metadata": {
      "needs_background": "light"
     },
     "output_type": "display_data"
    },
    {
     "data": {
      "image/png": "[encoded data removed]",
      "text/plain": [
       "<Figure size 432x288 with 1 Axes>"
      ]
     },
     "metadata": {
      "needs_background": "light"
     },
     "output_type": "display_data"
    },
    {
     "data": {
      "image/png": "[encoded data removed]",
      "text/plain": [
       "<Figure size 432x288 with 1 Axes>"
      ]
     },
     "metadata": {
      "needs_background": "light"
     },
     "output_type": "display_data"
    }
   ],
   "source": [
    "see_minmaj_distr(pop_3e5, version = \"precise\", use_log = True)\n",
    "see_minmaj_distr(pop_3e5, version = \"dp\", use_log = True)\n",
    "see_minmaj_distr(pop_3e5, version = \"nn\", use_log = True)"
   ]
  },
  {
   "cell_type": "code",
   "execution_count": 14,
   "metadata": {},
   "outputs": [
    {
     "data": {
      "image/png": "[encoded data removed]",
      "text/plain": [
       "<Figure size 432x288 with 1 Axes>"
      ]
     },
     "metadata": {
      "needs_background": "light"
     },
     "output_type": "display_data"
    },
    {
     "data": {
      "image/png": "[encoded data removed]",
      "text/plain": [
       "<Figure size 432x288 with 1 Axes>"
      ]
     },
     "metadata": {
      "needs_background": "light"
     },
     "output_type": "display_data"
    },
    {
     "data": {
      "image/png": "[encoded data removed]",
      "text/plain": [
       "<Figure size 432x288 with 1 Axes>"
      ]
     },
     "metadata": {
      "needs_background": "light"
     },
     "output_type": "display_data"
    }
   ],
   "source": [
    "see_minmaj_distr(pop_3e7, version = \"precise\", use_log = True)\n",
    "see_minmaj_distr(pop_3e7, version = \"dp\", use_log = True)\n",
    "see_minmaj_distr(pop_3e7, version = \"nn\", use_log = True)"
   ]
  },
  {
   "cell_type": "code",
   "execution_count": 28,
   "metadata": {},
   "outputs": [],
   "source": [
    "def nonnegative_optimize_mad(imprecise_counts, control_total):\n",
    "    \"\"\"optimize the imprecise counts so that they sum to\n",
    "    the control total and are non-negative\n",
    "    \n",
    "    Parameters\n",
    "    ----------\n",
    "    imprecise_counts : list-like of floats\n",
    "    control_total : float\n",
    "    \n",
    "    Results\n",
    "    -------\n",
    "    returns optimized_counts, which are close to imprecise counts,\n",
    "    but not negative, and match control total in aggregate\n",
    "    \"\"\"\n",
    "    imprecise_counts = list(imprecise_counts)\n",
    "    \n",
    "    model = ConcreteModel()\n",
    "    model.I = range(len(imprecise_counts))\n",
    "    model.x = Var(model.I, within=NonNegativeReals)\n",
    "    model.objective = Objective(\n",
    "        expr=sum(abs(model.x[i] - imprecise_counts[i]) for i in model.I))\n",
    "    model.constraint = Constraint(\n",
    "        expr=summation(model.x) == control_total)\n",
    "    \n",
    "    solver = SolverFactory('ipopt')\n",
    "    results = solver.solve(model, options={'acceptable_tol':1e-4}, tee=False)\n",
    "    optimized_counts = [value(model.x[i]) for i in model.I]\n",
    "        \n",
    "    return np.array(optimized_counts)"
   ]
  },
  {
   "cell_type": "code",
   "execution_count": 29,
   "metadata": {},
   "outputs": [],
   "source": [
    "def nonnegative_optimize_weighted(imprecise_counts, control_total):\n",
    "    \"\"\"optimize the imprecise counts so that they sum to\n",
    "    the control total and are non-negative\n",
    "    \n",
    "    Parameters\n",
    "    ----------\n",
    "    imprecise_counts : list-like of floats\n",
    "    control_total : float\n",
    "    \n",
    "    Results\n",
    "    -------\n",
    "    returns optimized_counts, which are close to imprecise counts,\n",
    "    but not negative, and match control total in aggregate\n",
    "    \"\"\"\n",
    "    def f(x):\n",
    "        k = np.quantile(imprecise_counts, .999)\n",
    "        if x < k:\n",
    "            return x**2\n",
    "        else:\n",
    "            return 2*(x**2)\n",
    "        \n",
    "    \n",
    "    imprecise_counts = list(imprecise_counts)\n",
    "    \n",
    "    model = ConcreteModel()\n",
    "    model.I = range(len(imprecise_counts))\n",
    "    model.x = Var(model.I, within=NonNegativeReals)\n",
    "    model.objective = Objective(\n",
    "        expr=sum(abs(imprecise_counts[i])*(model.x[i] - imprecise_counts[i])**2 for i in model.I))\n",
    "    model.constraint = Constraint(\n",
    "        expr=summation(model.x) == control_total)\n",
    "    \n",
    "    solver = SolverFactory('ipopt')\n",
    "    results = solver.solve(model, options={'acceptable_tol':1e-4}, tee=False)\n",
    "    optimized_counts = [value(model.x[i]) for i in model.I]\n",
    "        \n",
    "    return np.array(optimized_counts)"
   ]
  },
  {
   "cell_type": "code",
   "execution_count": 30,
   "metadata": {},
   "outputs": [],
   "source": [
    "def nonnegative_optimize_sq_weighted(imprecise_counts, control_total):\n",
    "    \"\"\"optimize the imprecise counts so that they sum to\n",
    "    the control total and are non-negative\n",
    "    \n",
    "    Parameters\n",
    "    ----------\n",
    "    imprecise_counts : list-like of floats\n",
    "    control_total : float\n",
    "    \n",
    "    Results\n",
    "    -------\n",
    "    returns optimized_counts, which are close to imprecise counts,\n",
    "    but not negative, and match control total in aggregate\n",
    "    \"\"\"    \n",
    "    imprecise_counts = list(imprecise_counts)\n",
    "    \n",
    "    model = ConcreteModel()\n",
    "    model.I = range(len(imprecise_counts))\n",
    "    model.x = Var(model.I, within=NonNegativeReals)\n",
    "    model.objective = Objective(\n",
    "        expr=sum((imprecise_counts[i]**2)*(model.x[i] - imprecise_counts[i])**2 for i in model.I))\n",
    "    model.constraint = Constraint(\n",
    "        expr=summation(model.x) == control_total)\n",
    "    \n",
    "    solver = SolverFactory('ipopt')\n",
    "    results = solver.solve(model, options={'acceptable_tol':1e-4}, tee=False)\n",
    "    optimized_counts = [value(model.x[i]) for i in model.I]\n",
    "        \n",
    "    return np.array(optimized_counts)"
   ]
  },
  {
   "cell_type": "code",
   "execution_count": null,
   "metadata": {},
   "outputs": [],
   "source": [
    "def nn_opt_shifted_weighted(imprecise_counts, control_total):\n",
    "    \"\"\"optimize the imprecise counts so that they sum to\n",
    "    the control total and are non-negative\n",
    "    \n",
    "    Parameters\n",
    "    ----------\n",
    "    imprecise_counts : list-like of floats\n",
    "    control_total : float\n",
    "    \n",
    "    Results\n",
    "    -------\n",
    "    returns optimized_counts, which are close to imprecise counts,\n",
    "    but not negative, and match control total in aggregate\n",
    "    \"\"\"    \n",
    "    imprecise_counts = list(imprecise_counts)\n",
    "    buffer = min(imprecise_counts)+1\n",
    "    \n",
    "    model = ConcreteModel()\n",
    "    model.I = range(len(imprecise_counts))\n",
    "    model.x = Var(model.I, within=NonNegativeReals)\n",
    "    model.objective = Objective(\n",
    "        expr=sum(((imprecise_counts[i]+buffer)**2)*(model.x[i] - imprecise_counts[i])**2 for i in model.I))\n",
    "    model.constraint = Constraint(\n",
    "        expr=summation(model.x) == control_total)\n",
    "    \n",
    "    solver = SolverFactory('ipopt')\n",
    "    results = solver.solve(model, options={'acceptable_tol':1e-4}, tee=False)\n",
    "    optimized_counts = [value(model.x[i]) for i in model.I]\n",
    "        \n",
    "    return np.array(optimized_counts)"
   ]
  },
  {
   "cell_type": "code",
   "execution_count": null,
   "metadata": {},
   "outputs": [],
   "source": [
    "weight_shift_3e3 = main(nn_opt_shifted_weighted, a=.02, b=10, pct_minority=.05, segregation_factor=1, K=10_000, N=3e3, epsilon=0.1, seed=1)"
   ]
  },
  {
   "cell_type": "code",
   "execution_count": null,
   "metadata": {},
   "outputs": [],
   "source": [
    "weight_shift_3e5 = main(nn_opt_shifted_weighted, a=.02, b=10, pct_minority=.05, segregation_factor=1, K=10_000, N=3e5, epsilon=0.1, seed=1)"
   ]
  },
  {
   "cell_type": "code",
   "execution_count": null,
   "metadata": {},
   "outputs": [],
   "source": [
    "weight_shift_3e7 = main(nn_opt_shifted_weighted, a=.02, b=10, pct_minority=.05, segregation_factor=1, K=10_000, N=3e7, epsilon=0.1, seed=1)"
   ]
  },
  {
   "cell_type": "code",
   "execution_count": null,
   "metadata": {},
   "outputs": [],
   "source": [
    "summaries(weight_shift_3e3)"
   ]
  },
  {
   "cell_type": "code",
   "execution_count": null,
   "metadata": {},
   "outputs": [],
   "source": [
    "summaries(weight_shift_3e5)"
   ]
  },
  {
   "cell_type": "code",
   "execution_count": null,
   "metadata": {},
   "outputs": [],
   "source": [
    "summaries(weight_shift_3e7)"
   ]
  },
  {
   "cell_type": "code",
   "execution_count": null,
   "metadata": {},
   "outputs": [],
   "source": [
    "see_minmaj_distr(weight_shift_3e3, version = \"precise\", use_log = True)\n",
    "see_minmaj_distr(weight_shift_3e3, version = \"dp\", use_log = True)\n",
    "see_minmaj_distr(weight_shift_3e3, version = \"nn\", use_log = True)"
   ]
  },
  {
   "cell_type": "code",
   "execution_count": null,
   "metadata": {},
   "outputs": [],
   "source": [
    "see_minmaj_distr(weight_shift_3e5, version = \"precise\", use_log = True)\n",
    "see_minmaj_distr(weight_shift_3e5, version = \"dp\", use_log = True)\n",
    "see_minmaj_distr(weight_shift_3e5, version = \"nn\", use_log = True)"
   ]
  },
  {
   "cell_type": "code",
   "execution_count": null,
   "metadata": {},
   "outputs": [],
   "source": [
    "see_minmaj_distr(weight_shift_3e7, version = \"precise\", use_log = True)\n",
    "see_minmaj_distr(weight_shift_3e7, version = \"dp\", use_log = True)\n",
    "see_minmaj_distr(weight_shift_3e7, version = \"nn\", use_log = True)"
   ]
  },
  {
   "cell_type": "code",
   "execution_count": 40,
   "metadata": {},
   "outputs": [
    {
     "name": "stdout",
     "output_type": "stream",
     "text": [
      "WARNING: Loading a SolverResults object with a warning status into\n",
      "    model=unknown;\n",
      "        message from solver=Ipopt 3.12.13\\x3a Maximum Number of Iterations\n",
      "        Exceeded.\n"
     ]
    },
    {
     "ename": "ValueError",
     "evalue": "Cannot load a SolverResults object with bad status: error",
     "output_type": "error",
     "traceback": [
      "\u001b[0;31m---------------------------------------------------------------------------\u001b[0m",
      "\u001b[0;31mValueError\u001b[0m                                Traceback (most recent call last)",
      "\u001b[0;32m<ipython-input-40-f0939a93b263>\u001b[0m in \u001b[0;36m<module>\u001b[0;34m\u001b[0m\n\u001b[0;32m----> 1\u001b[0;31m \u001b[0mexp_weight_3e3\u001b[0m \u001b[0;34m=\u001b[0m \u001b[0mmain\u001b[0m\u001b[0;34m(\u001b[0m\u001b[0mnn_opt_exp\u001b[0m\u001b[0;34m,\u001b[0m \u001b[0ma\u001b[0m\u001b[0;34m=\u001b[0m\u001b[0;36m.02\u001b[0m\u001b[0;34m,\u001b[0m \u001b[0mb\u001b[0m\u001b[0;34m=\u001b[0m\u001b[0;36m10\u001b[0m\u001b[0;34m,\u001b[0m \u001b[0mpct_minority\u001b[0m\u001b[0;34m=\u001b[0m\u001b[0;36m.05\u001b[0m\u001b[0;34m,\u001b[0m \u001b[0msegregation_factor\u001b[0m\u001b[0;34m=\u001b[0m\u001b[0;36m1\u001b[0m\u001b[0;34m,\u001b[0m \u001b[0mK\u001b[0m\u001b[0;34m=\u001b[0m\u001b[0;36m10_000\u001b[0m\u001b[0;34m,\u001b[0m \u001b[0mN\u001b[0m\u001b[0;34m=\u001b[0m\u001b[0;36m3e3\u001b[0m\u001b[0;34m,\u001b[0m \u001b[0mepsilon\u001b[0m\u001b[0;34m=\u001b[0m\u001b[0;36m0.1\u001b[0m\u001b[0;34m,\u001b[0m \u001b[0mseed\u001b[0m\u001b[0;34m=\u001b[0m\u001b[0;36m1\u001b[0m\u001b[0;34m)\u001b[0m\u001b[0;34m\u001b[0m\u001b[0;34m\u001b[0m\u001b[0m\n\u001b[0m",
      "\u001b[0;32m<ipython-input-25-e875d36ba2f2>\u001b[0m in \u001b[0;36mmain\u001b[0;34m(optimizer, a, b, pct_minority, segregation_factor, K, N, epsilon, seed)\u001b[0m\n\u001b[1;32m     42\u001b[0m \u001b[0;34m\u001b[0m\u001b[0m\n\u001b[1;32m     43\u001b[0m     \u001b[0mnn_minority_count\u001b[0m \u001b[0;34m=\u001b[0m \u001b[0moptimizer\u001b[0m\u001b[0;34m(\u001b[0m\u001b[0mdp_minority_count\u001b[0m\u001b[0;34m,\u001b[0m \u001b[0mprecise_minority_count\u001b[0m\u001b[0;34m.\u001b[0m\u001b[0msum\u001b[0m\u001b[0;34m(\u001b[0m\u001b[0;34m)\u001b[0m\u001b[0;34m)\u001b[0m\u001b[0;34m\u001b[0m\u001b[0;34m\u001b[0m\u001b[0m\n\u001b[0;32m---> 44\u001b[0;31m     \u001b[0mnn_majority_count\u001b[0m \u001b[0;34m=\u001b[0m \u001b[0moptimizer\u001b[0m\u001b[0;34m(\u001b[0m\u001b[0mdp_majority_count\u001b[0m\u001b[0;34m,\u001b[0m \u001b[0mprecise_majority_count\u001b[0m\u001b[0;34m.\u001b[0m\u001b[0msum\u001b[0m\u001b[0;34m(\u001b[0m\u001b[0;34m)\u001b[0m\u001b[0;34m)\u001b[0m\u001b[0;34m\u001b[0m\u001b[0;34m\u001b[0m\u001b[0m\n\u001b[0m\u001b[1;32m     45\u001b[0m \u001b[0;34m\u001b[0m\u001b[0m\n\u001b[1;32m     46\u001b[0m     return[minmaj_area,minmin_area,\n",
      "\u001b[0;32m<ipython-input-39-e7301430a45d>\u001b[0m in \u001b[0;36mnn_opt_exp\u001b[0;34m(imprecise_counts, control_total)\u001b[0m\n\u001b[1;32m     24\u001b[0m \u001b[0;34m\u001b[0m\u001b[0m\n\u001b[1;32m     25\u001b[0m     \u001b[0msolver\u001b[0m \u001b[0;34m=\u001b[0m \u001b[0mSolverFactory\u001b[0m\u001b[0;34m(\u001b[0m\u001b[0;34m'ipopt'\u001b[0m\u001b[0;34m)\u001b[0m\u001b[0;34m\u001b[0m\u001b[0;34m\u001b[0m\u001b[0m\n\u001b[0;32m---> 26\u001b[0;31m     \u001b[0mresults\u001b[0m \u001b[0;34m=\u001b[0m \u001b[0msolver\u001b[0m\u001b[0;34m.\u001b[0m\u001b[0msolve\u001b[0m\u001b[0;34m(\u001b[0m\u001b[0mmodel\u001b[0m\u001b[0;34m,\u001b[0m \u001b[0moptions\u001b[0m\u001b[0;34m=\u001b[0m\u001b[0;34m{\u001b[0m\u001b[0;34m'acceptable_tol'\u001b[0m\u001b[0;34m:\u001b[0m\u001b[0;36m1e-4\u001b[0m\u001b[0;34m}\u001b[0m\u001b[0;34m,\u001b[0m \u001b[0mtee\u001b[0m\u001b[0;34m=\u001b[0m\u001b[0;32mFalse\u001b[0m\u001b[0;34m)\u001b[0m\u001b[0;34m\u001b[0m\u001b[0;34m\u001b[0m\u001b[0m\n\u001b[0m\u001b[1;32m     27\u001b[0m     \u001b[0moptimized_counts\u001b[0m \u001b[0;34m=\u001b[0m \u001b[0;34m[\u001b[0m\u001b[0mvalue\u001b[0m\u001b[0;34m(\u001b[0m\u001b[0mmodel\u001b[0m\u001b[0;34m.\u001b[0m\u001b[0mx\u001b[0m\u001b[0;34m[\u001b[0m\u001b[0mi\u001b[0m\u001b[0;34m]\u001b[0m\u001b[0;34m)\u001b[0m \u001b[0;32mfor\u001b[0m \u001b[0mi\u001b[0m \u001b[0;32min\u001b[0m \u001b[0mmodel\u001b[0m\u001b[0;34m.\u001b[0m\u001b[0mI\u001b[0m\u001b[0;34m]\u001b[0m\u001b[0;34m\u001b[0m\u001b[0;34m\u001b[0m\u001b[0m\n\u001b[1;32m     28\u001b[0m \u001b[0;34m\u001b[0m\u001b[0m\n",
      "\u001b[0;32m/share/code/beatrixh/miniconda/envs/pyomo/lib/python3.6/site-packages/pyomo/opt/base/solvers.py\u001b[0m in \u001b[0;36msolve\u001b[0;34m(self, *args, **kwds)\u001b[0m\n\u001b[1;32m    631\u001b[0m                             \u001b[0mresult\u001b[0m\u001b[0;34m,\u001b[0m\u001b[0;34m\u001b[0m\u001b[0;34m\u001b[0m\u001b[0m\n\u001b[1;32m    632\u001b[0m                             \u001b[0mselect\u001b[0m\u001b[0;34m=\u001b[0m\u001b[0mself\u001b[0m\u001b[0;34m.\u001b[0m\u001b[0m_select_index\u001b[0m\u001b[0;34m,\u001b[0m\u001b[0;34m\u001b[0m\u001b[0;34m\u001b[0m\u001b[0m\n\u001b[0;32m--> 633\u001b[0;31m                             default_variable_value=self._default_variable_value)\n\u001b[0m\u001b[1;32m    634\u001b[0m                         \u001b[0mresult\u001b[0m\u001b[0;34m.\u001b[0m\u001b[0m_smap_id\u001b[0m \u001b[0;34m=\u001b[0m \u001b[0;32mNone\u001b[0m\u001b[0;34m\u001b[0m\u001b[0;34m\u001b[0m\u001b[0m\n\u001b[1;32m    635\u001b[0m                         \u001b[0mresult\u001b[0m\u001b[0;34m.\u001b[0m\u001b[0msolution\u001b[0m\u001b[0;34m.\u001b[0m\u001b[0mclear\u001b[0m\u001b[0;34m(\u001b[0m\u001b[0;34m)\u001b[0m\u001b[0;34m\u001b[0m\u001b[0;34m\u001b[0m\u001b[0m\n",
      "\u001b[0;32m/share/code/beatrixh/miniconda/envs/pyomo/lib/python3.6/site-packages/pyomo/core/base/PyomoModel.py\u001b[0m in \u001b[0;36mload_from\u001b[0;34m(self, results, allow_consistent_values_for_fixed_vars, comparison_tolerance_for_fixed_vars, ignore_invalid_labels, id, delete_symbol_map, clear, default_variable_value, select, ignore_fixed_vars)\u001b[0m\n\u001b[1;32m    249\u001b[0m                 raise ValueError(\"Cannot load a SolverResults object \"\n\u001b[1;32m    250\u001b[0m                                  \u001b[0;34m\"with bad status: %s\"\u001b[0m\u001b[0;34m\u001b[0m\u001b[0;34m\u001b[0m\u001b[0m\n\u001b[0;32m--> 251\u001b[0;31m                                  % str(results.solver.status))\n\u001b[0m\u001b[1;32m    252\u001b[0m         \u001b[0;32mif\u001b[0m \u001b[0mclear\u001b[0m\u001b[0;34m:\u001b[0m\u001b[0;34m\u001b[0m\u001b[0;34m\u001b[0m\u001b[0m\n\u001b[1;32m    253\u001b[0m             \u001b[0;31m#\u001b[0m\u001b[0;34m\u001b[0m\u001b[0;34m\u001b[0m\u001b[0;34m\u001b[0m\u001b[0m\n",
      "\u001b[0;31mValueError\u001b[0m: Cannot load a SolverResults object with bad status: error"
     ]
    }
   ],
   "source": [
    "exp_weight_3e3 = main(nn_opt_exp, a=.02, b=10, pct_minority=.05, segregation_factor=1, K=10_000, N=3e3, epsilon=0.1, seed=1)"
   ]
  },
  {
   "cell_type": "code",
   "execution_count": null,
   "metadata": {},
   "outputs": [],
   "source": [
    "exp_weight_3e5 = main(nn_opt_exp, a=.02, b=10, pct_minority=.05, segregation_factor=1, K=10_000, N=3e5, epsilon=0.1, seed=1)"
   ]
  },
  {
   "cell_type": "code",
   "execution_count": null,
   "metadata": {},
   "outputs": [],
   "source": [
    "exp_weight_3e7 = main(nn_opt_exp, a=.02, b=10, pct_minority=.05, segregation_factor=1, K=10_000, N=3e7, epsilon=0.1, seed=1)"
   ]
  },
  {
   "cell_type": "code",
   "execution_count": null,
   "metadata": {},
   "outputs": [],
   "source": [
    "summaries(exp_weight_3e3)"
   ]
  },
  {
   "cell_type": "code",
   "execution_count": null,
   "metadata": {},
   "outputs": [],
   "source": [
    "summaries(exp_weight_3e5)"
   ]
  },
  {
   "cell_type": "code",
   "execution_count": null,
   "metadata": {},
   "outputs": [],
   "source": [
    "summaries(exp_weight_3e7)"
   ]
  },
  {
   "cell_type": "code",
   "execution_count": null,
   "metadata": {},
   "outputs": [],
   "source": [
    "see_minmaj_distr(exp_weight_3e3, version = \"precise\", use_log = True)\n",
    "see_minmaj_distr(exp_weight_3e3, version = \"dp\", use_log = True)\n",
    "see_minmaj_distr(exp_weight_3e3, version = \"nn\", use_log = True)"
   ]
  },
  {
   "cell_type": "code",
   "execution_count": null,
   "metadata": {},
   "outputs": [],
   "source": [
    "see_minmaj_distr(exp_weight_3e5, version = \"precise\", use_log = True)\n",
    "see_minmaj_distr(exp_weight_3e5, version = \"dp\", use_log = True)\n",
    "see_minmaj_distr(exp_weight_3e5, version = \"nn\", use_log = True)"
   ]
  },
  {
   "cell_type": "code",
   "execution_count": 43,
   "metadata": {},
   "outputs": [],
   "source": [
    "def nn_opt_shift_exp(imprecise_counts, control_total):\n",
    "    \"\"\"optimize the imprecise counts so that they sum to\n",
    "    the control total and are non-negative\n",
    "    \n",
    "    Parameters\n",
    "    ----------\n",
    "    imprecise_counts : list-like of floats\n",
    "    control_total : float\n",
    "    \n",
    "    Results\n",
    "    -------\n",
    "    returns optimized_counts, which are close to imprecise counts,\n",
    "    but not negative, and match control total in aggregate\n",
    "    \"\"\"    \n",
    "    imprecise_counts = list(imprecise_counts)\n",
    "    min_val = min(imprecise_counts)\n",
    "    \n",
    "    model = ConcreteModel()\n",
    "    model.I = range(len(imprecise_counts))\n",
    "    model.x = Var(model.I, within=NonNegativeReals)\n",
    "    model.objective = Objective(\n",
    "        expr=sum((np.exp(imprecise_counts[i]+min_val+1))*(model.x[i] - imprecise_counts[i])**2 for i in model.I))\n",
    "    model.constraint = Constraint(\n",
    "        expr=summation(model.x) == control_total)\n",
    "    \n",
    "    solver = SolverFactory('ipopt')\n",
    "    results = solver.solve(model, options={'acceptable_tol':1e-4}, tee=False)\n",
    "    optimized_counts = [value(model.x[i]) for i in model.I]\n",
    "        \n",
    "    return np.array(optimized_counts)"
   ]
  },
  {
   "cell_type": "code",
   "execution_count": 44,
   "metadata": {},
   "outputs": [
    {
     "name": "stdout",
     "output_type": "stream",
     "text": [
      "WARNING: Loading a SolverResults object with a warning status into\n",
      "    model=unknown;\n",
      "        message from solver=Ipopt 3.12.13\\x3a Maximum Number of Iterations\n",
      "        Exceeded.\n"
     ]
    },
    {
     "ename": "ValueError",
     "evalue": "Cannot load a SolverResults object with bad status: error",
     "output_type": "error",
     "traceback": [
      "\u001b[0;31m---------------------------------------------------------------------------\u001b[0m",
      "\u001b[0;31mValueError\u001b[0m                                Traceback (most recent call last)",
      "\u001b[0;32m<ipython-input-44-7c6a820dd8de>\u001b[0m in \u001b[0;36m<module>\u001b[0;34m\u001b[0m\n\u001b[0;32m----> 1\u001b[0;31m \u001b[0mshift_exp_weight_3e3\u001b[0m \u001b[0;34m=\u001b[0m \u001b[0mmain\u001b[0m\u001b[0;34m(\u001b[0m\u001b[0mnn_opt_exp\u001b[0m\u001b[0;34m,\u001b[0m \u001b[0ma\u001b[0m\u001b[0;34m=\u001b[0m\u001b[0;36m.02\u001b[0m\u001b[0;34m,\u001b[0m \u001b[0mb\u001b[0m\u001b[0;34m=\u001b[0m\u001b[0;36m10\u001b[0m\u001b[0;34m,\u001b[0m \u001b[0mpct_minority\u001b[0m\u001b[0;34m=\u001b[0m\u001b[0;36m.05\u001b[0m\u001b[0;34m,\u001b[0m \u001b[0msegregation_factor\u001b[0m\u001b[0;34m=\u001b[0m\u001b[0;36m1\u001b[0m\u001b[0;34m,\u001b[0m \u001b[0mK\u001b[0m\u001b[0;34m=\u001b[0m\u001b[0;36m10_000\u001b[0m\u001b[0;34m,\u001b[0m \u001b[0mN\u001b[0m\u001b[0;34m=\u001b[0m\u001b[0;36m3e3\u001b[0m\u001b[0;34m,\u001b[0m \u001b[0mepsilon\u001b[0m\u001b[0;34m=\u001b[0m\u001b[0;36m0.1\u001b[0m\u001b[0;34m,\u001b[0m \u001b[0mseed\u001b[0m\u001b[0;34m=\u001b[0m\u001b[0;36m1\u001b[0m\u001b[0;34m)\u001b[0m\u001b[0;34m\u001b[0m\u001b[0;34m\u001b[0m\u001b[0m\n\u001b[0m",
      "\u001b[0;32m<ipython-input-25-e875d36ba2f2>\u001b[0m in \u001b[0;36mmain\u001b[0;34m(optimizer, a, b, pct_minority, segregation_factor, K, N, epsilon, seed)\u001b[0m\n\u001b[1;32m     42\u001b[0m \u001b[0;34m\u001b[0m\u001b[0m\n\u001b[1;32m     43\u001b[0m     \u001b[0mnn_minority_count\u001b[0m \u001b[0;34m=\u001b[0m \u001b[0moptimizer\u001b[0m\u001b[0;34m(\u001b[0m\u001b[0mdp_minority_count\u001b[0m\u001b[0;34m,\u001b[0m \u001b[0mprecise_minority_count\u001b[0m\u001b[0;34m.\u001b[0m\u001b[0msum\u001b[0m\u001b[0;34m(\u001b[0m\u001b[0;34m)\u001b[0m\u001b[0;34m)\u001b[0m\u001b[0;34m\u001b[0m\u001b[0;34m\u001b[0m\u001b[0m\n\u001b[0;32m---> 44\u001b[0;31m     \u001b[0mnn_majority_count\u001b[0m \u001b[0;34m=\u001b[0m \u001b[0moptimizer\u001b[0m\u001b[0;34m(\u001b[0m\u001b[0mdp_majority_count\u001b[0m\u001b[0;34m,\u001b[0m \u001b[0mprecise_majority_count\u001b[0m\u001b[0;34m.\u001b[0m\u001b[0msum\u001b[0m\u001b[0;34m(\u001b[0m\u001b[0;34m)\u001b[0m\u001b[0;34m)\u001b[0m\u001b[0;34m\u001b[0m\u001b[0;34m\u001b[0m\u001b[0m\n\u001b[0m\u001b[1;32m     45\u001b[0m \u001b[0;34m\u001b[0m\u001b[0m\n\u001b[1;32m     46\u001b[0m     return[minmaj_area,minmin_area,\n",
      "\u001b[0;32m<ipython-input-39-e7301430a45d>\u001b[0m in \u001b[0;36mnn_opt_exp\u001b[0;34m(imprecise_counts, control_total)\u001b[0m\n\u001b[1;32m     24\u001b[0m \u001b[0;34m\u001b[0m\u001b[0m\n\u001b[1;32m     25\u001b[0m     \u001b[0msolver\u001b[0m \u001b[0;34m=\u001b[0m \u001b[0mSolverFactory\u001b[0m\u001b[0;34m(\u001b[0m\u001b[0;34m'ipopt'\u001b[0m\u001b[0;34m)\u001b[0m\u001b[0;34m\u001b[0m\u001b[0;34m\u001b[0m\u001b[0m\n\u001b[0;32m---> 26\u001b[0;31m     \u001b[0mresults\u001b[0m \u001b[0;34m=\u001b[0m \u001b[0msolver\u001b[0m\u001b[0;34m.\u001b[0m\u001b[0msolve\u001b[0m\u001b[0;34m(\u001b[0m\u001b[0mmodel\u001b[0m\u001b[0;34m,\u001b[0m \u001b[0moptions\u001b[0m\u001b[0;34m=\u001b[0m\u001b[0;34m{\u001b[0m\u001b[0;34m'acceptable_tol'\u001b[0m\u001b[0;34m:\u001b[0m\u001b[0;36m1e-4\u001b[0m\u001b[0;34m}\u001b[0m\u001b[0;34m,\u001b[0m \u001b[0mtee\u001b[0m\u001b[0;34m=\u001b[0m\u001b[0;32mFalse\u001b[0m\u001b[0;34m)\u001b[0m\u001b[0;34m\u001b[0m\u001b[0;34m\u001b[0m\u001b[0m\n\u001b[0m\u001b[1;32m     27\u001b[0m     \u001b[0moptimized_counts\u001b[0m \u001b[0;34m=\u001b[0m \u001b[0;34m[\u001b[0m\u001b[0mvalue\u001b[0m\u001b[0;34m(\u001b[0m\u001b[0mmodel\u001b[0m\u001b[0;34m.\u001b[0m\u001b[0mx\u001b[0m\u001b[0;34m[\u001b[0m\u001b[0mi\u001b[0m\u001b[0;34m]\u001b[0m\u001b[0;34m)\u001b[0m \u001b[0;32mfor\u001b[0m \u001b[0mi\u001b[0m \u001b[0;32min\u001b[0m \u001b[0mmodel\u001b[0m\u001b[0;34m.\u001b[0m\u001b[0mI\u001b[0m\u001b[0;34m]\u001b[0m\u001b[0;34m\u001b[0m\u001b[0;34m\u001b[0m\u001b[0m\n\u001b[1;32m     28\u001b[0m \u001b[0;34m\u001b[0m\u001b[0m\n",
      "\u001b[0;32m/share/code/beatrixh/miniconda/envs/pyomo/lib/python3.6/site-packages/pyomo/opt/base/solvers.py\u001b[0m in \u001b[0;36msolve\u001b[0;34m(self, *args, **kwds)\u001b[0m\n\u001b[1;32m    631\u001b[0m                             \u001b[0mresult\u001b[0m\u001b[0;34m,\u001b[0m\u001b[0;34m\u001b[0m\u001b[0;34m\u001b[0m\u001b[0m\n\u001b[1;32m    632\u001b[0m                             \u001b[0mselect\u001b[0m\u001b[0;34m=\u001b[0m\u001b[0mself\u001b[0m\u001b[0;34m.\u001b[0m\u001b[0m_select_index\u001b[0m\u001b[0;34m,\u001b[0m\u001b[0;34m\u001b[0m\u001b[0;34m\u001b[0m\u001b[0m\n\u001b[0;32m--> 633\u001b[0;31m                             default_variable_value=self._default_variable_value)\n\u001b[0m\u001b[1;32m    634\u001b[0m                         \u001b[0mresult\u001b[0m\u001b[0;34m.\u001b[0m\u001b[0m_smap_id\u001b[0m \u001b[0;34m=\u001b[0m \u001b[0;32mNone\u001b[0m\u001b[0;34m\u001b[0m\u001b[0;34m\u001b[0m\u001b[0m\n\u001b[1;32m    635\u001b[0m                         \u001b[0mresult\u001b[0m\u001b[0;34m.\u001b[0m\u001b[0msolution\u001b[0m\u001b[0;34m.\u001b[0m\u001b[0mclear\u001b[0m\u001b[0;34m(\u001b[0m\u001b[0;34m)\u001b[0m\u001b[0;34m\u001b[0m\u001b[0;34m\u001b[0m\u001b[0m\n",
      "\u001b[0;32m/share/code/beatrixh/miniconda/envs/pyomo/lib/python3.6/site-packages/pyomo/core/base/PyomoModel.py\u001b[0m in \u001b[0;36mload_from\u001b[0;34m(self, results, allow_consistent_values_for_fixed_vars, comparison_tolerance_for_fixed_vars, ignore_invalid_labels, id, delete_symbol_map, clear, default_variable_value, select, ignore_fixed_vars)\u001b[0m\n\u001b[1;32m    249\u001b[0m                 raise ValueError(\"Cannot load a SolverResults object \"\n\u001b[1;32m    250\u001b[0m                                  \u001b[0;34m\"with bad status: %s\"\u001b[0m\u001b[0;34m\u001b[0m\u001b[0;34m\u001b[0m\u001b[0m\n\u001b[0;32m--> 251\u001b[0;31m                                  % str(results.solver.status))\n\u001b[0m\u001b[1;32m    252\u001b[0m         \u001b[0;32mif\u001b[0m \u001b[0mclear\u001b[0m\u001b[0;34m:\u001b[0m\u001b[0;34m\u001b[0m\u001b[0;34m\u001b[0m\u001b[0m\n\u001b[1;32m    253\u001b[0m             \u001b[0;31m#\u001b[0m\u001b[0;34m\u001b[0m\u001b[0;34m\u001b[0m\u001b[0;34m\u001b[0m\u001b[0m\n",
      "\u001b[0;31mValueError\u001b[0m: Cannot load a SolverResults object with bad status: error"
     ]
    }
   ],
   "source": [
    "shift_exp_weight_3e3 = main(nn_opt_exp, a=.02, b=10, pct_minority=.05, segregation_factor=1, K=10_000, N=3e3, epsilon=0.1, seed=1)"
   ]
  },
  {
   "cell_type": "code",
   "execution_count": null,
   "metadata": {},
   "outputs": [],
   "source": [
    "shift_exp_weight_3e5 = main(nn_opt_exp, a=.02, b=10, pct_minority=.05, segregation_factor=1, K=10_000, N=3e5, epsilon=0.1, seed=1)"
   ]
  },
  {
   "cell_type": "code",
   "execution_count": null,
   "metadata": {},
   "outputs": [],
   "source": [
    "summaries(shift_exp_weight_3e3)"
   ]
  },
  {
   "cell_type": "code",
   "execution_count": null,
   "metadata": {},
   "outputs": [],
   "source": [
    "summaries(shift_exp_weight_3e5)"
   ]
  },
  {
   "cell_type": "code",
   "execution_count": null,
   "metadata": {},
   "outputs": [],
   "source": [
    "see_minmaj_distr(shift_exp_weight_3e3, version = \"precise\", use_log = True)\n",
    "see_minmaj_distr(shift_exp_weight_3e3, version = \"dp\", use_log = True)\n",
    "see_minmaj_distr(shift_exp_weight_3e3, version = \"nn\", use_log = True)"
   ]
  },
  {
   "cell_type": "code",
   "execution_count": null,
   "metadata": {},
   "outputs": [],
   "source": [
    "see_minmaj_distr(shift_exp_weight_3e5, version = \"precise\", use_log = True)\n",
    "see_minmaj_distr(shift_exp_weight_3e5, version = \"dp\", use_log = True)\n",
    "see_minmaj_distr(shift_exp_weight_3e5, version = \"nn\", use_log = True)"
   ]
  },
  {
   "cell_type": "code",
   "execution_count": null,
   "metadata": {},
   "outputs": [],
   "source": []
  }
 ],
 "metadata": {
  "kernelspec": {
   "display_name": "Python 3",
   "language": "python",
   "name": "python3"
  },
  "language_info": {
   "codemirror_mode": {
    "name": "ipython",
    "version": 3
   },
   "file_extension": ".py",
   "mimetype": "text/x-python",
   "name": "python",
   "nbconvert_exporter": "python",
   "pygments_lexer": "ipython3",
   "version": "3.6.10"
  }
 },
 "nbformat": 4,
 "nbformat_minor": 4
}
