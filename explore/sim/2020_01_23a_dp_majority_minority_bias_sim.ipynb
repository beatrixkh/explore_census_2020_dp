{
 "cells": [
  {
   "cell_type": "code",
   "execution_count": 10,
   "metadata": {},
   "outputs": [
    {
     "name": "stdout",
     "output_type": "stream",
     "text": [
      "Mon Feb  3 13:04:44 PST 2020\n",
      "The autoreload extension is already loaded. To reload it, use:\n",
      "  %reload_ext autoreload\n"
     ]
    }
   ],
   "source": [
    "import numpy as np, pandas as pd\n",
    "pd.set_option('display.max_rows', 8)\n",
    "!date\n",
    "\n",
    "%load_ext autoreload\n",
    "%autoreload 2"
   ]
  },
  {
   "cell_type": "markdown",
   "metadata": {},
   "source": [
    "# Attempt at a minimal model that reproduces the sort of bias observed by Akee in AIAN counts\n",
    "\n",
    "I think it is necessary and sufficient to have a two-level geographic hierarchy with two race groups."
   ]
  },
  {
   "cell_type": "code",
   "execution_count": 139,
   "metadata": {},
   "outputs": [],
   "source": [
    "seed = 12345\n",
    "np.random.seed(seed) # set random seed for reproducibility"
   ]
  },
  {
   "cell_type": "code",
   "execution_count": 103,
   "metadata": {},
   "outputs": [
    {
     "name": "stdout",
     "output_type": "stream",
     "text": [
      "Minority majority areas if size was large: 1678 out of 10000\n"
     ]
    }
   ],
   "source": [
    "K = 10_000  # number of areas at most-detailed level\n",
    "n_k = 1_000 # number of individuals in area k\n",
    "\n",
    "overall_minority_share = 0.2 # 2% of total population is in minority race group\n",
    "segregation_factor = 1 # tunable parameter controlling how many areas are \"majority minority\"  --- TODO: should this be parameterized differently?\n",
    "\n",
    "minority_share = np.random.beta(overall_minority_share/segregation_factor,\n",
    "                                (1-overall_minority_share)/segregation_factor, size=K)\n",
    "\n",
    "print('Minority majority areas if size was large:', (minority_share > .5).sum(), 'out of', K)"
   ]
  },
  {
   "cell_type": "code",
   "execution_count": 104,
   "metadata": {},
   "outputs": [
    {
     "name": "stdout",
     "output_type": "stream",
     "text": [
      "Minority majority areas with size from sim: 1687 out of 10000\n"
     ]
    }
   ],
   "source": [
    "# simulate race-/location-stratified counts\n",
    "precise_minority_count = np.random.binomial(n_k, minority_share)\n",
    "precise_majority_count = n_k - precise_minority_count\n",
    "\n",
    "print('Minority majority areas with size from sim:',\n",
    "      (precise_minority_count > precise_majority_count).sum(), 'out of', K)"
   ]
  },
  {
   "cell_type": "code",
   "execution_count": 105,
   "metadata": {},
   "outputs": [
    {
     "name": "stdout",
     "output_type": "stream",
     "text": [
      "Overall minority share if size was large : 20.0 %\n",
      "Overall minority share with size from sim: 20.11717 %\n"
     ]
    }
   ],
   "source": [
    "print('Overall minority share if size was large :', 100*overall_minority_share, '%')\n",
    "print('Overall minority share with size from sim:', 100*precise_minority_count.sum()/(n_k*K), '%')"
   ]
  },
  {
   "cell_type": "code",
   "execution_count": 106,
   "metadata": {},
   "outputs": [],
   "source": [
    "# add Geometric noise, to make counts differentially private\n",
    "def GDPC(epsilon, exact_counts):\n",
    "    \"\"\" Geometric DP Counts\n",
    "    Parameters\n",
    "    ----------\n",
    "    epsilon : float-able\n",
    "    exact_counts : pd.Series\n",
    "    \n",
    "    Results\n",
    "    -------\n",
    "    returns dp_counts, a pd.Series with index matching exact_counts\"\"\"\n",
    "    \n",
    "    z = float(epsilon)\n",
    "\n",
    "    all_errors = (np.random.geometric(z, size=len(exact_counts))\n",
    "                    - np.random.geometric(z, size=len(exact_counts)))\n",
    "    dp_counts = exact_counts + all_errors\n",
    "    return dp_counts\n",
    "\n",
    "epsilon = '0.1'\n",
    "dp_minority_count = GDPC(epsilon, precise_minority_count)\n",
    "dp_majority_count = GDPC(epsilon, precise_majority_count)"
   ]
  },
  {
   "cell_type": "code",
   "execution_count": 107,
   "metadata": {},
   "outputs": [
    {
     "name": "stdout",
     "output_type": "stream",
     "text": [
      "DP estimate of minority share: 20.125314290696995 %\n"
     ]
    }
   ],
   "source": [
    "print('DP estimate of minority share:', 100*dp_minority_count.sum()/(dp_minority_count + dp_majority_count).sum(), '%')"
   ]
  },
  {
   "cell_type": "code",
   "execution_count": 108,
   "metadata": {},
   "outputs": [
    {
     "name": "stdout",
     "output_type": "stream",
     "text": [
      "Number of negative minority counts in DP estimate: 1562\n",
      "Number of negative majority counts in DP estimate: 25\n"
     ]
    }
   ],
   "source": [
    "# but this probably includes illogical counts, such as negative numbers of the minority population\n",
    "print('Number of negative minority counts in DP estimate:', (dp_minority_count < 0).sum())\n",
    "print('Number of negative majority counts in DP estimate:', (dp_majority_count < 0).sum())"
   ]
  },
  {
   "cell_type": "code",
   "execution_count": 109,
   "metadata": {},
   "outputs": [],
   "source": [
    "# the complex part of the TopDown Algorithm is an optimization step that\n",
    "# removes illogical counts such as negatives, using constrained convex optimization\n",
    "\n",
    "# in this minimal example, I will optimize to find counts that are \"close\" to the dp counts,\n",
    "# are non-negative, and have race-stratified sums that match the precise total sum for both minority and majority\n",
    "# groups\n",
    "\n",
    "import pyomo.environ\n",
    "from pyomo.core import *\n",
    "from pyomo.opt import SolverFactory\n"
   ]
  },
  {
   "cell_type": "code",
   "execution_count": 110,
   "metadata": {},
   "outputs": [],
   "source": [
    "def nonnegative_optimize(imprecise_counts, control_total):\n",
    "    \"\"\"optimize the imprecise counts so that they sum to\n",
    "    the control total and are non-negative\n",
    "    \n",
    "    Parameters\n",
    "    ----------\n",
    "    imprecise_counts : list-like of floats\n",
    "    control_total : float\n",
    "    \n",
    "    Results\n",
    "    -------\n",
    "    returns optimized_counts, which are close to imprecise counts,\n",
    "    but not negative, and match control total in aggregate\n",
    "    \"\"\"\n",
    "    imprecise_counts = list(imprecise_counts)\n",
    "    \n",
    "    model = ConcreteModel()\n",
    "    model.I = range(len(imprecise_counts))\n",
    "    model.x = Var(model.I, within=NonNegativeReals)\n",
    "    model.objective = Objective(\n",
    "        expr=sum((model.x[i] - imprecise_counts[i])**2 for i in model.I))\n",
    "    model.constraint = Constraint(\n",
    "        expr=summation(model.x) == control_total)\n",
    "    \n",
    "    solver = SolverFactory('ipopt')\n",
    "    results = solver.solve(model, options={'acceptable_tol':1e-4}, tee=False)\n",
    "    optimized_counts = [value(model.x[i]) for i in model.I]\n",
    "        \n",
    "    return np.array(optimized_counts)"
   ]
  },
  {
   "cell_type": "code",
   "execution_count": 151,
   "metadata": {},
   "outputs": [],
   "source": [
    "check = nonnegative_optimize([10, 10, 10, -10], 40)\n",
    "if not np.allclose(check,\n",
    "                   np.array([13.33333334, 13.33333334, 13.33333334,  0.]),\n",
    "                   rtol=1e-7,\n",
    "                   equal_nan=False):\n",
    "    print(\"something went wrong\")\n",
    "    print(check)\n",
    "    break"
   ]
  },
  {
   "cell_type": "code",
   "execution_count": 112,
   "metadata": {},
   "outputs": [],
   "source": [
    "nn_minority_count = nonnegative_optimize(dp_minority_count, precise_minority_count.sum())\n",
    "nn_majority_count = nonnegative_optimize(dp_majority_count, precise_majority_count.sum())"
   ]
  },
  {
   "cell_type": "code",
   "execution_count": 152,
   "metadata": {},
   "outputs": [
    {
     "name": "stdout",
     "output_type": "stream",
     "text": [
      "0\n"
     ]
    }
   ],
   "source": [
    "print((nn_minority_count < 0).sum())"
   ]
  },
  {
   "cell_type": "code",
   "execution_count": 113,
   "metadata": {},
   "outputs": [
    {
     "name": "stdout",
     "output_type": "stream",
     "text": [
      "Number of negative minority counts in DP estimate: 0\n",
      "Number of negative majority counts in DP estimate: 0\n"
     ]
    }
   ],
   "source": [
    "# confirm that this got rid of negative counts\n",
    "print('Number of negative minority counts in DP estimate:', (nn_minority_count < 0).sum())\n",
    "print('Number of negative majority counts in DP estimate:', (nn_majority_count < 0).sum())"
   ]
  },
  {
   "cell_type": "code",
   "execution_count": 114,
   "metadata": {},
   "outputs": [
    {
     "name": "stdout",
     "output_type": "stream",
     "text": [
      "Number of near-zero minority counts in DP estimate: 2106\n",
      "Number of near-zero majority counts in DP estimate: 31\n"
     ]
    }
   ],
   "source": [
    "# but it does have small positive counts (and non-integral counts...)\n",
    "print('Number of near-zero minority counts in DP estimate:', (nn_minority_count < .5).sum())\n",
    "print('Number of near-zero majority counts in DP estimate:', (nn_majority_count < .5).sum())"
   ]
  },
  {
   "cell_type": "code",
   "execution_count": 115,
   "metadata": {},
   "outputs": [
    {
     "name": "stdout",
     "output_type": "stream",
     "text": [
      "Total minority counts --- precise 2011717, dp 2012591, non-neg 2011717.0000102385\n"
     ]
    }
   ],
   "source": [
    "# the total number of minorities should now match the precise total\n",
    "print(f'Total minority counts --- precise {precise_minority_count.sum()}, dp {dp_minority_count.sum()}, non-neg {nn_minority_count.sum()}')"
   ]
  },
  {
   "cell_type": "code",
   "execution_count": 117,
   "metadata": {},
   "outputs": [
    {
     "name": "stdout",
     "output_type": "stream",
     "text": [
      "Minority counts in minority-majority areas\n",
      "precise 1275989,\n",
      "     dp 1275763,\n",
      "non-negg 1272344.9305498141\n",
      "pct diff 0.0028558784207276533\n"
     ]
    }
   ],
   "source": [
    "# but I expect that the number of minorities in minority-majority areas is lower in the non-neg version\n",
    "minority_majority_area = (minority_share > .5)\n",
    "print(f'Minority counts in minority-majority areas')\n",
    "print(f'''precise {precise_minority_count[minority_majority_area].sum()},\n",
    "     dp {dp_minority_count[minority_majority_area].sum()},\n",
    "non-neg {nn_minority_count[minority_majority_area].sum()}''')\n",
    "print(f'pct diff {1-(nn_minority_count[minority_majority_area].sum()/precise_minority_count[minority_majority_area].sum())}')"
   ]
  },
  {
   "cell_type": "code",
   "execution_count": 162,
   "metadata": {},
   "outputs": [
    {
     "data": {
      "text/html": [
       "<div>\n",
       "<style scoped>\n",
       "    .dataframe tbody tr th:only-of-type {\n",
       "        vertical-align: middle;\n",
       "    }\n",
       "\n",
       "    .dataframe tbody tr th {\n",
       "        vertical-align: top;\n",
       "    }\n",
       "\n",
       "    .dataframe thead th {\n",
       "        text-align: right;\n",
       "    }\n",
       "</style>\n",
       "<table border=\"1\" class=\"dataframe\">\n",
       "  <thead>\n",
       "    <tr style=\"text-align: right;\">\n",
       "      <th></th>\n",
       "      <th>0</th>\n",
       "      <th>1</th>\n",
       "      <th>2</th>\n",
       "      <th>3</th>\n",
       "      <th>4</th>\n",
       "      <th>5</th>\n",
       "      <th>6</th>\n",
       "      <th>7</th>\n",
       "      <th>8</th>\n",
       "      <th>9</th>\n",
       "      <th>...</th>\n",
       "      <th>1668</th>\n",
       "      <th>1669</th>\n",
       "      <th>1670</th>\n",
       "      <th>1671</th>\n",
       "      <th>1672</th>\n",
       "      <th>1673</th>\n",
       "      <th>1674</th>\n",
       "      <th>1675</th>\n",
       "      <th>1676</th>\n",
       "      <th>1677</th>\n",
       "    </tr>\n",
       "  </thead>\n",
       "  <tbody>\n",
       "    <tr>\n",
       "      <th>0</th>\n",
       "      <td>977.00000</td>\n",
       "      <td>594.00000</td>\n",
       "      <td>839.00000</td>\n",
       "      <td>840.00000</td>\n",
       "      <td>499.00000</td>\n",
       "      <td>854.00000</td>\n",
       "      <td>541.00000</td>\n",
       "      <td>680.00000</td>\n",
       "      <td>724.00000</td>\n",
       "      <td>950.00000</td>\n",
       "      <td>...</td>\n",
       "      <td>519.00000</td>\n",
       "      <td>779.00000</td>\n",
       "      <td>519.00000</td>\n",
       "      <td>879.00000</td>\n",
       "      <td>738.00000</td>\n",
       "      <td>929.00000</td>\n",
       "      <td>718.00000</td>\n",
       "      <td>989.00000</td>\n",
       "      <td>579.00000</td>\n",
       "      <td>674.00000</td>\n",
       "    </tr>\n",
       "    <tr>\n",
       "      <th>1</th>\n",
       "      <td>993.00000</td>\n",
       "      <td>587.00000</td>\n",
       "      <td>841.00000</td>\n",
       "      <td>873.00000</td>\n",
       "      <td>481.00000</td>\n",
       "      <td>859.00000</td>\n",
       "      <td>549.00000</td>\n",
       "      <td>693.00000</td>\n",
       "      <td>723.00000</td>\n",
       "      <td>942.00000</td>\n",
       "      <td>...</td>\n",
       "      <td>519.00000</td>\n",
       "      <td>778.00000</td>\n",
       "      <td>533.00000</td>\n",
       "      <td>888.00000</td>\n",
       "      <td>754.00000</td>\n",
       "      <td>940.00000</td>\n",
       "      <td>716.00000</td>\n",
       "      <td>1004.00000</td>\n",
       "      <td>580.00000</td>\n",
       "      <td>677.00000</td>\n",
       "    </tr>\n",
       "    <tr>\n",
       "      <th>2</th>\n",
       "      <td>990.96301</td>\n",
       "      <td>584.96301</td>\n",
       "      <td>838.96301</td>\n",
       "      <td>870.96301</td>\n",
       "      <td>478.96301</td>\n",
       "      <td>856.96301</td>\n",
       "      <td>546.96301</td>\n",
       "      <td>690.96301</td>\n",
       "      <td>720.96301</td>\n",
       "      <td>939.96301</td>\n",
       "      <td>...</td>\n",
       "      <td>516.96301</td>\n",
       "      <td>775.96301</td>\n",
       "      <td>530.96301</td>\n",
       "      <td>885.96301</td>\n",
       "      <td>751.96301</td>\n",
       "      <td>937.96301</td>\n",
       "      <td>713.96301</td>\n",
       "      <td>1001.96301</td>\n",
       "      <td>577.96301</td>\n",
       "      <td>674.96301</td>\n",
       "    </tr>\n",
       "  </tbody>\n",
       "</table>\n",
       "<p>3 rows × 1678 columns</p>\n",
       "</div>"
      ],
      "text/plain": [
       "        0          1          2          3          4          5     \\\n",
       "0  977.00000  594.00000  839.00000  840.00000  499.00000  854.00000   \n",
       "1  993.00000  587.00000  841.00000  873.00000  481.00000  859.00000   \n",
       "2  990.96301  584.96301  838.96301  870.96301  478.96301  856.96301   \n",
       "\n",
       "        6          7          8          9     ...       1668       1669  \\\n",
       "0  541.00000  680.00000  724.00000  950.00000  ...  519.00000  779.00000   \n",
       "1  549.00000  693.00000  723.00000  942.00000  ...  519.00000  778.00000   \n",
       "2  546.96301  690.96301  720.96301  939.96301  ...  516.96301  775.96301   \n",
       "\n",
       "        1670       1671       1672       1673       1674        1675  \\\n",
       "0  519.00000  879.00000  738.00000  929.00000  718.00000   989.00000   \n",
       "1  533.00000  888.00000  754.00000  940.00000  716.00000  1004.00000   \n",
       "2  530.96301  885.96301  751.96301  937.96301  713.96301  1001.96301   \n",
       "\n",
       "        1676       1677  \n",
       "0  579.00000  674.00000  \n",
       "1  580.00000  677.00000  \n",
       "2  577.96301  674.96301  \n",
       "\n",
       "[3 rows x 1678 columns]"
      ]
     },
     "execution_count": 162,
     "metadata": {},
     "output_type": "execute_result"
    }
   ],
   "source": [
    "final_counts = pd.DataFrame(data=[precise_minority_count[minority_majority_area],\n",
    "                                  dp_minority_count[minority_majority_area],\n",
    "                                  nn_minority_count[minority_majority_area]])\n",
    "final_counts.head()"
   ]
  },
  {
   "cell_type": "code",
   "execution_count": 153,
   "metadata": {},
   "outputs": [
    {
     "name": "stdout",
     "output_type": "stream",
     "text": [
      "              0 count_type\n",
      "0  1.275989e+06    precise\n",
      "1  1.275763e+06         dp\n",
      "2  1.272345e+06    non-neg\n"
     ]
    }
   ],
   "source": [
    "output = pd.DataFrame(np.sum(test, axis = 1))\n",
    "output['count_type'] = ['precise','dp','non-neg']\n",
    "print(a)"
   ]
  },
  {
   "cell_type": "code",
   "execution_count": 164,
   "metadata": {},
   "outputs": [
    {
     "name": "stdout",
     "output_type": "stream",
     "text": [
      "12345\n",
      "     0             12345\n",
      "0  precise  1.275989e+06\n",
      "1       dp  1.275763e+06\n",
      "2  non-neg  1.272345e+06\n"
     ]
    }
   ],
   "source": [
    "print(seed)\n",
    "test = pd.DataFrame(['precise','dp','non-neg'])\n",
    "test[seed] = pd.DataFrame(np.sum(final_counts, axis = 1))\n",
    "print(test)"
   ]
  },
  {
   "cell_type": "code",
   "execution_count": 166,
   "metadata": {},
   "outputs": [
    {
     "name": "stdout",
     "output_type": "stream",
     "text": [
      "0\n",
      "2\n",
      "4\n",
      "6\n",
      "8\n"
     ]
    }
   ],
   "source": []
  },
  {
   "cell_type": "code",
   "execution_count": 140,
   "metadata": {},
   "outputs": [],
   "source": [
    "output.to_csv(\"/share/scratch/users/beatrixh/seed_{}_minority_{}_nk_{}.csv\".format(seed,\n",
    "                                                                               overall_minority_share,\n",
    "                                                                               n_k),\n",
    "             index=False)"
   ]
  },
  {
   "cell_type": "code",
   "execution_count": 134,
   "metadata": {},
   "outputs": [],
   "source": [
    "# 2% under-count, (1.75% at 2% minority) and I expect that gets worse as the counts get smaller"
   ]
  },
  {
   "cell_type": "code",
   "execution_count": 86,
   "metadata": {},
   "outputs": [],
   "source": [
    "# 1% undercount at 5% minority"
   ]
  },
  {
   "cell_type": "code",
   "execution_count": 87,
   "metadata": {},
   "outputs": [],
   "source": [
    "# 2.79% undercount at .5% minority "
   ]
  },
  {
   "cell_type": "code",
   "execution_count": 88,
   "metadata": {},
   "outputs": [],
   "source": [
    "# 5% undercount at .05% minority"
   ]
  },
  {
   "cell_type": "code",
   "execution_count": null,
   "metadata": {},
   "outputs": [],
   "source": [
    "# .29% undercount at 20% minority"
   ]
  }
 ],
 "metadata": {
  "kernelspec": {
   "display_name": "Python 3",
   "language": "python",
   "name": "python3"
  },
  "language_info": {
   "codemirror_mode": {
    "name": "ipython",
    "version": 3
   },
   "file_extension": ".py",
   "mimetype": "text/x-python",
   "name": "python",
   "nbconvert_exporter": "python",
   "pygments_lexer": "ipython3",
   "version": "3.6.10"
  }
 },
 "nbformat": 4,
 "nbformat_minor": 2
}
