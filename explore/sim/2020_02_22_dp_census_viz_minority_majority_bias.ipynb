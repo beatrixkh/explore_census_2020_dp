{
 "cells": [
  {
   "cell_type": "code",
   "execution_count": 1,
   "metadata": {},
   "outputs": [],
   "source": [
    "import numpy as np, pandas as pd\n",
    "import sys, os\n",
    "import time, datetime\n",
    "import random\n",
    "import matplotlib.pyplot as plt\n",
    "import pyomo.environ\n",
    "from pyomo.core import *\n",
    "from pyomo.opt import SolverFactory"
   ]
  },
  {
   "cell_type": "markdown",
   "metadata": {},
   "source": [
    "# Checkout results of minority majority bias sim"
   ]
  },
  {
   "cell_type": "code",
   "execution_count": 2,
   "metadata": {},
   "outputs": [],
   "source": [
    "def GDPC(eps, exact_counts):\n",
    "        \"\"\" Geometric DP Counts\n",
    "        Parameters\n",
    "        ----------\n",
    "        eps : float-able\n",
    "        exact_counts : pd.Series\n",
    "        \n",
    "        Results\n",
    "        -------\n",
    "        returns dp_counts, a pd.Series with index matching exact_counts\"\"\"\n",
    "        \n",
    "        z = float(eps)\n",
    "\n",
    "        all_errors = (np.random.geometric(z, size=len(exact_counts))\n",
    "                        - np.random.geometric(z, size=len(exact_counts)))\n",
    "        dp_counts = exact_counts + all_errors\n",
    "        return dp_counts\n"
   ]
  },
  {
   "cell_type": "code",
   "execution_count": 3,
   "metadata": {},
   "outputs": [],
   "source": [
    "def nonnegative_optimize(imprecise_counts, control_total):\n",
    "    \"\"\"optimize the imprecise counts so that they sum to\n",
    "    the control total and are non-negative\n",
    "    \n",
    "    Parameters\n",
    "    ----------\n",
    "    imprecise_counts : list-like of floats\n",
    "    control_total : float\n",
    "    \n",
    "    Results\n",
    "    -------\n",
    "    returns optimized_counts, which are close to imprecise counts,\n",
    "    but not negative, and match control total in aggregate\n",
    "    \"\"\"\n",
    "    imprecise_counts = list(imprecise_counts)\n",
    "    \n",
    "    model = ConcreteModel()\n",
    "    model.I = range(len(imprecise_counts))\n",
    "    model.x = Var(model.I, within=NonNegativeReals)\n",
    "    model.objective = Objective(\n",
    "        expr=sum((model.x[i] - imprecise_counts[i])**2 for i in model.I))\n",
    "    model.constraint = Constraint(\n",
    "        expr=summation(model.x) == control_total)\n",
    "    \n",
    "    solver = SolverFactory('ipopt')\n",
    "    results = solver.solve(model, options={'acceptable_tol':1e-4}, tee=False)\n",
    "    optimized_counts = [value(model.x[i]) for i in model.I]\n",
    "        \n",
    "    return np.array(optimized_counts)"
   ]
  },
  {
   "cell_type": "code",
   "execution_count": 25,
   "metadata": {},
   "outputs": [],
   "source": [
    "def main(optimizer, a, b, pct_minority, segregation_factor, K, N, epsilon, seed):\n",
    "    \"\"\" run full algorithm to add geometric noise then optimize to remove negatives\n",
    "    over a population with minority and majority subpopulations\n",
    "    for which the minority pop is in the majority in some \"counties\"\n",
    "    \n",
    "    Parameters\n",
    "    ----------\n",
    "    a,b = parameters of beta distribution for # individulas per county\n",
    "    seg_factor = degree of segretation, county level\n",
    "    pct_minority = pct of population in the minority\n",
    "    K = total population size\n",
    "    epsilon = parameter for amount of privacy in overall counts\n",
    "    \n",
    "    Output\n",
    "    ------\n",
    "    array with:\n",
    "    which areas were originally minority majority, minority minority\n",
    "    precise minority counts, precise majority counts\n",
    "    dp minority counts, dp majority counts\n",
    "    nn minority counts, nn majority counts\n",
    "    \"\"\"\n",
    "    np.random.seed(seed)\n",
    "    n_k = np.random.beta(a, b, K) # number of individuals in area k\n",
    "    n_k *= N/sum(n_k)\n",
    "    total_pop = sum(n_k)\n",
    "\n",
    "    minority_share = np.random.beta(pct_minority/segregation_factor,\n",
    "                                    (1-pct_minority)/segregation_factor, size=K)\n",
    "    minmaj_area = minority_share >= 0.5\n",
    "    minmin_area = minority_share < 0.5\n",
    "    # simulate race-/location-stratified counts\n",
    "    precise_minority_count = np.random.binomial(n_k.astype(int), minority_share)\n",
    "    precise_majority_count = n_k - precise_minority_count\n",
    "\n",
    "    # add Geometric noise, to make counts differentially private\n",
    "    dp_minority_count = GDPC(epsilon, precise_minority_count)\n",
    "    dp_majority_count = GDPC(epsilon, precise_majority_count)\n",
    "\n",
    "    # optimize to find counts that are \"close\" to the dp counts,\n",
    "    # are non-negative, and have race-stratified sums that match the precise\n",
    "    # total sum for both minority and majority groups\n",
    "\n",
    "    nn_minority_count = optimizer(dp_minority_count, precise_minority_count.sum())\n",
    "    nn_majority_count = optimizer(dp_majority_count, precise_majority_count.sum())\n",
    "\n",
    "    return[minmaj_area,minmin_area,\n",
    "           precise_minority_count,precise_majority_count,\n",
    "           dp_minority_count,dp_majority_count,\n",
    "           nn_minority_count,nn_majority_count]"
   ]
  },
  {
   "cell_type": "code",
   "execution_count": 5,
   "metadata": {},
   "outputs": [],
   "source": [
    "def see_minmaj_distr(main_obj, version, use_log = False):\n",
    "    \"\"\" Plot minority counts\n",
    "    \n",
    "    Parameters\n",
    "    ----------\n",
    "    output array of \"main\"\n",
    "    whether to use precise, dp, or nn counts\n",
    "    whether to plot y axis on a log scale\n",
    "    \n",
    "    Output\n",
    "    ------\n",
    "    histogram of selected counts\n",
    "    with total minority counts\n",
    "    overlaid with the distribution of minority counts in previously minority majority areas\n",
    "    \"\"\"\n",
    "    minmaj_area,minmin_area = main_obj[0], main_obj[1]\n",
    "    if version==\"precise\":\n",
    "        x1, x2 = 2,3\n",
    "    elif version==\"dp\":\n",
    "        x1, x2 = 4,5\n",
    "    elif version==\"nn\":\n",
    "        x1, x2 = 6,7\n",
    "    else:\n",
    "        raise Exception(\"oops; version must be in ['precise','dp','nn']\")\n",
    "    minority_count,majority_count = main_obj[x1], main_obj[x2]\n",
    "    plt.hist(minority_count, bins=100)\n",
    "    plt.hist(minority_count[minmaj_area], bins = 100, log = use_log)\n",
    "    title = version + \" minority count distribution; minority majority count redistribution\"\n",
    "    if use_log:\n",
    "        title = \"log scale: \" + title\n",
    "    plt.title(title)\n",
    "    plt.show()\n",
    "    plt.close()"
   ]
  },
  {
   "cell_type": "code",
   "execution_count": 6,
   "metadata": {},
   "outputs": [],
   "source": [
    "def summaries(main_obj):\n",
    "    \"\"\"     \n",
    "    Parameters\n",
    "    ----------\n",
    "    output array of \"main\"\n",
    "    \n",
    "    Output\n",
    "    ------\n",
    "    Table with summaries of total counts for\n",
    "    {precise, dp, nn} x {minority majority areas, min min areas}\n",
    "    \"\"\"\n",
    "    #grab outputs\n",
    "    minmaj_area,minmin_area = main_obj[0], main_obj[1]\n",
    "    precise_minority_count,precise_majority_count = main_obj[2], main_obj[3]\n",
    "    dp_minority_count,dp_majority_count = main_obj[4], main_obj[5]\n",
    "    nn_minority_count,nn_majority_count = main_obj[6], main_obj[7]\n",
    "    \n",
    "    # get stats\n",
    "    minmaj_count, minmin_count = minmaj_area.sum(), minmin_area.sum()\n",
    "    \n",
    "    precise_total_minmaj, precise_mean_minmaj = precise_minority_count[minmaj_area].sum(), precise_minority_count[minmaj_area].sum()/minmaj_count\n",
    "    dp_total_minmaj, dp_mean_minmaj = dp_minority_count[minmaj_area].sum(), dp_minority_count[minmaj_area].sum()/minmaj_count\n",
    "    nn_total_minmaj, nn_mean_minmaj = nn_minority_count[minmaj_area].sum(), nn_minority_count[minmaj_area].sum()/minmaj_count\n",
    "    minmaj_change = 1-(nn_total_minmaj/dp_total_minmaj)\n",
    "    \n",
    "    precise_total_minmin, precise_mean_minmin = precise_minority_count[minmin_area].sum(), precise_minority_count[minmin_area].sum()/minmin_count\n",
    "    dp_total_minmin, dp_mean_minmin = dp_minority_count[minmin_area].sum(), dp_minority_count[minmin_area].sum()/minmin_count\n",
    "    nn_total_minmin, nn_mean_minmin = nn_minority_count[minmin_area].sum(), nn_minority_count[minmin_area].sum()/minmin_count\n",
    "    minmin_change = 1-(nn_total_minmin/dp_total_minmin)\n",
    "    \n",
    "    #compile table\n",
    "    summary = pd.DataFrame(columns=['precise','dp ','non-neg','pct change'],\n",
    "                           index=[\"minority majority totals\",\"minority minority totals\"],\n",
    "                           data = [[precise_total_minmaj,dp_total_minmaj,nn_total_minmaj,minmaj_change],\n",
    "                     [precise_total_minmin,dp_total_minmin,nn_total_minmin,minmin_change]])\n",
    "    return summary.T"
   ]
  },
  {
   "cell_type": "code",
   "execution_count": null,
   "metadata": {},
   "outputs": [],
   "source": []
  },
  {
   "cell_type": "code",
   "execution_count": 15,
   "metadata": {},
   "outputs": [],
   "source": [
    "pop_3e3 = main(nonnegative_optimize, a=.02, b=10, pct_minority=.05, segregation_factor=1, K=10_000, N=3e3, epsilon=0.1, seed=1)\n",
    "pop_3e5 = main(nonnegative_optimize, a=.02, b=10, pct_minority=.05, segregation_factor=1, K=10_000, N=3e5, epsilon=0.1, seed=1)\n",
    "pop_3e7 = main(nonnegative_optimize, a=.02, b=10, pct_minority=.05, segregation_factor=1, K=10_000, N=3e7, epsilon=0.1, seed=1)"
   ]
  },
  {
   "cell_type": "code",
   "execution_count": 16,
   "metadata": {},
   "outputs": [
    {
     "data": {
      "text/html": [
       "<div>\n",
       "<style scoped>\n",
       "    .dataframe tbody tr th:only-of-type {\n",
       "        vertical-align: middle;\n",
       "    }\n",
       "\n",
       "    .dataframe tbody tr th {\n",
       "        vertical-align: top;\n",
       "    }\n",
       "\n",
       "    .dataframe thead th {\n",
       "        text-align: right;\n",
       "    }\n",
       "</style>\n",
       "<table border=\"1\" class=\"dataframe\">\n",
       "  <thead>\n",
       "    <tr style=\"text-align: right;\">\n",
       "      <th></th>\n",
       "      <th>minority majority totals</th>\n",
       "      <th>minority minority totals</th>\n",
       "    </tr>\n",
       "  </thead>\n",
       "  <tbody>\n",
       "    <tr>\n",
       "      <th>precise</th>\n",
       "      <td>83.000000</td>\n",
       "      <td>58.000000</td>\n",
       "    </tr>\n",
       "    <tr>\n",
       "      <th>dp</th>\n",
       "      <td>467.000000</td>\n",
       "      <td>-1028.000000</td>\n",
       "    </tr>\n",
       "    <tr>\n",
       "      <th>non-neg</th>\n",
       "      <td>5.684216</td>\n",
       "      <td>135.315884</td>\n",
       "    </tr>\n",
       "    <tr>\n",
       "      <th>pct change</th>\n",
       "      <td>0.987828</td>\n",
       "      <td>1.131630</td>\n",
       "    </tr>\n",
       "  </tbody>\n",
       "</table>\n",
       "</div>"
      ],
      "text/plain": [
       "            minority majority totals  minority minority totals\n",
       "precise                    83.000000                 58.000000\n",
       "dp                        467.000000              -1028.000000\n",
       "non-neg                     5.684216                135.315884\n",
       "pct change                  0.987828                  1.131630"
      ]
     },
     "execution_count": 16,
     "metadata": {},
     "output_type": "execute_result"
    }
   ],
   "source": [
    "summaries(pop_3e3)"
   ]
  },
  {
   "cell_type": "code",
   "execution_count": 9,
   "metadata": {},
   "outputs": [
    {
     "data": {
      "text/html": [
       "<div>\n",
       "<style scoped>\n",
       "    .dataframe tbody tr th:only-of-type {\n",
       "        vertical-align: middle;\n",
       "    }\n",
       "\n",
       "    .dataframe tbody tr th {\n",
       "        vertical-align: top;\n",
       "    }\n",
       "\n",
       "    .dataframe thead th {\n",
       "        text-align: right;\n",
       "    }\n",
       "</style>\n",
       "<table border=\"1\" class=\"dataframe\">\n",
       "  <thead>\n",
       "    <tr style=\"text-align: right;\">\n",
       "      <th></th>\n",
       "      <th>minority majority totals</th>\n",
       "      <th>minority minority totals</th>\n",
       "    </tr>\n",
       "  </thead>\n",
       "  <tbody>\n",
       "    <tr>\n",
       "      <th>precise</th>\n",
       "      <td>8600.000000</td>\n",
       "      <td>6720.000000</td>\n",
       "    </tr>\n",
       "    <tr>\n",
       "      <th>dp</th>\n",
       "      <td>8595.000000</td>\n",
       "      <td>4791.000000</td>\n",
       "    </tr>\n",
       "    <tr>\n",
       "      <th>non-neg</th>\n",
       "      <td>7995.706490</td>\n",
       "      <td>7324.293588</td>\n",
       "    </tr>\n",
       "    <tr>\n",
       "      <th>pct change</th>\n",
       "      <td>0.069726</td>\n",
       "      <td>-0.528761</td>\n",
       "    </tr>\n",
       "  </tbody>\n",
       "</table>\n",
       "</div>"
      ],
      "text/plain": [
       "            minority majority totals  minority minority totals\n",
       "precise                  8600.000000               6720.000000\n",
       "dp                       8595.000000               4791.000000\n",
       "non-neg                  7995.706490               7324.293588\n",
       "pct change                  0.069726                 -0.528761"
      ]
     },
     "execution_count": 9,
     "metadata": {},
     "output_type": "execute_result"
    }
   ],
   "source": [
    "summaries(pop_3e5)"
   ]
  },
  {
   "cell_type": "code",
   "execution_count": 10,
   "metadata": {},
   "outputs": [
    {
     "data": {
      "text/html": [
       "<div>\n",
       "<style scoped>\n",
       "    .dataframe tbody tr th:only-of-type {\n",
       "        vertical-align: middle;\n",
       "    }\n",
       "\n",
       "    .dataframe tbody tr th {\n",
       "        vertical-align: top;\n",
       "    }\n",
       "\n",
       "    .dataframe thead th {\n",
       "        text-align: right;\n",
       "    }\n",
       "</style>\n",
       "<table border=\"1\" class=\"dataframe\">\n",
       "  <thead>\n",
       "    <tr style=\"text-align: right;\">\n",
       "      <th></th>\n",
       "      <th>minority majority totals</th>\n",
       "      <th>minority minority totals</th>\n",
       "    </tr>\n",
       "  </thead>\n",
       "  <tbody>\n",
       "    <tr>\n",
       "      <th>precise</th>\n",
       "      <td>745555.000000</td>\n",
       "      <td>629062.000000</td>\n",
       "    </tr>\n",
       "    <tr>\n",
       "      <th>dp</th>\n",
       "      <td>746119.000000</td>\n",
       "      <td>629519.000000</td>\n",
       "    </tr>\n",
       "    <tr>\n",
       "      <th>non-neg</th>\n",
       "      <td>744862.487047</td>\n",
       "      <td>629754.512953</td>\n",
       "    </tr>\n",
       "    <tr>\n",
       "      <th>pct change</th>\n",
       "      <td>0.001684</td>\n",
       "      <td>-0.000374</td>\n",
       "    </tr>\n",
       "  </tbody>\n",
       "</table>\n",
       "</div>"
      ],
      "text/plain": [
       "            minority majority totals  minority minority totals\n",
       "precise                745555.000000             629062.000000\n",
       "dp                     746119.000000             629519.000000\n",
       "non-neg                744862.487047             629754.512953\n",
       "pct change                  0.001684                 -0.000374"
      ]
     },
     "execution_count": 10,
     "metadata": {},
     "output_type": "execute_result"
    }
   ],
   "source": [
    "summaries(pop_3e7)"
   ]
  },
  {
   "cell_type": "code",
   "execution_count": 11,
   "metadata": {},
   "outputs": [
    {
     "data": {
      "image/png": "[encoded data removed]",
      "text/plain": [
       "<Figure size 432x288 with 1 Axes>"
      ]
     },
     "metadata": {
      "needs_background": "light"
     },
     "output_type": "display_data"
    },
    {
     "data": {
      "image/png": "[encoded data removed]",
      "text/plain": [
       "<Figure size 432x288 with 1 Axes>"
      ]
     },
     "metadata": {
      "needs_background": "light"
     },
     "output_type": "display_data"
    },
    {
     "data": {
      "image/png": "[encoded data removed]",
      "text/plain": [
       "<Figure size 432x288 with 1 Axes>"
      ]
     },
     "metadata": {
      "needs_background": "light"
     },
     "output_type": "display_data"
    }
   ],
   "source": [
    "see_minmaj_distr(pop_3e3, version = \"precise\", use_log = True)\n",
    "see_minmaj_distr(pop_3e3, version = \"dp\", use_log = True)\n",
    "see_minmaj_distr(pop_3e3, version = \"nn\", use_log = True)"
   ]
  },
  {
   "cell_type": "code",
   "execution_count": 12,
   "metadata": {},
   "outputs": [
    {
     "data": {
      "image/png": "[encoded data removed]",
      "text/plain": [
       "<Figure size 432x288 with 1 Axes>"
      ]
     },
     "metadata": {
      "needs_background": "light"
     },
     "output_type": "display_data"
    },
    {
     "data": {
      "image/png": "[encoded data removed]",
      "text/plain": [
       "<Figure size 432x288 with 1 Axes>"
      ]
     },
     "metadata": {
      "needs_background": "light"
     },
     "output_type": "display_data"
    },
    {
     "data": {
      "image/png": "[encoded data removed]",
      "text/plain": [
       "<Figure size 432x288 with 1 Axes>"
      ]
     },
     "metadata": {
      "needs_background": "light"
     },
     "output_type": "display_data"
    }
   ],
   "source": [
    "see_minmaj_distr(pop_3e5, version = \"precise\", use_log = True)\n",
    "see_minmaj_distr(pop_3e5, version = \"dp\", use_log = True)\n",
    "see_minmaj_distr(pop_3e5, version = \"nn\", use_log = True)"
   ]
  },
  {
   "cell_type": "code",
   "execution_count": 13,
   "metadata": {},
   "outputs": [
    {
     "data": {
      "image/png": "[encoded data removed]",
      "text/plain": [
       "<Figure size 432x288 with 1 Axes>"
      ]
     },
     "metadata": {
      "needs_background": "light"
     },
     "output_type": "display_data"
    },
    {
     "data": {
      "image/png": "[encoded data removed]",
      "text/plain": [
       "<Figure size 432x288 with 1 Axes>"
      ]
     },
     "metadata": {
      "needs_background": "light"
     },
     "output_type": "display_data"
    },
    {
     "data": {
      "image/png": "[encoded data removed]",
      "text/plain": [
       "<Figure size 432x288 with 1 Axes>"
      ]
     },
     "metadata": {
      "needs_background": "light"
     },
     "output_type": "display_data"
    }
   ],
   "source": [
    "see_minmaj_distr(pop_3e7, version = \"precise\", use_log = True)\n",
    "see_minmaj_distr(pop_3e7, version = \"dp\", use_log = True)\n",
    "see_minmaj_distr(pop_3e7, version = \"nn\", use_log = True)"
   ]
  },
  {
   "cell_type": "code",
   "execution_count": 18,
   "metadata": {},
   "outputs": [],
   "source": [
    "def nonnegative_optimize_mad(imprecise_counts, control_total):\n",
    "    \"\"\"optimize the imprecise counts so that they sum to\n",
    "    the control total and are non-negative\n",
    "    \n",
    "    Parameters\n",
    "    ----------\n",
    "    imprecise_counts : list-like of floats\n",
    "    control_total : float\n",
    "    \n",
    "    Results\n",
    "    -------\n",
    "    returns optimized_counts, which are close to imprecise counts,\n",
    "    but not negative, and match control total in aggregate\n",
    "    \"\"\"\n",
    "    imprecise_counts = list(imprecise_counts)\n",
    "    \n",
    "    model = ConcreteModel()\n",
    "    model.I = range(len(imprecise_counts))\n",
    "    model.x = Var(model.I, within=NonNegativeReals)\n",
    "    model.objective = Objective(\n",
    "        expr=sum(abs(model.x[i] - imprecise_counts[i]) for i in model.I))\n",
    "    model.constraint = Constraint(\n",
    "        expr=summation(model.x) == control_total)\n",
    "    \n",
    "    solver = SolverFactory('ipopt')\n",
    "    results = solver.solve(model, options={'acceptable_tol':1e-4}, tee=False)\n",
    "    optimized_counts = [value(model.x[i]) for i in model.I]\n",
    "        \n",
    "    return np.array(optimized_counts)"
   ]
  },
  {
   "cell_type": "code",
   "execution_count": 20,
   "metadata": {},
   "outputs": [
    {
     "name": "stdout",
     "output_type": "stream",
     "text": [
      "WARNING: Loading a SolverResults object with a warning status into\n",
      "    model=unknown;\n",
      "        message from solver=Ipopt 3.12.13\\x3a Maximum Number of Iterations\n",
      "        Exceeded.\n"
     ]
    }
   ],
   "source": [
    "pop_3e3_mad = main(nonnegative_optimize_mad, a=.02, b=10, pct_minority=.05, segregation_factor=1, K=10_000, N=3e3, epsilon=0.1, seed=1)"
   ]
  },
  {
   "cell_type": "code",
   "execution_count": null,
   "metadata": {},
   "outputs": [],
   "source": [
    "summaries(pop_3e3_mad)"
   ]
  },
  {
   "cell_type": "code",
   "execution_count": null,
   "metadata": {},
   "outputs": [],
   "source": [
    "summaries(pop_3e3)"
   ]
  },
  {
   "cell_type": "code",
   "execution_count": 23,
   "metadata": {},
   "outputs": [
    {
     "data": {
      "image/png": "[encoded data removed]",
      "text/plain": [
       "<Figure size 432x288 with 1 Axes>"
      ]
     },
     "metadata": {
      "needs_background": "light"
     },
     "output_type": "display_data"
    },
    {
     "data": {
      "image/png": "[encoded data removed]",
      "text/plain": [
       "<Figure size 432x288 with 1 Axes>"
      ]
     },
     "metadata": {
      "needs_background": "light"
     },
     "output_type": "display_data"
    },
    {
     "data": {
      "image/png": "[encoded data removed]",
      "text/plain": [
       "<Figure size 432x288 with 1 Axes>"
      ]
     },
     "metadata": {
      "needs_background": "light"
     },
     "output_type": "display_data"
    }
   ],
   "source": [
    "see_minmaj_distr(pop_3e3_mad, version = \"precise\", use_log = True)\n",
    "see_minmaj_distr(pop_3e3_mad, version = \"dp\", use_log = True)\n",
    "see_minmaj_distr(pop_3e3_mad, version = \"nn\", use_log = True)"
   ]
  },
  {
   "cell_type": "code",
   "execution_count": 26,
   "metadata": {},
   "outputs": [],
   "source": [
    "pop_3e5 = main(nonnegative_optimize, a=.02, b=10, pct_minority=.05, segregation_factor=1, K=10_000, N=3e5, epsilon=0.1, seed=1)"
   ]
  },
  {
   "cell_type": "code",
   "execution_count": 27,
   "metadata": {},
   "outputs": [
    {
     "data": {
      "text/html": [
       "<div>\n",
       "<style scoped>\n",
       "    .dataframe tbody tr th:only-of-type {\n",
       "        vertical-align: middle;\n",
       "    }\n",
       "\n",
       "    .dataframe tbody tr th {\n",
       "        vertical-align: top;\n",
       "    }\n",
       "\n",
       "    .dataframe thead th {\n",
       "        text-align: right;\n",
       "    }\n",
       "</style>\n",
       "<table border=\"1\" class=\"dataframe\">\n",
       "  <thead>\n",
       "    <tr style=\"text-align: right;\">\n",
       "      <th></th>\n",
       "      <th>minority majority totals</th>\n",
       "      <th>minority minority totals</th>\n",
       "    </tr>\n",
       "  </thead>\n",
       "  <tbody>\n",
       "    <tr>\n",
       "      <th>precise</th>\n",
       "      <td>5649.000000</td>\n",
       "      <td>4190.000000</td>\n",
       "    </tr>\n",
       "    <tr>\n",
       "      <th>dp</th>\n",
       "      <td>5604.000000</td>\n",
       "      <td>3111.000000</td>\n",
       "    </tr>\n",
       "    <tr>\n",
       "      <th>non-neg</th>\n",
       "      <td>4826.143845</td>\n",
       "      <td>5012.856245</td>\n",
       "    </tr>\n",
       "    <tr>\n",
       "      <th>pct change</th>\n",
       "      <td>0.138804</td>\n",
       "      <td>-0.611333</td>\n",
       "    </tr>\n",
       "  </tbody>\n",
       "</table>\n",
       "</div>"
      ],
      "text/plain": [
       "            minority majority totals  minority minority totals\n",
       "precise                  5649.000000               4190.000000\n",
       "dp                       5604.000000               3111.000000\n",
       "non-neg                  4826.143845               5012.856245\n",
       "pct change                  0.138804                 -0.611333"
      ]
     },
     "execution_count": 27,
     "metadata": {},
     "output_type": "execute_result"
    }
   ],
   "source": [
    "summaries(pop_3e5)"
   ]
  },
  {
   "cell_type": "code",
   "execution_count": 28,
   "metadata": {},
   "outputs": [
    {
     "data": {
      "image/png": "[encoded data removed]",
      "text/plain": [
       "<Figure size 432x288 with 1 Axes>"
      ]
     },
     "metadata": {
      "needs_background": "light"
     },
     "output_type": "display_data"
    },
    {
     "data": {
      "image/png": "[encoded data removed]",
      "text/plain": [
       "<Figure size 432x288 with 1 Axes>"
      ]
     },
     "metadata": {
      "needs_background": "light"
     },
     "output_type": "display_data"
    },
    {
     "data": {
      "image/png": "[encoded data removed]",
      "text/plain": [
       "<Figure size 432x288 with 1 Axes>"
      ]
     },
     "metadata": {
      "needs_background": "light"
     },
     "output_type": "display_data"
    }
   ],
   "source": [
    "see_minmaj_distr(pop_3e5, version = \"precise\", use_log = True)\n",
    "see_minmaj_distr(pop_3e5, version = \"dp\", use_log = True)\n",
    "see_minmaj_distr(pop_3e5, version = \"nn\", use_log = True)"
   ]
  },
  {
   "cell_type": "code",
   "execution_count": 50,
   "metadata": {},
   "outputs": [
    {
     "data": {
      "image/png": "[encoded data removed]",
      "text/plain": [
       "<Figure size 432x288 with 1 Axes>"
      ]
     },
     "metadata": {
      "needs_background": "light"
     },
     "output_type": "display_data"
    }
   ],
   "source": [
    "# mm, 0,1\n",
    "# precise, 2,3\n",
    "# dp, 4,5\n",
    "# nn 6,7\n",
    "\n",
    "plt.hist(pop_3e5[4][pop_3e5[0]], bins = 100, log = True)\n",
    "plt.show()"
   ]
  },
  {
   "cell_type": "code",
   "execution_count": 39,
   "metadata": {},
   "outputs": [
    {
     "data": {
      "text/plain": [
       "array([-49.0025, -43.    , -39.0075, -37.    , -37.    ])"
      ]
     },
     "execution_count": 39,
     "metadata": {},
     "output_type": "execute_result"
    }
   ],
   "source": [
    "np.percentile(pop_3e5[4], [.25,.5,.75,.98,.99999])"
   ]
  },
  {
   "cell_type": "code",
   "execution_count": 49,
   "metadata": {},
   "outputs": [
    {
     "data": {
      "text/plain": [
       "array([  -7.    ,    0.    ,    7.    ,   33.    ,   44.    ,  353.103 ,\n",
       "       1446.0329])"
      ]
     },
     "execution_count": 49,
     "metadata": {},
     "output_type": "execute_result"
    }
   ],
   "source": [
    "np.quantile(pop_3e5[4], [.25,.50,.75,.98,.99,.999,.9999])"
   ]
  },
  {
   "cell_type": "code",
   "execution_count": 58,
   "metadata": {},
   "outputs": [],
   "source": [
    "def nonnegative_optimize_inv_weighted(imprecise_counts, control_total):\n",
    "    \"\"\"optimize the imprecise counts so that they sum to\n",
    "    the control total and are non-negative\n",
    "    \n",
    "    Parameters\n",
    "    ----------\n",
    "    imprecise_counts : list-like of floats\n",
    "    control_total : float\n",
    "    \n",
    "    Results\n",
    "    -------\n",
    "    returns optimized_counts, which are close to imprecise counts,\n",
    "    but not negative, and match control total in aggregate\n",
    "    \"\"\"\n",
    "    def f(x):\n",
    "        k = np.quantile(imprecise_counts, .999)\n",
    "        if x < k:\n",
    "            return x**2\n",
    "        else:\n",
    "            return 2*(x**2)\n",
    "        \n",
    "    \n",
    "    imprecise_counts = list(imprecise_counts)\n",
    "    buffer = abs(min(imprecise_counts))+1\n",
    "    \n",
    "    model = ConcreteModel()\n",
    "    model.I = range(len(imprecise_counts))\n",
    "    model.x = Var(model.I, within=NonNegativeReals)\n",
    "    model.objective = Objective(\n",
    "        expr=sum(abs(1/(imprecise_counts[i]+buffer))*(model.x[i] - imprecise_counts[i])**2 for i in model.I))\n",
    "    model.constraint = Constraint(\n",
    "        expr=summation(model.x) == control_total)\n",
    "    \n",
    "    solver = SolverFactory('ipopt')\n",
    "    results = solver.solve(model, options={'acceptable_tol':1e-4}, tee=False)\n",
    "    optimized_counts = [value(model.x[i]) for i in model.I]\n",
    "        \n",
    "    return np.array(optimized_counts)"
   ]
  },
  {
   "cell_type": "code",
   "execution_count": 61,
   "metadata": {},
   "outputs": [
    {
     "data": {
      "text/html": [
       "<div>\n",
       "<style scoped>\n",
       "    .dataframe tbody tr th:only-of-type {\n",
       "        vertical-align: middle;\n",
       "    }\n",
       "\n",
       "    .dataframe tbody tr th {\n",
       "        vertical-align: top;\n",
       "    }\n",
       "\n",
       "    .dataframe thead th {\n",
       "        text-align: right;\n",
       "    }\n",
       "</style>\n",
       "<table border=\"1\" class=\"dataframe\">\n",
       "  <thead>\n",
       "    <tr style=\"text-align: right;\">\n",
       "      <th></th>\n",
       "      <th>minority majority totals</th>\n",
       "      <th>minority minority totals</th>\n",
       "    </tr>\n",
       "  </thead>\n",
       "  <tbody>\n",
       "    <tr>\n",
       "      <th>precise</th>\n",
       "      <td>5649.000000</td>\n",
       "      <td>4190.000000</td>\n",
       "    </tr>\n",
       "    <tr>\n",
       "      <th>dp</th>\n",
       "      <td>5604.000000</td>\n",
       "      <td>3111.000000</td>\n",
       "    </tr>\n",
       "    <tr>\n",
       "      <th>non-neg</th>\n",
       "      <td>3974.531465</td>\n",
       "      <td>5864.468591</td>\n",
       "    </tr>\n",
       "    <tr>\n",
       "      <th>pct change</th>\n",
       "      <td>0.290769</td>\n",
       "      <td>-0.885075</td>\n",
       "    </tr>\n",
       "  </tbody>\n",
       "</table>\n",
       "</div>"
      ],
      "text/plain": [
       "            minority majority totals  minority minority totals\n",
       "precise                  5649.000000               4190.000000\n",
       "dp                       5604.000000               3111.000000\n",
       "non-neg                  3974.531465               5864.468591\n",
       "pct change                  0.290769                 -0.885075"
      ]
     },
     "execution_count": 61,
     "metadata": {},
     "output_type": "execute_result"
    }
   ],
   "source": [
    "pop_3e5_inv_weight = main(nonnegative_optimize_inv_weighted, a=.02, b=10, pct_minority=.05, segregation_factor=1, K=10_000, N=3e5, epsilon=0.1, seed=1)\n",
    "summaries(pop_3e5_inv_weight)"
   ]
  },
  {
   "cell_type": "code",
   "execution_count": 62,
   "metadata": {},
   "outputs": [
    {
     "data": {
      "text/html": [
       "<div>\n",
       "<style scoped>\n",
       "    .dataframe tbody tr th:only-of-type {\n",
       "        vertical-align: middle;\n",
       "    }\n",
       "\n",
       "    .dataframe tbody tr th {\n",
       "        vertical-align: top;\n",
       "    }\n",
       "\n",
       "    .dataframe thead th {\n",
       "        text-align: right;\n",
       "    }\n",
       "</style>\n",
       "<table border=\"1\" class=\"dataframe\">\n",
       "  <thead>\n",
       "    <tr style=\"text-align: right;\">\n",
       "      <th></th>\n",
       "      <th>minority majority totals</th>\n",
       "      <th>minority minority totals</th>\n",
       "    </tr>\n",
       "  </thead>\n",
       "  <tbody>\n",
       "    <tr>\n",
       "      <th>precise</th>\n",
       "      <td>5649.000000</td>\n",
       "      <td>4190.000000</td>\n",
       "    </tr>\n",
       "    <tr>\n",
       "      <th>dp</th>\n",
       "      <td>5604.000000</td>\n",
       "      <td>3111.000000</td>\n",
       "    </tr>\n",
       "    <tr>\n",
       "      <th>non-neg</th>\n",
       "      <td>4826.143845</td>\n",
       "      <td>5012.856245</td>\n",
       "    </tr>\n",
       "    <tr>\n",
       "      <th>pct change</th>\n",
       "      <td>0.138804</td>\n",
       "      <td>-0.611333</td>\n",
       "    </tr>\n",
       "  </tbody>\n",
       "</table>\n",
       "</div>"
      ],
      "text/plain": [
       "            minority majority totals  minority minority totals\n",
       "precise                  5649.000000               4190.000000\n",
       "dp                       5604.000000               3111.000000\n",
       "non-neg                  4826.143845               5012.856245\n",
       "pct change                  0.138804                 -0.611333"
      ]
     },
     "execution_count": 62,
     "metadata": {},
     "output_type": "execute_result"
    }
   ],
   "source": [
    "pop_3e5 = main(nonnegative_optimize, a=.02, b=10, pct_minority=.05, segregation_factor=1, K=10_000, N=3e5, epsilon=0.1, seed=1)\n",
    "summaries(pop_3e5)"
   ]
  },
  {
   "cell_type": "code",
   "execution_count": null,
   "metadata": {},
   "outputs": [],
   "source": []
  }
 ],
 "metadata": {
  "kernelspec": {
   "display_name": "Python 3",
   "language": "python",
   "name": "python3"
  },
  "language_info": {
   "codemirror_mode": {
    "name": "ipython",
    "version": 3
   },
   "file_extension": ".py",
   "mimetype": "text/x-python",
   "name": "python",
   "nbconvert_exporter": "python",
   "pygments_lexer": "ipython3",
   "version": "3.6.10"
  }
 },
 "nbformat": 4,
 "nbformat_minor": 4
}
