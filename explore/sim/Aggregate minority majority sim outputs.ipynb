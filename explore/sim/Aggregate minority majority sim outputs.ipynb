{
 "cells": [
  {
   "cell_type": "code",
   "execution_count": 19,
   "metadata": {
    "scrolled": true
   },
   "outputs": [
    {
     "name": "stdout",
     "output_type": "stream",
     "text": [
      "Mon Feb 10 22:03:30 PST 2020\r\n"
     ]
    }
   ],
   "source": [
    "import os\n",
    "import numpy as np\n",
    "import pandas as pd\n",
    "import matplotlib.pyplot as plt\n",
    "import matplotlib.axes as axes\n",
    "import time, datetime\n",
    "pd.set_option('display.max_rows', 20)\n",
    "!date"
   ]
  },
  {
   "cell_type": "markdown",
   "metadata": {},
   "source": [
    "# Aggregate and plot outputs of Minimal minority-majority sim"
   ]
  },
  {
   "cell_type": "markdown",
   "metadata": {},
   "source": [
    "launch code at /ihme/code/beatrixh/microsim_2020/census_2020/launch_majority_minority_jobs.py \\\n",
    "sim code at /ihme/code/beatrixh/microsim_2020/census_2020/launch_majority_minority_jobs.py"
   ]
  },
  {
   "cell_type": "code",
   "execution_count": 250,
   "metadata": {},
   "outputs": [
    {
     "data": {
      "text/plain": [
       "['launch_majority_minority_jobs.py',\n",
       " '2020_01_23a_dp_majority_minority_bias_sim.py']"
      ]
     },
     "execution_count": 250,
     "metadata": {},
     "output_type": "execute_result"
    }
   ],
   "source": [
    "os.listdir('/ihme/code/beatrixh/microsim_2020/census_2020/')"
   ]
  },
  {
   "cell_type": "code",
   "execution_count": 249,
   "metadata": {},
   "outputs": [],
   "source": [
    "def summarize_dir(path):\n",
    "    \"\"\"\n",
    "    Parameter: input dir containing csvs\n",
    "    ---------\n",
    "    Output: 1-column df containing the row means of the concatenated csvs\n",
    "    \"\"\"\n",
    "    files = os.listdir(path)\n",
    "    output = pd.DataFrame(np.zeros([11,1]))\n",
    "    for file in files:\n",
    "        df = pd.read_csv(path + '/' + file, index_col=False)\n",
    "        df = df.iloc[:,1:]\n",
    "        output = pd.concat([output,df], axis=1, ignore_index=True)\n",
    "    return output.mean(axis=1)"
   ]
  },
  {
   "cell_type": "code",
   "execution_count": 277,
   "metadata": {},
   "outputs": [
    {
     "name": "stdout",
     "output_type": "stream",
     "text": [
      "          0          1             2         3       4       5     6   \\\n",
      "0  10408.890  10404.483   8856.299273  0.151086  9990.0  0.1998  9.99   \n",
      "1  13486.962  13499.715  11470.987679  0.150761  9990.0  0.1998  9.99   \n",
      "2  15536.378  15541.071  13165.457505  0.153846  9990.0  0.1998  9.99   \n",
      "3   1616.882   1618.263   1403.755178  0.141440  9990.0  0.1998  9.99   \n",
      "4   6479.257   6480.303   5547.067216  0.146417  9990.0  0.1998  9.99   \n",
      "5      0.000      0.000      0.000000  0.000000  9990.0  0.1998  9.99   \n",
      "\n",
      "              7        8        9      10  \n",
      "0  586732.575116  0.04995  0.59940  450.0  \n",
      "1  586732.575116  0.04995  0.79920  450.0  \n",
      "2  586732.575116  0.04995  0.99900  450.0  \n",
      "3  586732.575116  0.04995  0.19980  450.0  \n",
      "4  586732.575116  0.04995  0.39960  450.0  \n",
      "5  586732.575116  0.04995  0.00999  450.0  \n"
     ]
    }
   ],
   "source": [
    "# get dt with one col per sim setting\n",
    "dirs = os.listdir('/ihme/scratch/users/beatrixh/2020-02-10')\n",
    "dirs = ['/ihme/scratch/users/beatrixh/2020-02-10/' + i for i in dirs]\n",
    "\n",
    "dt = pd.DataFrame()\n",
    "for path in dirs:\n",
    "    new = summarize_dir(path)\n",
    "    dt = pd.concat([dt, new], axis = 1, ignore_index=True)\n",
    "print(dt.T)"
   ]
  },
  {
   "cell_type": "code",
   "execution_count": 311,
   "metadata": {},
   "outputs": [
    {
     "data": {
      "text/plain": [
       "0.1998"
      ]
     },
     "execution_count": 311,
     "metadata": {},
     "output_type": "execute_result"
    }
   ],
   "source": [
    "names = ['precise','dp','non-neg','pct_change',\n",
    "        'number of most detailed areas','alpha','beta','total pop count',\n",
    "        'prop minority','segregation factor','seed']\n",
    "names_dict = {i : names[i] for i in range(0,len(names))}\n",
    "data = dt.T.rename(columns=names_dict)\n",
    "data"
   ]
  },
  {
   "cell_type": "code",
   "execution_count": 333,
   "metadata": {},
   "outputs": [
    {
     "data": {
      "image/png": "[encoded data removed]",
      "text/plain": [
       "<Figure size 432x288 with 1 Axes>"
      ]
     },
     "metadata": {
      "needs_background": "light"
     },
     "output_type": "display_data"
    }
   ],
   "source": [
    "# plot as fn of segregation factor\n",
    "\n",
    "x = data[:5]['segregation factor']\n",
    "y = data[:5]['pct_change']\n",
    "params = ' \"county\" pop~Beta({},{}),\\n \\\n",
    "total pop={},\\n \\\n",
    "approx pct minority={},\\n \\\n",
    "number of \"counties\"={}'.format(data['alpha'][0],\n",
    "                                data['beta'][0],\n",
    "                                data['total pop count'][0],\n",
    "                                data['prop minority'][0],\n",
    "                                data['segregation factor'][0],\n",
    "                                data['number of most detailed areas'][0])\n",
    "\n",
    "fig = plt.figure() \n",
    "\n",
    "ax = fig.add_subplot(111)\n",
    "ax.scatter(x, y, facecolors='none', edgecolors = 'cornflowerblue')\n",
    "\n",
    "plt.xlabel('segregation factor')\n",
    "plt.ylabel('pct drop in minority population')\n",
    "# plt.title('Drop in Minority population as function of segregation factor')\n",
    "plt.title('Pct undercount in Minority population as function of segregation factor')\n",
    "plt.text(1.1,0.158,params)\n",
    "\n",
    "plt.show()"
   ]
  },
  {
   "cell_type": "code",
   "execution_count": 338,
   "metadata": {},
   "outputs": [],
   "source": [
    "# you're going to want to plot pct_change as a function of prop minority, seg factor, and (a,b). "
   ]
  },
  {
   "cell_type": "code",
   "execution_count": null,
   "metadata": {},
   "outputs": [],
   "source": []
  },
  {
   "cell_type": "code",
   "execution_count": 337,
   "metadata": {},
   "outputs": [
    {
     "data": {
      "image/png": "[encoded data removed]",
      "text/plain": [
       "<Figure size 432x288 with 1 Axes>"
      ]
     },
     "metadata": {
      "needs_background": "light"
     },
     "output_type": "display_data"
    },
    {
     "data": {
      "image/png": "[encoded data removed]",
      "text/plain": [
       "<Figure size 432x288 with 1 Axes>"
      ]
     },
     "metadata": {
      "needs_background": "light"
     },
     "output_type": "display_data"
    },
    {
     "data": {
      "image/png": "[encoded data removed]",
      "text/plain": [
       "<Figure size 432x288 with 1 Axes>"
      ]
     },
     "metadata": {
      "needs_background": "light"
     },
     "output_type": "display_data"
    }
   ],
   "source": [
    "for [a,b] in [[.02,10],[.2,10],[.5,10]]:\n",
    "    n_k = 3e3* np.random.beta(a, b, 10_000)\n",
    "    plt.hist(n_k, bins = 100)\n",
    "    plt.show()"
   ]
  },
  {
   "cell_type": "code",
   "execution_count": null,
   "metadata": {},
   "outputs": [],
   "source": []
  }
 ],
 "metadata": {
  "kernelspec": {
   "display_name": "Python 3",
   "language": "python",
   "name": "python3"
  },
  "language_info": {
   "codemirror_mode": {
    "name": "ipython",
    "version": 3
   },
   "file_extension": ".py",
   "mimetype": "text/x-python",
   "name": "python",
   "nbconvert_exporter": "python",
   "pygments_lexer": "ipython3",
   "version": "3.6.10"
  }
 },
 "nbformat": 4,
 "nbformat_minor": 2
}
