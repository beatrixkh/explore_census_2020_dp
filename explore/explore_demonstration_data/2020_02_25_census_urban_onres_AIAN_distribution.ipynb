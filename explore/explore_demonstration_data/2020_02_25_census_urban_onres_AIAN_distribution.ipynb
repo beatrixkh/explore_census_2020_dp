{
 "cells": [
  {
   "cell_type": "code",
   "execution_count": 1,
   "metadata": {},
   "outputs": [
    {
     "name": "stdout",
     "output_type": "stream",
     "text": [
      "Thu Feb 27 15:59:37 PST 2020\r\n"
     ]
    }
   ],
   "source": [
    "import json\n",
    "import numpy as np\n",
    "import matplotlib.pyplot as plt\n",
    "import matplotlib.axes as axes\n",
    "import pandas as pd\n",
    "pd.set_option('display.max_rows', 40)\n",
    "!date"
   ]
  },
  {
   "cell_type": "markdown",
   "metadata": {},
   "source": [
    "# 2010 census demo data. AIAN pop in urban vs rural areas: looking for the downward bias in DP counts ala Akee's findings"
   ]
  },
  {
   "cell_type": "markdown",
   "metadata": {},
   "source": [
    "Akee's talk here: https://vimeo.com/380264104"
   ]
  },
  {
   "cell_type": "code",
   "execution_count": 2,
   "metadata": {},
   "outputs": [],
   "source": [
    "##Encoding of the AIANHH var:\n",
    "#0001–4999 Federally recognized American Indian reservation and/or off-reservation trust land\n",
    "#5000–5499 Hawaiian home land 5500–5999 Oklahoma tribal statistical area\n",
    "#5500–5999 Oklahoma tribal statistical area\n",
    "#6000–7999 Alaska Native village statistical area\n",
    "#8000–8999 Tribal designated statistical area\n",
    "#9000–9499 State-recognized American Indian reservation\n",
    "#9500–9998 State designated tribal statistical area "
   ]
  },
  {
   "cell_type": "code",
   "execution_count": 3,
   "metadata": {},
   "outputs": [],
   "source": [
    "location_cols = ['STATE', 'COUNTY', 'TRACT', 'BLKGRP', 'BLOCK']\n",
    "\n",
    "race_cols = ['P0030005','P0060004','P0030003','P0030004'] # asian alone, aian mix, black alone, aian alone\n",
    "keep_cols = location_cols + race_cols\n",
    "\n",
    "def my_cols(x):\n",
    "    if x.startswith('P001'):\n",
    "        return True\n",
    "    elif x.startswith(('AIAN','AITS','TTRACT','TBLGRP','UA','UR')):\n",
    "        return True\n",
    "    else:\n",
    "        return (x in keep_cols)"
   ]
  },
  {
   "cell_type": "code",
   "execution_count": 4,
   "metadata": {},
   "outputs": [
    {
     "name": "stderr",
     "output_type": "stream",
     "text": [
      "<string>:2: DtypeWarning: Columns (28,32,33,47,49,50) have mixed types.Specify dtype option on import or set low_memory=False.\n"
     ]
    },
    {
     "name": "stdout",
     "output_type": "stream",
     "text": [
      "CPU times: user 8min 36s, sys: 27.2 s, total: 9min 3s\n",
      "Wall time: 9min 12s\n"
     ]
    },
    {
     "name": "stderr",
     "output_type": "stream",
     "text": [
      "/share/code/beatrixh/miniconda/envs/beatrix/lib/python3.6/site-packages/ipykernel_launcher.py:2: UserWarning: Pandas doesn't allow columns to be created via a new attribute name - see https://pandas.pydata.org/pandas-docs/stable/indexing.html#attribute-access\n",
      "  \n"
     ]
    }
   ],
   "source": [
    "%%time\n",
    "\n",
    "df_dp = pd.read_csv('/home/j/temp/abie/fiftystates2010dhc.csv', usecols=my_cols)\n",
    "df_dp.backup = df_dp.copy(deep=True)"
   ]
  },
  {
   "cell_type": "code",
   "execution_count": 5,
   "metadata": {},
   "outputs": [
    {
     "data": {
      "text/plain": [
       "['state',\n",
       " 'county',\n",
       " 'tract',\n",
       " 'blkgrp',\n",
       " 'block',\n",
       " 'aianhh',\n",
       " 'aianhhfp',\n",
       " 'aianhhcc',\n",
       " 'aitsce',\n",
       " 'aits',\n",
       " 'aitscc',\n",
       " 'ttract',\n",
       " 'ua',\n",
       " 'uasc',\n",
       " 'uatype',\n",
       " 'ur',\n",
       " 'aianhhns',\n",
       " 'aitsns',\n",
       " 'aianhhsc',\n",
       " 'P0010001',\n",
       " 'P0030003',\n",
       " 'P0030004',\n",
       " 'P0030005',\n",
       " 'P0060004']"
      ]
     },
     "execution_count": 5,
     "metadata": {},
     "output_type": "execute_result"
    }
   ],
   "source": [
    "dta_columns = [x.lower() for x in df_dp.columns] #grab col names as lowercase\n",
    "dta_columns[-5:] = df_dp.columns[-5:] #coded vars are capitalized\n",
    "dta_columns #check contents"
   ]
  },
  {
   "cell_type": "code",
   "execution_count": 6,
   "metadata": {},
   "outputs": [
    {
     "name": "stderr",
     "output_type": "stream",
     "text": [
      "<string>:2: DtypeWarning: Columns (7,10,11,12,13) have mixed types.Specify dtype option on import or set low_memory=False.\n"
     ]
    },
    {
     "name": "stdout",
     "output_type": "stream",
     "text": [
      "CPU times: user 18.9 s, sys: 5.77 s, total: 24.6 s\n",
      "Wall time: 24.8 s\n"
     ]
    },
    {
     "name": "stderr",
     "output_type": "stream",
     "text": [
      "/share/code/beatrixh/miniconda/envs/beatrix/lib/python3.6/site-packages/ipykernel_launcher.py:12: UserWarning: Pandas doesn't allow columns to be created via a new attribute name - see https://pandas.pydata.org/pandas-docs/stable/indexing.html#attribute-access\n",
      "  if sys.path[0] == '':\n"
     ]
    }
   ],
   "source": [
    "%%time\n",
    "\n",
    "# r = pd.read_stata('/home/j/temp/abie/all50states_2010ur1_all_vars.dta', columns=dta_columns,\n",
    "#                  chunksize=100_000, convert_missing=True, preserve_dtypes=False)\n",
    "\n",
    "# df_sf = pd.DataFrame()\n",
    "# for t in r:\n",
    "#     print('.', flush=True, end=' ')\n",
    "#     df_sf = df_sf.append(t)\n",
    "# df_sf.shape\n",
    "\n",
    "# #saved AIAN-relevant vars here; loads faster than the .dta\n",
    "df_sf = pd.read_csv('/home/j/temp/beatrixh/2020_census/all50states_asian_black_aian.csv')\n",
    "df_sf.backup = df_sf.copy(deep=True)"
   ]
  },
  {
   "cell_type": "code",
   "execution_count": 7,
   "metadata": {},
   "outputs": [],
   "source": [
    "# df_sf.to_csv(r'/home/j/temp/beatrixh/2020_census/all50states_asian_black_aian.csv', index = None, header=True)"
   ]
  },
  {
   "cell_type": "code",
   "execution_count": 9,
   "metadata": {},
   "outputs": [
    {
     "data": {
      "text/plain": [
       "Index(['STATE', 'COUNTY', 'TRACT', 'BLKGRP', 'BLOCK', 'AIANHH', 'AIANHHFP',\n",
       "       'AIANHHCC', 'AITSCE', 'AITS', 'AITSCC', 'TTRACT', 'UA', 'UASC',\n",
       "       'UATYPE', 'UR', 'AIANHHNS', 'AITSNS', 'AIANHHSC', 'P0010001',\n",
       "       'P0030003', 'P0030004', 'P0030005', 'P0060004'],\n",
       "      dtype='object')"
      ]
     },
     "execution_count": 9,
     "metadata": {},
     "output_type": "execute_result"
    }
   ],
   "source": [
    "df_sf.columns = [x.upper() for x in df_sf.columns]\n",
    "df_sf.columns"
   ]
  },
  {
   "cell_type": "code",
   "execution_count": 10,
   "metadata": {},
   "outputs": [
    {
     "data": {
      "text/plain": [
       "array([nan, '99', '16', '##', '19', '12', '17', '15', '13', '14', 99.0,\n",
       "       12.0, 13.0, 19.0, 16.0, 17.0, 15.0, 14.0, '20', '18', 18.0, 20.0,\n",
       "       21.0, '21', '22', '23', 23.0, 22.0], dtype=object)"
      ]
     },
     "execution_count": 10,
     "metadata": {},
     "output_type": "execute_result"
    }
   ],
   "source": [
    "df_sf.UASC.unique()"
   ]
  },
  {
   "cell_type": "code",
   "execution_count": 11,
   "metadata": {},
   "outputs": [],
   "source": [
    "df_sf = df_sf.drop('UASC', axis=1)\n",
    "df_dp = df_dp.drop('UASC', axis=1)"
   ]
  },
  {
   "cell_type": "code",
   "execution_count": 12,
   "metadata": {},
   "outputs": [],
   "source": [
    "location_cols = ['STATE', 'COUNTY', 'TRACT', 'BLKGRP', 'BLOCK', 'AIANHH', 'AITS']"
   ]
  },
  {
   "cell_type": "code",
   "execution_count": 13,
   "metadata": {},
   "outputs": [
    {
     "data": {
      "text/plain": [
       "Index(['STATE', 'COUNTY', 'TRACT', 'BLKGRP', 'BLOCK', 'AIANHH', 'AITS', 'UR',\n",
       "       'P0030005', 'P0010001'],\n",
       "      dtype='object')"
      ]
     },
     "execution_count": 13,
     "metadata": {},
     "output_type": "execute_result"
    }
   ],
   "source": [
    "df_sf[location_cols + ['UR','P0030005','P0010001']].columns"
   ]
  },
  {
   "cell_type": "code",
   "execution_count": null,
   "metadata": {},
   "outputs": [],
   "source": []
  },
  {
   "cell_type": "code",
   "execution_count": null,
   "metadata": {},
   "outputs": [],
   "source": [
    "df = pd.merge(df_sf[location_cols + ['UR','P0030005','P0010001']], df_dp[location_cols + ['UR','P0030005','P0010001']], left_on=location_cols, right_on=location_cols, suffixes=('_SF', '_DP'), how ='left')"
   ]
  },
  {
   "cell_type": "code",
   "execution_count": null,
   "metadata": {},
   "outputs": [],
   "source": [
    "df.head"
   ]
  },
  {
   "cell_type": "code",
   "execution_count": null,
   "metadata": {},
   "outputs": [],
   "source": []
  },
  {
   "cell_type": "code",
   "execution_count": null,
   "metadata": {},
   "outputs": [],
   "source": []
  },
  {
   "cell_type": "code",
   "execution_count": null,
   "metadata": {},
   "outputs": [],
   "source": []
  },
  {
   "cell_type": "code",
   "execution_count": null,
   "metadata": {},
   "outputs": [],
   "source": []
  },
  {
   "cell_type": "code",
   "execution_count": null,
   "metadata": {},
   "outputs": [],
   "source": []
  },
  {
   "cell_type": "code",
   "execution_count": null,
   "metadata": {},
   "outputs": [],
   "source": [
    "left = df_sf[location_cols + race_cols + ['P0010001']]\n",
    "df = pd.merge(left[(left.BLOCK != '')], df_dp.dropna(subset=['BLOCK']), left_on=location_cols, right_on=location_cols, suffixes=('_SF', '_DP'))\n",
    "df"
   ]
  },
  {
   "cell_type": "markdown",
   "metadata": {},
   "source": [
    "## want to check out two sets of quandrants:\n",
    "# {urban aian, rural aian} x {> 99 q, < 99q} & {on-res aian, off-res aian} x {> 99 q, < 99q}"
   ]
  },
  {
   "cell_type": "code",
   "execution_count": null,
   "metadata": {},
   "outputs": [],
   "source": [
    "# county level \n",
    "county_df = df.groupby(['STATE','COUNTY'])['P0030005_SF','P0030005_DP',\n",
    "                                           'P0060004_SF','P0060004_DP',\n",
    "                                           'P0010001_SF','P0010001_DP'].apply(lambda x : x.astype(int).sum())"
   ]
  },
  {
   "cell_type": "code",
   "execution_count": 13,
   "metadata": {},
   "outputs": [
    {
     "name": "stderr",
     "output_type": "stream",
     "text": [
      "/share/code/beatrixh/miniconda/envs/beatrix/lib/python3.6/site-packages/ipykernel_launcher.py:5: FutureWarning: Indexing with multiple keys (implicitly converted to a tuple of keys) will be deprecated, use a list instead.\n",
      "  \"\"\"\n"
     ]
    }
   ],
   "source": [
    "#subset to urban areas, grouped by county\n",
    "urban_county = df[df.UR== 'U'].copy(deep=True)\n",
    "urban_county = #subset to rural areas, grouped by county\n",
    "rural_county = df[df.UR== 'R'].copy(deep=True)\n",
    "rural_county = rural_county.groupby(['STATE','COUNTY'])['P0030005_SF','P0030005_DP',\n",
    "                                                        'P0060004_SF','P0060004_DP',\n",
    "                                                        'P0010001_SF','P0010001_DP'].apply(lambda x : x.astype(int).sum())"
   ]
  },
  {
   "cell_type": "code",
   "execution_count": 14,
   "metadata": {},
   "outputs": [
    {
     "name": "stderr",
     "output_type": "stream",
     "text": [
      "/share/code/beatrixh/miniconda/envs/beatrix/lib/python3.6/site-packages/ipykernel_launcher.py:5: FutureWarning: Indexing with multiple keys (implicitly converted to a tuple of keys) will be deprecated, use a list instead.\n",
      "  \"\"\"\n"
     ]
    }
   ],
   "source": [
    "#subset to rural areas, grouped by county\n",
    "rural_county = df[df.UR== 'R'].copy(deep=True)\n",
    "rural_county = rural_county.groupby(['STATE','COUNTY'])['P0030005_SF','P0030005_DP',\n",
    "                                                        'P0060004_SF','P0060004_DP',\n",
    "                                                        'P0010001_SF','P0010001_DP'].apply(lambda x : x.astype(int).sum())"
   ]
  },
  {
   "cell_type": "code",
   "execution_count": 17,
   "metadata": {},
   "outputs": [
    {
     "data": {
      "text/plain": [
       "88698.95000000023"
      ]
     },
     "execution_count": 17,
     "metadata": {},
     "output_type": "execute_result"
    }
   ],
   "source": [
    "#get 99th quantile\n",
    "q99 = np.quantile(county_df['P0030005_SF'],.99)\n",
    "q99"
   ]
  },
  {
   "cell_type": "code",
   "execution_count": 27,
   "metadata": {},
   "outputs": [
    {
     "data": {
      "text/plain": [
       "(3002,)"
      ]
     },
     "execution_count": 27,
     "metadata": {},
     "output_type": "execute_result"
    }
   ],
   "source": [
    "rural_above = rural_county[rural_county['P0030005_SF'] > 2]['P0030005_SF']\n",
    "rural_above.shape"
   ]
  },
  {
   "cell_type": "code",
   "execution_count": 26,
   "metadata": {},
   "outputs": [
    {
     "data": {
      "image/png": "[encoded data removed]",
      "text/plain": [
       "<Figure size 432x432 with 1 Axes>"
      ]
     },
     "metadata": {
      "needs_background": "light"
     },
     "output_type": "display_data"
    }
   ],
   "source": [
    "x = urban_county[[\"P0030005_SF\"]]\n",
    "y = urban_county[[\"P0030005_DP\"]]\n",
    "\n",
    "fig = plt.figure() \n",
    "fig.set_size_inches(6,6)\n",
    "\n",
    "ax = fig.add_subplot(111)\n",
    "ax.scatter(x, y, facecolors='none', edgecolors = 'cornflowerblue')\n",
    "ax.set_aspect('equal', adjustable='box')\n",
    "\n",
    "plt.xticks(np.arange(0, 1.4e6, step = 4e5))\n",
    "plt.yticks(np.arange(0, 1.4e6, step = 4e5))\n",
    "\n",
    "xleft, xright = ax.get_xlim()\n",
    "ybottom, ytop = ax.get_ylim()\n",
    "ax.plot([-1,xright],[-1,ytop], 'red', linewidth=1)\n",
    "\n",
    "plt.xlabel('SF urban AIAN alone, counts')\n",
    "plt.ylabel('DP urban AIAN alone, counts')\n",
    "plt.title('county level: urban AIAN alone count change')\n",
    "\n",
    "plt.show()"
   ]
  },
  {
   "cell_type": "code",
   "execution_count": 27,
   "metadata": {},
   "outputs": [
    {
     "data": {
      "image/png": "[encoded data removed]",
      "text/plain": [
       "<Figure size 432x432 with 1 Axes>"
      ]
     },
     "metadata": {
      "needs_background": "light"
     },
     "output_type": "display_data"
    }
   ],
   "source": [
    "#let's zoom in\n",
    "x = urban_county[(urban_county.P0030005_DP<1e3) | (urban_county.P0030005_SF<1e3)][[\"P0030005_SF\"]]\n",
    "y = urban_county[(urban_county.P0030005_DP<1e3) | (urban_county.P0030005_SF<1e3)][[\"P0030005_DP\"]]\n",
    "\n",
    "fig = plt.figure() \n",
    "fig.set_size_inches(6,6)\n",
    "\n",
    "ax = fig.add_subplot(111)\n",
    "ax.scatter(x, y, facecolors='none', edgecolors = 'cornflowerblue')\n",
    "ax.set_aspect('equal', adjustable='box')\n",
    "\n",
    "xleft, xright = ax.get_xlim()\n",
    "ybottom, ytop = ax.get_ylim()\n",
    "lim = max(xright,ytop)\n",
    "ax.plot([-1,lim],[-1,lim], 'red', linewidth=1)\n",
    "\n",
    "plt.xlabel('SF urban AIAN alone, counts')\n",
    "plt.ylabel('DP urban AIAN alone, counts')\n",
    "plt.title('county level: urban AIAN alone count change, counties with<1e3 AIAN')\n",
    "\n",
    "plt.show()"
   ]
  },
  {
   "cell_type": "markdown",
   "metadata": {},
   "source": [
    "## vs rural"
   ]
  },
  {
   "cell_type": "code",
   "execution_count": 28,
   "metadata": {},
   "outputs": [
    {
     "name": "stderr",
     "output_type": "stream",
     "text": [
      "/share/code/beatrixh/miniconda/envs/beatrix/lib/python3.6/site-packages/ipykernel_launcher.py:5: FutureWarning: Indexing with multiple keys (implicitly converted to a tuple of keys) will be deprecated, use a list instead.\n",
      "  \"\"\"\n"
     ]
    }
   ],
   "source": [
    "#subset to rural areas, grouped by county\n",
    "rural_county = df[df.UR== 'R'].copy(deep=True)\n",
    "rural_county = rural_county.groupby(['STATE','COUNTY'])['P0030005_SF','P0030005_DP',\n",
    "                                                        'P0060004_SF','P0060004_DP',\n",
    "                                                        'P0010001_SF','P0010001_DP'].apply(lambda x : x.astype(int).sum())"
   ]
  },
  {
   "cell_type": "code",
   "execution_count": 29,
   "metadata": {},
   "outputs": [
    {
     "ename": "KeyboardInterrupt",
     "evalue": "",
     "output_type": "error",
     "traceback": [
      "\u001b[0;31m---------------------------------------------------------------------------\u001b[0m",
      "\u001b[0;31mKeyboardInterrupt\u001b[0m                         Traceback (most recent call last)",
      "\u001b[0;32m<ipython-input-29-ab387264d9d7>\u001b[0m in \u001b[0;36m<module>\u001b[0;34m\u001b[0m\n\u001b[1;32m     19\u001b[0m \u001b[0mplt\u001b[0m\u001b[0;34m.\u001b[0m\u001b[0mtitle\u001b[0m\u001b[0;34m(\u001b[0m\u001b[0;34m'county level: rural AIAN alone count change'\u001b[0m\u001b[0;34m)\u001b[0m\u001b[0;34m\u001b[0m\u001b[0;34m\u001b[0m\u001b[0m\n\u001b[1;32m     20\u001b[0m \u001b[0;34m\u001b[0m\u001b[0m\n\u001b[0;32m---> 21\u001b[0;31m \u001b[0mplt\u001b[0m\u001b[0;34m.\u001b[0m\u001b[0mshow\u001b[0m\u001b[0;34m(\u001b[0m\u001b[0;34m)\u001b[0m\u001b[0;34m\u001b[0m\u001b[0;34m\u001b[0m\u001b[0m\n\u001b[0m",
      "\u001b[0;32m/share/code/beatrixh/miniconda/envs/beatrix/lib/python3.6/site-packages/matplotlib/pyplot.py\u001b[0m in \u001b[0;36mshow\u001b[0;34m(*args, **kw)\u001b[0m\n\u001b[1;32m    267\u001b[0m     \"\"\"\n\u001b[1;32m    268\u001b[0m     \u001b[0;32mglobal\u001b[0m \u001b[0m_show\u001b[0m\u001b[0;34m\u001b[0m\u001b[0;34m\u001b[0m\u001b[0m\n\u001b[0;32m--> 269\u001b[0;31m     \u001b[0;32mreturn\u001b[0m \u001b[0m_show\u001b[0m\u001b[0;34m(\u001b[0m\u001b[0;34m*\u001b[0m\u001b[0margs\u001b[0m\u001b[0;34m,\u001b[0m \u001b[0;34m**\u001b[0m\u001b[0mkw\u001b[0m\u001b[0;34m)\u001b[0m\u001b[0;34m\u001b[0m\u001b[0;34m\u001b[0m\u001b[0m\n\u001b[0m\u001b[1;32m    270\u001b[0m \u001b[0;34m\u001b[0m\u001b[0m\n\u001b[1;32m    271\u001b[0m \u001b[0;34m\u001b[0m\u001b[0m\n",
      "\u001b[0;32m/share/code/beatrixh/miniconda/envs/beatrix/lib/python3.6/site-packages/ipykernel/pylab/backend_inline.py\u001b[0m in \u001b[0;36mshow\u001b[0;34m(close, block)\u001b[0m\n\u001b[1;32m     37\u001b[0m             display(\n\u001b[1;32m     38\u001b[0m                 \u001b[0mfigure_manager\u001b[0m\u001b[0;34m.\u001b[0m\u001b[0mcanvas\u001b[0m\u001b[0;34m.\u001b[0m\u001b[0mfigure\u001b[0m\u001b[0;34m,\u001b[0m\u001b[0;34m\u001b[0m\u001b[0;34m\u001b[0m\u001b[0m\n\u001b[0;32m---> 39\u001b[0;31m                 \u001b[0mmetadata\u001b[0m\u001b[0;34m=\u001b[0m\u001b[0m_fetch_figure_metadata\u001b[0m\u001b[0;34m(\u001b[0m\u001b[0mfigure_manager\u001b[0m\u001b[0;34m.\u001b[0m\u001b[0mcanvas\u001b[0m\u001b[0;34m.\u001b[0m\u001b[0mfigure\u001b[0m\u001b[0;34m)\u001b[0m\u001b[0;34m\u001b[0m\u001b[0;34m\u001b[0m\u001b[0m\n\u001b[0m\u001b[1;32m     40\u001b[0m             )\n\u001b[1;32m     41\u001b[0m     \u001b[0;32mfinally\u001b[0m\u001b[0;34m:\u001b[0m\u001b[0;34m\u001b[0m\u001b[0;34m\u001b[0m\u001b[0m\n",
      "\u001b[0;32m/share/code/beatrixh/miniconda/envs/beatrix/lib/python3.6/site-packages/ipykernel/pylab/backend_inline.py\u001b[0m in \u001b[0;36m_fetch_figure_metadata\u001b[0;34m(fig)\u001b[0m\n\u001b[1;32m    175\u001b[0m         \u001b[0;31m# the background is transparent\u001b[0m\u001b[0;34m\u001b[0m\u001b[0;34m\u001b[0m\u001b[0;34m\u001b[0m\u001b[0m\n\u001b[1;32m    176\u001b[0m         ticksLight = _is_light([label.get_color()\n\u001b[0;32m--> 177\u001b[0;31m                                 \u001b[0;32mfor\u001b[0m \u001b[0maxes\u001b[0m \u001b[0;32min\u001b[0m \u001b[0mfig\u001b[0m\u001b[0;34m.\u001b[0m\u001b[0maxes\u001b[0m\u001b[0;34m\u001b[0m\u001b[0;34m\u001b[0m\u001b[0m\n\u001b[0m\u001b[1;32m    178\u001b[0m                                 \u001b[0;32mfor\u001b[0m \u001b[0maxis\u001b[0m \u001b[0;32min\u001b[0m \u001b[0;34m(\u001b[0m\u001b[0maxes\u001b[0m\u001b[0;34m.\u001b[0m\u001b[0mxaxis\u001b[0m\u001b[0;34m,\u001b[0m \u001b[0maxes\u001b[0m\u001b[0;34m.\u001b[0m\u001b[0myaxis\u001b[0m\u001b[0;34m)\u001b[0m\u001b[0;34m\u001b[0m\u001b[0;34m\u001b[0m\u001b[0m\n\u001b[1;32m    179\u001b[0m                                 for label in axis.get_ticklabels()])\n",
      "\u001b[0;32m/share/code/beatrixh/miniconda/envs/beatrix/lib/python3.6/site-packages/ipykernel/pylab/backend_inline.py\u001b[0m in \u001b[0;36m<listcomp>\u001b[0;34m(.0)\u001b[0m\n\u001b[1;32m    177\u001b[0m                                 \u001b[0;32mfor\u001b[0m \u001b[0maxes\u001b[0m \u001b[0;32min\u001b[0m \u001b[0mfig\u001b[0m\u001b[0;34m.\u001b[0m\u001b[0maxes\u001b[0m\u001b[0;34m\u001b[0m\u001b[0;34m\u001b[0m\u001b[0m\n\u001b[1;32m    178\u001b[0m                                 \u001b[0;32mfor\u001b[0m \u001b[0maxis\u001b[0m \u001b[0;32min\u001b[0m \u001b[0;34m(\u001b[0m\u001b[0maxes\u001b[0m\u001b[0;34m.\u001b[0m\u001b[0mxaxis\u001b[0m\u001b[0;34m,\u001b[0m \u001b[0maxes\u001b[0m\u001b[0;34m.\u001b[0m\u001b[0myaxis\u001b[0m\u001b[0;34m)\u001b[0m\u001b[0;34m\u001b[0m\u001b[0;34m\u001b[0m\u001b[0m\n\u001b[0;32m--> 179\u001b[0;31m                                 for label in axis.get_ticklabels()])\n\u001b[0m\u001b[1;32m    180\u001b[0m         \u001b[0;32mif\u001b[0m \u001b[0mticksLight\u001b[0m\u001b[0;34m.\u001b[0m\u001b[0msize\u001b[0m \u001b[0;32mand\u001b[0m \u001b[0;34m(\u001b[0m\u001b[0mticksLight\u001b[0m \u001b[0;34m==\u001b[0m \u001b[0mticksLight\u001b[0m\u001b[0;34m[\u001b[0m\u001b[0;36m0\u001b[0m\u001b[0;34m]\u001b[0m\u001b[0;34m)\u001b[0m\u001b[0;34m.\u001b[0m\u001b[0mall\u001b[0m\u001b[0;34m(\u001b[0m\u001b[0;34m)\u001b[0m\u001b[0;34m:\u001b[0m\u001b[0;34m\u001b[0m\u001b[0;34m\u001b[0m\u001b[0m\n\u001b[1;32m    181\u001b[0m             \u001b[0;31m# there are one or more tick labels, all with the same lightness\u001b[0m\u001b[0;34m\u001b[0m\u001b[0;34m\u001b[0m\u001b[0;34m\u001b[0m\u001b[0m\n",
      "\u001b[0;32m/share/code/beatrixh/miniconda/envs/beatrix/lib/python3.6/site-packages/matplotlib/axis.py\u001b[0m in \u001b[0;36mget_ticklabels\u001b[0;34m(self, minor, which)\u001b[0m\n\u001b[1;32m   1294\u001b[0m         \u001b[0;32mif\u001b[0m \u001b[0mminor\u001b[0m\u001b[0;34m:\u001b[0m\u001b[0;34m\u001b[0m\u001b[0;34m\u001b[0m\u001b[0m\n\u001b[1;32m   1295\u001b[0m             \u001b[0;32mreturn\u001b[0m \u001b[0mself\u001b[0m\u001b[0;34m.\u001b[0m\u001b[0mget_minorticklabels\u001b[0m\u001b[0;34m(\u001b[0m\u001b[0;34m)\u001b[0m\u001b[0;34m\u001b[0m\u001b[0;34m\u001b[0m\u001b[0m\n\u001b[0;32m-> 1296\u001b[0;31m         \u001b[0;32mreturn\u001b[0m \u001b[0mself\u001b[0m\u001b[0;34m.\u001b[0m\u001b[0mget_majorticklabels\u001b[0m\u001b[0;34m(\u001b[0m\u001b[0;34m)\u001b[0m\u001b[0;34m\u001b[0m\u001b[0;34m\u001b[0m\u001b[0m\n\u001b[0m\u001b[1;32m   1297\u001b[0m \u001b[0;34m\u001b[0m\u001b[0m\n\u001b[1;32m   1298\u001b[0m     \u001b[0;32mdef\u001b[0m \u001b[0mget_majorticklines\u001b[0m\u001b[0;34m(\u001b[0m\u001b[0mself\u001b[0m\u001b[0;34m)\u001b[0m\u001b[0;34m:\u001b[0m\u001b[0;34m\u001b[0m\u001b[0;34m\u001b[0m\u001b[0m\n",
      "\u001b[0;32m/share/code/beatrixh/miniconda/envs/beatrix/lib/python3.6/site-packages/matplotlib/axis.py\u001b[0m in \u001b[0;36mget_majorticklabels\u001b[0;34m(self)\u001b[0m\n\u001b[1;32m   1250\u001b[0m     \u001b[0;32mdef\u001b[0m \u001b[0mget_majorticklabels\u001b[0m\u001b[0;34m(\u001b[0m\u001b[0mself\u001b[0m\u001b[0;34m)\u001b[0m\u001b[0;34m:\u001b[0m\u001b[0;34m\u001b[0m\u001b[0;34m\u001b[0m\u001b[0m\n\u001b[1;32m   1251\u001b[0m         \u001b[0;34m'Return a list of Text instances for the major ticklabels.'\u001b[0m\u001b[0;34m\u001b[0m\u001b[0;34m\u001b[0m\u001b[0m\n\u001b[0;32m-> 1252\u001b[0;31m         \u001b[0mticks\u001b[0m \u001b[0;34m=\u001b[0m \u001b[0mself\u001b[0m\u001b[0;34m.\u001b[0m\u001b[0mget_major_ticks\u001b[0m\u001b[0;34m(\u001b[0m\u001b[0;34m)\u001b[0m\u001b[0;34m\u001b[0m\u001b[0;34m\u001b[0m\u001b[0m\n\u001b[0m\u001b[1;32m   1253\u001b[0m         \u001b[0mlabels1\u001b[0m \u001b[0;34m=\u001b[0m \u001b[0;34m[\u001b[0m\u001b[0mtick\u001b[0m\u001b[0;34m.\u001b[0m\u001b[0mlabel1\u001b[0m \u001b[0;32mfor\u001b[0m \u001b[0mtick\u001b[0m \u001b[0;32min\u001b[0m \u001b[0mticks\u001b[0m \u001b[0;32mif\u001b[0m \u001b[0mtick\u001b[0m\u001b[0;34m.\u001b[0m\u001b[0mlabel1\u001b[0m\u001b[0;34m.\u001b[0m\u001b[0mget_visible\u001b[0m\u001b[0;34m(\u001b[0m\u001b[0;34m)\u001b[0m\u001b[0;34m]\u001b[0m\u001b[0;34m\u001b[0m\u001b[0;34m\u001b[0m\u001b[0m\n\u001b[1;32m   1254\u001b[0m         \u001b[0mlabels2\u001b[0m \u001b[0;34m=\u001b[0m \u001b[0;34m[\u001b[0m\u001b[0mtick\u001b[0m\u001b[0;34m.\u001b[0m\u001b[0mlabel2\u001b[0m \u001b[0;32mfor\u001b[0m \u001b[0mtick\u001b[0m \u001b[0;32min\u001b[0m \u001b[0mticks\u001b[0m \u001b[0;32mif\u001b[0m \u001b[0mtick\u001b[0m\u001b[0;34m.\u001b[0m\u001b[0mlabel2\u001b[0m\u001b[0;34m.\u001b[0m\u001b[0mget_visible\u001b[0m\u001b[0;34m(\u001b[0m\u001b[0;34m)\u001b[0m\u001b[0;34m]\u001b[0m\u001b[0;34m\u001b[0m\u001b[0;34m\u001b[0m\u001b[0m\n",
      "\u001b[0;32m/share/code/beatrixh/miniconda/envs/beatrix/lib/python3.6/site-packages/matplotlib/axis.py\u001b[0m in \u001b[0;36mget_major_ticks\u001b[0;34m(self, numticks)\u001b[0m\n\u001b[1;32m   1405\u001b[0m         \u001b[0;34m'Get the tick instances; grow as necessary.'\u001b[0m\u001b[0;34m\u001b[0m\u001b[0;34m\u001b[0m\u001b[0m\n\u001b[1;32m   1406\u001b[0m         \u001b[0;32mif\u001b[0m \u001b[0mnumticks\u001b[0m \u001b[0;32mis\u001b[0m \u001b[0;32mNone\u001b[0m\u001b[0;34m:\u001b[0m\u001b[0;34m\u001b[0m\u001b[0;34m\u001b[0m\u001b[0m\n\u001b[0;32m-> 1407\u001b[0;31m             \u001b[0mnumticks\u001b[0m \u001b[0;34m=\u001b[0m \u001b[0mlen\u001b[0m\u001b[0;34m(\u001b[0m\u001b[0mself\u001b[0m\u001b[0;34m.\u001b[0m\u001b[0mget_majorticklocs\u001b[0m\u001b[0;34m(\u001b[0m\u001b[0;34m)\u001b[0m\u001b[0;34m)\u001b[0m\u001b[0;34m\u001b[0m\u001b[0;34m\u001b[0m\u001b[0m\n\u001b[0m\u001b[1;32m   1408\u001b[0m \u001b[0;34m\u001b[0m\u001b[0m\n\u001b[1;32m   1409\u001b[0m         \u001b[0;32mwhile\u001b[0m \u001b[0mlen\u001b[0m\u001b[0;34m(\u001b[0m\u001b[0mself\u001b[0m\u001b[0;34m.\u001b[0m\u001b[0mmajorTicks\u001b[0m\u001b[0;34m)\u001b[0m \u001b[0;34m<\u001b[0m \u001b[0mnumticks\u001b[0m\u001b[0;34m:\u001b[0m\u001b[0;34m\u001b[0m\u001b[0;34m\u001b[0m\u001b[0m\n",
      "\u001b[0;32m/share/code/beatrixh/miniconda/envs/beatrix/lib/python3.6/site-packages/matplotlib/axis.py\u001b[0m in \u001b[0;36mget_majorticklocs\u001b[0;34m(self)\u001b[0m\n\u001b[1;32m   1322\u001b[0m     \u001b[0;32mdef\u001b[0m \u001b[0mget_majorticklocs\u001b[0m\u001b[0;34m(\u001b[0m\u001b[0mself\u001b[0m\u001b[0;34m)\u001b[0m\u001b[0;34m:\u001b[0m\u001b[0;34m\u001b[0m\u001b[0;34m\u001b[0m\u001b[0m\n\u001b[1;32m   1323\u001b[0m         \u001b[0;34m\"\"\"Get the array of major tick locations in data coordinates.\"\"\"\u001b[0m\u001b[0;34m\u001b[0m\u001b[0;34m\u001b[0m\u001b[0m\n\u001b[0;32m-> 1324\u001b[0;31m         \u001b[0;32mreturn\u001b[0m \u001b[0mself\u001b[0m\u001b[0;34m.\u001b[0m\u001b[0mmajor\u001b[0m\u001b[0;34m.\u001b[0m\u001b[0mlocator\u001b[0m\u001b[0;34m(\u001b[0m\u001b[0;34m)\u001b[0m\u001b[0;34m\u001b[0m\u001b[0;34m\u001b[0m\u001b[0m\n\u001b[0m\u001b[1;32m   1325\u001b[0m \u001b[0;34m\u001b[0m\u001b[0m\n\u001b[1;32m   1326\u001b[0m     \u001b[0;32mdef\u001b[0m \u001b[0mget_minorticklocs\u001b[0m\u001b[0;34m(\u001b[0m\u001b[0mself\u001b[0m\u001b[0;34m)\u001b[0m\u001b[0;34m:\u001b[0m\u001b[0;34m\u001b[0m\u001b[0;34m\u001b[0m\u001b[0m\n",
      "\u001b[0;32m/share/code/beatrixh/miniconda/envs/beatrix/lib/python3.6/site-packages/matplotlib/ticker.py\u001b[0m in \u001b[0;36m__call__\u001b[0;34m(self)\u001b[0m\n\u001b[1;32m   2079\u001b[0m     \u001b[0;32mdef\u001b[0m \u001b[0m__call__\u001b[0m\u001b[0;34m(\u001b[0m\u001b[0mself\u001b[0m\u001b[0;34m)\u001b[0m\u001b[0;34m:\u001b[0m\u001b[0;34m\u001b[0m\u001b[0;34m\u001b[0m\u001b[0m\n\u001b[1;32m   2080\u001b[0m         \u001b[0mvmin\u001b[0m\u001b[0;34m,\u001b[0m \u001b[0mvmax\u001b[0m \u001b[0;34m=\u001b[0m \u001b[0mself\u001b[0m\u001b[0;34m.\u001b[0m\u001b[0maxis\u001b[0m\u001b[0;34m.\u001b[0m\u001b[0mget_view_interval\u001b[0m\u001b[0;34m(\u001b[0m\u001b[0;34m)\u001b[0m\u001b[0;34m\u001b[0m\u001b[0;34m\u001b[0m\u001b[0m\n\u001b[0;32m-> 2081\u001b[0;31m         \u001b[0;32mreturn\u001b[0m \u001b[0mself\u001b[0m\u001b[0;34m.\u001b[0m\u001b[0mtick_values\u001b[0m\u001b[0;34m(\u001b[0m\u001b[0mvmin\u001b[0m\u001b[0;34m,\u001b[0m \u001b[0mvmax\u001b[0m\u001b[0;34m)\u001b[0m\u001b[0;34m\u001b[0m\u001b[0;34m\u001b[0m\u001b[0m\n\u001b[0m\u001b[1;32m   2082\u001b[0m \u001b[0;34m\u001b[0m\u001b[0m\n\u001b[1;32m   2083\u001b[0m     \u001b[0;32mdef\u001b[0m \u001b[0mtick_values\u001b[0m\u001b[0;34m(\u001b[0m\u001b[0mself\u001b[0m\u001b[0;34m,\u001b[0m \u001b[0mvmin\u001b[0m\u001b[0;34m,\u001b[0m \u001b[0mvmax\u001b[0m\u001b[0;34m)\u001b[0m\u001b[0;34m:\u001b[0m\u001b[0;34m\u001b[0m\u001b[0;34m\u001b[0m\u001b[0m\n",
      "\u001b[0;32m/share/code/beatrixh/miniconda/envs/beatrix/lib/python3.6/site-packages/matplotlib/ticker.py\u001b[0m in \u001b[0;36mtick_values\u001b[0;34m(self, vmin, vmax)\u001b[0m\n\u001b[1;32m   2087\u001b[0m         vmin, vmax = mtransforms.nonsingular(\n\u001b[1;32m   2088\u001b[0m             vmin, vmax, expander=1e-13, tiny=1e-14)\n\u001b[0;32m-> 2089\u001b[0;31m         \u001b[0mlocs\u001b[0m \u001b[0;34m=\u001b[0m \u001b[0mself\u001b[0m\u001b[0;34m.\u001b[0m\u001b[0m_raw_ticks\u001b[0m\u001b[0;34m(\u001b[0m\u001b[0mvmin\u001b[0m\u001b[0;34m,\u001b[0m \u001b[0mvmax\u001b[0m\u001b[0;34m)\u001b[0m\u001b[0;34m\u001b[0m\u001b[0;34m\u001b[0m\u001b[0m\n\u001b[0m\u001b[1;32m   2090\u001b[0m \u001b[0;34m\u001b[0m\u001b[0m\n\u001b[1;32m   2091\u001b[0m         \u001b[0mprune\u001b[0m \u001b[0;34m=\u001b[0m \u001b[0mself\u001b[0m\u001b[0;34m.\u001b[0m\u001b[0m_prune\u001b[0m\u001b[0;34m\u001b[0m\u001b[0;34m\u001b[0m\u001b[0m\n",
      "\u001b[0;32m/share/code/beatrixh/miniconda/envs/beatrix/lib/python3.6/site-packages/matplotlib/ticker.py\u001b[0m in \u001b[0;36m_raw_ticks\u001b[0;34m(self, vmin, vmax)\u001b[0m\n\u001b[1;32m   2027\u001b[0m             \u001b[0;32mif\u001b[0m \u001b[0mself\u001b[0m\u001b[0;34m.\u001b[0m\u001b[0maxis\u001b[0m \u001b[0;32mis\u001b[0m \u001b[0;32mnot\u001b[0m \u001b[0;32mNone\u001b[0m\u001b[0;34m:\u001b[0m\u001b[0;34m\u001b[0m\u001b[0;34m\u001b[0m\u001b[0m\n\u001b[1;32m   2028\u001b[0m                 nbins = np.clip(self.axis.get_tick_space(),\n\u001b[0;32m-> 2029\u001b[0;31m                                 max(1, self._min_n_ticks - 1), 9)\n\u001b[0m\u001b[1;32m   2030\u001b[0m             \u001b[0;32melse\u001b[0m\u001b[0;34m:\u001b[0m\u001b[0;34m\u001b[0m\u001b[0;34m\u001b[0m\u001b[0m\n\u001b[1;32m   2031\u001b[0m                 \u001b[0mnbins\u001b[0m \u001b[0;34m=\u001b[0m \u001b[0;36m9\u001b[0m\u001b[0;34m\u001b[0m\u001b[0;34m\u001b[0m\u001b[0m\n",
      "\u001b[0;32m<__array_function__ internals>\u001b[0m in \u001b[0;36mclip\u001b[0;34m(*args, **kwargs)\u001b[0m\n",
      "\u001b[0;32m/share/code/beatrixh/miniconda/envs/beatrix/lib/python3.6/site-packages/numpy/core/fromnumeric.py\u001b[0m in \u001b[0;36mclip\u001b[0;34m(a, a_min, a_max, out, **kwargs)\u001b[0m\n\u001b[1;32m   2035\u001b[0m \u001b[0;34m\u001b[0m\u001b[0m\n\u001b[1;32m   2036\u001b[0m     \"\"\"\n\u001b[0;32m-> 2037\u001b[0;31m     \u001b[0;32mreturn\u001b[0m \u001b[0m_wrapfunc\u001b[0m\u001b[0;34m(\u001b[0m\u001b[0ma\u001b[0m\u001b[0;34m,\u001b[0m \u001b[0;34m'clip'\u001b[0m\u001b[0;34m,\u001b[0m \u001b[0ma_min\u001b[0m\u001b[0;34m,\u001b[0m \u001b[0ma_max\u001b[0m\u001b[0;34m,\u001b[0m \u001b[0mout\u001b[0m\u001b[0;34m=\u001b[0m\u001b[0mout\u001b[0m\u001b[0;34m,\u001b[0m \u001b[0;34m**\u001b[0m\u001b[0mkwargs\u001b[0m\u001b[0;34m)\u001b[0m\u001b[0;34m\u001b[0m\u001b[0;34m\u001b[0m\u001b[0m\n\u001b[0m\u001b[1;32m   2038\u001b[0m \u001b[0;34m\u001b[0m\u001b[0m\n\u001b[1;32m   2039\u001b[0m \u001b[0;34m\u001b[0m\u001b[0m\n",
      "\u001b[0;32m/share/code/beatrixh/miniconda/envs/beatrix/lib/python3.6/site-packages/numpy/core/fromnumeric.py\u001b[0m in \u001b[0;36m_wrapfunc\u001b[0;34m(obj, method, *args, **kwds)\u001b[0m\n\u001b[1;32m     56\u001b[0m     \u001b[0mbound\u001b[0m \u001b[0;34m=\u001b[0m \u001b[0mgetattr\u001b[0m\u001b[0;34m(\u001b[0m\u001b[0mobj\u001b[0m\u001b[0;34m,\u001b[0m \u001b[0mmethod\u001b[0m\u001b[0;34m,\u001b[0m \u001b[0;32mNone\u001b[0m\u001b[0;34m)\u001b[0m\u001b[0;34m\u001b[0m\u001b[0;34m\u001b[0m\u001b[0m\n\u001b[1;32m     57\u001b[0m     \u001b[0;32mif\u001b[0m \u001b[0mbound\u001b[0m \u001b[0;32mis\u001b[0m \u001b[0;32mNone\u001b[0m\u001b[0;34m:\u001b[0m\u001b[0;34m\u001b[0m\u001b[0;34m\u001b[0m\u001b[0m\n\u001b[0;32m---> 58\u001b[0;31m         \u001b[0;32mreturn\u001b[0m \u001b[0m_wrapit\u001b[0m\u001b[0;34m(\u001b[0m\u001b[0mobj\u001b[0m\u001b[0;34m,\u001b[0m \u001b[0mmethod\u001b[0m\u001b[0;34m,\u001b[0m \u001b[0;34m*\u001b[0m\u001b[0margs\u001b[0m\u001b[0;34m,\u001b[0m \u001b[0;34m**\u001b[0m\u001b[0mkwds\u001b[0m\u001b[0;34m)\u001b[0m\u001b[0;34m\u001b[0m\u001b[0;34m\u001b[0m\u001b[0m\n\u001b[0m\u001b[1;32m     59\u001b[0m \u001b[0;34m\u001b[0m\u001b[0m\n\u001b[1;32m     60\u001b[0m     \u001b[0;32mtry\u001b[0m\u001b[0;34m:\u001b[0m\u001b[0;34m\u001b[0m\u001b[0;34m\u001b[0m\u001b[0m\n",
      "\u001b[0;32m/share/code/beatrixh/miniconda/envs/beatrix/lib/python3.6/site-packages/numpy/core/fromnumeric.py\u001b[0m in \u001b[0;36m_wrapit\u001b[0;34m(obj, method, *args, **kwds)\u001b[0m\n\u001b[1;32m     45\u001b[0m     \u001b[0;32mexcept\u001b[0m \u001b[0mAttributeError\u001b[0m\u001b[0;34m:\u001b[0m\u001b[0;34m\u001b[0m\u001b[0;34m\u001b[0m\u001b[0m\n\u001b[1;32m     46\u001b[0m         \u001b[0mwrap\u001b[0m \u001b[0;34m=\u001b[0m \u001b[0;32mNone\u001b[0m\u001b[0;34m\u001b[0m\u001b[0;34m\u001b[0m\u001b[0m\n\u001b[0;32m---> 47\u001b[0;31m     \u001b[0mresult\u001b[0m \u001b[0;34m=\u001b[0m \u001b[0mgetattr\u001b[0m\u001b[0;34m(\u001b[0m\u001b[0masarray\u001b[0m\u001b[0;34m(\u001b[0m\u001b[0mobj\u001b[0m\u001b[0;34m)\u001b[0m\u001b[0;34m,\u001b[0m \u001b[0mmethod\u001b[0m\u001b[0;34m)\u001b[0m\u001b[0;34m(\u001b[0m\u001b[0;34m*\u001b[0m\u001b[0margs\u001b[0m\u001b[0;34m,\u001b[0m \u001b[0;34m**\u001b[0m\u001b[0mkwds\u001b[0m\u001b[0;34m)\u001b[0m\u001b[0;34m\u001b[0m\u001b[0;34m\u001b[0m\u001b[0m\n\u001b[0m\u001b[1;32m     48\u001b[0m     \u001b[0;32mif\u001b[0m \u001b[0mwrap\u001b[0m\u001b[0;34m:\u001b[0m\u001b[0;34m\u001b[0m\u001b[0;34m\u001b[0m\u001b[0m\n\u001b[1;32m     49\u001b[0m         \u001b[0;32mif\u001b[0m \u001b[0;32mnot\u001b[0m \u001b[0misinstance\u001b[0m\u001b[0;34m(\u001b[0m\u001b[0mresult\u001b[0m\u001b[0;34m,\u001b[0m \u001b[0mmu\u001b[0m\u001b[0;34m.\u001b[0m\u001b[0mndarray\u001b[0m\u001b[0;34m)\u001b[0m\u001b[0;34m:\u001b[0m\u001b[0;34m\u001b[0m\u001b[0;34m\u001b[0m\u001b[0m\n",
      "\u001b[0;32m/share/code/beatrixh/miniconda/envs/beatrix/lib/python3.6/site-packages/numpy/core/_methods.py\u001b[0m in \u001b[0;36m_clip\u001b[0;34m(a, min, max, out, casting, **kwargs)\u001b[0m\n\u001b[1;32m    107\u001b[0m             \u001b[0mmin\u001b[0m \u001b[0;34m=\u001b[0m \u001b[0;34m-\u001b[0m\u001b[0mfloat\u001b[0m\u001b[0;34m(\u001b[0m\u001b[0;34m'inf'\u001b[0m\u001b[0;34m)\u001b[0m\u001b[0;34m\u001b[0m\u001b[0;34m\u001b[0m\u001b[0m\n\u001b[1;32m    108\u001b[0m             \u001b[0musing_deprecated_nan\u001b[0m \u001b[0;34m=\u001b[0m \u001b[0;32mTrue\u001b[0m\u001b[0;34m\u001b[0m\u001b[0;34m\u001b[0m\u001b[0m\n\u001b[0;32m--> 109\u001b[0;31m         \u001b[0;32mif\u001b[0m \u001b[0m_clip_dep_is_scalar_nan\u001b[0m\u001b[0;34m(\u001b[0m\u001b[0mmax\u001b[0m\u001b[0;34m)\u001b[0m\u001b[0;34m:\u001b[0m\u001b[0;34m\u001b[0m\u001b[0;34m\u001b[0m\u001b[0m\n\u001b[0m\u001b[1;32m    110\u001b[0m             \u001b[0mmax\u001b[0m \u001b[0;34m=\u001b[0m \u001b[0mfloat\u001b[0m\u001b[0;34m(\u001b[0m\u001b[0;34m'inf'\u001b[0m\u001b[0;34m)\u001b[0m\u001b[0;34m\u001b[0m\u001b[0;34m\u001b[0m\u001b[0m\n\u001b[1;32m    111\u001b[0m             \u001b[0musing_deprecated_nan\u001b[0m \u001b[0;34m=\u001b[0m \u001b[0;32mTrue\u001b[0m\u001b[0;34m\u001b[0m\u001b[0;34m\u001b[0m\u001b[0m\n",
      "\u001b[0;32m/share/code/beatrixh/miniconda/envs/beatrix/lib/python3.6/site-packages/numpy/core/_methods.py\u001b[0m in \u001b[0;36m_clip_dep_is_scalar_nan\u001b[0;34m(a)\u001b[0m\n\u001b[1;32m     67\u001b[0m         \u001b[0;32mreturn\u001b[0m \u001b[0;32mFalse\u001b[0m\u001b[0;34m\u001b[0m\u001b[0;34m\u001b[0m\u001b[0m\n\u001b[1;32m     68\u001b[0m     \u001b[0;32mtry\u001b[0m\u001b[0;34m:\u001b[0m\u001b[0;34m\u001b[0m\u001b[0;34m\u001b[0m\u001b[0m\n\u001b[0;32m---> 69\u001b[0;31m         \u001b[0;32mreturn\u001b[0m \u001b[0mum\u001b[0m\u001b[0;34m.\u001b[0m\u001b[0misnan\u001b[0m\u001b[0;34m(\u001b[0m\u001b[0ma\u001b[0m\u001b[0;34m)\u001b[0m\u001b[0;34m\u001b[0m\u001b[0;34m\u001b[0m\u001b[0m\n\u001b[0m\u001b[1;32m     70\u001b[0m     \u001b[0;32mexcept\u001b[0m \u001b[0mTypeError\u001b[0m\u001b[0;34m:\u001b[0m\u001b[0;34m\u001b[0m\u001b[0;34m\u001b[0m\u001b[0m\n\u001b[1;32m     71\u001b[0m         \u001b[0;32mreturn\u001b[0m \u001b[0;32mFalse\u001b[0m\u001b[0;34m\u001b[0m\u001b[0;34m\u001b[0m\u001b[0m\n",
      "\u001b[0;31mKeyboardInterrupt\u001b[0m: "
     ]
    }
   ],
   "source": [
    "#plot urban areas by tract, dp vs sf\n",
    "x = rural_county[[\"P0030005_SF\"]]\n",
    "y = rural_county[[\"P0030005_DP\"]]\n",
    "\n",
    "fig = plt.figure() \n",
    "fig.set_size_inches(6,6)\n",
    "\n",
    "ax = fig.add_subplot(111)\n",
    "ax.scatter(x, y, facecolors='none', edgecolors = 'cornflowerblue')\n",
    "ax.set_aspect('equal', adjustable='box')\n",
    "\n",
    "xleft, xright = ax.get_xlim()\n",
    "ybottom, ytop = ax.get_ylim()\n",
    "lim = max(xright,ytop)\n",
    "ax.plot([-1,lim],[-1,lim], 'red', linewidth=1)\n",
    "\n",
    "plt.xlabel('SF rural AIAN alone, counts')\n",
    "plt.ylabel('DP rural AIAN alone, counts')\n",
    "plt.title('county level: rural AIAN alone count change')\n",
    "\n",
    "plt.show()"
   ]
  },
  {
   "cell_type": "code",
   "execution_count": null,
   "metadata": {},
   "outputs": [],
   "source": [
    "#zooming in\n",
    "x = rural_county[(rural_county.P0030005_DP<3e3) | (rural_county.P0030005_SF<3e3)][[\"P0030005_SF\"]]\n",
    "y = rural_county[(rural_county.P0030005_DP<3e3) | (rural_county.P0030005_SF<3e3)][[\"P0030005_DP\"]]\n",
    "\n",
    "fig = plt.figure() \n",
    "fig.set_size_inches(6,6)\n",
    "\n",
    "ax = fig.add_subplot(111)\n",
    "ax.scatter(x, y, facecolors='none', edgecolors = 'cornflowerblue')\n",
    "ax.set_aspect('equal', adjustable='box')\n",
    "\n",
    "xleft, xright = ax.get_xlim()\n",
    "ybottom, ytop = ax.get_ylim()\n",
    "lim = max(xright,ytop)\n",
    "ax.plot([-1,lim],[-1,lim], 'red', linewidth=1)\n",
    "\n",
    "plt.xlabel('SF rural AIAN alone, counts')\n",
    "plt.ylabel('DP rural AIAN alone, counts')\n",
    "plt.title('county level: rural AIAN alone count change, counties with<3e3 AIAN')\n",
    "\n",
    "plt.show()"
   ]
  },
  {
   "cell_type": "markdown",
   "metadata": {},
   "source": [
    "## now back to urban:"
   ]
  },
  {
   "cell_type": "code",
   "execution_count": null,
   "metadata": {},
   "outputs": [],
   "source": [
    "#check out count difference\n",
    "urban_county['abs_diff'] = urban_county['P0030005_DP'] - urban_county['P0030005_SF']\n",
    "\n",
    "#plot histogram\n",
    "fig = plt.figure()\n",
    "ax = fig.add_subplot(111)\n",
    "plt.hist(urban_county[(urban_county.P0030005_DP!=0) | (urban_county.P0030005_SF!=0)].abs_diff, bins = 100)\n",
    "\n",
    "plt.title('County level; urban AIAN count difference, excluding points that remained at 0.')\n",
    "\n",
    "plt.show() "
   ]
  },
  {
   "cell_type": "code",
   "execution_count": null,
   "metadata": {},
   "outputs": [],
   "source": [
    "#zoom in (counts in log space)\n",
    "fig = plt.figure()\n",
    "ax = fig.add_subplot(111)\n",
    "plt.hist(urban_county[(urban_county.P0030005_DP!=0) | (urban_county.P0030005_SF!=0)].abs_diff, bins = 100)\n",
    "plt.yscale('log')\n",
    "\n",
    "plt.title('County level; urban AIAN count difference, excluding points that remained at 0.')\n",
    "\n",
    "plt.show() "
   ]
  },
  {
   "cell_type": "code",
   "execution_count": null,
   "metadata": {},
   "outputs": [],
   "source": [
    "#subset to urban areas, grouped by county\n",
    "urban_tract = df[df.UR== 'U'].copy(deep=True)\n",
    "urban_tract = urban_tract.groupby(['STATE','COUNTY','TRACT'])['P0030005_SF','P0030005_DP',\n",
    "                                                              'P0060004_SF','P0060004_DP',\n",
    "                                                              'P0010001_SF','P0010001_DP'].apply(lambda x : x.astype(int).sum())"
   ]
  },
  {
   "cell_type": "code",
   "execution_count": null,
   "metadata": {},
   "outputs": [],
   "source": [
    "#plot urban areas by tract, dp vs sf\n",
    "x = urban_tract[[\"P0030005_SF\"]]\n",
    "y = urban_tract[[\"P0030005_DP\"]]\n",
    "\n",
    "fig = plt.figure() \n",
    "fig.set_size_inches(6,6)\n",
    "\n",
    "ax = fig.add_subplot(111)\n",
    "ax.scatter(x, y, facecolors='none', edgecolors = 'cornflowerblue')\n",
    "ax.set_aspect('equal', adjustable='box')\n",
    "\n",
    "xleft, xright = ax.get_xlim()\n",
    "ybottom, ytop = ax.get_ylim()\n",
    "lim = max(xright,ytop)\n",
    "ax.plot([-1,lim],[-1,lim], 'red', linewidth=1)\n",
    "\n",
    "plt.xlabel('SF urban AIAN alone, counts')\n",
    "plt.ylabel('DP urban AIAN alone, counts')\n",
    "plt.title('tract level: urban AIAN alone count change')\n",
    "\n",
    "plt.show()"
   ]
  },
  {
   "cell_type": "code",
   "execution_count": null,
   "metadata": {},
   "outputs": [],
   "source": [
    "#check out count difference\n",
    "urban_tract['abs_diff'] = urban_tract['P0030005_DP'] - urban_tract['P0030005_SF']\n",
    "\n",
    "#plot histogram\n",
    "fig = plt.figure()\n",
    "ax = fig.add_subplot(111)\n",
    "plt.hist(urban_tract[(urban_tract.P0030005_DP!=0) | (urban_tract.P0030005_SF!=0)].abs_diff, bins = 100)\n",
    "\n",
    "plt.title('Tract level; urban AIAN count difference, excluding points that remained at 0.')\n",
    "\n",
    "plt.show() "
   ]
  },
  {
   "cell_type": "code",
   "execution_count": null,
   "metadata": {},
   "outputs": [],
   "source": [
    "urban_county.abs_diff.describe()"
   ]
  },
  {
   "cell_type": "code",
   "execution_count": null,
   "metadata": {},
   "outputs": [],
   "source": [
    "#zooming in (this is same as above scatter)\n",
    "urban_county[(urban_county.P0030005_DP<5e2) | (urban_county.P0030005_SF<5e2)].abs_diff.describe()"
   ]
  },
  {
   "cell_type": "code",
   "execution_count": null,
   "metadata": {},
   "outputs": [],
   "source": [
    "#zoom in (counts in log space)\n",
    "urban_tract['abs_diff'] = urban_tract['P0030005_DP'] - urban_tract['P0030005_SF']\n",
    "\n",
    "#plot histogram\n",
    "fig = plt.figure()\n",
    "ax = fig.add_subplot(111)\n",
    "plt.hist(urban_tract[(urban_tract.P0030005_DP!=0) | (urban_tract.P0030005_SF!=0)].abs_diff, bins = 100)\n",
    "plt.yscale('log')\n",
    "\n",
    "plt.title('Tract level; urban AIAN count difference, excluding points that remained at 0.')\n",
    "\n",
    "plt.show() "
   ]
  },
  {
   "cell_type": "markdown",
   "metadata": {},
   "source": [
    "## checkout AIAN in combo (solely AIAN + AIAN mixed individuals)"
   ]
  },
  {
   "cell_type": "code",
   "execution_count": null,
   "metadata": {},
   "outputs": [],
   "source": [
    "#check out AIAN in combo, county level counts change\n",
    "x = urban_county[[\"P0060004_SF\"]]\n",
    "y = urban_county[[\"P0060004_DP\"]]\n",
    "\n",
    "fig = plt.figure() \n",
    "fig.set_size_inches(6,6)\n",
    "\n",
    "ax = fig.add_subplot(111)\n",
    "ax.scatter(x, y, facecolors='none', edgecolors = 'cornflowerblue')\n",
    "ax.set_aspect('equal', adjustable='box')\n",
    "\n",
    "xleft, xright = ax.get_xlim()\n",
    "ybottom, ytop = ax.get_ylim()\n",
    "lim = max(xright,ytop)\n",
    "ax.plot([-1,lim],[-1,lim], 'red', linewidth=1)\n",
    "\n",
    "xleft, xright = ax.get_xlim()\n",
    "ybottom, ytop = ax.get_ylim()\n",
    "ax.plot([-1,xright],[-1,ytop], 'red', linewidth=1)\n",
    "\n",
    "plt.xlabel('SF urban AIAN alone, counts')\n",
    "plt.ylabel('DP urban AIAN alone, counts')\n",
    "plt.title('county level: urban AIAN in combo count change')\n",
    "\n",
    "plt.show()"
   ]
  },
  {
   "cell_type": "code",
   "execution_count": null,
   "metadata": {},
   "outputs": [],
   "source": [
    "#zooming in\n",
    "\n",
    "#check out AIAN in combo, county level counts change\n",
    "x = urban_county[(urban_county.P0060004_DP<6e4) | (urban_county.P0060004_SF<6e4)][[\"P0060004_SF\"]]\n",
    "y = urban_county[(urban_county.P0060004_DP<6e4) | (urban_county.P0060004_SF<6e4)][[\"P0060004_DP\"]]\n",
    "\n",
    "fig = plt.figure() \n",
    "fig.set_size_inches(6,6)\n",
    "\n",
    "ax = fig.add_subplot(111)\n",
    "ax.scatter(x, y, facecolors='none', edgecolors = 'cornflowerblue')\n",
    "ax.set_aspect('equal', adjustable='box')\n",
    "\n",
    "xleft, xright = ax.get_xlim()\n",
    "ybottom, ytop = ax.get_ylim()\n",
    "lim = max(xright,ytop)\n",
    "ax.plot([-1,lim],[-1,lim], 'red', linewidth=1)\n",
    "\n",
    "xleft, xright = ax.get_xlim()\n",
    "ybottom, ytop = ax.get_ylim()\n",
    "ax.plot([-1,xright],[-1,ytop], 'red', linewidth=1)\n",
    "\n",
    "plt.xlabel('SF urban AIAN alone, counts')\n",
    "plt.ylabel('DP urban AIAN alone, counts')\n",
    "plt.title('county level: urban AIAN in combo count change, for mixed counts <6e4')\n",
    "\n",
    "plt.show()"
   ]
  },
  {
   "cell_type": "code",
   "execution_count": null,
   "metadata": {},
   "outputs": [],
   "source": [
    "#zooming in\n",
    "\n",
    "#check out AIAN in combo, county level counts change\n",
    "x = urban_county[(urban_county.P0060004_DP<5e3) | (urban_county.P0060004_SF<5e3)][[\"P0060004_SF\"]]\n",
    "y = urban_county[(urban_county.P0060004_DP<5e3) | (urban_county.P0060004_SF<5e3)][[\"P0060004_DP\"]]\n",
    "\n",
    "fig = plt.figure() \n",
    "fig.set_size_inches(6,6)\n",
    "\n",
    "ax = fig.add_subplot(111)\n",
    "ax.scatter(x, y, facecolors='none', edgecolors = 'cornflowerblue')\n",
    "ax.set_aspect('equal', adjustable='box')\n",
    "\n",
    "xleft, xright = ax.get_xlim()\n",
    "ybottom, ytop = ax.get_ylim()\n",
    "lim = max(xright,ytop)\n",
    "ax.plot([-1,lim],[-1,lim], 'red', linewidth=1)\n",
    "\n",
    "xleft, xright = ax.get_xlim()\n",
    "ybottom, ytop = ax.get_ylim()\n",
    "ax.plot([-1,xright],[-1,ytop], 'red', linewidth=1)\n",
    "\n",
    "plt.xlabel('SF urban AIAN alone, counts')\n",
    "plt.ylabel('DP urban AIAN alone, counts')\n",
    "plt.title('county level: urban AIAN in combo count change, for mixed counts<2e4')\n",
    "\n",
    "plt.show()"
   ]
  },
  {
   "cell_type": "markdown",
   "metadata": {},
   "source": [
    "## View DP-SF difference as a function of AIAN count"
   ]
  },
  {
   "cell_type": "code",
   "execution_count": null,
   "metadata": {},
   "outputs": [],
   "source": [
    "urban_county[\"abs_diff_aian_combo\"] = urban_county[\"P0060004_DP\"] - urban_county[\"P0060004_SF\"]\n",
    "\n",
    "#check out AIAN in combo, county level counts change\n",
    "x = urban_county[[\"P0060004_SF\"]]\n",
    "y = urban_county[[\"abs_diff_aian_combo\"]]\n",
    "\n",
    "fig = plt.figure() \n",
    "fig.set_size_inches(6,6)\n",
    "\n",
    "ax = fig.add_subplot(111)\n",
    "ax.scatter(x, y, facecolors='none', edgecolors = 'cornflowerblue')\n",
    "\n",
    "xleft, xright = ax.get_xlim()\n",
    "ax.plot([0,xright],[0,0], 'red', linewidth=1)\n",
    "\n",
    "plt.xlabel('SF urban AIAN alone, counts')\n",
    "plt.ylabel('change in DP count from SF')\n",
    "plt.title('county level: urban AIAN in combo count change')\n",
    "\n",
    "plt.show()"
   ]
  },
  {
   "cell_type": "code",
   "execution_count": null,
   "metadata": {},
   "outputs": [],
   "source": [
    "#zooming in \n",
    "\n",
    "#check out AIAN alone, county level counts change\n",
    "x = urban_county[[\"P0030005_SF\"]]\n",
    "y = urban_county[[\"abs_diff\"]]\n",
    "\n",
    "fig = plt.figure() \n",
    "fig.set_size_inches(6,6)\n",
    "\n",
    "ax = fig.add_subplot(111)\n",
    "ax.scatter(x, y, facecolors='none', edgecolors = 'cornflowerblue')\n",
    "\n",
    "xleft, xright = ax.get_xlim()\n",
    "ax.plot([0,xright],[0,0], 'red', linewidth=1)\n",
    "\n",
    "\n",
    "plt.xlabel('SF urban AIAN alone, counts')\n",
    "plt.ylabel('change in DP count from SF')\n",
    "plt.title('county level: urban AIAN alone count change')\n",
    "\n",
    "plt.show()"
   ]
  },
  {
   "cell_type": "code",
   "execution_count": null,
   "metadata": {},
   "outputs": [],
   "source": [
    "#zooming in \n",
    "\n",
    "#check out AIAN alone, county level counts change\n",
    "x = urban_county[(urban_county.P0030005_SF<2e5)][[\"P0030005_SF\"]]\n",
    "y = urban_county[(urban_county.P0030005_SF<2e5)][[\"abs_diff\"]]\n",
    "\n",
    "fig = plt.figure() \n",
    "fig.set_size_inches(6,6)\n",
    "\n",
    "ax = fig.add_subplot(111)\n",
    "ax.scatter(x, y, facecolors='none', edgecolors = 'cornflowerblue')\n",
    "\n",
    "xleft, xright = ax.get_xlim()\n",
    "ax.plot([0,xright],[0,0], 'red', linewidth=1)\n",
    "\n",
    "\n",
    "plt.xlabel('SF urban AIAN alone, counts')\n",
    "plt.ylabel('change in DP count from SF')\n",
    "plt.title('county level: urban AIAN alone count change for counties with <2e5 AIAN alone')\n",
    "\n",
    "plt.show()"
   ]
  },
  {
   "cell_type": "code",
   "execution_count": null,
   "metadata": {},
   "outputs": [],
   "source": [
    "#todo: you need to checkout the distribution of urban aian, and also on-res aian\n",
    "#to see if it looks like what you were seeing with toy data."
   ]
  },
  {
   "cell_type": "code",
   "execution_count": null,
   "metadata": {},
   "outputs": [],
   "source": [
    "urban_county.size"
   ]
  },
  {
   "cell_type": "markdown",
   "metadata": {},
   "source": [
    "# checkout aian urban overall distribution"
   ]
  },
  {
   "cell_type": "code",
   "execution_count": 30,
   "metadata": {},
   "outputs": [
    {
     "data": {
      "image/png": "[encoded data removed]",
      "text/plain": [
       "<Figure size 432x288 with 1 Axes>"
      ]
     },
     "metadata": {
      "needs_background": "light"
     },
     "output_type": "display_data"
    }
   ],
   "source": [
    "#check out AIAN alone, county level counts change\n",
    "x = urban_county[[\"P0030005_SF\"]]\n",
    "\n",
    "plt.hist(x, bins = 100)\n",
    "plt.title('SF AIAN urban')\n",
    "\n",
    "plt.show()"
   ]
  },
  {
   "cell_type": "code",
   "execution_count": 33,
   "metadata": {},
   "outputs": [
    {
     "data": {
      "image/png": "[encoded data removed]",
      "text/plain": [
       "<Figure size 432x288 with 1 Axes>"
      ]
     },
     "metadata": {
      "needs_background": "light"
     },
     "output_type": "display_data"
    }
   ],
   "source": [
    "#check out AIAN alone, county level counts change\n",
    "x = urban_county[[\"P0030005_SF\"]]\n",
    "\n",
    "plt.hist(x, bins = 500, log = True)\n",
    "plt.title('SF AIAN urban')\n",
    "\n",
    "plt.show()"
   ]
  },
  {
   "cell_type": "code",
   "execution_count": null,
   "metadata": {},
   "outputs": [],
   "source": []
  }
 ],
 "metadata": {
  "kernelspec": {
   "display_name": "Python 3",
   "language": "python",
   "name": "python3"
  },
  "language_info": {
   "codemirror_mode": {
    "name": "ipython",
    "version": 3
   },
   "file_extension": ".py",
   "mimetype": "text/x-python",
   "name": "python",
   "nbconvert_exporter": "python",
   "pygments_lexer": "ipython3",
   "version": "3.6.10"
  }
 },
 "nbformat": 4,
 "nbformat_minor": 4
}
