{
 "cells": [
  {
   "cell_type": "code",
   "execution_count": 2,
   "metadata": {},
   "outputs": [],
   "source": [
    "# 1/20/2020 20 threads, 40G\n",
    "    #read csv: wall time: 7min 45s\n",
    "    #read dta: Wall time: 1h 3min 45s\n",
    "    \n",
    "# 1/21/2020 20 threads, 100G\n",
    "    #read csv: Wall time: 5min 48s\n",
    "    #read dta: Wall time: 37min 3s\n",
    "    \n",
    "# 1/21/2020 1:54PM, 20 threads, 100G\n",
    "    #read csv: Wall time: 8min 16s\n",
    "    #read dta: Wall time: "
   ]
  },
  {
   "cell_type": "code",
   "execution_count": 3,
   "metadata": {},
   "outputs": [
    {
     "name": "stdout",
     "output_type": "stream",
     "text": [
      "Wed Feb 26 23:59:49 PST 2020\r\n"
     ]
    }
   ],
   "source": [
    "import json\n",
    "import numpy as np\n",
    "import matplotlib.pyplot as plt\n",
    "import matplotlib.axes as axes\n",
    "import pandas as pd\n",
    "import seaborn as sns\n",
    "pd.set_option('display.max_rows', 20)\n",
    "!date"
   ]
  },
  {
   "cell_type": "markdown",
   "metadata": {},
   "source": [
    "# 2010 census demo data. AIAN pop in urban vs rural areas: looking for the downward bias in DP counts ala Akee's findings"
   ]
  },
  {
   "cell_type": "markdown",
   "metadata": {},
   "source": [
    "Akee's talk here: https://vimeo.com/380264104"
   ]
  },
  {
   "cell_type": "code",
   "execution_count": 4,
   "metadata": {},
   "outputs": [],
   "source": [
    "##Encoding of the AIANHH var:\n",
    "#0001–4999 Federally recognized American Indian reservation and/or off-reservation trust land\n",
    "#5000–5499 Hawaiian home land 5500–5999 Oklahoma tribal statistical area\n",
    "#5500–5999 Oklahoma tribal statistical area\n",
    "#6000–7999 Alaska Native village statistical area\n",
    "#8000–8999 Tribal designated statistical area\n",
    "#9000–9499 State-recognized American Indian reservation\n",
    "#9500–9998 State designated tribal statistical area "
   ]
  },
  {
   "cell_type": "code",
   "execution_count": 5,
   "metadata": {},
   "outputs": [],
   "source": [
    "location_cols = ['STATE', 'COUNTY', 'TRACT', 'BLKGRP', 'BLOCK']\n",
    "\n",
    "race_cols = ['P0030004','P0060004'] # AIAN alone, AIAN combo\n",
    "keep_cols = location_cols + race_cols\n",
    "\n",
    "def my_cols(x):\n",
    "    if x.startswith('P001'):\n",
    "        return True\n",
    "    elif x.startswith(('AIAN','AITS','TTRACT','UA','UR')):\n",
    "        return True\n",
    "    else:\n",
    "        return (x in keep_cols)"
   ]
  },
  {
   "cell_type": "code",
   "execution_count": 6,
   "metadata": {},
   "outputs": [
    {
     "name": "stderr",
     "output_type": "stream",
     "text": [
      "<string>:2: DtypeWarning: Columns (28,32,33,47,49,50) have mixed types.Specify dtype option on import or set low_memory=False.\n"
     ]
    },
    {
     "name": "stdout",
     "output_type": "stream",
     "text": [
      "CPU times: user 8min 6s, sys: 29.6 s, total: 8min 36s\n",
      "Wall time: 8min 41s\n"
     ]
    }
   ],
   "source": [
    "%%time\n",
    "\n",
    "df_dp = pd.read_csv('/home/j/temp/abie/fiftystates2010dhc.csv', usecols=my_cols)"
   ]
  },
  {
   "cell_type": "code",
   "execution_count": 7,
   "metadata": {},
   "outputs": [
    {
     "data": {
      "text/plain": [
       "['state',\n",
       " 'county',\n",
       " 'tract',\n",
       " 'blkgrp',\n",
       " 'block',\n",
       " 'aianhh',\n",
       " 'aianhhfp',\n",
       " 'aianhhcc',\n",
       " 'aitsce',\n",
       " 'aits',\n",
       " 'aitscc',\n",
       " 'ttract',\n",
       " 'ua',\n",
       " 'uasc',\n",
       " 'uatype',\n",
       " 'ur',\n",
       " 'aianhhns',\n",
       " 'aitsns',\n",
       " 'aianhhsc',\n",
       " 'P0010001',\n",
       " 'P0030004',\n",
       " 'P0060004']"
      ]
     },
     "execution_count": 7,
     "metadata": {},
     "output_type": "execute_result"
    }
   ],
   "source": [
    "dta_columns = [x.lower() for x in df_dp.columns] #grab col names as lowercase\n",
    "dta_columns[-3:] = df_dp.columns[-3:] #coded vars are capitalized\n",
    "dta_columns #check contents"
   ]
  },
  {
   "cell_type": "code",
   "execution_count": 13,
   "metadata": {},
   "outputs": [
    {
     "name": "stdout",
     "output_type": "stream",
     "text": [
      "CPU times: user 11.1 s, sys: 2.8 s, total: 13.9 s\n",
      "Wall time: 13.9 s\n"
     ]
    }
   ],
   "source": [
    "%%time\n",
    "\n",
    "# r = pd.read_stata('/home/j/temp/abie/all50states_2010ur1_all_vars.dta', columns=dta_columns,\n",
    "#                  chunksize=100_000, convert_missing=True, preserve_dtypes=False)\n",
    "\n",
    "# df_sf = pd.DataFrame()\n",
    "# for t in r:\n",
    "#     print('.', flush=True, end=' ')\n",
    "#     df_sf = df_sf.append(t[t.block != ''])\n",
    "# df_sf.shape\n",
    "\n",
    "# #saved AIAN-relevant vars here; loads faster than the .dta\n",
    "df_sf = pd.read_csv('/home/j/temp/beatrixh/all50states_AIAN_asian_and_urban.csv')"
   ]
  },
  {
   "cell_type": "code",
   "execution_count": 11,
   "metadata": {},
   "outputs": [],
   "source": [
    "# df_sf.to_csv(r'/home/j/temp/beatrixh/all50states_AIAN_asian_and_urban.csv', index = None, header=True)"
   ]
  },
  {
   "cell_type": "code",
   "execution_count": 14,
   "metadata": {},
   "outputs": [
    {
     "data": {
      "text/plain": [
       "<bound method NDFrame.head of           STATE  COUNTY   TRACT  BLKGRP  BLOCK  AIANHH  AIANHHFP AIANHHCC  \\\n",
       "0             2      13     100       1   1363    9999     99999       99   \n",
       "1             2      13     100       1   1366    9999     99999       99   \n",
       "2             2      13     100       1   1369    9999     99999       99   \n",
       "3             2      13     100       1   1370    6030      1095       E1   \n",
       "4             2      13     100       1   1371    6030      1095       E1   \n",
       "...         ...     ...     ...     ...    ...     ...       ...      ...   \n",
       "11071785     56      45  951100       1   1868    9999     99999       99   \n",
       "11071786     56      45  951100       1   1869    9999     99999       99   \n",
       "11071787     56      45  951100       1   1870    9999     99999       99   \n",
       "11071788     56      45  951100       1   1871    9999     99999       99   \n",
       "11071789     56      45  951100       2   2985    9999     99999       99   \n",
       "\n",
       "          AITSCE   AITS  ...     UA UASC  UATYPE  UR  AIANHHNS    AITSNS  \\\n",
       "0            999  99999  ...  99999   99       9   R  99999999  99999999   \n",
       "1            999  99999  ...  99999   99       9   R  99999999  99999999   \n",
       "2            999  99999  ...  99999   99       9   R  99999999  99999999   \n",
       "3            999  99999  ...  99999   99       9   R   2418758  99999999   \n",
       "4            999  99999  ...  99999   99       9   R   2418758  99999999   \n",
       "...          ...    ...  ...    ...  ...     ...  ..       ...       ...   \n",
       "11071785     999  99999  ...  99999   99       9   R  99999999  99999999   \n",
       "11071786     999  99999  ...  99999   99       9   R  99999999  99999999   \n",
       "11071787     999  99999  ...  99999   99       9   R  99999999  99999999   \n",
       "11071788     999  99999  ...  99999   99       9   R  99999999  99999999   \n",
       "11071789     999  99999  ...  99999   99       9   R  99999999  99999999   \n",
       "\n",
       "          AIANHHSC  P0010001  P0030004  P0060004  \n",
       "0                0        24         0         0  \n",
       "1                0         0         0         0  \n",
       "2                0         0         0         0  \n",
       "3                9         0         0         0  \n",
       "4                9       942        18        27  \n",
       "...            ...       ...       ...       ...  \n",
       "11071785         0         0         0         0  \n",
       "11071786         0         0         0         0  \n",
       "11071787         0         0         0         0  \n",
       "11071788         0         0         0         0  \n",
       "11071789         0         0         0         0  \n",
       "\n",
       "[11071790 rows x 22 columns]>"
      ]
     },
     "execution_count": 14,
     "metadata": {},
     "output_type": "execute_result"
    }
   ],
   "source": [
    "df_sf.columns = [x.upper() for x in df_sf.columns]\n",
    "df_sf.head"
   ]
  },
  {
   "cell_type": "code",
   "execution_count": 16,
   "metadata": {},
   "outputs": [],
   "source": [
    "df_sf = df_sf.drop('UASC', axis=1)\n",
    "df_dp = df_dp.drop('UASC', axis=1)"
   ]
  },
  {
   "cell_type": "code",
   "execution_count": 17,
   "metadata": {},
   "outputs": [],
   "source": [
    "location_cols = ['STATE', 'COUNTY', 'TRACT', 'BLKGRP', 'BLOCK', 'AIANHH']"
   ]
  },
  {
   "cell_type": "code",
   "execution_count": 21,
   "metadata": {},
   "outputs": [],
   "source": [
    "block_level = pd.merge(df_sf[df_sf.BLOCK.notnull()], df_dp[df_dp.BLOCK.notnull()][location_cols + ['P0060004','P0010001','P0030004']], left_on=location_cols, right_on=location_cols, suffixes=('_SF', '_DP'))"
   ]
  },
  {
   "cell_type": "code",
   "execution_count": 22,
   "metadata": {},
   "outputs": [],
   "source": [
    "block_level_aian = block_level[block_level.AIANHH!=9999]"
   ]
  },
  {
   "cell_type": "code",
   "execution_count": 23,
   "metadata": {},
   "outputs": [
    {
     "name": "stderr",
     "output_type": "stream",
     "text": [
      "/share/code/beatrixh/miniconda/envs/beatrix/lib/python3.6/site-packages/ipykernel_launcher.py:3: FutureWarning: Indexing with multiple keys (implicitly converted to a tuple of keys) will be deprecated, use a list instead.\n",
      "  This is separate from the ipykernel package so we can avoid doing imports until\n"
     ]
    }
   ],
   "source": [
    "block_level_aian_res_agg = block_level_aian.groupby(['AIANHH'])['P0030004_SF','P0030004_DP',\n",
    "                                                                'P0060004_SF','P0060004_DP',\n",
    "                                                                'P0010001_SF','P0010001_DP'].apply(lambda x : x.astype(int).sum())"
   ]
  },
  {
   "cell_type": "code",
   "execution_count": 35,
   "metadata": {},
   "outputs": [
    {
     "data": {
      "image/png": "[encoded data removed]",
      "text/plain": [
       "<Figure size 576x576 with 1 Axes>"
      ]
     },
     "metadata": {
      "needs_background": "light"
     },
     "output_type": "display_data"
    }
   ],
   "source": [
    "# overall aian on res\n",
    "x = block_level_aian_res_agg[[\"P0030004_SF\"]]\n",
    "y = block_level_aian_res_agg[[\"P0030004_DP\"]]\n",
    "\n",
    "fig = plt.figure() \n",
    "fig.set_size_inches(8,8)\n",
    "\n",
    "ax = fig.add_subplot(111)\n",
    "ax.scatter(x, y, facecolors='none', edgecolors = 'cornflowerblue')\n",
    "ax.set_aspect('equal', adjustable='box')\n",
    "\n",
    "xleft, xright = ax.get_xlim()\n",
    "ybottom, ytop = ax.get_ylim()\n",
    "lim = max(xright,ytop)\n",
    "ax.plot([-1,lim],[-1,lim], 'red', linewidth=1)\n",
    "\n",
    "plt.xlabel('2010 census counts with swapping')\n",
    "plt.ylabel('2010 census counts with DP')\n",
    "plt.title('All reservations including Navajo: \\n Change in AIAN alone population on reservations')\n",
    "\n",
    "plt.show()"
   ]
  },
  {
   "cell_type": "code",
   "execution_count": 36,
   "metadata": {},
   "outputs": [
    {
     "data": {
      "image/png": "[encoded data removed]",
      "text/plain": [
       "<Figure size 576x576 with 1 Axes>"
      ]
     },
     "metadata": {
      "needs_background": "light"
     },
     "output_type": "display_data"
    }
   ],
   "source": [
    "# zoom in\n",
    "x = block_level_aian_res_agg[(block_level_aian_res_agg.P0030004_SF<5e3)|(block_level_aian_res_agg.P0030004_DP<5e3)][[\"P0030004_SF\"]]\n",
    "y = block_level_aian_res_agg[(block_level_aian_res_agg.P0030004_SF<5e3)|(block_level_aian_res_agg.P0030004_DP<5e3)][[\"P0030004_DP\"]]\n",
    "\n",
    "fig = plt.figure() \n",
    "fig.set_size_inches(8,8)\n",
    "\n",
    "ax = fig.add_subplot(111)\n",
    "ax.scatter(x, y, facecolors='none', edgecolors = 'cornflowerblue')\n",
    "ax.set_aspect('equal', adjustable='box')\n",
    "\n",
    "xleft, xright = ax.get_xlim()\n",
    "ybottom, ytop = ax.get_ylim()\n",
    "lim = max(xright,ytop)\n",
    "ax.plot([-1,lim],[-1,lim], 'red', linewidth=1)\n",
    "\n",
    "plt.xlabel('2010 census counts with swapping')\n",
    "plt.ylabel('2010 census counts with DP')\n",
    "plt.title('Reservations excluding populations > 5000: \\n Change in AIAN alone population on reservations')\n",
    "\n",
    "plt.show()"
   ]
  },
  {
   "cell_type": "code",
   "execution_count": null,
   "metadata": {},
   "outputs": [],
   "source": []
  },
  {
   "cell_type": "code",
   "execution_count": 23,
   "metadata": {},
   "outputs": [
    {
     "data": {
      "text/plain": [
       "STATE         int64\n",
       "COUNTY      float64\n",
       "TRACT       float64\n",
       "BLKGRP      float64\n",
       "BLOCK       float64\n",
       "             ...   \n",
       "AITSNS      float64\n",
       "AIANHHSC    float64\n",
       "P0010001      int64\n",
       "P0030005      int64\n",
       "P0060004      int64\n",
       "Length: 22, dtype: object"
      ]
     },
     "execution_count": 23,
     "metadata": {},
     "output_type": "execute_result"
    }
   ],
   "source": [
    "#store columns by type\n",
    "float_cols = list(df_dp.loc[:, df_dp.dtypes == np.float64].columns)\n",
    "int_cols = df_dp.loc[:, df_dp.dtypes == np.int64].columns\n",
    "\n",
    "#conver df_sf to correct dtypes\n",
    "df_sf.loc[:,float_cols] = df_sf.loc[:,float_cols].astype(np.float64)\n",
    "df_sf.loc[:,int_cols] = df_sf.loc[:,int_cols].astype(np.int64)\n",
    "\n",
    "#check\n",
    "df_sf.dtypes"
   ]
  },
  {
   "cell_type": "code",
   "execution_count": 24,
   "metadata": {},
   "outputs": [
    {
     "name": "stderr",
     "output_type": "stream",
     "text": [
      "/share/code/beatrixh/miniconda/envs/beatrix/lib/python3.6/site-packages/pandas/core/ops/array_ops.py:253: FutureWarning: elementwise comparison failed; returning scalar instead, but in the future will perform elementwise comparison\n",
      "  res_values = method(rvalues)\n"
     ]
    },
    {
     "data": {
      "text/html": [
       "<div>\n",
       "<style scoped>\n",
       "    .dataframe tbody tr th:only-of-type {\n",
       "        vertical-align: middle;\n",
       "    }\n",
       "\n",
       "    .dataframe tbody tr th {\n",
       "        vertical-align: top;\n",
       "    }\n",
       "\n",
       "    .dataframe thead th {\n",
       "        text-align: right;\n",
       "    }\n",
       "</style>\n",
       "<table border=\"1\" class=\"dataframe\">\n",
       "  <thead>\n",
       "    <tr style=\"text-align: right;\">\n",
       "      <th></th>\n",
       "      <th>STATE</th>\n",
       "      <th>COUNTY</th>\n",
       "      <th>TRACT</th>\n",
       "      <th>BLKGRP</th>\n",
       "      <th>BLOCK</th>\n",
       "      <th>P0030005_SF</th>\n",
       "      <th>P0060004_SF</th>\n",
       "      <th>P0010001_SF</th>\n",
       "      <th>AIANHH</th>\n",
       "      <th>AIANHHFP</th>\n",
       "      <th>...</th>\n",
       "      <th>UA</th>\n",
       "      <th>UASC</th>\n",
       "      <th>UATYPE</th>\n",
       "      <th>UR</th>\n",
       "      <th>AIANHHNS</th>\n",
       "      <th>AITSNS</th>\n",
       "      <th>AIANHHSC</th>\n",
       "      <th>P0010001_DP</th>\n",
       "      <th>P0030005_DP</th>\n",
       "      <th>P0060004_DP</th>\n",
       "    </tr>\n",
       "  </thead>\n",
       "  <tbody>\n",
       "    <tr>\n",
       "      <th>0</th>\n",
       "      <td>2</td>\n",
       "      <td>13.0</td>\n",
       "      <td>100.0</td>\n",
       "      <td>1.0</td>\n",
       "      <td>1363.0</td>\n",
       "      <td>5</td>\n",
       "      <td>0</td>\n",
       "      <td>24</td>\n",
       "      <td>9999.0</td>\n",
       "      <td>99999.0</td>\n",
       "      <td>...</td>\n",
       "      <td>99999</td>\n",
       "      <td>NaN</td>\n",
       "      <td>9</td>\n",
       "      <td>R</td>\n",
       "      <td>99999999.0</td>\n",
       "      <td>99999999.0</td>\n",
       "      <td>NaN</td>\n",
       "      <td>87</td>\n",
       "      <td>0</td>\n",
       "      <td>42</td>\n",
       "    </tr>\n",
       "    <tr>\n",
       "      <th>1</th>\n",
       "      <td>2</td>\n",
       "      <td>13.0</td>\n",
       "      <td>100.0</td>\n",
       "      <td>1.0</td>\n",
       "      <td>1366.0</td>\n",
       "      <td>0</td>\n",
       "      <td>0</td>\n",
       "      <td>0</td>\n",
       "      <td>9999.0</td>\n",
       "      <td>99999.0</td>\n",
       "      <td>...</td>\n",
       "      <td>99999</td>\n",
       "      <td>NaN</td>\n",
       "      <td>9</td>\n",
       "      <td>R</td>\n",
       "      <td>99999999.0</td>\n",
       "      <td>99999999.0</td>\n",
       "      <td>NaN</td>\n",
       "      <td>0</td>\n",
       "      <td>0</td>\n",
       "      <td>0</td>\n",
       "    </tr>\n",
       "    <tr>\n",
       "      <th>2</th>\n",
       "      <td>2</td>\n",
       "      <td>13.0</td>\n",
       "      <td>100.0</td>\n",
       "      <td>1.0</td>\n",
       "      <td>1369.0</td>\n",
       "      <td>0</td>\n",
       "      <td>0</td>\n",
       "      <td>0</td>\n",
       "      <td>9999.0</td>\n",
       "      <td>99999.0</td>\n",
       "      <td>...</td>\n",
       "      <td>99999</td>\n",
       "      <td>NaN</td>\n",
       "      <td>9</td>\n",
       "      <td>R</td>\n",
       "      <td>99999999.0</td>\n",
       "      <td>99999999.0</td>\n",
       "      <td>NaN</td>\n",
       "      <td>0</td>\n",
       "      <td>0</td>\n",
       "      <td>0</td>\n",
       "    </tr>\n",
       "    <tr>\n",
       "      <th>3</th>\n",
       "      <td>2</td>\n",
       "      <td>13.0</td>\n",
       "      <td>100.0</td>\n",
       "      <td>1.0</td>\n",
       "      <td>1370.0</td>\n",
       "      <td>0</td>\n",
       "      <td>0</td>\n",
       "      <td>0</td>\n",
       "      <td>6030.0</td>\n",
       "      <td>1095.0</td>\n",
       "      <td>...</td>\n",
       "      <td>99999</td>\n",
       "      <td>NaN</td>\n",
       "      <td>9</td>\n",
       "      <td>R</td>\n",
       "      <td>2418758.0</td>\n",
       "      <td>99999999.0</td>\n",
       "      <td>NaN</td>\n",
       "      <td>0</td>\n",
       "      <td>0</td>\n",
       "      <td>0</td>\n",
       "    </tr>\n",
       "    <tr>\n",
       "      <th>4</th>\n",
       "      <td>2</td>\n",
       "      <td>13.0</td>\n",
       "      <td>100.0</td>\n",
       "      <td>1.0</td>\n",
       "      <td>1371.0</td>\n",
       "      <td>438</td>\n",
       "      <td>27</td>\n",
       "      <td>942</td>\n",
       "      <td>6030.0</td>\n",
       "      <td>1095.0</td>\n",
       "      <td>...</td>\n",
       "      <td>99999</td>\n",
       "      <td>NaN</td>\n",
       "      <td>9</td>\n",
       "      <td>R</td>\n",
       "      <td>2418758.0</td>\n",
       "      <td>99999999.0</td>\n",
       "      <td>NaN</td>\n",
       "      <td>988</td>\n",
       "      <td>361</td>\n",
       "      <td>129</td>\n",
       "    </tr>\n",
       "    <tr>\n",
       "      <th>...</th>\n",
       "      <td>...</td>\n",
       "      <td>...</td>\n",
       "      <td>...</td>\n",
       "      <td>...</td>\n",
       "      <td>...</td>\n",
       "      <td>...</td>\n",
       "      <td>...</td>\n",
       "      <td>...</td>\n",
       "      <td>...</td>\n",
       "      <td>...</td>\n",
       "      <td>...</td>\n",
       "      <td>...</td>\n",
       "      <td>...</td>\n",
       "      <td>...</td>\n",
       "      <td>...</td>\n",
       "      <td>...</td>\n",
       "      <td>...</td>\n",
       "      <td>...</td>\n",
       "      <td>...</td>\n",
       "      <td>...</td>\n",
       "      <td>...</td>\n",
       "    </tr>\n",
       "    <tr>\n",
       "      <th>11071785</th>\n",
       "      <td>56</td>\n",
       "      <td>45.0</td>\n",
       "      <td>951100.0</td>\n",
       "      <td>1.0</td>\n",
       "      <td>1868.0</td>\n",
       "      <td>0</td>\n",
       "      <td>0</td>\n",
       "      <td>0</td>\n",
       "      <td>9999.0</td>\n",
       "      <td>99999.0</td>\n",
       "      <td>...</td>\n",
       "      <td>99999</td>\n",
       "      <td>NaN</td>\n",
       "      <td>9</td>\n",
       "      <td>R</td>\n",
       "      <td>99999999.0</td>\n",
       "      <td>99999999.0</td>\n",
       "      <td>NaN</td>\n",
       "      <td>0</td>\n",
       "      <td>0</td>\n",
       "      <td>0</td>\n",
       "    </tr>\n",
       "    <tr>\n",
       "      <th>11071786</th>\n",
       "      <td>56</td>\n",
       "      <td>45.0</td>\n",
       "      <td>951100.0</td>\n",
       "      <td>1.0</td>\n",
       "      <td>1869.0</td>\n",
       "      <td>0</td>\n",
       "      <td>0</td>\n",
       "      <td>0</td>\n",
       "      <td>9999.0</td>\n",
       "      <td>99999.0</td>\n",
       "      <td>...</td>\n",
       "      <td>99999</td>\n",
       "      <td>NaN</td>\n",
       "      <td>9</td>\n",
       "      <td>R</td>\n",
       "      <td>99999999.0</td>\n",
       "      <td>99999999.0</td>\n",
       "      <td>NaN</td>\n",
       "      <td>0</td>\n",
       "      <td>0</td>\n",
       "      <td>0</td>\n",
       "    </tr>\n",
       "    <tr>\n",
       "      <th>11071787</th>\n",
       "      <td>56</td>\n",
       "      <td>45.0</td>\n",
       "      <td>951100.0</td>\n",
       "      <td>1.0</td>\n",
       "      <td>1870.0</td>\n",
       "      <td>0</td>\n",
       "      <td>0</td>\n",
       "      <td>0</td>\n",
       "      <td>9999.0</td>\n",
       "      <td>99999.0</td>\n",
       "      <td>...</td>\n",
       "      <td>99999</td>\n",
       "      <td>NaN</td>\n",
       "      <td>9</td>\n",
       "      <td>R</td>\n",
       "      <td>99999999.0</td>\n",
       "      <td>99999999.0</td>\n",
       "      <td>NaN</td>\n",
       "      <td>0</td>\n",
       "      <td>0</td>\n",
       "      <td>0</td>\n",
       "    </tr>\n",
       "    <tr>\n",
       "      <th>11071788</th>\n",
       "      <td>56</td>\n",
       "      <td>45.0</td>\n",
       "      <td>951100.0</td>\n",
       "      <td>1.0</td>\n",
       "      <td>1871.0</td>\n",
       "      <td>0</td>\n",
       "      <td>0</td>\n",
       "      <td>0</td>\n",
       "      <td>9999.0</td>\n",
       "      <td>99999.0</td>\n",
       "      <td>...</td>\n",
       "      <td>99999</td>\n",
       "      <td>NaN</td>\n",
       "      <td>9</td>\n",
       "      <td>R</td>\n",
       "      <td>99999999.0</td>\n",
       "      <td>99999999.0</td>\n",
       "      <td>NaN</td>\n",
       "      <td>0</td>\n",
       "      <td>0</td>\n",
       "      <td>0</td>\n",
       "    </tr>\n",
       "    <tr>\n",
       "      <th>11071789</th>\n",
       "      <td>56</td>\n",
       "      <td>45.0</td>\n",
       "      <td>951100.0</td>\n",
       "      <td>2.0</td>\n",
       "      <td>2985.0</td>\n",
       "      <td>0</td>\n",
       "      <td>0</td>\n",
       "      <td>0</td>\n",
       "      <td>9999.0</td>\n",
       "      <td>99999.0</td>\n",
       "      <td>...</td>\n",
       "      <td>99999</td>\n",
       "      <td>NaN</td>\n",
       "      <td>9</td>\n",
       "      <td>R</td>\n",
       "      <td>99999999.0</td>\n",
       "      <td>99999999.0</td>\n",
       "      <td>NaN</td>\n",
       "      <td>0</td>\n",
       "      <td>0</td>\n",
       "      <td>0</td>\n",
       "    </tr>\n",
       "  </tbody>\n",
       "</table>\n",
       "<p>11071790 rows × 25 columns</p>\n",
       "</div>"
      ],
      "text/plain": [
       "          STATE  COUNTY     TRACT  BLKGRP   BLOCK  P0030005_SF  P0060004_SF  \\\n",
       "0             2    13.0     100.0     1.0  1363.0            5            0   \n",
       "1             2    13.0     100.0     1.0  1366.0            0            0   \n",
       "2             2    13.0     100.0     1.0  1369.0            0            0   \n",
       "3             2    13.0     100.0     1.0  1370.0            0            0   \n",
       "4             2    13.0     100.0     1.0  1371.0          438           27   \n",
       "...         ...     ...       ...     ...     ...          ...          ...   \n",
       "11071785     56    45.0  951100.0     1.0  1868.0            0            0   \n",
       "11071786     56    45.0  951100.0     1.0  1869.0            0            0   \n",
       "11071787     56    45.0  951100.0     1.0  1870.0            0            0   \n",
       "11071788     56    45.0  951100.0     1.0  1871.0            0            0   \n",
       "11071789     56    45.0  951100.0     2.0  2985.0            0            0   \n",
       "\n",
       "          P0010001_SF  AIANHH  AIANHHFP  ...     UA  UASC  UATYPE UR  \\\n",
       "0                  24  9999.0   99999.0  ...  99999   NaN       9  R   \n",
       "1                   0  9999.0   99999.0  ...  99999   NaN       9  R   \n",
       "2                   0  9999.0   99999.0  ...  99999   NaN       9  R   \n",
       "3                   0  6030.0    1095.0  ...  99999   NaN       9  R   \n",
       "4                 942  6030.0    1095.0  ...  99999   NaN       9  R   \n",
       "...               ...     ...       ...  ...    ...   ...     ... ..   \n",
       "11071785            0  9999.0   99999.0  ...  99999   NaN       9  R   \n",
       "11071786            0  9999.0   99999.0  ...  99999   NaN       9  R   \n",
       "11071787            0  9999.0   99999.0  ...  99999   NaN       9  R   \n",
       "11071788            0  9999.0   99999.0  ...  99999   NaN       9  R   \n",
       "11071789            0  9999.0   99999.0  ...  99999   NaN       9  R   \n",
       "\n",
       "            AIANHHNS      AITSNS  AIANHHSC P0010001_DP P0030005_DP  \\\n",
       "0         99999999.0  99999999.0       NaN          87           0   \n",
       "1         99999999.0  99999999.0       NaN           0           0   \n",
       "2         99999999.0  99999999.0       NaN           0           0   \n",
       "3          2418758.0  99999999.0       NaN           0           0   \n",
       "4          2418758.0  99999999.0       NaN         988         361   \n",
       "...              ...         ...       ...         ...         ...   \n",
       "11071785  99999999.0  99999999.0       NaN           0           0   \n",
       "11071786  99999999.0  99999999.0       NaN           0           0   \n",
       "11071787  99999999.0  99999999.0       NaN           0           0   \n",
       "11071788  99999999.0  99999999.0       NaN           0           0   \n",
       "11071789  99999999.0  99999999.0       NaN           0           0   \n",
       "\n",
       "          P0060004_DP  \n",
       "0                  42  \n",
       "1                   0  \n",
       "2                   0  \n",
       "3                   0  \n",
       "4                 129  \n",
       "...               ...  \n",
       "11071785            0  \n",
       "11071786            0  \n",
       "11071787            0  \n",
       "11071788            0  \n",
       "11071789            0  \n",
       "\n",
       "[11071790 rows x 25 columns]"
      ]
     },
     "execution_count": 24,
     "metadata": {},
     "output_type": "execute_result"
    }
   ],
   "source": [
    "left = df_sf[location_cols + race_cols + ['P0010001']]\n",
    "df = pd.merge(left[(left.BLOCK != '')], df_dp.dropna(subset=['BLOCK']), left_on=location_cols, right_on=location_cols, suffixes=('_SF', '_DP'))\n",
    "df"
   ]
  },
  {
   "cell_type": "code",
   "execution_count": 25,
   "metadata": {},
   "outputs": [
    {
     "name": "stderr",
     "output_type": "stream",
     "text": [
      "/share/code/beatrixh/miniconda/envs/beatrix/lib/python3.6/site-packages/ipykernel_launcher.py:5: FutureWarning: Indexing with multiple keys (implicitly converted to a tuple of keys) will be deprecated, use a list instead.\n",
      "  \"\"\"\n"
     ]
    }
   ],
   "source": [
    "#subset to urban areas, grouped by county\n",
    "urban_county = df[df.UR== 'U'].copy(deep=True)\n",
    "urban_county = urban_county.groupby(['STATE','COUNTY'])['P0030005_SF','P0030005_DP',\n",
    "                                                        'P0060004_SF','P0060004_DP',\n",
    "                                                        'P0010001_SF','P0010001_DP'].apply(lambda x : x.astype(int).sum())"
   ]
  },
  {
   "cell_type": "code",
   "execution_count": 26,
   "metadata": {},
   "outputs": [
    {
     "data": {
      "image/png": "[encoded data removed]",
      "text/plain": [
       "<Figure size 432x432 with 1 Axes>"
      ]
     },
     "metadata": {
      "needs_background": "light"
     },
     "output_type": "display_data"
    }
   ],
   "source": [
    "x = urban_county[[\"P0030005_SF\"]]\n",
    "y = urban_county[[\"P0030005_DP\"]]\n",
    "\n",
    "fig = plt.figure() \n",
    "fig.set_size_inches(6,6)\n",
    "\n",
    "ax = fig.add_subplot(111)\n",
    "ax.scatter(x, y, facecolors='none', edgecolors = 'cornflowerblue')\n",
    "ax.set_aspect('equal', adjustable='box')\n",
    "\n",
    "plt.xticks(np.arange(0, 1.4e6, step = 4e5))\n",
    "plt.yticks(np.arange(0, 1.4e6, step = 4e5))\n",
    "\n",
    "xleft, xright = ax.get_xlim()\n",
    "ybottom, ytop = ax.get_ylim()\n",
    "ax.plot([-1,xright],[-1,ytop], 'red', linewidth=1)\n",
    "\n",
    "plt.xlabel('SF urban AIAN alone, counts')\n",
    "plt.ylabel('DP urban AIAN alone, counts')\n",
    "plt.title('county level: urban AIAN alone count change')\n",
    "\n",
    "plt.show()"
   ]
  },
  {
   "cell_type": "code",
   "execution_count": 27,
   "metadata": {},
   "outputs": [
    {
     "data": {
      "image/png": "[encoded data removed]",
      "text/plain": [
       "<Figure size 432x432 with 1 Axes>"
      ]
     },
     "metadata": {
      "needs_background": "light"
     },
     "output_type": "display_data"
    }
   ],
   "source": [
    "#let's zoom in\n",
    "x = urban_county[(urban_county.P0030005_DP<1e3) | (urban_county.P0030005_SF<1e3)][[\"P0030005_SF\"]]\n",
    "y = urban_county[(urban_county.P0030005_DP<1e3) | (urban_county.P0030005_SF<1e3)][[\"P0030005_DP\"]]\n",
    "\n",
    "fig = plt.figure() \n",
    "fig.set_size_inches(6,6)\n",
    "\n",
    "ax = fig.add_subplot(111)\n",
    "ax.scatter(x, y, facecolors='none', edgecolors = 'cornflowerblue')\n",
    "ax.set_aspect('equal', adjustable='box')\n",
    "\n",
    "xleft, xright = ax.get_xlim()\n",
    "ybottom, ytop = ax.get_ylim()\n",
    "lim = max(xright,ytop)\n",
    "ax.plot([-1,lim],[-1,lim], 'red', linewidth=1)\n",
    "\n",
    "plt.xlabel('SF urban AIAN alone, counts')\n",
    "plt.ylabel('DP urban AIAN alone, counts')\n",
    "plt.title('county level: urban AIAN alone count change, counties with<1e3 AIAN')\n",
    "\n",
    "plt.show()"
   ]
  },
  {
   "cell_type": "markdown",
   "metadata": {},
   "source": [
    "## vs rural"
   ]
  },
  {
   "cell_type": "code",
   "execution_count": 28,
   "metadata": {},
   "outputs": [
    {
     "name": "stderr",
     "output_type": "stream",
     "text": [
      "/share/code/beatrixh/miniconda/envs/beatrix/lib/python3.6/site-packages/ipykernel_launcher.py:5: FutureWarning: Indexing with multiple keys (implicitly converted to a tuple of keys) will be deprecated, use a list instead.\n",
      "  \"\"\"\n"
     ]
    }
   ],
   "source": [
    "#subset to rural areas, grouped by county\n",
    "rural_county = df[df.UR== 'R'].copy(deep=True)\n",
    "rural_county = rural_county.groupby(['STATE','COUNTY'])['P0030005_SF','P0030005_DP',\n",
    "                                                        'P0060004_SF','P0060004_DP',\n",
    "                                                        'P0010001_SF','P0010001_DP'].apply(lambda x : x.astype(int).sum())"
   ]
  },
  {
   "cell_type": "code",
   "execution_count": 29,
   "metadata": {},
   "outputs": [
    {
     "ename": "KeyboardInterrupt",
     "evalue": "",
     "output_type": "error",
     "traceback": [
      "\u001b[0;31m---------------------------------------------------------------------------\u001b[0m",
      "\u001b[0;31mKeyboardInterrupt\u001b[0m                         Traceback (most recent call last)",
      "\u001b[0;32m<ipython-input-29-ab387264d9d7>\u001b[0m in \u001b[0;36m<module>\u001b[0;34m\u001b[0m\n\u001b[1;32m     19\u001b[0m \u001b[0mplt\u001b[0m\u001b[0;34m.\u001b[0m\u001b[0mtitle\u001b[0m\u001b[0;34m(\u001b[0m\u001b[0;34m'county level: rural AIAN alone count change'\u001b[0m\u001b[0;34m)\u001b[0m\u001b[0;34m\u001b[0m\u001b[0;34m\u001b[0m\u001b[0m\n\u001b[1;32m     20\u001b[0m \u001b[0;34m\u001b[0m\u001b[0m\n\u001b[0;32m---> 21\u001b[0;31m \u001b[0mplt\u001b[0m\u001b[0;34m.\u001b[0m\u001b[0mshow\u001b[0m\u001b[0;34m(\u001b[0m\u001b[0;34m)\u001b[0m\u001b[0;34m\u001b[0m\u001b[0;34m\u001b[0m\u001b[0m\n\u001b[0m",
      "\u001b[0;32m/share/code/beatrixh/miniconda/envs/beatrix/lib/python3.6/site-packages/matplotlib/pyplot.py\u001b[0m in \u001b[0;36mshow\u001b[0;34m(*args, **kw)\u001b[0m\n\u001b[1;32m    267\u001b[0m     \"\"\"\n\u001b[1;32m    268\u001b[0m     \u001b[0;32mglobal\u001b[0m \u001b[0m_show\u001b[0m\u001b[0;34m\u001b[0m\u001b[0;34m\u001b[0m\u001b[0m\n\u001b[0;32m--> 269\u001b[0;31m     \u001b[0;32mreturn\u001b[0m \u001b[0m_show\u001b[0m\u001b[0;34m(\u001b[0m\u001b[0;34m*\u001b[0m\u001b[0margs\u001b[0m\u001b[0;34m,\u001b[0m \u001b[0;34m**\u001b[0m\u001b[0mkw\u001b[0m\u001b[0;34m)\u001b[0m\u001b[0;34m\u001b[0m\u001b[0;34m\u001b[0m\u001b[0m\n\u001b[0m\u001b[1;32m    270\u001b[0m \u001b[0;34m\u001b[0m\u001b[0m\n\u001b[1;32m    271\u001b[0m \u001b[0;34m\u001b[0m\u001b[0m\n",
      "\u001b[0;32m/share/code/beatrixh/miniconda/envs/beatrix/lib/python3.6/site-packages/ipykernel/pylab/backend_inline.py\u001b[0m in \u001b[0;36mshow\u001b[0;34m(close, block)\u001b[0m\n\u001b[1;32m     37\u001b[0m             display(\n\u001b[1;32m     38\u001b[0m                 \u001b[0mfigure_manager\u001b[0m\u001b[0;34m.\u001b[0m\u001b[0mcanvas\u001b[0m\u001b[0;34m.\u001b[0m\u001b[0mfigure\u001b[0m\u001b[0;34m,\u001b[0m\u001b[0;34m\u001b[0m\u001b[0;34m\u001b[0m\u001b[0m\n\u001b[0;32m---> 39\u001b[0;31m                 \u001b[0mmetadata\u001b[0m\u001b[0;34m=\u001b[0m\u001b[0m_fetch_figure_metadata\u001b[0m\u001b[0;34m(\u001b[0m\u001b[0mfigure_manager\u001b[0m\u001b[0;34m.\u001b[0m\u001b[0mcanvas\u001b[0m\u001b[0;34m.\u001b[0m\u001b[0mfigure\u001b[0m\u001b[0;34m)\u001b[0m\u001b[0;34m\u001b[0m\u001b[0;34m\u001b[0m\u001b[0m\n\u001b[0m\u001b[1;32m     40\u001b[0m             )\n\u001b[1;32m     41\u001b[0m     \u001b[0;32mfinally\u001b[0m\u001b[0;34m:\u001b[0m\u001b[0;34m\u001b[0m\u001b[0;34m\u001b[0m\u001b[0m\n",
      "\u001b[0;32m/share/code/beatrixh/miniconda/envs/beatrix/lib/python3.6/site-packages/ipykernel/pylab/backend_inline.py\u001b[0m in \u001b[0;36m_fetch_figure_metadata\u001b[0;34m(fig)\u001b[0m\n\u001b[1;32m    175\u001b[0m         \u001b[0;31m# the background is transparent\u001b[0m\u001b[0;34m\u001b[0m\u001b[0;34m\u001b[0m\u001b[0;34m\u001b[0m\u001b[0m\n\u001b[1;32m    176\u001b[0m         ticksLight = _is_light([label.get_color()\n\u001b[0;32m--> 177\u001b[0;31m                                 \u001b[0;32mfor\u001b[0m \u001b[0maxes\u001b[0m \u001b[0;32min\u001b[0m \u001b[0mfig\u001b[0m\u001b[0;34m.\u001b[0m\u001b[0maxes\u001b[0m\u001b[0;34m\u001b[0m\u001b[0;34m\u001b[0m\u001b[0m\n\u001b[0m\u001b[1;32m    178\u001b[0m                                 \u001b[0;32mfor\u001b[0m \u001b[0maxis\u001b[0m \u001b[0;32min\u001b[0m \u001b[0;34m(\u001b[0m\u001b[0maxes\u001b[0m\u001b[0;34m.\u001b[0m\u001b[0mxaxis\u001b[0m\u001b[0;34m,\u001b[0m \u001b[0maxes\u001b[0m\u001b[0;34m.\u001b[0m\u001b[0myaxis\u001b[0m\u001b[0;34m)\u001b[0m\u001b[0;34m\u001b[0m\u001b[0;34m\u001b[0m\u001b[0m\n\u001b[1;32m    179\u001b[0m                                 for label in axis.get_ticklabels()])\n",
      "\u001b[0;32m/share/code/beatrixh/miniconda/envs/beatrix/lib/python3.6/site-packages/ipykernel/pylab/backend_inline.py\u001b[0m in \u001b[0;36m<listcomp>\u001b[0;34m(.0)\u001b[0m\n\u001b[1;32m    177\u001b[0m                                 \u001b[0;32mfor\u001b[0m \u001b[0maxes\u001b[0m \u001b[0;32min\u001b[0m \u001b[0mfig\u001b[0m\u001b[0;34m.\u001b[0m\u001b[0maxes\u001b[0m\u001b[0;34m\u001b[0m\u001b[0;34m\u001b[0m\u001b[0m\n\u001b[1;32m    178\u001b[0m                                 \u001b[0;32mfor\u001b[0m \u001b[0maxis\u001b[0m \u001b[0;32min\u001b[0m \u001b[0;34m(\u001b[0m\u001b[0maxes\u001b[0m\u001b[0;34m.\u001b[0m\u001b[0mxaxis\u001b[0m\u001b[0;34m,\u001b[0m \u001b[0maxes\u001b[0m\u001b[0;34m.\u001b[0m\u001b[0myaxis\u001b[0m\u001b[0;34m)\u001b[0m\u001b[0;34m\u001b[0m\u001b[0;34m\u001b[0m\u001b[0m\n\u001b[0;32m--> 179\u001b[0;31m                                 for label in axis.get_ticklabels()])\n\u001b[0m\u001b[1;32m    180\u001b[0m         \u001b[0;32mif\u001b[0m \u001b[0mticksLight\u001b[0m\u001b[0;34m.\u001b[0m\u001b[0msize\u001b[0m \u001b[0;32mand\u001b[0m \u001b[0;34m(\u001b[0m\u001b[0mticksLight\u001b[0m \u001b[0;34m==\u001b[0m \u001b[0mticksLight\u001b[0m\u001b[0;34m[\u001b[0m\u001b[0;36m0\u001b[0m\u001b[0;34m]\u001b[0m\u001b[0;34m)\u001b[0m\u001b[0;34m.\u001b[0m\u001b[0mall\u001b[0m\u001b[0;34m(\u001b[0m\u001b[0;34m)\u001b[0m\u001b[0;34m:\u001b[0m\u001b[0;34m\u001b[0m\u001b[0;34m\u001b[0m\u001b[0m\n\u001b[1;32m    181\u001b[0m             \u001b[0;31m# there are one or more tick labels, all with the same lightness\u001b[0m\u001b[0;34m\u001b[0m\u001b[0;34m\u001b[0m\u001b[0;34m\u001b[0m\u001b[0m\n",
      "\u001b[0;32m/share/code/beatrixh/miniconda/envs/beatrix/lib/python3.6/site-packages/matplotlib/axis.py\u001b[0m in \u001b[0;36mget_ticklabels\u001b[0;34m(self, minor, which)\u001b[0m\n\u001b[1;32m   1294\u001b[0m         \u001b[0;32mif\u001b[0m \u001b[0mminor\u001b[0m\u001b[0;34m:\u001b[0m\u001b[0;34m\u001b[0m\u001b[0;34m\u001b[0m\u001b[0m\n\u001b[1;32m   1295\u001b[0m             \u001b[0;32mreturn\u001b[0m \u001b[0mself\u001b[0m\u001b[0;34m.\u001b[0m\u001b[0mget_minorticklabels\u001b[0m\u001b[0;34m(\u001b[0m\u001b[0;34m)\u001b[0m\u001b[0;34m\u001b[0m\u001b[0;34m\u001b[0m\u001b[0m\n\u001b[0;32m-> 1296\u001b[0;31m         \u001b[0;32mreturn\u001b[0m \u001b[0mself\u001b[0m\u001b[0;34m.\u001b[0m\u001b[0mget_majorticklabels\u001b[0m\u001b[0;34m(\u001b[0m\u001b[0;34m)\u001b[0m\u001b[0;34m\u001b[0m\u001b[0;34m\u001b[0m\u001b[0m\n\u001b[0m\u001b[1;32m   1297\u001b[0m \u001b[0;34m\u001b[0m\u001b[0m\n\u001b[1;32m   1298\u001b[0m     \u001b[0;32mdef\u001b[0m \u001b[0mget_majorticklines\u001b[0m\u001b[0;34m(\u001b[0m\u001b[0mself\u001b[0m\u001b[0;34m)\u001b[0m\u001b[0;34m:\u001b[0m\u001b[0;34m\u001b[0m\u001b[0;34m\u001b[0m\u001b[0m\n",
      "\u001b[0;32m/share/code/beatrixh/miniconda/envs/beatrix/lib/python3.6/site-packages/matplotlib/axis.py\u001b[0m in \u001b[0;36mget_majorticklabels\u001b[0;34m(self)\u001b[0m\n\u001b[1;32m   1250\u001b[0m     \u001b[0;32mdef\u001b[0m \u001b[0mget_majorticklabels\u001b[0m\u001b[0;34m(\u001b[0m\u001b[0mself\u001b[0m\u001b[0;34m)\u001b[0m\u001b[0;34m:\u001b[0m\u001b[0;34m\u001b[0m\u001b[0;34m\u001b[0m\u001b[0m\n\u001b[1;32m   1251\u001b[0m         \u001b[0;34m'Return a list of Text instances for the major ticklabels.'\u001b[0m\u001b[0;34m\u001b[0m\u001b[0;34m\u001b[0m\u001b[0m\n\u001b[0;32m-> 1252\u001b[0;31m         \u001b[0mticks\u001b[0m \u001b[0;34m=\u001b[0m \u001b[0mself\u001b[0m\u001b[0;34m.\u001b[0m\u001b[0mget_major_ticks\u001b[0m\u001b[0;34m(\u001b[0m\u001b[0;34m)\u001b[0m\u001b[0;34m\u001b[0m\u001b[0;34m\u001b[0m\u001b[0m\n\u001b[0m\u001b[1;32m   1253\u001b[0m         \u001b[0mlabels1\u001b[0m \u001b[0;34m=\u001b[0m \u001b[0;34m[\u001b[0m\u001b[0mtick\u001b[0m\u001b[0;34m.\u001b[0m\u001b[0mlabel1\u001b[0m \u001b[0;32mfor\u001b[0m \u001b[0mtick\u001b[0m \u001b[0;32min\u001b[0m \u001b[0mticks\u001b[0m \u001b[0;32mif\u001b[0m \u001b[0mtick\u001b[0m\u001b[0;34m.\u001b[0m\u001b[0mlabel1\u001b[0m\u001b[0;34m.\u001b[0m\u001b[0mget_visible\u001b[0m\u001b[0;34m(\u001b[0m\u001b[0;34m)\u001b[0m\u001b[0;34m]\u001b[0m\u001b[0;34m\u001b[0m\u001b[0;34m\u001b[0m\u001b[0m\n\u001b[1;32m   1254\u001b[0m         \u001b[0mlabels2\u001b[0m \u001b[0;34m=\u001b[0m \u001b[0;34m[\u001b[0m\u001b[0mtick\u001b[0m\u001b[0;34m.\u001b[0m\u001b[0mlabel2\u001b[0m \u001b[0;32mfor\u001b[0m \u001b[0mtick\u001b[0m \u001b[0;32min\u001b[0m \u001b[0mticks\u001b[0m \u001b[0;32mif\u001b[0m \u001b[0mtick\u001b[0m\u001b[0;34m.\u001b[0m\u001b[0mlabel2\u001b[0m\u001b[0;34m.\u001b[0m\u001b[0mget_visible\u001b[0m\u001b[0;34m(\u001b[0m\u001b[0;34m)\u001b[0m\u001b[0;34m]\u001b[0m\u001b[0;34m\u001b[0m\u001b[0;34m\u001b[0m\u001b[0m\n",
      "\u001b[0;32m/share/code/beatrixh/miniconda/envs/beatrix/lib/python3.6/site-packages/matplotlib/axis.py\u001b[0m in \u001b[0;36mget_major_ticks\u001b[0;34m(self, numticks)\u001b[0m\n\u001b[1;32m   1405\u001b[0m         \u001b[0;34m'Get the tick instances; grow as necessary.'\u001b[0m\u001b[0;34m\u001b[0m\u001b[0;34m\u001b[0m\u001b[0m\n\u001b[1;32m   1406\u001b[0m         \u001b[0;32mif\u001b[0m \u001b[0mnumticks\u001b[0m \u001b[0;32mis\u001b[0m \u001b[0;32mNone\u001b[0m\u001b[0;34m:\u001b[0m\u001b[0;34m\u001b[0m\u001b[0;34m\u001b[0m\u001b[0m\n\u001b[0;32m-> 1407\u001b[0;31m             \u001b[0mnumticks\u001b[0m \u001b[0;34m=\u001b[0m \u001b[0mlen\u001b[0m\u001b[0;34m(\u001b[0m\u001b[0mself\u001b[0m\u001b[0;34m.\u001b[0m\u001b[0mget_majorticklocs\u001b[0m\u001b[0;34m(\u001b[0m\u001b[0;34m)\u001b[0m\u001b[0;34m)\u001b[0m\u001b[0;34m\u001b[0m\u001b[0;34m\u001b[0m\u001b[0m\n\u001b[0m\u001b[1;32m   1408\u001b[0m \u001b[0;34m\u001b[0m\u001b[0m\n\u001b[1;32m   1409\u001b[0m         \u001b[0;32mwhile\u001b[0m \u001b[0mlen\u001b[0m\u001b[0;34m(\u001b[0m\u001b[0mself\u001b[0m\u001b[0;34m.\u001b[0m\u001b[0mmajorTicks\u001b[0m\u001b[0;34m)\u001b[0m \u001b[0;34m<\u001b[0m \u001b[0mnumticks\u001b[0m\u001b[0;34m:\u001b[0m\u001b[0;34m\u001b[0m\u001b[0;34m\u001b[0m\u001b[0m\n",
      "\u001b[0;32m/share/code/beatrixh/miniconda/envs/beatrix/lib/python3.6/site-packages/matplotlib/axis.py\u001b[0m in \u001b[0;36mget_majorticklocs\u001b[0;34m(self)\u001b[0m\n\u001b[1;32m   1322\u001b[0m     \u001b[0;32mdef\u001b[0m \u001b[0mget_majorticklocs\u001b[0m\u001b[0;34m(\u001b[0m\u001b[0mself\u001b[0m\u001b[0;34m)\u001b[0m\u001b[0;34m:\u001b[0m\u001b[0;34m\u001b[0m\u001b[0;34m\u001b[0m\u001b[0m\n\u001b[1;32m   1323\u001b[0m         \u001b[0;34m\"\"\"Get the array of major tick locations in data coordinates.\"\"\"\u001b[0m\u001b[0;34m\u001b[0m\u001b[0;34m\u001b[0m\u001b[0m\n\u001b[0;32m-> 1324\u001b[0;31m         \u001b[0;32mreturn\u001b[0m \u001b[0mself\u001b[0m\u001b[0;34m.\u001b[0m\u001b[0mmajor\u001b[0m\u001b[0;34m.\u001b[0m\u001b[0mlocator\u001b[0m\u001b[0;34m(\u001b[0m\u001b[0;34m)\u001b[0m\u001b[0;34m\u001b[0m\u001b[0;34m\u001b[0m\u001b[0m\n\u001b[0m\u001b[1;32m   1325\u001b[0m \u001b[0;34m\u001b[0m\u001b[0m\n\u001b[1;32m   1326\u001b[0m     \u001b[0;32mdef\u001b[0m \u001b[0mget_minorticklocs\u001b[0m\u001b[0;34m(\u001b[0m\u001b[0mself\u001b[0m\u001b[0;34m)\u001b[0m\u001b[0;34m:\u001b[0m\u001b[0;34m\u001b[0m\u001b[0;34m\u001b[0m\u001b[0m\n",
      "\u001b[0;32m/share/code/beatrixh/miniconda/envs/beatrix/lib/python3.6/site-packages/matplotlib/ticker.py\u001b[0m in \u001b[0;36m__call__\u001b[0;34m(self)\u001b[0m\n\u001b[1;32m   2079\u001b[0m     \u001b[0;32mdef\u001b[0m \u001b[0m__call__\u001b[0m\u001b[0;34m(\u001b[0m\u001b[0mself\u001b[0m\u001b[0;34m)\u001b[0m\u001b[0;34m:\u001b[0m\u001b[0;34m\u001b[0m\u001b[0;34m\u001b[0m\u001b[0m\n\u001b[1;32m   2080\u001b[0m         \u001b[0mvmin\u001b[0m\u001b[0;34m,\u001b[0m \u001b[0mvmax\u001b[0m \u001b[0;34m=\u001b[0m \u001b[0mself\u001b[0m\u001b[0;34m.\u001b[0m\u001b[0maxis\u001b[0m\u001b[0;34m.\u001b[0m\u001b[0mget_view_interval\u001b[0m\u001b[0;34m(\u001b[0m\u001b[0;34m)\u001b[0m\u001b[0;34m\u001b[0m\u001b[0;34m\u001b[0m\u001b[0m\n\u001b[0;32m-> 2081\u001b[0;31m         \u001b[0;32mreturn\u001b[0m \u001b[0mself\u001b[0m\u001b[0;34m.\u001b[0m\u001b[0mtick_values\u001b[0m\u001b[0;34m(\u001b[0m\u001b[0mvmin\u001b[0m\u001b[0;34m,\u001b[0m \u001b[0mvmax\u001b[0m\u001b[0;34m)\u001b[0m\u001b[0;34m\u001b[0m\u001b[0;34m\u001b[0m\u001b[0m\n\u001b[0m\u001b[1;32m   2082\u001b[0m \u001b[0;34m\u001b[0m\u001b[0m\n\u001b[1;32m   2083\u001b[0m     \u001b[0;32mdef\u001b[0m \u001b[0mtick_values\u001b[0m\u001b[0;34m(\u001b[0m\u001b[0mself\u001b[0m\u001b[0;34m,\u001b[0m \u001b[0mvmin\u001b[0m\u001b[0;34m,\u001b[0m \u001b[0mvmax\u001b[0m\u001b[0;34m)\u001b[0m\u001b[0;34m:\u001b[0m\u001b[0;34m\u001b[0m\u001b[0;34m\u001b[0m\u001b[0m\n",
      "\u001b[0;32m/share/code/beatrixh/miniconda/envs/beatrix/lib/python3.6/site-packages/matplotlib/ticker.py\u001b[0m in \u001b[0;36mtick_values\u001b[0;34m(self, vmin, vmax)\u001b[0m\n\u001b[1;32m   2087\u001b[0m         vmin, vmax = mtransforms.nonsingular(\n\u001b[1;32m   2088\u001b[0m             vmin, vmax, expander=1e-13, tiny=1e-14)\n\u001b[0;32m-> 2089\u001b[0;31m         \u001b[0mlocs\u001b[0m \u001b[0;34m=\u001b[0m \u001b[0mself\u001b[0m\u001b[0;34m.\u001b[0m\u001b[0m_raw_ticks\u001b[0m\u001b[0;34m(\u001b[0m\u001b[0mvmin\u001b[0m\u001b[0;34m,\u001b[0m \u001b[0mvmax\u001b[0m\u001b[0;34m)\u001b[0m\u001b[0;34m\u001b[0m\u001b[0;34m\u001b[0m\u001b[0m\n\u001b[0m\u001b[1;32m   2090\u001b[0m \u001b[0;34m\u001b[0m\u001b[0m\n\u001b[1;32m   2091\u001b[0m         \u001b[0mprune\u001b[0m \u001b[0;34m=\u001b[0m \u001b[0mself\u001b[0m\u001b[0;34m.\u001b[0m\u001b[0m_prune\u001b[0m\u001b[0;34m\u001b[0m\u001b[0;34m\u001b[0m\u001b[0m\n",
      "\u001b[0;32m/share/code/beatrixh/miniconda/envs/beatrix/lib/python3.6/site-packages/matplotlib/ticker.py\u001b[0m in \u001b[0;36m_raw_ticks\u001b[0;34m(self, vmin, vmax)\u001b[0m\n\u001b[1;32m   2027\u001b[0m             \u001b[0;32mif\u001b[0m \u001b[0mself\u001b[0m\u001b[0;34m.\u001b[0m\u001b[0maxis\u001b[0m \u001b[0;32mis\u001b[0m \u001b[0;32mnot\u001b[0m \u001b[0;32mNone\u001b[0m\u001b[0;34m:\u001b[0m\u001b[0;34m\u001b[0m\u001b[0;34m\u001b[0m\u001b[0m\n\u001b[1;32m   2028\u001b[0m                 nbins = np.clip(self.axis.get_tick_space(),\n\u001b[0;32m-> 2029\u001b[0;31m                                 max(1, self._min_n_ticks - 1), 9)\n\u001b[0m\u001b[1;32m   2030\u001b[0m             \u001b[0;32melse\u001b[0m\u001b[0;34m:\u001b[0m\u001b[0;34m\u001b[0m\u001b[0;34m\u001b[0m\u001b[0m\n\u001b[1;32m   2031\u001b[0m                 \u001b[0mnbins\u001b[0m \u001b[0;34m=\u001b[0m \u001b[0;36m9\u001b[0m\u001b[0;34m\u001b[0m\u001b[0;34m\u001b[0m\u001b[0m\n",
      "\u001b[0;32m<__array_function__ internals>\u001b[0m in \u001b[0;36mclip\u001b[0;34m(*args, **kwargs)\u001b[0m\n",
      "\u001b[0;32m/share/code/beatrixh/miniconda/envs/beatrix/lib/python3.6/site-packages/numpy/core/fromnumeric.py\u001b[0m in \u001b[0;36mclip\u001b[0;34m(a, a_min, a_max, out, **kwargs)\u001b[0m\n\u001b[1;32m   2035\u001b[0m \u001b[0;34m\u001b[0m\u001b[0m\n\u001b[1;32m   2036\u001b[0m     \"\"\"\n\u001b[0;32m-> 2037\u001b[0;31m     \u001b[0;32mreturn\u001b[0m \u001b[0m_wrapfunc\u001b[0m\u001b[0;34m(\u001b[0m\u001b[0ma\u001b[0m\u001b[0;34m,\u001b[0m \u001b[0;34m'clip'\u001b[0m\u001b[0;34m,\u001b[0m \u001b[0ma_min\u001b[0m\u001b[0;34m,\u001b[0m \u001b[0ma_max\u001b[0m\u001b[0;34m,\u001b[0m \u001b[0mout\u001b[0m\u001b[0;34m=\u001b[0m\u001b[0mout\u001b[0m\u001b[0;34m,\u001b[0m \u001b[0;34m**\u001b[0m\u001b[0mkwargs\u001b[0m\u001b[0;34m)\u001b[0m\u001b[0;34m\u001b[0m\u001b[0;34m\u001b[0m\u001b[0m\n\u001b[0m\u001b[1;32m   2038\u001b[0m \u001b[0;34m\u001b[0m\u001b[0m\n\u001b[1;32m   2039\u001b[0m \u001b[0;34m\u001b[0m\u001b[0m\n",
      "\u001b[0;32m/share/code/beatrixh/miniconda/envs/beatrix/lib/python3.6/site-packages/numpy/core/fromnumeric.py\u001b[0m in \u001b[0;36m_wrapfunc\u001b[0;34m(obj, method, *args, **kwds)\u001b[0m\n\u001b[1;32m     56\u001b[0m     \u001b[0mbound\u001b[0m \u001b[0;34m=\u001b[0m \u001b[0mgetattr\u001b[0m\u001b[0;34m(\u001b[0m\u001b[0mobj\u001b[0m\u001b[0;34m,\u001b[0m \u001b[0mmethod\u001b[0m\u001b[0;34m,\u001b[0m \u001b[0;32mNone\u001b[0m\u001b[0;34m)\u001b[0m\u001b[0;34m\u001b[0m\u001b[0;34m\u001b[0m\u001b[0m\n\u001b[1;32m     57\u001b[0m     \u001b[0;32mif\u001b[0m \u001b[0mbound\u001b[0m \u001b[0;32mis\u001b[0m \u001b[0;32mNone\u001b[0m\u001b[0;34m:\u001b[0m\u001b[0;34m\u001b[0m\u001b[0;34m\u001b[0m\u001b[0m\n\u001b[0;32m---> 58\u001b[0;31m         \u001b[0;32mreturn\u001b[0m \u001b[0m_wrapit\u001b[0m\u001b[0;34m(\u001b[0m\u001b[0mobj\u001b[0m\u001b[0;34m,\u001b[0m \u001b[0mmethod\u001b[0m\u001b[0;34m,\u001b[0m \u001b[0;34m*\u001b[0m\u001b[0margs\u001b[0m\u001b[0;34m,\u001b[0m \u001b[0;34m**\u001b[0m\u001b[0mkwds\u001b[0m\u001b[0;34m)\u001b[0m\u001b[0;34m\u001b[0m\u001b[0;34m\u001b[0m\u001b[0m\n\u001b[0m\u001b[1;32m     59\u001b[0m \u001b[0;34m\u001b[0m\u001b[0m\n\u001b[1;32m     60\u001b[0m     \u001b[0;32mtry\u001b[0m\u001b[0;34m:\u001b[0m\u001b[0;34m\u001b[0m\u001b[0;34m\u001b[0m\u001b[0m\n",
      "\u001b[0;32m/share/code/beatrixh/miniconda/envs/beatrix/lib/python3.6/site-packages/numpy/core/fromnumeric.py\u001b[0m in \u001b[0;36m_wrapit\u001b[0;34m(obj, method, *args, **kwds)\u001b[0m\n\u001b[1;32m     45\u001b[0m     \u001b[0;32mexcept\u001b[0m \u001b[0mAttributeError\u001b[0m\u001b[0;34m:\u001b[0m\u001b[0;34m\u001b[0m\u001b[0;34m\u001b[0m\u001b[0m\n\u001b[1;32m     46\u001b[0m         \u001b[0mwrap\u001b[0m \u001b[0;34m=\u001b[0m \u001b[0;32mNone\u001b[0m\u001b[0;34m\u001b[0m\u001b[0;34m\u001b[0m\u001b[0m\n\u001b[0;32m---> 47\u001b[0;31m     \u001b[0mresult\u001b[0m \u001b[0;34m=\u001b[0m \u001b[0mgetattr\u001b[0m\u001b[0;34m(\u001b[0m\u001b[0masarray\u001b[0m\u001b[0;34m(\u001b[0m\u001b[0mobj\u001b[0m\u001b[0;34m)\u001b[0m\u001b[0;34m,\u001b[0m \u001b[0mmethod\u001b[0m\u001b[0;34m)\u001b[0m\u001b[0;34m(\u001b[0m\u001b[0;34m*\u001b[0m\u001b[0margs\u001b[0m\u001b[0;34m,\u001b[0m \u001b[0;34m**\u001b[0m\u001b[0mkwds\u001b[0m\u001b[0;34m)\u001b[0m\u001b[0;34m\u001b[0m\u001b[0;34m\u001b[0m\u001b[0m\n\u001b[0m\u001b[1;32m     48\u001b[0m     \u001b[0;32mif\u001b[0m \u001b[0mwrap\u001b[0m\u001b[0;34m:\u001b[0m\u001b[0;34m\u001b[0m\u001b[0;34m\u001b[0m\u001b[0m\n\u001b[1;32m     49\u001b[0m         \u001b[0;32mif\u001b[0m \u001b[0;32mnot\u001b[0m \u001b[0misinstance\u001b[0m\u001b[0;34m(\u001b[0m\u001b[0mresult\u001b[0m\u001b[0;34m,\u001b[0m \u001b[0mmu\u001b[0m\u001b[0;34m.\u001b[0m\u001b[0mndarray\u001b[0m\u001b[0;34m)\u001b[0m\u001b[0;34m:\u001b[0m\u001b[0;34m\u001b[0m\u001b[0;34m\u001b[0m\u001b[0m\n",
      "\u001b[0;32m/share/code/beatrixh/miniconda/envs/beatrix/lib/python3.6/site-packages/numpy/core/_methods.py\u001b[0m in \u001b[0;36m_clip\u001b[0;34m(a, min, max, out, casting, **kwargs)\u001b[0m\n\u001b[1;32m    107\u001b[0m             \u001b[0mmin\u001b[0m \u001b[0;34m=\u001b[0m \u001b[0;34m-\u001b[0m\u001b[0mfloat\u001b[0m\u001b[0;34m(\u001b[0m\u001b[0;34m'inf'\u001b[0m\u001b[0;34m)\u001b[0m\u001b[0;34m\u001b[0m\u001b[0;34m\u001b[0m\u001b[0m\n\u001b[1;32m    108\u001b[0m             \u001b[0musing_deprecated_nan\u001b[0m \u001b[0;34m=\u001b[0m \u001b[0;32mTrue\u001b[0m\u001b[0;34m\u001b[0m\u001b[0;34m\u001b[0m\u001b[0m\n\u001b[0;32m--> 109\u001b[0;31m         \u001b[0;32mif\u001b[0m \u001b[0m_clip_dep_is_scalar_nan\u001b[0m\u001b[0;34m(\u001b[0m\u001b[0mmax\u001b[0m\u001b[0;34m)\u001b[0m\u001b[0;34m:\u001b[0m\u001b[0;34m\u001b[0m\u001b[0;34m\u001b[0m\u001b[0m\n\u001b[0m\u001b[1;32m    110\u001b[0m             \u001b[0mmax\u001b[0m \u001b[0;34m=\u001b[0m \u001b[0mfloat\u001b[0m\u001b[0;34m(\u001b[0m\u001b[0;34m'inf'\u001b[0m\u001b[0;34m)\u001b[0m\u001b[0;34m\u001b[0m\u001b[0;34m\u001b[0m\u001b[0m\n\u001b[1;32m    111\u001b[0m             \u001b[0musing_deprecated_nan\u001b[0m \u001b[0;34m=\u001b[0m \u001b[0;32mTrue\u001b[0m\u001b[0;34m\u001b[0m\u001b[0;34m\u001b[0m\u001b[0m\n",
      "\u001b[0;32m/share/code/beatrixh/miniconda/envs/beatrix/lib/python3.6/site-packages/numpy/core/_methods.py\u001b[0m in \u001b[0;36m_clip_dep_is_scalar_nan\u001b[0;34m(a)\u001b[0m\n\u001b[1;32m     67\u001b[0m         \u001b[0;32mreturn\u001b[0m \u001b[0;32mFalse\u001b[0m\u001b[0;34m\u001b[0m\u001b[0;34m\u001b[0m\u001b[0m\n\u001b[1;32m     68\u001b[0m     \u001b[0;32mtry\u001b[0m\u001b[0;34m:\u001b[0m\u001b[0;34m\u001b[0m\u001b[0;34m\u001b[0m\u001b[0m\n\u001b[0;32m---> 69\u001b[0;31m         \u001b[0;32mreturn\u001b[0m \u001b[0mum\u001b[0m\u001b[0;34m.\u001b[0m\u001b[0misnan\u001b[0m\u001b[0;34m(\u001b[0m\u001b[0ma\u001b[0m\u001b[0;34m)\u001b[0m\u001b[0;34m\u001b[0m\u001b[0;34m\u001b[0m\u001b[0m\n\u001b[0m\u001b[1;32m     70\u001b[0m     \u001b[0;32mexcept\u001b[0m \u001b[0mTypeError\u001b[0m\u001b[0;34m:\u001b[0m\u001b[0;34m\u001b[0m\u001b[0;34m\u001b[0m\u001b[0m\n\u001b[1;32m     71\u001b[0m         \u001b[0;32mreturn\u001b[0m \u001b[0;32mFalse\u001b[0m\u001b[0;34m\u001b[0m\u001b[0;34m\u001b[0m\u001b[0m\n",
      "\u001b[0;31mKeyboardInterrupt\u001b[0m: "
     ]
    }
   ],
   "source": [
    "#plot urban areas by tract, dp vs sf\n",
    "x = rural_county[[\"P0030005_SF\"]]\n",
    "y = rural_county[[\"P0030005_DP\"]]\n",
    "\n",
    "fig = plt.figure() \n",
    "fig.set_size_inches(6,6)\n",
    "\n",
    "ax = fig.add_subplot(111)\n",
    "ax.scatter(x, y, facecolors='none', edgecolors = 'cornflowerblue')\n",
    "ax.set_aspect('equal', adjustable='box')\n",
    "\n",
    "xleft, xright = ax.get_xlim()\n",
    "ybottom, ytop = ax.get_ylim()\n",
    "lim = max(xright,ytop)\n",
    "ax.plot([-1,lim],[-1,lim], 'red', linewidth=1)\n",
    "\n",
    "plt.xlabel('SF rural AIAN alone, counts')\n",
    "plt.ylabel('DP rural AIAN alone, counts')\n",
    "plt.title('county level: rural AIAN alone count change')\n",
    "\n",
    "plt.show()"
   ]
  },
  {
   "cell_type": "code",
   "execution_count": null,
   "metadata": {},
   "outputs": [],
   "source": [
    "#zooming in\n",
    "x = rural_county[(rural_county.P0030005_DP<3e3) | (rural_county.P0030005_SF<3e3)][[\"P0030005_SF\"]]\n",
    "y = rural_county[(rural_county.P0030005_DP<3e3) | (rural_county.P0030005_SF<3e3)][[\"P0030005_DP\"]]\n",
    "\n",
    "fig = plt.figure() \n",
    "fig.set_size_inches(6,6)\n",
    "\n",
    "ax = fig.add_subplot(111)\n",
    "ax.scatter(x, y, facecolors='none', edgecolors = 'cornflowerblue')\n",
    "ax.set_aspect('equal', adjustable='box')\n",
    "\n",
    "xleft, xright = ax.get_xlim()\n",
    "ybottom, ytop = ax.get_ylim()\n",
    "lim = max(xright,ytop)\n",
    "ax.plot([-1,lim],[-1,lim], 'red', linewidth=1)\n",
    "\n",
    "plt.xlabel('SF rural AIAN alone, counts')\n",
    "plt.ylabel('DP rural AIAN alone, counts')\n",
    "plt.title('county level: rural AIAN alone count change, counties with<3e3 AIAN')\n",
    "\n",
    "plt.show()"
   ]
  },
  {
   "cell_type": "markdown",
   "metadata": {},
   "source": [
    "## now back to urban:"
   ]
  },
  {
   "cell_type": "code",
   "execution_count": null,
   "metadata": {},
   "outputs": [],
   "source": [
    "#check out count difference\n",
    "urban_county['abs_diff'] = urban_county['P0030005_DP'] - urban_county['P0030005_SF']\n",
    "\n",
    "#plot histogram\n",
    "fig = plt.figure()\n",
    "ax = fig.add_subplot(111)\n",
    "plt.hist(urban_county[(urban_county.P0030005_DP!=0) | (urban_county.P0030005_SF!=0)].abs_diff, bins = 100)\n",
    "\n",
    "plt.title('County level; urban AIAN count difference, excluding points that remained at 0.')\n",
    "\n",
    "plt.show() "
   ]
  },
  {
   "cell_type": "code",
   "execution_count": null,
   "metadata": {},
   "outputs": [],
   "source": [
    "#zoom in (counts in log space)\n",
    "fig = plt.figure()\n",
    "ax = fig.add_subplot(111)\n",
    "plt.hist(urban_county[(urban_county.P0030005_DP!=0) | (urban_county.P0030005_SF!=0)].abs_diff, bins = 100)\n",
    "plt.yscale('log')\n",
    "\n",
    "plt.title('County level; urban AIAN count difference, excluding points that remained at 0.')\n",
    "\n",
    "plt.show() "
   ]
  },
  {
   "cell_type": "code",
   "execution_count": null,
   "metadata": {},
   "outputs": [],
   "source": [
    "#subset to urban areas, grouped by county\n",
    "urban_tract = df[df.UR== 'U'].copy(deep=True)\n",
    "urban_tract = urban_tract.groupby(['STATE','COUNTY','TRACT'])['P0030005_SF','P0030005_DP',\n",
    "                                                              'P0060004_SF','P0060004_DP',\n",
    "                                                              'P0010001_SF','P0010001_DP'].apply(lambda x : x.astype(int).sum())"
   ]
  },
  {
   "cell_type": "code",
   "execution_count": null,
   "metadata": {},
   "outputs": [],
   "source": [
    "#plot urban areas by tract, dp vs sf\n",
    "x = urban_tract[[\"P0030005_SF\"]]\n",
    "y = urban_tract[[\"P0030005_DP\"]]\n",
    "\n",
    "fig = plt.figure() \n",
    "fig.set_size_inches(6,6)\n",
    "\n",
    "ax = fig.add_subplot(111)\n",
    "ax.scatter(x, y, facecolors='none', edgecolors = 'cornflowerblue')\n",
    "ax.set_aspect('equal', adjustable='box')\n",
    "\n",
    "xleft, xright = ax.get_xlim()\n",
    "ybottom, ytop = ax.get_ylim()\n",
    "lim = max(xright,ytop)\n",
    "ax.plot([-1,lim],[-1,lim], 'red', linewidth=1)\n",
    "\n",
    "plt.xlabel('SF urban AIAN alone, counts')\n",
    "plt.ylabel('DP urban AIAN alone, counts')\n",
    "plt.title('tract level: urban AIAN alone count change')\n",
    "\n",
    "plt.show()"
   ]
  },
  {
   "cell_type": "code",
   "execution_count": null,
   "metadata": {},
   "outputs": [],
   "source": [
    "#check out count difference\n",
    "urban_tract['abs_diff'] = urban_tract['P0030005_DP'] - urban_tract['P0030005_SF']\n",
    "\n",
    "#plot histogram\n",
    "fig = plt.figure()\n",
    "ax = fig.add_subplot(111)\n",
    "plt.hist(urban_tract[(urban_tract.P0030005_DP!=0) | (urban_tract.P0030005_SF!=0)].abs_diff, bins = 100)\n",
    "\n",
    "plt.title('Tract level; urban AIAN count difference, excluding points that remained at 0.')\n",
    "\n",
    "plt.show() "
   ]
  },
  {
   "cell_type": "code",
   "execution_count": null,
   "metadata": {},
   "outputs": [],
   "source": [
    "urban_county.abs_diff.describe()"
   ]
  },
  {
   "cell_type": "code",
   "execution_count": null,
   "metadata": {},
   "outputs": [],
   "source": [
    "#zooming in (this is same as above scatter)\n",
    "urban_county[(urban_county.P0030005_DP<5e2) | (urban_county.P0030005_SF<5e2)].abs_diff.describe()"
   ]
  },
  {
   "cell_type": "code",
   "execution_count": null,
   "metadata": {},
   "outputs": [],
   "source": [
    "#zoom in (counts in log space)\n",
    "urban_tract['abs_diff'] = urban_tract['P0030005_DP'] - urban_tract['P0030005_SF']\n",
    "\n",
    "#plot histogram\n",
    "fig = plt.figure()\n",
    "ax = fig.add_subplot(111)\n",
    "plt.hist(urban_tract[(urban_tract.P0030005_DP!=0) | (urban_tract.P0030005_SF!=0)].abs_diff, bins = 100)\n",
    "plt.yscale('log')\n",
    "\n",
    "plt.title('Tract level; urban AIAN count difference, excluding points that remained at 0.')\n",
    "\n",
    "plt.show() "
   ]
  },
  {
   "cell_type": "markdown",
   "metadata": {},
   "source": [
    "## checkout AIAN in combo (solely AIAN + AIAN mixed individuals)"
   ]
  },
  {
   "cell_type": "code",
   "execution_count": null,
   "metadata": {},
   "outputs": [],
   "source": [
    "#check out AIAN in combo, county level counts change\n",
    "x = urban_county[[\"P0060004_SF\"]]\n",
    "y = urban_county[[\"P0060004_DP\"]]\n",
    "\n",
    "fig = plt.figure() \n",
    "fig.set_size_inches(6,6)\n",
    "\n",
    "ax = fig.add_subplot(111)\n",
    "ax.scatter(x, y, facecolors='none', edgecolors = 'cornflowerblue')\n",
    "ax.set_aspect('equal', adjustable='box')\n",
    "\n",
    "xleft, xright = ax.get_xlim()\n",
    "ybottom, ytop = ax.get_ylim()\n",
    "lim = max(xright,ytop)\n",
    "ax.plot([-1,lim],[-1,lim], 'red', linewidth=1)\n",
    "\n",
    "xleft, xright = ax.get_xlim()\n",
    "ybottom, ytop = ax.get_ylim()\n",
    "ax.plot([-1,xright],[-1,ytop], 'red', linewidth=1)\n",
    "\n",
    "plt.xlabel('SF urban AIAN alone, counts')\n",
    "plt.ylabel('DP urban AIAN alone, counts')\n",
    "plt.title('county level: urban AIAN in combo count change')\n",
    "\n",
    "plt.show()"
   ]
  },
  {
   "cell_type": "code",
   "execution_count": null,
   "metadata": {},
   "outputs": [],
   "source": [
    "#zooming in\n",
    "\n",
    "#check out AIAN in combo, county level counts change\n",
    "x = urban_county[(urban_county.P0060004_DP<6e4) | (urban_county.P0060004_SF<6e4)][[\"P0060004_SF\"]]\n",
    "y = urban_county[(urban_county.P0060004_DP<6e4) | (urban_county.P0060004_SF<6e4)][[\"P0060004_DP\"]]\n",
    "\n",
    "fig = plt.figure() \n",
    "fig.set_size_inches(6,6)\n",
    "\n",
    "ax = fig.add_subplot(111)\n",
    "ax.scatter(x, y, facecolors='none', edgecolors = 'cornflowerblue')\n",
    "ax.set_aspect('equal', adjustable='box')\n",
    "\n",
    "xleft, xright = ax.get_xlim()\n",
    "ybottom, ytop = ax.get_ylim()\n",
    "lim = max(xright,ytop)\n",
    "ax.plot([-1,lim],[-1,lim], 'red', linewidth=1)\n",
    "\n",
    "xleft, xright = ax.get_xlim()\n",
    "ybottom, ytop = ax.get_ylim()\n",
    "ax.plot([-1,xright],[-1,ytop], 'red', linewidth=1)\n",
    "\n",
    "plt.xlabel('SF urban AIAN alone, counts')\n",
    "plt.ylabel('DP urban AIAN alone, counts')\n",
    "plt.title('county level: urban AIAN in combo count change, for mixed counts <6e4')\n",
    "\n",
    "plt.show()"
   ]
  },
  {
   "cell_type": "code",
   "execution_count": null,
   "metadata": {},
   "outputs": [],
   "source": [
    "#zooming in\n",
    "\n",
    "#check out AIAN in combo, county level counts change\n",
    "x = urban_county[(urban_county.P0060004_DP<5e3) | (urban_county.P0060004_SF<5e3)][[\"P0060004_SF\"]]\n",
    "y = urban_county[(urban_county.P0060004_DP<5e3) | (urban_county.P0060004_SF<5e3)][[\"P0060004_DP\"]]\n",
    "\n",
    "fig = plt.figure() \n",
    "fig.set_size_inches(6,6)\n",
    "\n",
    "ax = fig.add_subplot(111)\n",
    "ax.scatter(x, y, facecolors='none', edgecolors = 'cornflowerblue')\n",
    "ax.set_aspect('equal', adjustable='box')\n",
    "\n",
    "xleft, xright = ax.get_xlim()\n",
    "ybottom, ytop = ax.get_ylim()\n",
    "lim = max(xright,ytop)\n",
    "ax.plot([-1,lim],[-1,lim], 'red', linewidth=1)\n",
    "\n",
    "xleft, xright = ax.get_xlim()\n",
    "ybottom, ytop = ax.get_ylim()\n",
    "ax.plot([-1,xright],[-1,ytop], 'red', linewidth=1)\n",
    "\n",
    "plt.xlabel('SF urban AIAN alone, counts')\n",
    "plt.ylabel('DP urban AIAN alone, counts')\n",
    "plt.title('county level: urban AIAN in combo count change, for mixed counts<2e4')\n",
    "\n",
    "plt.show()"
   ]
  },
  {
   "cell_type": "markdown",
   "metadata": {},
   "source": [
    "## View DP-SF difference as a function of AIAN count"
   ]
  },
  {
   "cell_type": "code",
   "execution_count": null,
   "metadata": {},
   "outputs": [],
   "source": [
    "urban_county[\"abs_diff_aian_combo\"] = urban_county[\"P0060004_DP\"] - urban_county[\"P0060004_SF\"]\n",
    "\n",
    "#check out AIAN in combo, county level counts change\n",
    "x = urban_county[[\"P0060004_SF\"]]\n",
    "y = urban_county[[\"abs_diff_aian_combo\"]]\n",
    "\n",
    "fig = plt.figure() \n",
    "fig.set_size_inches(6,6)\n",
    "\n",
    "ax = fig.add_subplot(111)\n",
    "ax.scatter(x, y, facecolors='none', edgecolors = 'cornflowerblue')\n",
    "\n",
    "xleft, xright = ax.get_xlim()\n",
    "ax.plot([0,xright],[0,0], 'red', linewidth=1)\n",
    "\n",
    "plt.xlabel('SF urban AIAN alone, counts')\n",
    "plt.ylabel('change in DP count from SF')\n",
    "plt.title('county level: urban AIAN in combo count change')\n",
    "\n",
    "plt.show()"
   ]
  },
  {
   "cell_type": "code",
   "execution_count": null,
   "metadata": {},
   "outputs": [],
   "source": [
    "#zooming in \n",
    "\n",
    "#check out AIAN alone, county level counts change\n",
    "x = urban_county[[\"P0030005_SF\"]]\n",
    "y = urban_county[[\"abs_diff\"]]\n",
    "\n",
    "fig = plt.figure() \n",
    "fig.set_size_inches(6,6)\n",
    "\n",
    "ax = fig.add_subplot(111)\n",
    "ax.scatter(x, y, facecolors='none', edgecolors = 'cornflowerblue')\n",
    "\n",
    "xleft, xright = ax.get_xlim()\n",
    "ax.plot([0,xright],[0,0], 'red', linewidth=1)\n",
    "\n",
    "\n",
    "plt.xlabel('SF urban AIAN alone, counts')\n",
    "plt.ylabel('change in DP count from SF')\n",
    "plt.title('county level: urban AIAN alone count change')\n",
    "\n",
    "plt.show()"
   ]
  },
  {
   "cell_type": "code",
   "execution_count": null,
   "metadata": {},
   "outputs": [],
   "source": [
    "#zooming in \n",
    "\n",
    "#check out AIAN alone, county level counts change\n",
    "x = urban_county[(urban_county.P0030005_SF<2e5)][[\"P0030005_SF\"]]\n",
    "y = urban_county[(urban_county.P0030005_SF<2e5)][[\"abs_diff\"]]\n",
    "\n",
    "fig = plt.figure() \n",
    "fig.set_size_inches(6,6)\n",
    "\n",
    "ax = fig.add_subplot(111)\n",
    "ax.scatter(x, y, facecolors='none', edgecolors = 'cornflowerblue')\n",
    "\n",
    "xleft, xright = ax.get_xlim()\n",
    "ax.plot([0,xright],[0,0], 'red', linewidth=1)\n",
    "\n",
    "\n",
    "plt.xlabel('SF urban AIAN alone, counts')\n",
    "plt.ylabel('change in DP count from SF')\n",
    "plt.title('county level: urban AIAN alone count change for counties with <2e5 AIAN alone')\n",
    "\n",
    "plt.show()"
   ]
  },
  {
   "cell_type": "code",
   "execution_count": null,
   "metadata": {},
   "outputs": [],
   "source": [
    "#todo: you need to checkout the distribution of urban aian, and also on-res aian\n",
    "#to see if it looks like what you were seeing with toy data."
   ]
  },
  {
   "cell_type": "code",
   "execution_count": null,
   "metadata": {},
   "outputs": [],
   "source": [
    "urban_county.size"
   ]
  },
  {
   "cell_type": "markdown",
   "metadata": {},
   "source": [
    "# checkout aian urban overall distribution"
   ]
  },
  {
   "cell_type": "code",
   "execution_count": 30,
   "metadata": {},
   "outputs": [
    {
     "data": {
      "image/png": "[encoded data removed]",
      "text/plain": [
       "<Figure size 432x288 with 1 Axes>"
      ]
     },
     "metadata": {
      "needs_background": "light"
     },
     "output_type": "display_data"
    }
   ],
   "source": [
    "#check out AIAN alone, county level counts change\n",
    "x = urban_county[[\"P0030005_SF\"]]\n",
    "\n",
    "plt.hist(x, bins = 100)\n",
    "plt.title('SF AIAN urban')\n",
    "\n",
    "plt.show()"
   ]
  },
  {
   "cell_type": "code",
   "execution_count": 33,
   "metadata": {},
   "outputs": [
    {
     "data": {
      "image/png": "[encoded data removed]",
      "text/plain": [
       "<Figure size 432x288 with 1 Axes>"
      ]
     },
     "metadata": {
      "needs_background": "light"
     },
     "output_type": "display_data"
    }
   ],
   "source": [
    "#check out AIAN alone, county level counts change\n",
    "x = urban_county[[\"P0030005_SF\"]]\n",
    "\n",
    "plt.hist(x, bins = 500, log = True)\n",
    "plt.title('SF AIAN urban')\n",
    "\n",
    "plt.show()"
   ]
  },
  {
   "cell_type": "code",
   "execution_count": null,
   "metadata": {},
   "outputs": [],
   "source": []
  }
 ],
 "metadata": {
  "kernelspec": {
   "display_name": "Python 3",
   "language": "python",
   "name": "python3"
  },
  "language_info": {
   "codemirror_mode": {
    "name": "ipython",
    "version": 3
   },
   "file_extension": ".py",
   "mimetype": "text/x-python",
   "name": "python",
   "nbconvert_exporter": "python",
   "pygments_lexer": "ipython3",
   "version": "3.6.10"
  }
 },
 "nbformat": 4,
 "nbformat_minor": 4
}
