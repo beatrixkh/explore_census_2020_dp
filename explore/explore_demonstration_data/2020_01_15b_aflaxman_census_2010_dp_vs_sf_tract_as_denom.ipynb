{
 "cells": [
  {
   "cell_type": "code",
   "execution_count": 4,
   "metadata": {},
   "outputs": [],
   "source": [
    "# 01/17/2020: using 20 threads, 50G\n",
    "# 01/20/2020: using 20 threads, 40G\n",
    "    #csv time: 4:57\n",
    "    #dta time: 49min 39s"
   ]
  },
  {
   "cell_type": "code",
   "execution_count": 5,
   "metadata": {},
   "outputs": [
    {
     "name": "stdout",
     "output_type": "stream",
     "text": [
      "Mon Jan 20 11:26:59 PST 2020\r\n"
     ]
    }
   ],
   "source": [
    "import numpy as np, matplotlib.pyplot as plt, pandas as pd\n",
    "pd.set_option('display.max_rows', 8)\n",
    "!date\n",
    "\n",
    "%load_ext autoreload\n",
    "%autoreload 2"
   ]
  },
  {
   "cell_type": "markdown",
   "metadata": {},
   "source": [
    "# Have a look at the DP error at census tract level\n",
    "\n",
    "And dig in by ethnicity if time permist."
   ]
  },
  {
   "cell_type": "code",
   "execution_count": 28,
   "metadata": {},
   "outputs": [],
   "source": [
    "location_cols = ['STATE', 'COUNTY', 'TRACT', 'BLKGRP', 'BLOCK']\n",
    "\n",
    "\n",
    "def my_cols(x):\n",
    "    if x.startswith('P001','P007'):\n",
    "        return True\n",
    "    else:\n",
    "        return (x in location_cols)"
   ]
  },
  {
   "cell_type": "code",
   "execution_count": 7,
   "metadata": {},
   "outputs": [
    {
     "name": "stdout",
     "output_type": "stream",
     "text": [
      "CPU times: user 4min 29s, sys: 21.3 s, total: 4min 50s\n",
      "Wall time: 4min 57s\n"
     ]
    }
   ],
   "source": [
    "%%time\n",
    "\n",
    "df_dp = pd.read_csv('/home/j/temp/abie/fiftystates2010dhc.csv', usecols=my_cols)\n",
    "#df_dp = df_dp.dropna(subset=['BLOCK', 'P0010001'])"
   ]
  },
  {
   "cell_type": "code",
   "execution_count": 30,
   "metadata": {},
   "outputs": [
    {
     "data": {
      "text/plain": [
       "(13717794, 6)"
      ]
     },
     "execution_count": 30,
     "metadata": {},
     "output_type": "execute_result"
    }
   ],
   "source": [
    "df_dp.shape"
   ]
  },
  {
   "cell_type": "code",
   "execution_count": 11,
   "metadata": {},
   "outputs": [
    {
     "data": {
      "text/plain": [
       "['state', 'county', 'tract', 'blkgrp', 'block', 'P0010001']"
      ]
     },
     "execution_count": 11,
     "metadata": {},
     "output_type": "execute_result"
    }
   ],
   "source": [
    "dta_columns = [x.lower() for x in df_dp.columns]\n",
    "dta_columns[-1] = df_dp.columns[-1]\n",
    "dta_columns"
   ]
  },
  {
   "cell_type": "code",
   "execution_count": 12,
   "metadata": {},
   "outputs": [
    {
     "name": "stdout",
     "output_type": "stream",
     "text": [
      ". . . . . . . . . . . . . . . . . . . . . . . . . . . . . . . . . . . . . . . . . . . . . . . . . . . . . . . . . . . . . . . . . . . . . . . . . . . . . . . . . . . . . . . . . . . . . . . . . . . . . . . . . . . . . . . . . . . . . . . . . . . . . . . . . . . . . . . . . . CPU times: user 30min 9s, sys: 15min 33s, total: 45min 42s\n",
      "Wall time: 49min 39s\n"
     ]
    },
    {
     "data": {
      "text/plain": [
       "(11071790, 6)"
      ]
     },
     "execution_count": 12,
     "metadata": {},
     "output_type": "execute_result"
    }
   ],
   "source": [
    "%%time\n",
    "\n",
    "r = pd.read_stata('/home/j/temp/abie/all50states_2010ur1_all_vars.dta', columns=dta_columns,\n",
    "                  chunksize=100_000, convert_missing=True, preserve_dtypes=False)\n",
    "\n",
    "df_sf = pd.DataFrame()\n",
    "for t in r:\n",
    "    print('.', flush=True, end=' ')\n",
    "    df_sf = df_sf.append(t[t.block != ''])\n",
    "df_sf.shape"
   ]
  },
  {
   "cell_type": "code",
   "execution_count": 26,
   "metadata": {},
   "outputs": [
    {
     "name": "stdout",
     "output_type": "stream",
     "text": [
      "CPU times: user 765 ms, sys: 28.4 ms, total: 794 ms\n",
      "Wall time: 789 ms\n"
     ]
    },
    {
     "data": {
      "text/html": [
       "<div>\n",
       "<style scoped>\n",
       "    .dataframe tbody tr th:only-of-type {\n",
       "        vertical-align: middle;\n",
       "    }\n",
       "\n",
       "    .dataframe tbody tr th {\n",
       "        vertical-align: top;\n",
       "    }\n",
       "\n",
       "    .dataframe thead th {\n",
       "        text-align: right;\n",
       "    }\n",
       "</style>\n",
       "<table border=\"1\" class=\"dataframe\">\n",
       "  <thead>\n",
       "    <tr style=\"text-align: right;\">\n",
       "      <th></th>\n",
       "      <th>state</th>\n",
       "      <th>county</th>\n",
       "      <th>tract</th>\n",
       "      <th>blkgrp</th>\n",
       "      <th>block</th>\n",
       "      <th>P0010001</th>\n",
       "    </tr>\n",
       "  </thead>\n",
       "  <tbody>\n",
       "    <tr>\n",
       "      <th>135307</th>\n",
       "      <td>01</td>\n",
       "      <td>051</td>\n",
       "      <td>030100</td>\n",
       "      <td>4</td>\n",
       "      <td>4031</td>\n",
       "      <td>19</td>\n",
       "    </tr>\n",
       "    <tr>\n",
       "      <th>135308</th>\n",
       "      <td>01</td>\n",
       "      <td>051</td>\n",
       "      <td>030100</td>\n",
       "      <td>4</td>\n",
       "      <td>4032</td>\n",
       "      <td>0</td>\n",
       "    </tr>\n",
       "    <tr>\n",
       "      <th>135309</th>\n",
       "      <td>01</td>\n",
       "      <td>051</td>\n",
       "      <td>030100</td>\n",
       "      <td>4</td>\n",
       "      <td>4033</td>\n",
       "      <td>5</td>\n",
       "    </tr>\n",
       "    <tr>\n",
       "      <th>135310</th>\n",
       "      <td>01</td>\n",
       "      <td>051</td>\n",
       "      <td>030100</td>\n",
       "      <td>4</td>\n",
       "      <td>4034</td>\n",
       "      <td>0</td>\n",
       "    </tr>\n",
       "    <tr>\n",
       "      <th>...</th>\n",
       "      <td>...</td>\n",
       "      <td>...</td>\n",
       "      <td>...</td>\n",
       "      <td>...</td>\n",
       "      <td>...</td>\n",
       "      <td>...</td>\n",
       "    </tr>\n",
       "    <tr>\n",
       "      <th>8735798</th>\n",
       "      <td>36</td>\n",
       "      <td>051</td>\n",
       "      <td>030100</td>\n",
       "      <td>3</td>\n",
       "      <td>3052</td>\n",
       "      <td>0</td>\n",
       "    </tr>\n",
       "    <tr>\n",
       "      <th>8735799</th>\n",
       "      <td>36</td>\n",
       "      <td>051</td>\n",
       "      <td>030100</td>\n",
       "      <td>3</td>\n",
       "      <td>3053</td>\n",
       "      <td>0</td>\n",
       "    </tr>\n",
       "    <tr>\n",
       "      <th>8735800</th>\n",
       "      <td>36</td>\n",
       "      <td>051</td>\n",
       "      <td>030100</td>\n",
       "      <td>3</td>\n",
       "      <td>3054</td>\n",
       "      <td>15</td>\n",
       "    </tr>\n",
       "    <tr>\n",
       "      <th>8735801</th>\n",
       "      <td>36</td>\n",
       "      <td>051</td>\n",
       "      <td>030100</td>\n",
       "      <td>3</td>\n",
       "      <td>3055</td>\n",
       "      <td>0</td>\n",
       "    </tr>\n",
       "  </tbody>\n",
       "</table>\n",
       "<p>548 rows × 6 columns</p>\n",
       "</div>"
      ],
      "text/plain": [
       "        state county   tract blkgrp block  P0010001\n",
       "135307     01    051  030100      4  4031        19\n",
       "135308     01    051  030100      4  4032         0\n",
       "135309     01    051  030100      4  4033         5\n",
       "135310     01    051  030100      4  4034         0\n",
       "...       ...    ...     ...    ...   ...       ...\n",
       "8735798    36    051  030100      3  3052         0\n",
       "8735799    36    051  030100      3  3053         0\n",
       "8735800    36    051  030100      3  3054        15\n",
       "8735801    36    051  030100      3  3055         0\n",
       "\n",
       "[548 rows x 6 columns]"
      ]
     },
     "execution_count": 26,
     "metadata": {},
     "output_type": "execute_result"
    }
   ],
   "source": [
    "%%time\n",
    "\n",
    "df_sf[(df_sf.county=='051') & (df_sf.tract=='030100')]\n",
    "#df_sf[df_sf['county'] == '051' & df_sf['tract'] == '030100']"
   ]
  },
  {
   "cell_type": "code",
   "execution_count": 27,
   "metadata": {},
   "outputs": [
    {
     "data": {
      "text/html": [
       "<div>\n",
       "<style scoped>\n",
       "    .dataframe tbody tr th:only-of-type {\n",
       "        vertical-align: middle;\n",
       "    }\n",
       "\n",
       "    .dataframe tbody tr th {\n",
       "        vertical-align: top;\n",
       "    }\n",
       "\n",
       "    .dataframe thead th {\n",
       "        text-align: right;\n",
       "    }\n",
       "</style>\n",
       "<table border=\"1\" class=\"dataframe\">\n",
       "  <thead>\n",
       "    <tr style=\"text-align: right;\">\n",
       "      <th></th>\n",
       "      <th>state</th>\n",
       "      <th>county</th>\n",
       "      <th>tract</th>\n",
       "      <th>blkgrp</th>\n",
       "      <th>block</th>\n",
       "      <th>P0010001_sf</th>\n",
       "      <th>STATE</th>\n",
       "      <th>COUNTY</th>\n",
       "      <th>TRACT</th>\n",
       "      <th>BLKGRP</th>\n",
       "      <th>BLOCK</th>\n",
       "      <th>P0010001_dp</th>\n",
       "    </tr>\n",
       "  </thead>\n",
       "  <tbody>\n",
       "    <tr>\n",
       "      <th>0</th>\n",
       "      <td>2.0</td>\n",
       "      <td>13.0</td>\n",
       "      <td>100.0</td>\n",
       "      <td>1.0</td>\n",
       "      <td>1363.0</td>\n",
       "      <td>24.0</td>\n",
       "      <td>2.0</td>\n",
       "      <td>13.0</td>\n",
       "      <td>100.0</td>\n",
       "      <td>1.0</td>\n",
       "      <td>1363.0</td>\n",
       "      <td>87.0</td>\n",
       "    </tr>\n",
       "    <tr>\n",
       "      <th>1</th>\n",
       "      <td>2.0</td>\n",
       "      <td>13.0</td>\n",
       "      <td>100.0</td>\n",
       "      <td>1.0</td>\n",
       "      <td>1366.0</td>\n",
       "      <td>0.0</td>\n",
       "      <td>2.0</td>\n",
       "      <td>13.0</td>\n",
       "      <td>100.0</td>\n",
       "      <td>1.0</td>\n",
       "      <td>1366.0</td>\n",
       "      <td>0.0</td>\n",
       "    </tr>\n",
       "    <tr>\n",
       "      <th>2</th>\n",
       "      <td>2.0</td>\n",
       "      <td>13.0</td>\n",
       "      <td>100.0</td>\n",
       "      <td>1.0</td>\n",
       "      <td>1369.0</td>\n",
       "      <td>0.0</td>\n",
       "      <td>2.0</td>\n",
       "      <td>13.0</td>\n",
       "      <td>100.0</td>\n",
       "      <td>1.0</td>\n",
       "      <td>1369.0</td>\n",
       "      <td>0.0</td>\n",
       "    </tr>\n",
       "    <tr>\n",
       "      <th>3</th>\n",
       "      <td>2.0</td>\n",
       "      <td>13.0</td>\n",
       "      <td>100.0</td>\n",
       "      <td>1.0</td>\n",
       "      <td>1370.0</td>\n",
       "      <td>0.0</td>\n",
       "      <td>2.0</td>\n",
       "      <td>13.0</td>\n",
       "      <td>100.0</td>\n",
       "      <td>1.0</td>\n",
       "      <td>1370.0</td>\n",
       "      <td>0.0</td>\n",
       "    </tr>\n",
       "    <tr>\n",
       "      <th>...</th>\n",
       "      <td>...</td>\n",
       "      <td>...</td>\n",
       "      <td>...</td>\n",
       "      <td>...</td>\n",
       "      <td>...</td>\n",
       "      <td>...</td>\n",
       "      <td>...</td>\n",
       "      <td>...</td>\n",
       "      <td>...</td>\n",
       "      <td>...</td>\n",
       "      <td>...</td>\n",
       "      <td>...</td>\n",
       "    </tr>\n",
       "    <tr>\n",
       "      <th>11071786</th>\n",
       "      <td>56.0</td>\n",
       "      <td>45.0</td>\n",
       "      <td>951100.0</td>\n",
       "      <td>1.0</td>\n",
       "      <td>1869.0</td>\n",
       "      <td>0.0</td>\n",
       "      <td>56.0</td>\n",
       "      <td>45.0</td>\n",
       "      <td>951100.0</td>\n",
       "      <td>1.0</td>\n",
       "      <td>1869.0</td>\n",
       "      <td>0.0</td>\n",
       "    </tr>\n",
       "    <tr>\n",
       "      <th>11071787</th>\n",
       "      <td>56.0</td>\n",
       "      <td>45.0</td>\n",
       "      <td>951100.0</td>\n",
       "      <td>1.0</td>\n",
       "      <td>1870.0</td>\n",
       "      <td>0.0</td>\n",
       "      <td>56.0</td>\n",
       "      <td>45.0</td>\n",
       "      <td>951100.0</td>\n",
       "      <td>1.0</td>\n",
       "      <td>1870.0</td>\n",
       "      <td>0.0</td>\n",
       "    </tr>\n",
       "    <tr>\n",
       "      <th>11071788</th>\n",
       "      <td>56.0</td>\n",
       "      <td>45.0</td>\n",
       "      <td>951100.0</td>\n",
       "      <td>1.0</td>\n",
       "      <td>1871.0</td>\n",
       "      <td>0.0</td>\n",
       "      <td>56.0</td>\n",
       "      <td>45.0</td>\n",
       "      <td>951100.0</td>\n",
       "      <td>1.0</td>\n",
       "      <td>1871.0</td>\n",
       "      <td>0.0</td>\n",
       "    </tr>\n",
       "    <tr>\n",
       "      <th>11071789</th>\n",
       "      <td>56.0</td>\n",
       "      <td>45.0</td>\n",
       "      <td>951100.0</td>\n",
       "      <td>2.0</td>\n",
       "      <td>2985.0</td>\n",
       "      <td>0.0</td>\n",
       "      <td>56.0</td>\n",
       "      <td>45.0</td>\n",
       "      <td>951100.0</td>\n",
       "      <td>2.0</td>\n",
       "      <td>2985.0</td>\n",
       "      <td>0.0</td>\n",
       "    </tr>\n",
       "  </tbody>\n",
       "</table>\n",
       "<p>11071790 rows × 12 columns</p>\n",
       "</div>"
      ],
      "text/plain": [
       "          state  county     tract  blkgrp   block  P0010001_sf  STATE  COUNTY  \\\n",
       "0           2.0    13.0     100.0     1.0  1363.0         24.0    2.0    13.0   \n",
       "1           2.0    13.0     100.0     1.0  1366.0          0.0    2.0    13.0   \n",
       "2           2.0    13.0     100.0     1.0  1369.0          0.0    2.0    13.0   \n",
       "3           2.0    13.0     100.0     1.0  1370.0          0.0    2.0    13.0   \n",
       "...         ...     ...       ...     ...     ...          ...    ...     ...   \n",
       "11071786   56.0    45.0  951100.0     1.0  1869.0          0.0   56.0    45.0   \n",
       "11071787   56.0    45.0  951100.0     1.0  1870.0          0.0   56.0    45.0   \n",
       "11071788   56.0    45.0  951100.0     1.0  1871.0          0.0   56.0    45.0   \n",
       "11071789   56.0    45.0  951100.0     2.0  2985.0          0.0   56.0    45.0   \n",
       "\n",
       "             TRACT  BLKGRP   BLOCK  P0010001_dp  \n",
       "0            100.0     1.0  1363.0         87.0  \n",
       "1            100.0     1.0  1366.0          0.0  \n",
       "2            100.0     1.0  1369.0          0.0  \n",
       "3            100.0     1.0  1370.0          0.0  \n",
       "...            ...     ...     ...          ...  \n",
       "11071786  951100.0     1.0  1869.0          0.0  \n",
       "11071787  951100.0     1.0  1870.0          0.0  \n",
       "11071788  951100.0     1.0  1871.0          0.0  \n",
       "11071789  951100.0     2.0  2985.0          0.0  \n",
       "\n",
       "[11071790 rows x 12 columns]"
      ]
     },
     "execution_count": 27,
     "metadata": {},
     "output_type": "execute_result"
    }
   ],
   "source": [
    "df = pd.merge(df_sf[(df_sf.block != '')].astype(float), df_dp.dropna(subset=['BLOCK']).astype(float),\n",
    "              left_on=list(dta_columns[:-1]), right_on=location_cols, suffixes=('_sf', '_dp'))\n",
    "df"
   ]
  },
  {
   "cell_type": "code",
   "execution_count": 31,
   "metadata": {},
   "outputs": [
    {
     "data": {
      "text/html": [
       "<div>\n",
       "<style scoped>\n",
       "    .dataframe tbody tr th:only-of-type {\n",
       "        vertical-align: middle;\n",
       "    }\n",
       "\n",
       "    .dataframe tbody tr th {\n",
       "        vertical-align: top;\n",
       "    }\n",
       "\n",
       "    .dataframe thead th {\n",
       "        text-align: right;\n",
       "    }\n",
       "</style>\n",
       "<table border=\"1\" class=\"dataframe\">\n",
       "  <thead>\n",
       "    <tr style=\"text-align: right;\">\n",
       "      <th></th>\n",
       "      <th>state</th>\n",
       "      <th>county</th>\n",
       "      <th>tract</th>\n",
       "      <th>blkgrp</th>\n",
       "      <th>block</th>\n",
       "      <th>P0010001_sf</th>\n",
       "      <th>STATE</th>\n",
       "      <th>COUNTY</th>\n",
       "      <th>TRACT</th>\n",
       "      <th>BLKGRP</th>\n",
       "      <th>BLOCK</th>\n",
       "      <th>P0010001_dp</th>\n",
       "    </tr>\n",
       "  </thead>\n",
       "  <tbody>\n",
       "    <tr>\n",
       "      <th>0</th>\n",
       "      <td>2.0</td>\n",
       "      <td>13.0</td>\n",
       "      <td>100.0</td>\n",
       "      <td>1.0</td>\n",
       "      <td>1363.0</td>\n",
       "      <td>24.0</td>\n",
       "      <td>2.0</td>\n",
       "      <td>13.0</td>\n",
       "      <td>100.0</td>\n",
       "      <td>1.0</td>\n",
       "      <td>1363.0</td>\n",
       "      <td>87.0</td>\n",
       "    </tr>\n",
       "    <tr>\n",
       "      <th>1</th>\n",
       "      <td>2.0</td>\n",
       "      <td>13.0</td>\n",
       "      <td>100.0</td>\n",
       "      <td>1.0</td>\n",
       "      <td>1366.0</td>\n",
       "      <td>0.0</td>\n",
       "      <td>2.0</td>\n",
       "      <td>13.0</td>\n",
       "      <td>100.0</td>\n",
       "      <td>1.0</td>\n",
       "      <td>1366.0</td>\n",
       "      <td>0.0</td>\n",
       "    </tr>\n",
       "    <tr>\n",
       "      <th>2</th>\n",
       "      <td>2.0</td>\n",
       "      <td>13.0</td>\n",
       "      <td>100.0</td>\n",
       "      <td>1.0</td>\n",
       "      <td>1369.0</td>\n",
       "      <td>0.0</td>\n",
       "      <td>2.0</td>\n",
       "      <td>13.0</td>\n",
       "      <td>100.0</td>\n",
       "      <td>1.0</td>\n",
       "      <td>1369.0</td>\n",
       "      <td>0.0</td>\n",
       "    </tr>\n",
       "    <tr>\n",
       "      <th>3</th>\n",
       "      <td>2.0</td>\n",
       "      <td>13.0</td>\n",
       "      <td>100.0</td>\n",
       "      <td>1.0</td>\n",
       "      <td>1370.0</td>\n",
       "      <td>0.0</td>\n",
       "      <td>2.0</td>\n",
       "      <td>13.0</td>\n",
       "      <td>100.0</td>\n",
       "      <td>1.0</td>\n",
       "      <td>1370.0</td>\n",
       "      <td>0.0</td>\n",
       "    </tr>\n",
       "    <tr>\n",
       "      <th>4</th>\n",
       "      <td>2.0</td>\n",
       "      <td>13.0</td>\n",
       "      <td>100.0</td>\n",
       "      <td>1.0</td>\n",
       "      <td>1371.0</td>\n",
       "      <td>942.0</td>\n",
       "      <td>2.0</td>\n",
       "      <td>13.0</td>\n",
       "      <td>100.0</td>\n",
       "      <td>1.0</td>\n",
       "      <td>1371.0</td>\n",
       "      <td>988.0</td>\n",
       "    </tr>\n",
       "  </tbody>\n",
       "</table>\n",
       "</div>"
      ],
      "text/plain": [
       "   state  county  tract  blkgrp   block  P0010001_sf  STATE  COUNTY  TRACT  \\\n",
       "0    2.0    13.0  100.0     1.0  1363.0         24.0    2.0    13.0  100.0   \n",
       "1    2.0    13.0  100.0     1.0  1366.0          0.0    2.0    13.0  100.0   \n",
       "2    2.0    13.0  100.0     1.0  1369.0          0.0    2.0    13.0  100.0   \n",
       "3    2.0    13.0  100.0     1.0  1370.0          0.0    2.0    13.0  100.0   \n",
       "4    2.0    13.0  100.0     1.0  1371.0        942.0    2.0    13.0  100.0   \n",
       "\n",
       "   BLKGRP   BLOCK  P0010001_dp  \n",
       "0     1.0  1363.0         87.0  \n",
       "1     1.0  1366.0          0.0  \n",
       "2     1.0  1369.0          0.0  \n",
       "3     1.0  1370.0          0.0  \n",
       "4     1.0  1371.0        988.0  "
      ]
     },
     "execution_count": 31,
     "metadata": {},
     "output_type": "execute_result"
    }
   ],
   "source": [
    "df.head()"
   ]
  },
  {
   "cell_type": "code",
   "execution_count": 32,
   "metadata": {},
   "outputs": [
    {
     "data": {
      "text/plain": [
       "state  county  tract   \n",
       "1.0    1.0     20100.0     1912.0\n",
       "               20200.0     2170.0\n",
       "               20300.0     3373.0\n",
       "               20400.0     4386.0\n",
       "                            ...  \n",
       "56.0   43.0    301.0       2665.0\n",
       "               302.0       2542.0\n",
       "       45.0    951100.0    3314.0\n",
       "               951300.0    3894.0\n",
       "Name: P0010001_sf, Length: 72878, dtype: float64"
      ]
     },
     "execution_count": 32,
     "metadata": {},
     "output_type": "execute_result"
    }
   ],
   "source": [
    "tract_sf = df.groupby(['state', 'county', 'tract']).P0010001_sf.sum()\n",
    "tract_sf"
   ]
  },
  {
   "cell_type": "code",
   "execution_count": 33,
   "metadata": {},
   "outputs": [
    {
     "data": {
      "text/plain": [
       "count    72878.000000\n",
       "mean      4228.214482\n",
       "std       1982.810054\n",
       "min          0.000000\n",
       "25%       2876.000000\n",
       "50%       3998.000000\n",
       "75%       5322.000000\n",
       "max      37452.000000\n",
       "Name: P0010001_sf, dtype: float64"
      ]
     },
     "execution_count": 33,
     "metadata": {},
     "output_type": "execute_result"
    }
   ],
   "source": [
    "tract_sf.describe()"
   ]
  },
  {
   "cell_type": "code",
   "execution_count": 34,
   "metadata": {},
   "outputs": [
    {
     "data": {
      "text/plain": [
       "count    72878.000000\n",
       "mean      4228.214482\n",
       "std       1974.617620\n",
       "min          0.000000\n",
       "25%       2880.250000\n",
       "50%       3997.500000\n",
       "75%       5315.000000\n",
       "max      37534.000000\n",
       "Name: P0010001_dp, dtype: float64"
      ]
     },
     "execution_count": 34,
     "metadata": {},
     "output_type": "execute_result"
    }
   ],
   "source": [
    "tract_dp = df.groupby(['state', 'county', 'tract']).P0010001_dp.sum()\n",
    "tract_dp.describe()"
   ]
  },
  {
   "cell_type": "code",
   "execution_count": 35,
   "metadata": {},
   "outputs": [
    {
     "data": {
      "text/plain": [
       "count    72878.000000\n",
       "mean         0.000000\n",
       "std         36.267958\n",
       "min       -772.000000\n",
       "25%        -20.000000\n",
       "50%          0.000000\n",
       "75%         19.000000\n",
       "max        714.000000\n",
       "dtype: float64"
      ]
     },
     "execution_count": 35,
     "metadata": {},
     "output_type": "execute_result"
    }
   ],
   "source": [
    "tract_error = tract_dp - tract_sf\n",
    "tract_error.describe()"
   ]
  },
  {
   "cell_type": "code",
   "execution_count": 36,
   "metadata": {},
   "outputs": [
    {
     "data": {
      "text/plain": [
       "count    72365.0\n",
       "mean         inf\n",
       "std          NaN\n",
       "min        -99.5\n",
       "1%          -2.3\n",
       "50%          0.0\n",
       "99%          5.1\n",
       "max          inf\n",
       "dtype: float64"
      ]
     },
     "execution_count": 36,
     "metadata": {},
     "output_type": "execute_result"
    }
   ],
   "source": [
    "rel_error = tract_error / tract_sf\n",
    "np.round((100*rel_error).describe(percentiles=[0.01, .99]),1)"
   ]
  },
  {
   "cell_type": "code",
   "execution_count": 37,
   "metadata": {},
   "outputs": [
    {
     "data": {
      "text/plain": [
       "count    72365.0\n",
       "mean         inf\n",
       "std          NaN\n",
       "min          0.0\n",
       "50%          0.5\n",
       "95%          2.3\n",
       "99%          5.5\n",
       "max          inf\n",
       "dtype: float64"
      ]
     },
     "execution_count": 37,
     "metadata": {},
     "output_type": "execute_result"
    }
   ],
   "source": [
    "np.round(np.absolute(100*rel_error).describe(percentiles=[0.95, .99]),1)"
   ]
  },
  {
   "cell_type": "code",
   "execution_count": 38,
   "metadata": {},
   "outputs": [
    {
     "data": {
      "image/png": "[encoded data removed]",
      "text/plain": [
       "<Figure size 432x288 with 1 Axes>"
      ]
     },
     "metadata": {
      "needs_background": "light"
     },
     "output_type": "display_data"
    }
   ],
   "source": [
    "# is the relative error correlated with tract size?  I bet it is\n",
    "plt.plot(tract_sf, rel_error, 'o', mec='C0', mew=1, color='none')\n",
    "plt.semilogx()\n",
    "plt.xlabel('Tract Size (Official Count)')\n",
    "plt.ylabel('Relative error in DP count (%)');"
   ]
  },
  {
   "cell_type": "code",
   "execution_count": 39,
   "metadata": {},
   "outputs": [
    {
     "data": {
      "text/plain": [
       "count    72159.000000\n",
       "mean      4270.312477\n",
       "std       1947.067703\n",
       "min         56.000000\n",
       "25%       2911.000000\n",
       "50%       4021.000000\n",
       "75%       5338.000000\n",
       "max      37452.000000\n",
       "Name: P0010001_sf, dtype: float64"
      ]
     },
     "execution_count": 39,
     "metadata": {},
     "output_type": "execute_result"
    }
   ],
   "source": [
    "# quite small for tracts of at least 50 people (which is most of them)\n",
    "tract_sf[tract_sf > 50].describe()"
   ]
  },
  {
   "cell_type": "code",
   "execution_count": 40,
   "metadata": {},
   "outputs": [
    {
     "data": {
      "text/plain": [
       "count    72159.000000\n",
       "mean        -0.140703\n",
       "std         36.324856\n",
       "min       -772.000000\n",
       "25%        -20.000000\n",
       "50%         -1.000000\n",
       "75%         19.000000\n",
       "max        714.000000\n",
       "dtype: float64"
      ]
     },
     "execution_count": 40,
     "metadata": {},
     "output_type": "execute_result"
    }
   ],
   "source": [
    "tract_error[tract_sf > 50].describe()"
   ]
  },
  {
   "cell_type": "code",
   "execution_count": 41,
   "metadata": {},
   "outputs": [
    {
     "data": {
      "text/plain": [
       "state  county  tract   \n",
       "31.0   109.0   3500.0     -0.995283\n",
       "25.0   25.0    981202.0   -0.985507\n",
       "36.0   81.0    56100.0    -0.438356\n",
       "6.0    37.0    980014.0   -0.334728\n",
       "                             ...   \n",
       "       111.0   980000.0    1.035714\n",
       "       1.0     982000.0    1.323944\n",
       "       73.0    6200.0      1.430556\n",
       "15.0   5.0     31900.0     6.955556\n",
       "Length: 72159, dtype: float64"
      ]
     },
     "execution_count": 41,
     "metadata": {},
     "output_type": "execute_result"
    }
   ],
   "source": [
    "# where is that outlier?\n",
    "\n",
    "rel_error[tract_sf > 50].sort_values()"
   ]
  },
  {
   "cell_type": "code",
   "execution_count": null,
   "metadata": {
    "collapsed": true
   },
   "outputs": [],
   "source": [
    "# state 15, county 5, tract 31900.0\n",
    "# https://en.wikipedia.org/wiki/List_of_United_States_FIPS_codes_by_county\n",
    "# Kalawao County, Hawaii\n",
    "# find it on https://geomap.ffiec.gov/FFIECGeocMap/GeocodeMap1.aspx\n",
    "# by using an address from google maps?"
   ]
  },
  {
   "cell_type": "markdown",
   "metadata": {},
   "source": [
    "![image.png](attachment:image.png)"
   ]
  },
  {
   "cell_type": "markdown",
   "metadata": {},
   "source": [
    "https://en.wikipedia.org/wiki/Kalawao_County,_Hawaii\n",
    "\n",
    "Remember this county?  Definitely an outlier."
   ]
  }
 ],
 "metadata": {
  "anaconda-cloud": {},
  "kernelspec": {
   "display_name": "Python 3",
   "language": "python",
   "name": "python3"
  },
  "language_info": {
   "codemirror_mode": {
    "name": "ipython",
    "version": 3
   },
   "file_extension": ".py",
   "mimetype": "text/x-python",
   "name": "python",
   "nbconvert_exporter": "python",
   "pygments_lexer": "ipython3",
   "version": "3.6.10"
  }
 },
 "nbformat": 4,
 "nbformat_minor": 2
}
