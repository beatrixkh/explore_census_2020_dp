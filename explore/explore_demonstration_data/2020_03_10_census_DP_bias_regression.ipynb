{
 "cells": [
  {
   "cell_type": "code",
   "execution_count": 1,
   "metadata": {},
   "outputs": [
    {
     "name": "stdout",
     "output_type": "stream",
     "text": [
      "Tue Mar 10 09:36:03 PDT 2020\r\n"
     ]
    }
   ],
   "source": [
    "import json\n",
    "import numpy as np\n",
    "import matplotlib.pyplot as plt\n",
    "import matplotlib.axes as axes\n",
    "import pandas as pd\n",
    "import seaborn as sns\n",
    "pd.set_option('display.max_rows', 40)\n",
    "!date"
   ]
  },
  {
   "cell_type": "markdown",
   "metadata": {},
   "source": [
    "# 2010 census demo data. urban vs rural areas: looking for the downward bias in DP counts ala Akee's findings"
   ]
  },
  {
   "cell_type": "markdown",
   "metadata": {},
   "source": [
    "Akee's talk here: https://vimeo.com/380264104"
   ]
  },
  {
   "cell_type": "code",
   "execution_count": 2,
   "metadata": {},
   "outputs": [],
   "source": [
    "##Encoding of the AIANHH var:\n",
    "#0001–4999 Federally recognized American Indian reservation and/or off-reservation trust land\n",
    "#5000–5499 Hawaiian home land 5500–5999 Oklahoma tribal statistical area\n",
    "#5500–5999 Oklahoma tribal statistical area\n",
    "#6000–7999 Alaska Native village statistical area\n",
    "#8000–8999 Tribal designated statistical area\n",
    "#9000–9499 State-recognized American Indian reservation\n",
    "#9500–9998 State designated tribal statistical area "
   ]
  },
  {
   "cell_type": "code",
   "execution_count": 3,
   "metadata": {},
   "outputs": [],
   "source": [
    "## Encoding of race vars\n",
    "# White alone P0030002\n",
    "# Black or African American alone P0030003\n",
    "# American Indian and Alaska Native alone P0030004\n",
    "# Asian alone P0030005\n",
    "# Native Hawaiian and Other Pacific Islander alone P0030006 \n",
    "# Some Other Race alone P0030007 \n",
    "# Two or More Races P0030008 "
   ]
  },
  {
   "cell_type": "code",
   "execution_count": 4,
   "metadata": {},
   "outputs": [],
   "source": [
    "location_cols = ['STATE', 'COUNTY', 'TRACT', 'BLKGRP', 'BLOCK']\n",
    "\n",
    "race_cols = ['P0030001','P0030002','P0030003','P0030004','P0030005','P0030006','P0030007','P0030008'] # race vars\n",
    "keep_cols = location_cols + race_cols\n",
    "\n",
    "def my_cols(x):\n",
    "    if x.startswith('P001'):\n",
    "        return True\n",
    "    elif x.startswith(('AIAN','AITS','TTRACT','UA','UR')):\n",
    "        return True\n",
    "    else:\n",
    "        return (x in keep_cols)"
   ]
  },
  {
   "cell_type": "code",
   "execution_count": 5,
   "metadata": {},
   "outputs": [
    {
     "name": "stderr",
     "output_type": "stream",
     "text": [
      "<string>:2: DtypeWarning: Columns (28,32,33,47,49,50) have mixed types.Specify dtype option on import or set low_memory=False.\n"
     ]
    },
    {
     "name": "stdout",
     "output_type": "stream",
     "text": [
      "CPU times: user 6min 18s, sys: 21 s, total: 6min 39s\n",
      "Wall time: 6min 46s\n"
     ]
    },
    {
     "name": "stderr",
     "output_type": "stream",
     "text": [
      "/share/code/beatrixh/miniconda/envs/beatrix/lib/python3.6/site-packages/ipykernel_launcher.py:2: UserWarning: Pandas doesn't allow columns to be created via a new attribute name - see https://pandas.pydata.org/pandas-docs/stable/indexing.html#attribute-access\n",
      "  \n"
     ]
    }
   ],
   "source": [
    "%%time\n",
    "\n",
    "df_dp = pd.read_csv('/home/j/temp/abie/fiftystates2010dhc.csv', usecols=my_cols)\n",
    "df_dp.backup = df_dp.copy(deep=True)"
   ]
  },
  {
   "cell_type": "code",
   "execution_count": 6,
   "metadata": {},
   "outputs": [],
   "source": [
    "dta_columns = [x.lower() for x in df_dp.columns] #grab col names as lowercase\n",
    "dta_columns[-9:] = df_dp.columns[-9:] #coded vars are capitalized\n",
    "# dta_columns #check contents"
   ]
  },
  {
   "cell_type": "code",
   "execution_count": 7,
   "metadata": {},
   "outputs": [
    {
     "name": "stderr",
     "output_type": "stream",
     "text": [
      "<string>:2: DtypeWarning: Columns (7,10,11) have mixed types.Specify dtype option on import or set low_memory=False.\n"
     ]
    },
    {
     "name": "stdout",
     "output_type": "stream",
     "text": [
      "CPU times: user 12.9 s, sys: 3.95 s, total: 16.8 s\n",
      "Wall time: 17.6 s\n"
     ]
    },
    {
     "name": "stderr",
     "output_type": "stream",
     "text": [
      "/share/code/beatrixh/miniconda/envs/beatrix/lib/python3.6/site-packages/ipykernel_launcher.py:12: UserWarning: Pandas doesn't allow columns to be created via a new attribute name - see https://pandas.pydata.org/pandas-docs/stable/indexing.html#attribute-access\n",
      "  if sys.path[0] == '':\n"
     ]
    }
   ],
   "source": [
    "%%time\n",
    "\n",
    "# r = pd.read_stata('/home/j/temp/abie/all50states_2010ur1_all_vars.dta', columns=dta_columns,\n",
    "#                  chunksize=100_000, convert_missing=True, preserve_dtypes=False)\n",
    "\n",
    "# df_sf = pd.DataFrame()\n",
    "# for t in r:\n",
    "#     print('.', flush=True, end=' ')\n",
    "#     df_sf = df_sf.append(t[t.block != ''])\n",
    "# df_sf.shape\n",
    "\n",
    "# #saved AIAN-relevant vars here; loads faster than the .dta\n",
    "df_sf = pd.read_csv('/home/j/temp/beatrixh/2020_census/all50states_all_races_02_27_2020.csv')\n",
    "df_sf.backup = df_sf.copy(deep=True)"
   ]
  },
  {
   "cell_type": "code",
   "execution_count": 8,
   "metadata": {},
   "outputs": [],
   "source": [
    "# df_sf.to_csv(r'/home/j/temp/beatrixh/2020_census/all50states_all_races_02_27_2020.csv', index = None, header=True)"
   ]
  },
  {
   "cell_type": "code",
   "execution_count": 9,
   "metadata": {},
   "outputs": [
    {
     "data": {
      "text/plain": [
       "Index(['STATE', 'COUNTY', 'TRACT', 'BLKGRP', 'BLOCK', 'AIANHH', 'AIANHHFP',\n",
       "       'AIANHHCC', 'AITSCE', 'AITS', 'AITSCC', 'TTRACT', 'UA', 'UASC',\n",
       "       'UATYPE', 'UR', 'AIANHHNS', 'AITSNS', 'AIANHHSC', 'P0010001',\n",
       "       'P0030001', 'P0030002', 'P0030003', 'P0030004', 'P0030005', 'P0030006',\n",
       "       'P0030007', 'P0030008'],\n",
       "      dtype='object')"
      ]
     },
     "execution_count": 9,
     "metadata": {},
     "output_type": "execute_result"
    }
   ],
   "source": [
    "df_sf.columns = [x.upper() for x in df_sf.columns]\n",
    "df_sf.columns"
   ]
  },
  {
   "cell_type": "code",
   "execution_count": 10,
   "metadata": {},
   "outputs": [],
   "source": [
    "# df_sf = df_sf.drop('UASC', axis=1)\n",
    "df_dp = df_dp.drop('UASC', axis=1) #this is just NANs"
   ]
  },
  {
   "cell_type": "code",
   "execution_count": 11,
   "metadata": {},
   "outputs": [],
   "source": [
    "location_cols = ['STATE', 'COUNTY', 'TRACT', 'BLKGRP', 'BLOCK', 'AIANHH']"
   ]
  },
  {
   "cell_type": "code",
   "execution_count": 12,
   "metadata": {},
   "outputs": [],
   "source": [
    "block_level = pd.merge(df_sf[df_sf.BLOCK.notnull()],\n",
    "                       df_dp[df_dp.BLOCK.notnull()][location_cols + race_cols + ['P0010001']],\n",
    "                       left_on=location_cols,\n",
    "                       right_on=location_cols,\n",
    "                       suffixes=('_SF', '_DP'))"
   ]
  },
  {
   "cell_type": "code",
   "execution_count": 13,
   "metadata": {},
   "outputs": [
    {
     "name": "stdout",
     "output_type": "stream",
     "text": [
      "total population sum: 308143815\n",
      "total population DP sum: 308143815\n",
      "total population sum: 308143815\n"
     ]
    }
   ],
   "source": [
    "# make sure no one is double counted or lost; us pop should be around 308.7 mil (accoding to 2010 census report)\n",
    "print(f'total population sum: {block_level.P0010001_SF.sum()}')\n",
    "print(f'total population DP sum: {block_level.P0010001_DP.sum()}')\n",
    "print(f'total population sum: {block_level.P0030001_SF.sum()}')"
   ]
  },
  {
   "cell_type": "code",
   "execution_count": 14,
   "metadata": {},
   "outputs": [
    {
     "name": "stdout",
     "output_type": "stream",
     "text": [
      "total white alone sum (223.6 mil?): 223321794\n",
      "total black alone sum (42.02 mil?): 38624194\n",
      "total asian alone sum (17.3 mil?): 14653196\n",
      "native hawaiian and other pacific islander: 539711\n",
      "pct total of expected: 0.9981982993197279\n",
      "pct white of expected: 0.9987557871198569\n",
      "pct black of expected: 0.9921620771223869\n",
      "pct asian of expected: 0.9985651057375872\n",
      "pct native hawaiian and other pacific islander of expected: 0.9994407542040654\n",
      "pct AIAN of expected: 0.9992909876654362\n",
      "pct \"some other race\" of expected: 0.9991096335078534\n"
     ]
    }
   ],
   "source": [
    "#that's 7e5 missing. by race is it even?\n",
    "print(f'total white alone sum (223.6 mil?): {block_level.P0030002_SF.sum()}')\n",
    "print(f'total black alone sum (42.02 mil?): {block_level.P0030003_SF.sum()}')\n",
    "print(f'total asian alone sum (17.3 mil?): {block_level.P0030005_SF.sum()}')\n",
    "print(f'native hawaiian and other pacific islander: {block_level.P0030006_SF.sum()}')\n",
    "print(f'pct total of expected: {block_level.P0010001_SF.sum()/308.7e6}')\n",
    "print(f'pct white of expected: {block_level.P0030002_SF.sum()/223.6e6}')\n",
    "print(f'pct black of expected: {block_level.P0030003_SF.sum()/38_929_319}')\n",
    "print(f'pct asian of expected: {block_level.P0030005_SF.sum()/14_674_252}')\n",
    "print(f'pct native hawaiian and other pacific islander of expected: {block_level.P0030006_SF.sum()/540_013}')\n",
    "print(f'pct AIAN of expected: {block_level.P0030004_SF.sum()/2_932_248}')\n",
    "print(f'pct \"some other race\" of expected: {block_level.P0030007_SF.sum()/19.1e6}')"
   ]
  },
  {
   "cell_type": "code",
   "execution_count": 15,
   "metadata": {},
   "outputs": [
    {
     "name": "stdout",
     "output_type": "stream",
     "text": [
      "total population sum incl DC should be 308,745,538: 308745538\n"
     ]
    }
   ],
   "source": [
    "# oh oops. i was missing DC, which had pop of 601_723\n",
    "print(f'total population sum incl DC should be 308,745,538: {block_level.P0030001_SF.sum()+601_723}')"
   ]
  },
  {
   "cell_type": "code",
   "execution_count": 16,
   "metadata": {},
   "outputs": [],
   "source": [
    "# first: by county, urban v rural aian\n",
    "rural_block_level = block_level[block_level.UR=='R']\n",
    "urban_block_level = block_level[block_level.UR=='U']"
   ]
  },
  {
   "cell_type": "code",
   "execution_count": 17,
   "metadata": {},
   "outputs": [],
   "source": [
    "race_vars = [str(i) + '_SF' for i in race_cols + ['P0010001']] + [str(i) + '_DP' for i in race_cols + ['P0010001']]"
   ]
  },
  {
   "cell_type": "code",
   "execution_count": 18,
   "metadata": {},
   "outputs": [],
   "source": [
    "rural_county_level = rural_block_level.groupby(['STATE','COUNTY'])[race_vars].apply(lambda x : x.astype(int).sum())\n",
    "urban_county_level = urban_block_level.groupby(['STATE','COUNTY'])[race_vars].apply(lambda x : x.astype(int).sum())"
   ]
  },
  {
   "cell_type": "markdown",
   "metadata": {},
   "source": [
    "# look at change at reservation level (same as akee)"
   ]
  },
  {
   "cell_type": "code",
   "execution_count": 19,
   "metadata": {},
   "outputs": [],
   "source": [
    "# things to check:\n",
    "# can you make it a function of total population... ? start with that. then.. what other things do you think might be predictors?\n",
    "# maybe percent of total population?\n",
    "# you could also checkout pct diff instead of abs diff"
   ]
  },
  {
   "cell_type": "code",
   "execution_count": 20,
   "metadata": {},
   "outputs": [],
   "source": [
    "block_level_aiannh = block_level[block_level.AIANHH!=9999]"
   ]
  },
  {
   "cell_type": "code",
   "execution_count": 21,
   "metadata": {},
   "outputs": [],
   "source": [
    "res_level_aian = block_level_aiannh.groupby(['AIANHH'])[race_vars].apply(lambda x : x.astype(int).sum())"
   ]
  },
  {
   "cell_type": "code",
   "execution_count": 22,
   "metadata": {},
   "outputs": [],
   "source": [
    "# add var to predict\n",
    "res_level_aian['count_diff'] = res_level_aian['P0030004_DP'] - res_level_aian['P0030004_SF']\n",
    "res_level_aian['count_prop_diff'] = res_level_aian['P0030004_DP'] / res_level_aian['P0030004_SF']"
   ]
  },
  {
   "cell_type": "code",
   "execution_count": 23,
   "metadata": {},
   "outputs": [
    {
     "ename": "NameError",
     "evalue": "name 'lim' is not defined",
     "output_type": "error",
     "traceback": [
      "\u001b[0;31m---------------------------------------------------------------------------\u001b[0m",
      "\u001b[0;31mNameError\u001b[0m                                 Traceback (most recent call last)",
      "\u001b[0;32m<ipython-input-23-3aa956082b3b>\u001b[0m in \u001b[0;36m<module>\u001b[0;34m\u001b[0m\n\u001b[1;32m     13\u001b[0m \u001b[0;31m# ybottom, ytop = ax.get_ylim()\u001b[0m\u001b[0;34m\u001b[0m\u001b[0;34m\u001b[0m\u001b[0;34m\u001b[0m\u001b[0m\n\u001b[1;32m     14\u001b[0m \u001b[0;31m# lim = max(xright,ytop)\u001b[0m\u001b[0;34m\u001b[0m\u001b[0;34m\u001b[0m\u001b[0;34m\u001b[0m\u001b[0m\n\u001b[0;32m---> 15\u001b[0;31m \u001b[0max\u001b[0m\u001b[0;34m.\u001b[0m\u001b[0mplot\u001b[0m\u001b[0;34m(\u001b[0m\u001b[0;34m[\u001b[0m\u001b[0;36m0\u001b[0m\u001b[0;34m,\u001b[0m\u001b[0mlim\u001b[0m\u001b[0;34m]\u001b[0m\u001b[0;34m,\u001b[0m\u001b[0;34m[\u001b[0m\u001b[0;36m0\u001b[0m\u001b[0;34m,\u001b[0m\u001b[0;36m0\u001b[0m\u001b[0;34m]\u001b[0m\u001b[0;34m,\u001b[0m \u001b[0;34m'red'\u001b[0m\u001b[0;34m,\u001b[0m \u001b[0mlinewidth\u001b[0m\u001b[0;34m=\u001b[0m\u001b[0;36m1\u001b[0m\u001b[0;34m)\u001b[0m\u001b[0;34m\u001b[0m\u001b[0;34m\u001b[0m\u001b[0m\n\u001b[0m\u001b[1;32m     16\u001b[0m \u001b[0;34m\u001b[0m\u001b[0m\n\u001b[1;32m     17\u001b[0m \u001b[0;31m# plt.xlabel('AIAN alone counts on reservations in 2010 census with swapping')\u001b[0m\u001b[0;34m\u001b[0m\u001b[0;34m\u001b[0m\u001b[0;34m\u001b[0m\u001b[0m\n",
      "\u001b[0;31mNameError\u001b[0m: name 'lim' is not defined"
     ]
    },
    {
     "data": {
      "image/png": "[encoded data removed]",
      "text/plain": [
       "<Figure size 432x432 with 1 Axes>"
      ]
     },
     "metadata": {
      "needs_background": "light"
     },
     "output_type": "display_data"
    }
   ],
   "source": [
    "# checkout change on res\n",
    "x = res_level_aian[[\"P0030004_SF\"]]\n",
    "y = res_level_aian[[\"count_diff\"]] \n",
    "\n",
    "fig = plt.figure() \n",
    "fig.set_size_inches(6,6)\n",
    "\n",
    "ax = fig.add_subplot(111)\n",
    "ax.scatter(x, y, facecolors='none', edgecolors = 'cornflowerblue')\n",
    "# ax.set_aspect('equal', adjustable='box')\n",
    "\n",
    "# xleft, xright = ax.get_xlim()\n",
    "# ybottom, ytop = ax.get_ylim()\n",
    "# lim = max(xright,ytop)\n",
    "ax.plot([0,lim],[0,0], 'red', linewidth=1)\n",
    "\n",
    "# plt.xlabel('AIAN alone counts on reservations in 2010 census with swapping')\n",
    "# plt.ylabel('AIAN alone counts on reservations in 2010 census with DP')\n",
    "plt.title('On-reservation AIAN population count change as function of AIAN pop count')\n",
    "\n",
    "plt.show()"
   ]
  },
  {
   "cell_type": "code",
   "execution_count": null,
   "metadata": {},
   "outputs": [],
   "source": [
    "# checkout change on res\n",
    "x = res_level_aian[[\"P0010001_SF\"]]\n",
    "y = res_level_aian[[\"count_diff\"]] \n",
    "\n",
    "fig = plt.figure() \n",
    "fig.set_size_inches(6,6)\n",
    "\n",
    "ax = fig.add_subplot()\n",
    "ax.scatter(x, y, facecolors='none', edgecolors = 'cornflowerblue')\n",
    "# ax.set_aspect('equal', adjustable='box')\n",
    "\n",
    "xleft, xright = ax.get_xlim()\n",
    "ax.plot([0,xright],[0,0], 'red', linewidth=1)\n",
    "\n",
    "# plt.xlabel('AIAN alone counts on reservations in 2010 census with swapping')\n",
    "# plt.ylabel('AIAN alone counts on reservations in 2010 census with DP')\n",
    "plt.title('On-reservation AIAN population count change as function of total pop count')\n",
    "\n",
    "plt.show()"
   ]
  },
  {
   "cell_type": "code",
   "execution_count": null,
   "metadata": {},
   "outputs": [],
   "source": [
    "from sklearn import linear_model"
   ]
  },
  {
   "cell_type": "code",
   "execution_count": 171,
   "metadata": {},
   "outputs": [],
   "source": [
    "#create selection vector to grab 80% of the data\n",
    "select = np.random.binomial(1,p=0.8,size=res_level_aian.shape[0])\n",
    "select = select.astype(bool)"
   ]
  },
  {
   "cell_type": "code",
   "execution_count": 178,
   "metadata": {},
   "outputs": [],
   "source": [
    "#run regression\n",
    "X = res_level_aian[['P0010001_SF']]\n",
    "y = res_level_aian[['count_diff']]\n",
    "lm = linear_model.LinearRegression()\n",
    "model = lm.fit(X[select],y[select])"
   ]
  },
  {
   "cell_type": "code",
   "execution_count": 179,
   "metadata": {},
   "outputs": [],
   "source": [
    "predictions = lm.predict(X)"
   ]
  },
  {
   "cell_type": "code",
   "execution_count": 197,
   "metadata": {},
   "outputs": [
    {
     "name": "stdout",
     "output_type": "stream",
     "text": [
      "[array([-0.00010413]), -49.58446267843121]\n"
     ]
    }
   ],
   "source": [
    "# this was a terrible predictor. need to comb codebook for better vars. things to check\n",
    "b = lm.intercept_[0]\n",
    "m = lm.coef_[0]\n",
    "print([m,b])"
   ]
  },
  {
   "cell_type": "code",
   "execution_count": null,
   "metadata": {},
   "outputs": [],
   "source": [
    "# vars to try\n",
    "# AIANHH, geographic location, % urban? if crosses state lines? % of other races? "
   ]
  },
  {
   "cell_type": "code",
   "execution_count": 196,
   "metadata": {},
   "outputs": [],
   "source": [
    "y = []\n",
    "for x in range(1000):\n",
    "    fx = b+m*x\n",
    "    y = y + [fx]"
   ]
  },
  {
   "cell_type": "code",
   "execution_count": null,
   "metadata": {},
   "outputs": [],
   "source": [
    "# plot preds\n",
    "x = res_level_aian[[\"P0010001_SF\"]]\n",
    "y = res_level_aian[[\"count_diff\"]] \n",
    "\n",
    "fig = plt.figure() \n",
    "fig.set_size_inches(6,6)\n",
    "\n",
    "ax = fig.add_subplot()\n",
    "ax.scatter(x, y, facecolors='none', edgecolors = 'cornflowerblue')\n",
    "# ax.set_aspect('equal', adjustable='box')\n",
    "\n",
    "xleft, xright = ax.get_xlim()\n",
    "ax.plot([0,xright],[0,0], 'red', linewidth=1)\n",
    "\n",
    "# plt.xlabel('AIAN alone counts on reservations in 2010 census with swapping')\n",
    "# plt.ylabel('AIAN alone counts on reservations in 2010 census with DP')\n",
    "plt.title('On-reservation AIAN population count change as function of total pop count')\n",
    "\n",
    "plt.show()"
   ]
  }
 ],
 "metadata": {
  "kernelspec": {
   "display_name": "Python 3",
   "language": "python",
   "name": "python3"
  },
  "language_info": {
   "codemirror_mode": {
    "name": "ipython",
    "version": 3
   },
   "file_extension": ".py",
   "mimetype": "text/x-python",
   "name": "python",
   "nbconvert_exporter": "python",
   "pygments_lexer": "ipython3",
   "version": "3.6.10"
  }
 },
 "nbformat": 4,
 "nbformat_minor": 4
}
