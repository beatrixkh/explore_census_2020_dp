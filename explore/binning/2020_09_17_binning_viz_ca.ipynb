{
 "cells": [
  {
   "cell_type": "code",
   "execution_count": 1,
   "metadata": {},
   "outputs": [],
   "source": [
    "import pandas as pd, numpy as np, matplotlib.pyplot as plt, os"
   ]
  },
  {
   "cell_type": "markdown",
   "metadata": {},
   "source": [
    "# Compare binning scenarios for data in CA"
   ]
  },
  {
   "cell_type": "code",
   "execution_count": 2,
   "metadata": {},
   "outputs": [],
   "source": [
    "data_dir = '/ihme/scratch/users/beatrixh/synthetic_pop/pyomo/best/ca/'"
   ]
  },
  {
   "cell_type": "code",
   "execution_count": 4,
   "metadata": {},
   "outputs": [
    {
     "data": {
      "text/plain": [
       "7959"
      ]
     },
     "execution_count": 4,
     "metadata": {},
     "output_type": "execute_result"
    }
   ],
   "source": [
    "len(os.listdir(data_dir))"
   ]
  },
  {
   "cell_type": "code",
   "execution_count": 8,
   "metadata": {},
   "outputs": [],
   "source": [
    "def read_dir(state):\n",
    "    in_dir = '/ihme/scratch/users/beatrixh/synthetic_pop/pyomo/best/{}/'.format(state)\n",
    "    files = os.listdir(in_dir)\n",
    "    \n",
    "    df = pd.DataFrame()\n",
    "    i = 0\n",
    "    for file in files:\n",
    "        df_0 = pd.read_csv(in_dir + file)\n",
    "        df = df.append(df_0)\n",
    "        \n",
    "        i += 1\n",
    "        \n",
    "        if i % 1_000 == 0:\n",
    "            print(f'{i} complete')\n",
    "    return df"
   ]
  },
  {
   "cell_type": "code",
   "execution_count": 9,
   "metadata": {
    "scrolled": true
   },
   "outputs": [
    {
     "name": "stdout",
     "output_type": "stream",
     "text": [
      "1000 complete\n",
      "2000 complete\n",
      "3000 complete\n",
      "4000 complete\n",
      "5000 complete\n",
      "6000 complete\n",
      "7000 complete\n",
      "CPU times: user 1h 44min 30s, sys: 2h 56min 44s, total: 4h 41min 15s\n",
      "Wall time: 4h 41min 41s\n"
     ]
    }
   ],
   "source": [
    "%%time\n",
    "df = read_dir('ca')"
   ]
  },
  {
   "cell_type": "code",
   "execution_count": 12,
   "metadata": {},
   "outputs": [
    {
     "data": {
      "text/html": [
       "<div>\n",
       "<style scoped>\n",
       "    .dataframe tbody tr th:only-of-type {\n",
       "        vertical-align: middle;\n",
       "    }\n",
       "\n",
       "    .dataframe tbody tr th {\n",
       "        vertical-align: top;\n",
       "    }\n",
       "\n",
       "    .dataframe thead th {\n",
       "        text-align: right;\n",
       "    }\n",
       "</style>\n",
       "<table border=\"1\" class=\"dataframe\">\n",
       "  <thead>\n",
       "    <tr style=\"text-align: right;\">\n",
       "      <th></th>\n",
       "      <th>state</th>\n",
       "      <th>county</th>\n",
       "      <th>tract</th>\n",
       "      <th>block</th>\n",
       "      <th>geoid</th>\n",
       "      <th>age</th>\n",
       "      <th>sex_id</th>\n",
       "      <th>relationship</th>\n",
       "      <th>hispanic</th>\n",
       "      <th>racaian</th>\n",
       "      <th>racasn</th>\n",
       "      <th>racblk</th>\n",
       "      <th>racnhpi</th>\n",
       "      <th>racsor</th>\n",
       "      <th>racwht</th>\n",
       "      <th>pweight</th>\n",
       "    </tr>\n",
       "  </thead>\n",
       "  <tbody>\n",
       "    <tr>\n",
       "      <th>0</th>\n",
       "      <td>6</td>\n",
       "      <td>73</td>\n",
       "      <td>17041</td>\n",
       "      <td>1000</td>\n",
       "      <td>60730170411000</td>\n",
       "      <td>3</td>\n",
       "      <td>1</td>\n",
       "      <td>2</td>\n",
       "      <td>0</td>\n",
       "      <td>0</td>\n",
       "      <td>0</td>\n",
       "      <td>0</td>\n",
       "      <td>0</td>\n",
       "      <td>0</td>\n",
       "      <td>1</td>\n",
       "      <td>1</td>\n",
       "    </tr>\n",
       "    <tr>\n",
       "      <th>1</th>\n",
       "      <td>6</td>\n",
       "      <td>73</td>\n",
       "      <td>17041</td>\n",
       "      <td>1000</td>\n",
       "      <td>60730170411000</td>\n",
       "      <td>2</td>\n",
       "      <td>1</td>\n",
       "      <td>7</td>\n",
       "      <td>0</td>\n",
       "      <td>0</td>\n",
       "      <td>0</td>\n",
       "      <td>0</td>\n",
       "      <td>0</td>\n",
       "      <td>0</td>\n",
       "      <td>1</td>\n",
       "      <td>1</td>\n",
       "    </tr>\n",
       "    <tr>\n",
       "      <th>2</th>\n",
       "      <td>6</td>\n",
       "      <td>73</td>\n",
       "      <td>17041</td>\n",
       "      <td>1000</td>\n",
       "      <td>60730170411000</td>\n",
       "      <td>4</td>\n",
       "      <td>1</td>\n",
       "      <td>2</td>\n",
       "      <td>0</td>\n",
       "      <td>0</td>\n",
       "      <td>0</td>\n",
       "      <td>0</td>\n",
       "      <td>0</td>\n",
       "      <td>0</td>\n",
       "      <td>1</td>\n",
       "      <td>1</td>\n",
       "    </tr>\n",
       "    <tr>\n",
       "      <th>3</th>\n",
       "      <td>6</td>\n",
       "      <td>73</td>\n",
       "      <td>17041</td>\n",
       "      <td>1001</td>\n",
       "      <td>60730170411001</td>\n",
       "      <td>2</td>\n",
       "      <td>1</td>\n",
       "      <td>2</td>\n",
       "      <td>0</td>\n",
       "      <td>0</td>\n",
       "      <td>0</td>\n",
       "      <td>0</td>\n",
       "      <td>0</td>\n",
       "      <td>0</td>\n",
       "      <td>1</td>\n",
       "      <td>1</td>\n",
       "    </tr>\n",
       "    <tr>\n",
       "      <th>4</th>\n",
       "      <td>6</td>\n",
       "      <td>73</td>\n",
       "      <td>17041</td>\n",
       "      <td>1002</td>\n",
       "      <td>60730170411002</td>\n",
       "      <td>1</td>\n",
       "      <td>1</td>\n",
       "      <td>2</td>\n",
       "      <td>0</td>\n",
       "      <td>0</td>\n",
       "      <td>0</td>\n",
       "      <td>0</td>\n",
       "      <td>0</td>\n",
       "      <td>0</td>\n",
       "      <td>1</td>\n",
       "      <td>1</td>\n",
       "    </tr>\n",
       "  </tbody>\n",
       "</table>\n",
       "</div>"
      ],
      "text/plain": [
       "   state  county  tract  block           geoid  age  sex_id  relationship  \\\n",
       "0      6      73  17041   1000  60730170411000    3       1             2   \n",
       "1      6      73  17041   1000  60730170411000    2       1             7   \n",
       "2      6      73  17041   1000  60730170411000    4       1             2   \n",
       "3      6      73  17041   1001  60730170411001    2       1             2   \n",
       "4      6      73  17041   1002  60730170411002    1       1             2   \n",
       "\n",
       "   hispanic  racaian  racasn  racblk  racnhpi  racsor  racwht  pweight  \n",
       "0         0        0       0       0        0       0       1        1  \n",
       "1         0        0       0       0        0       0       1        1  \n",
       "2         0        0       0       0        0       0       1        1  \n",
       "3         0        0       0       0        0       0       1        1  \n",
       "4         0        0       0       0        0       0       1        1  "
      ]
     },
     "execution_count": 12,
     "metadata": {},
     "output_type": "execute_result"
    }
   ],
   "source": [
    "df.head()"
   ]
  },
  {
   "cell_type": "code",
   "execution_count": 13,
   "metadata": {},
   "outputs": [],
   "source": [
    "backup = df.copy()"
   ]
  },
  {
   "cell_type": "code",
   "execution_count": 10,
   "metadata": {},
   "outputs": [
    {
     "name": "stdout",
     "output_type": "stream",
     "text": [
      "/ihme/code/beatrixh/microsim_2020/census_2020/synthetic_pop/viz\n"
     ]
    }
   ],
   "source": [
    "cd /ihme/code/beatrixh/microsim_2020/census_2020/synthetic_pop/viz"
   ]
  },
  {
   "cell_type": "code",
   "execution_count": 11,
   "metadata": {},
   "outputs": [],
   "source": [
    "from viz_binning import *"
   ]
  },
  {
   "cell_type": "code",
   "execution_count": 14,
   "metadata": {},
   "outputs": [],
   "source": [
    "df = add_race_vars(df)"
   ]
  },
  {
   "cell_type": "code",
   "execution_count": 15,
   "metadata": {},
   "outputs": [],
   "source": [
    "hi = pd.DataFrame({'n':[0, 1, 2, 3, 4, 5, 10, 15, 20, 25]})\n",
    "hi['hi_baseline'] = [find_n_hi(df,n) for n in hi.n]"
   ]
  },
  {
   "cell_type": "code",
   "execution_count": 16,
   "metadata": {},
   "outputs": [
    {
     "data": {
      "image/png": "[encoded data removed]",
      "text/plain": [
       "<Figure size 432x288 with 1 Axes>"
      ]
     },
     "metadata": {
      "needs_background": "light"
     },
     "output_type": "display_data"
    }
   ],
   "source": [
    "plt.scatter(hi.n,hi.hi_baseline, label = 'baseline')\n",
    "\n",
    "plt.title('N-heterogeneity index')\n",
    "plt.legend()\n",
    "plt.show()"
   ]
  },
  {
   "cell_type": "markdown",
   "metadata": {},
   "source": [
    "## compare race binning "
   ]
  },
  {
   "cell_type": "code",
   "execution_count": 17,
   "metadata": {},
   "outputs": [],
   "source": [
    "three_plus = df.copy()\n",
    "# overwrite all multiracial people of >= 3 races\n",
    "three_plus.loc[(three_plus.racsum >= 3),'race_detail'] = 'three_plus'\n",
    "#bin data\n",
    "three_plus = agg_data(three_plus)\n",
    "\n",
    "\n",
    "four_plus = df.copy()\n",
    "# overwrite all multiracial people of >= 4 races\n",
    "four_plus.loc[(four_plus.racsum >= 4),'race_detail'] = 'four_plus'\n",
    "#bin data\n",
    "four_plus = agg_data(four_plus)"
   ]
  },
  {
   "cell_type": "code",
   "execution_count": 18,
   "metadata": {},
   "outputs": [],
   "source": [
    "n_race = 6 + nCk(6,2) + 1\n",
    "n_bins = count_bins(three_plus, n_race = n_race)\n",
    "hi['hi_bin_3plus_races'] = [find_n_hi(three_plus, n, n_bins = n_bins) for n in hi.n]"
   ]
  },
  {
   "cell_type": "code",
   "execution_count": 19,
   "metadata": {},
   "outputs": [],
   "source": [
    "n_race = 6 + nCk(6,2) + nCk(6,3) + 1\n",
    "n_bins = count_bins(four_plus, n_race = n_race)\n",
    "hi['hi_bin_4plus_races'] = [find_n_hi(four_plus, n, n_bins = n_bins) for n in hi.n]"
   ]
  },
  {
   "cell_type": "code",
   "execution_count": 39,
   "metadata": {},
   "outputs": [
    {
     "data": {
      "image/png": "[encoded data removed]",
      "text/plain": [
       "<Figure size 432x288 with 1 Axes>"
      ]
     },
     "metadata": {
      "needs_background": "light"
     },
     "output_type": "display_data"
    }
   ],
   "source": [
    "plt.scatter(hi.n,hi.hi_baseline, label = 'baseline')\n",
    "plt.scatter(hi.n,hi.hi_bin_4plus_races, label = 'bin_4plus_races')\n",
    "plt.scatter(hi.n,hi.hi_bin_3plus_races, label = 'bin_3plus_races')\n",
    "\n",
    "\n",
    "plt.legend()\n",
    "plt.title('Binning multiracial individuals:\\nEffect on n-homogeneity index')\n",
    "plt.xlabel('N')\n",
    "plt.ylabel('N-hi')\n",
    "plt.show()"
   ]
  },
  {
   "cell_type": "markdown",
   "metadata": {},
   "source": [
    "## compare age binning "
   ]
  },
  {
   "cell_type": "code",
   "execution_count": 21,
   "metadata": {},
   "outputs": [],
   "source": [
    "# create age_start col\n",
    "age_map = pd.DataFrame(data = np.arange(0,116), columns=['age'])\n",
    "age_map['a1_age_start'] = [i if i < 85 else (i - i%5) if i < 100 else 100 for i in age_map.age]\n",
    "age_map['a2_age_start'] = [i if i < 90 else (i- i%5) if i < 100 else 100 for i in age_map.age]\n",
    "age_map['a3_age_start'] = [i if i < 90 else 90 for i in age_map.age]"
   ]
  },
  {
   "cell_type": "code",
   "execution_count": 22,
   "metadata": {},
   "outputs": [],
   "source": [
    "df = df.merge(age_map, on = 'age', how = 'left')\n",
    "\n",
    "a1 = agg_data(df, age_var = 'a1_age_start')\n",
    "a2 = agg_data(df, age_var = 'a2_age_start')\n",
    "a3 = agg_data(df, age_var = 'a3_age_start')"
   ]
  },
  {
   "cell_type": "code",
   "execution_count": 23,
   "metadata": {},
   "outputs": [
    {
     "data": {
      "text/html": [
       "<div>\n",
       "<style scoped>\n",
       "    .dataframe tbody tr th:only-of-type {\n",
       "        vertical-align: middle;\n",
       "    }\n",
       "\n",
       "    .dataframe tbody tr th {\n",
       "        vertical-align: top;\n",
       "    }\n",
       "\n",
       "    .dataframe thead th {\n",
       "        text-align: right;\n",
       "    }\n",
       "</style>\n",
       "<table border=\"1\" class=\"dataframe\">\n",
       "  <thead>\n",
       "    <tr style=\"text-align: right;\">\n",
       "      <th></th>\n",
       "      <th>state</th>\n",
       "      <th>county</th>\n",
       "      <th>tract</th>\n",
       "      <th>block</th>\n",
       "      <th>geoid</th>\n",
       "      <th>a1_age_start</th>\n",
       "      <th>sex_id</th>\n",
       "      <th>relationship</th>\n",
       "      <th>hispanic</th>\n",
       "      <th>race_detail</th>\n",
       "      <th>pweight</th>\n",
       "    </tr>\n",
       "  </thead>\n",
       "  <tbody>\n",
       "    <tr>\n",
       "      <th>0</th>\n",
       "      <td>6.0</td>\n",
       "      <td>1.0</td>\n",
       "      <td>400200.0</td>\n",
       "      <td>1000.0</td>\n",
       "      <td>60014002001000</td>\n",
       "      <td>4</td>\n",
       "      <td>2</td>\n",
       "      <td>2</td>\n",
       "      <td>0</td>\n",
       "      <td>racaian0_racasn1_racblk0_racnhpi0_racsor0_racwht1</td>\n",
       "      <td>1</td>\n",
       "    </tr>\n",
       "    <tr>\n",
       "      <th>1</th>\n",
       "      <td>6.0</td>\n",
       "      <td>1.0</td>\n",
       "      <td>400200.0</td>\n",
       "      <td>1000.0</td>\n",
       "      <td>60014002001000</td>\n",
       "      <td>5</td>\n",
       "      <td>1</td>\n",
       "      <td>2</td>\n",
       "      <td>0</td>\n",
       "      <td>racaian0_racasn0_racblk1_racnhpi0_racsor0_racwht1</td>\n",
       "      <td>1</td>\n",
       "    </tr>\n",
       "    <tr>\n",
       "      <th>2</th>\n",
       "      <td>6.0</td>\n",
       "      <td>1.0</td>\n",
       "      <td>400200.0</td>\n",
       "      <td>1000.0</td>\n",
       "      <td>60014002001000</td>\n",
       "      <td>6</td>\n",
       "      <td>1</td>\n",
       "      <td>2</td>\n",
       "      <td>0</td>\n",
       "      <td>racaian0_racasn0_racblk0_racnhpi0_racsor0_racwht1</td>\n",
       "      <td>1</td>\n",
       "    </tr>\n",
       "    <tr>\n",
       "      <th>3</th>\n",
       "      <td>6.0</td>\n",
       "      <td>1.0</td>\n",
       "      <td>400200.0</td>\n",
       "      <td>1000.0</td>\n",
       "      <td>60014002001000</td>\n",
       "      <td>7</td>\n",
       "      <td>1</td>\n",
       "      <td>2</td>\n",
       "      <td>0</td>\n",
       "      <td>racaian1_racasn0_racblk0_racnhpi0_racsor0_racwht1</td>\n",
       "      <td>1</td>\n",
       "    </tr>\n",
       "    <tr>\n",
       "      <th>4</th>\n",
       "      <td>6.0</td>\n",
       "      <td>1.0</td>\n",
       "      <td>400200.0</td>\n",
       "      <td>1000.0</td>\n",
       "      <td>60014002001000</td>\n",
       "      <td>7</td>\n",
       "      <td>2</td>\n",
       "      <td>2</td>\n",
       "      <td>0</td>\n",
       "      <td>racaian0_racasn0_racblk1_racnhpi0_racsor0_racwht1</td>\n",
       "      <td>1</td>\n",
       "    </tr>\n",
       "  </tbody>\n",
       "</table>\n",
       "</div>"
      ],
      "text/plain": [
       "   state  county     tract   block           geoid  a1_age_start  sex_id  \\\n",
       "0    6.0     1.0  400200.0  1000.0  60014002001000             4       2   \n",
       "1    6.0     1.0  400200.0  1000.0  60014002001000             5       1   \n",
       "2    6.0     1.0  400200.0  1000.0  60014002001000             6       1   \n",
       "3    6.0     1.0  400200.0  1000.0  60014002001000             7       1   \n",
       "4    6.0     1.0  400200.0  1000.0  60014002001000             7       2   \n",
       "\n",
       "   relationship  hispanic                                        race_detail  \\\n",
       "0             2         0  racaian0_racasn1_racblk0_racnhpi0_racsor0_racwht1   \n",
       "1             2         0  racaian0_racasn0_racblk1_racnhpi0_racsor0_racwht1   \n",
       "2             2         0  racaian0_racasn0_racblk0_racnhpi0_racsor0_racwht1   \n",
       "3             2         0  racaian1_racasn0_racblk0_racnhpi0_racsor0_racwht1   \n",
       "4             2         0  racaian0_racasn0_racblk1_racnhpi0_racsor0_racwht1   \n",
       "\n",
       "   pweight  \n",
       "0        1  \n",
       "1        1  \n",
       "2        1  \n",
       "3        1  \n",
       "4        1  "
      ]
     },
     "execution_count": 23,
     "metadata": {},
     "output_type": "execute_result"
    }
   ],
   "source": [
    "a1.head()"
   ]
  },
  {
   "cell_type": "code",
   "execution_count": 26,
   "metadata": {},
   "outputs": [],
   "source": [
    "n_age = age_map.a1_age_start.nunique()\n",
    "n_bins = count_bins(a1, n_age = n_age)\n",
    "hi['hi_a1_age_binning'] = [find_n_hi(a1, n, n_bins = n_bins, age = 'a1_age_start') for n in hi.n]"
   ]
  },
  {
   "cell_type": "code",
   "execution_count": 27,
   "metadata": {},
   "outputs": [],
   "source": [
    "n_age = age_map.a2_age_start.nunique()\n",
    "n_bins = count_bins(a2, n_age = n_age)\n",
    "hi['hi_a2_age_binning'] = [find_n_hi(a2, n, n_bins = n_bins, age = 'a2_age_start') for n in hi.n]"
   ]
  },
  {
   "cell_type": "code",
   "execution_count": 28,
   "metadata": {},
   "outputs": [],
   "source": [
    "n_age = age_map.a3_age_start.nunique()\n",
    "n_bins = count_bins(a3, n_age = n_age)\n",
    "hi['hi_a3_age_binning'] = [find_n_hi(a3, n, n_bins = n_bins, age = 'a3_age_start') for n in hi.n]"
   ]
  },
  {
   "cell_type": "code",
   "execution_count": 38,
   "metadata": {},
   "outputs": [
    {
     "data": {
      "image/png": "[encoded data removed]",
      "text/plain": [
       "<Figure size 432x288 with 1 Axes>"
      ]
     },
     "metadata": {
      "needs_background": "light"
     },
     "output_type": "display_data"
    }
   ],
   "source": [
    "plt.scatter(hi.n,hi.hi_baseline, label = 'baseline')\n",
    "plt.scatter(hi.n,hi.hi_a2_age_binning, label = 'a2 age binning')\n",
    "plt.scatter(hi.n,hi.hi_a3_age_binning, label = 'a3 age binning')\n",
    "plt.scatter(hi.n,hi.hi_a1_age_binning, label = 'a1 age binning')\n",
    "\n",
    "\n",
    "\n",
    "plt.legend()\n",
    "plt.title('Binning elder ages:\\nEffect on n-homogeneity index')\n",
    "plt.xlabel('N')\n",
    "plt.ylabel('N-hi')\n",
    "plt.show()"
   ]
  },
  {
   "cell_type": "code",
   "execution_count": 37,
   "metadata": {},
   "outputs": [
    {
     "data": {
      "image/png": "[encoded data removed]",
      "text/plain": [
       "<Figure size 432x288 with 1 Axes>"
      ]
     },
     "metadata": {
      "needs_background": "light"
     },
     "output_type": "display_data"
    }
   ],
   "source": [
    "plt.scatter(hi.n,hi.hi_baseline, label = 'baseline')\n",
    "\n",
    "plt.scatter(hi.n,hi.hi_a2_age_binning, label = 'a2 age binning')\n",
    "plt.scatter(hi.n,hi.hi_a3_age_binning, label = 'a3 age binning')\n",
    "plt.scatter(hi.n,hi.hi_a1_age_binning, label = 'a1 age binning')\n",
    "\n",
    "plt.scatter(hi.n,hi.hi_bin_4plus_races, label = 'bin_4plus_races')\n",
    "plt.scatter(hi.n,hi.hi_bin_3plus_races, label = 'bin_3plus_races')\n",
    "\n",
    "\n",
    "\n",
    "plt.legend()\n",
    "plt.title('Binning elder ages vs multiracial:\\nEffect on n-homogeneity index')\n",
    "plt.xlabel('N')\n",
    "plt.ylabel('N-hi')\n",
    "plt.show()"
   ]
  },
  {
   "cell_type": "markdown",
   "metadata": {},
   "source": [
    "## compare relationship binning"
   ]
  },
  {
   "cell_type": "code",
   "execution_count": 33,
   "metadata": {},
   "outputs": [],
   "source": [
    "relps = df.copy()\n",
    "relps['relationship'] = relps.relationship.map(relp_label).map(relp_map)\n",
    "relps = agg_data(relps, relp_var = 'relationship')"
   ]
  },
  {
   "cell_type": "code",
   "execution_count": 34,
   "metadata": {},
   "outputs": [],
   "source": [
    "n_relp = len(set(relp_map.values()))\n",
    "n_bins = count_bins(relps, n_relp = n_relp)\n",
    "hi['hi_bin_relp'] = [find_n_hi(relps, n, n_bins = n_bins) for n in hi.n]"
   ]
  },
  {
   "cell_type": "code",
   "execution_count": 35,
   "metadata": {},
   "outputs": [
    {
     "data": {
      "text/html": [
       "<div>\n",
       "<style scoped>\n",
       "    .dataframe tbody tr th:only-of-type {\n",
       "        vertical-align: middle;\n",
       "    }\n",
       "\n",
       "    .dataframe tbody tr th {\n",
       "        vertical-align: top;\n",
       "    }\n",
       "\n",
       "    .dataframe thead th {\n",
       "        text-align: right;\n",
       "    }\n",
       "</style>\n",
       "<table border=\"1\" class=\"dataframe\">\n",
       "  <thead>\n",
       "    <tr style=\"text-align: right;\">\n",
       "      <th></th>\n",
       "      <th>n</th>\n",
       "      <th>hi_baseline</th>\n",
       "      <th>hi_bin_3plus_races</th>\n",
       "      <th>hi_bin_4plus_races</th>\n",
       "      <th>hi_a1_age_binning</th>\n",
       "      <th>hi_a2_age_binning</th>\n",
       "      <th>hi_a3_age_binning</th>\n",
       "      <th>hi_bin_relp</th>\n",
       "    </tr>\n",
       "  </thead>\n",
       "  <tbody>\n",
       "    <tr>\n",
       "      <th>0</th>\n",
       "      <td>0</td>\n",
       "      <td>210299181721</td>\n",
       "      <td>7.341694e+10</td>\n",
       "      <td>1.401885e+11</td>\n",
       "      <td>161342505159</td>\n",
       "      <td>168595224522</td>\n",
       "      <td>164968837674</td>\n",
       "      <td>105094783789</td>\n",
       "    </tr>\n",
       "    <tr>\n",
       "      <th>1</th>\n",
       "      <td>1</td>\n",
       "      <td>210327535462</td>\n",
       "      <td>7.344530e+10</td>\n",
       "      <td>1.402169e+11</td>\n",
       "      <td>161370768954</td>\n",
       "      <td>168623556059</td>\n",
       "      <td>164997169211</td>\n",
       "      <td>105121603463</td>\n",
       "    </tr>\n",
       "    <tr>\n",
       "      <th>2</th>\n",
       "      <td>2</td>\n",
       "      <td>210330110715</td>\n",
       "      <td>7.344787e+10</td>\n",
       "      <td>1.402194e+11</td>\n",
       "      <td>161373353854</td>\n",
       "      <td>168626133786</td>\n",
       "      <td>164999746938</td>\n",
       "      <td>105124324673</td>\n",
       "    </tr>\n",
       "    <tr>\n",
       "      <th>3</th>\n",
       "      <td>3</td>\n",
       "      <td>210330658015</td>\n",
       "      <td>7.344842e+10</td>\n",
       "      <td>1.402200e+11</td>\n",
       "      <td>161373904219</td>\n",
       "      <td>168626681731</td>\n",
       "      <td>165000294883</td>\n",
       "      <td>105124904310</td>\n",
       "    </tr>\n",
       "    <tr>\n",
       "      <th>4</th>\n",
       "      <td>4</td>\n",
       "      <td>210330827256</td>\n",
       "      <td>7.344859e+10</td>\n",
       "      <td>1.402202e+11</td>\n",
       "      <td>161374074577</td>\n",
       "      <td>168626851241</td>\n",
       "      <td>165000464393</td>\n",
       "      <td>105125084094</td>\n",
       "    </tr>\n",
       "    <tr>\n",
       "      <th>5</th>\n",
       "      <td>5</td>\n",
       "      <td>210330893625</td>\n",
       "      <td>7.344865e+10</td>\n",
       "      <td>1.402202e+11</td>\n",
       "      <td>161374141509</td>\n",
       "      <td>168626917798</td>\n",
       "      <td>165000530950</td>\n",
       "      <td>105125154481</td>\n",
       "    </tr>\n",
       "    <tr>\n",
       "      <th>6</th>\n",
       "      <td>10</td>\n",
       "      <td>210330954864</td>\n",
       "      <td>7.344872e+10</td>\n",
       "      <td>1.402203e+11</td>\n",
       "      <td>161374204257</td>\n",
       "      <td>168626979439</td>\n",
       "      <td>165000592591</td>\n",
       "      <td>105125220050</td>\n",
       "    </tr>\n",
       "    <tr>\n",
       "      <th>7</th>\n",
       "      <td>15</td>\n",
       "      <td>210330960292</td>\n",
       "      <td>7.344872e+10</td>\n",
       "      <td>1.402203e+11</td>\n",
       "      <td>161374210424</td>\n",
       "      <td>168626985066</td>\n",
       "      <td>165000598218</td>\n",
       "      <td>105125225955</td>\n",
       "    </tr>\n",
       "    <tr>\n",
       "      <th>8</th>\n",
       "      <td>20</td>\n",
       "      <td>210330961615</td>\n",
       "      <td>7.344872e+10</td>\n",
       "      <td>1.402203e+11</td>\n",
       "      <td>161374212230</td>\n",
       "      <td>168626986498</td>\n",
       "      <td>165000599650</td>\n",
       "      <td>105125227386</td>\n",
       "    </tr>\n",
       "    <tr>\n",
       "      <th>9</th>\n",
       "      <td>25</td>\n",
       "      <td>210330962182</td>\n",
       "      <td>7.344872e+10</td>\n",
       "      <td>1.402203e+11</td>\n",
       "      <td>161374213081</td>\n",
       "      <td>168626987145</td>\n",
       "      <td>165000600297</td>\n",
       "      <td>105125227994</td>\n",
       "    </tr>\n",
       "  </tbody>\n",
       "</table>\n",
       "</div>"
      ],
      "text/plain": [
       "    n   hi_baseline  hi_bin_3plus_races  hi_bin_4plus_races  \\\n",
       "0   0  210299181721        7.341694e+10        1.401885e+11   \n",
       "1   1  210327535462        7.344530e+10        1.402169e+11   \n",
       "2   2  210330110715        7.344787e+10        1.402194e+11   \n",
       "3   3  210330658015        7.344842e+10        1.402200e+11   \n",
       "4   4  210330827256        7.344859e+10        1.402202e+11   \n",
       "5   5  210330893625        7.344865e+10        1.402202e+11   \n",
       "6  10  210330954864        7.344872e+10        1.402203e+11   \n",
       "7  15  210330960292        7.344872e+10        1.402203e+11   \n",
       "8  20  210330961615        7.344872e+10        1.402203e+11   \n",
       "9  25  210330962182        7.344872e+10        1.402203e+11   \n",
       "\n",
       "   hi_a1_age_binning  hi_a2_age_binning  hi_a3_age_binning   hi_bin_relp  \n",
       "0       161342505159       168595224522       164968837674  105094783789  \n",
       "1       161370768954       168623556059       164997169211  105121603463  \n",
       "2       161373353854       168626133786       164999746938  105124324673  \n",
       "3       161373904219       168626681731       165000294883  105124904310  \n",
       "4       161374074577       168626851241       165000464393  105125084094  \n",
       "5       161374141509       168626917798       165000530950  105125154481  \n",
       "6       161374204257       168626979439       165000592591  105125220050  \n",
       "7       161374210424       168626985066       165000598218  105125225955  \n",
       "8       161374212230       168626986498       165000599650  105125227386  \n",
       "9       161374213081       168626987145       165000600297  105125227994  "
      ]
     },
     "execution_count": 35,
     "metadata": {},
     "output_type": "execute_result"
    }
   ],
   "source": [
    "hi"
   ]
  },
  {
   "cell_type": "code",
   "execution_count": 36,
   "metadata": {},
   "outputs": [
    {
     "data": {
      "image/png": "[encoded data removed]",
      "text/plain": [
       "<Figure size 432x288 with 1 Axes>"
      ]
     },
     "metadata": {
      "needs_background": "light"
     },
     "output_type": "display_data"
    }
   ],
   "source": [
    "plt.scatter(hi.n,hi.hi_baseline, label = 'baseline')\n",
    "\n",
    "\n",
    "plt.scatter(hi.n,hi.hi_a2_age_binning, label = 'a2 age binning')\n",
    "plt.scatter(hi.n,hi.hi_a3_age_binning, label = 'a3 age binning')\n",
    "plt.scatter(hi.n,hi.hi_a1_age_binning, label = 'a1 age binning')\n",
    "\n",
    "plt.scatter(hi.n,hi.hi_bin_4plus_races, label = 'bin_4plus_races')\n",
    "plt.scatter(hi.n,hi.hi_bin_relp, label = 'relationship binning')\n",
    "plt.scatter(hi.n,hi.hi_bin_3plus_races, label = 'bin_3plus_races')\n",
    "\n",
    "\n",
    "plt.legend()\n",
    "plt.title('Binning elder ages vs multiracial vs relationships :\\nEffect on n-homogeneity index')\n",
    "plt.xlabel('N')\n",
    "plt.ylabel('N-hi')\n",
    "plt.show()"
   ]
  },
  {
   "cell_type": "code",
   "execution_count": null,
   "metadata": {},
   "outputs": [],
   "source": []
  },
  {
   "cell_type": "code",
   "execution_count": null,
   "metadata": {},
   "outputs": [],
   "source": []
  }
 ],
 "metadata": {
  "kernelspec": {
   "display_name": "Python 3",
   "language": "python",
   "name": "python3"
  },
  "language_info": {
   "codemirror_mode": {
    "name": "ipython",
    "version": 3
   },
   "file_extension": ".py",
   "mimetype": "text/x-python",
   "name": "python",
   "nbconvert_exporter": "python",
   "pygments_lexer": "ipython3",
   "version": "3.6.10"
  }
 },
 "nbformat": 4,
 "nbformat_minor": 4
}
