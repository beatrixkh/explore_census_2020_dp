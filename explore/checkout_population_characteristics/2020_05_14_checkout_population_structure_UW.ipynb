{
 "cells": [
  {
   "cell_type": "code",
   "execution_count": 1,
   "metadata": {},
   "outputs": [
    {
     "name": "stdout",
     "output_type": "stream",
     "text": [
      "Thu May 14 21:52:31 PDT 2020\r\n"
     ]
    }
   ],
   "source": [
    "import pandas as pd\n",
    "import numpy as np\n",
    "import matplotlib.pyplot as plt\n",
    "\n",
    "import geopandas as gpd\n",
    "\n",
    "pd.set_option('display.max_rows', 30)\n",
    "!date"
   ]
  },
  {
   "cell_type": "markdown",
   "metadata": {},
   "source": [
    "# Checkout population structure around UW"
   ]
  },
  {
   "cell_type": "markdown",
   "metadata": {},
   "source": [
    "decennial data from: https://ciser.cornell.edu/data/data-archive/census-2010-sf1-download-center/"
   ]
  },
  {
   "cell_type": "markdown",
   "metadata": {},
   "source": [
    "decennial data codebook: https://cisermgmt.cornell.edu/go/pub/2010SF1/Census_2010_SF1_Technical_Documentation.pdf"
   ]
  },
  {
   "cell_type": "markdown",
   "metadata": {},
   "source": [
    "shapefiles from: https://www.census.gov/geographies/mapping-files/time-series/geo/tiger-line-file.html, 'web interface'"
   ]
  },
  {
   "cell_type": "code",
   "execution_count": 2,
   "metadata": {},
   "outputs": [],
   "source": [
    "locs = ['STATE', 'COUNTY', 'TRACT', 'BLKGRP', 'BLOCK']\n",
    "\n",
    "keep_cols = ['P0010001', 'ZCTA'] + locs\n",
    "\n",
    "def my_cols(x):\n",
    "    if x.startswith('P01200'):\n",
    "        return True\n",
    "    else:\n",
    "        return (x in keep_cols)"
   ]
  },
  {
   "cell_type": "markdown",
   "metadata": {},
   "source": [
    "## pull in age x sex structure"
   ]
  },
  {
   "cell_type": "code",
   "execution_count": 3,
   "metadata": {},
   "outputs": [
    {
     "name": "stdout",
     "output_type": "stream",
     "text": [
      "CPU times: user 31.6 s, sys: 1.54 s, total: 33.2 s\n",
      "Wall time: 33.9 s\n"
     ]
    }
   ],
   "source": [
    "%%time\n",
    "\n",
    "decennial = pd.read_csv('/home/j/temp/beatrixh/2020_census/wa2010ur1_all_vars.CSV', usecols = my_cols)"
   ]
  },
  {
   "cell_type": "code",
   "execution_count": 4,
   "metadata": {},
   "outputs": [],
   "source": [
    "decennial = decennial[decennial.BLOCK.notna()]"
   ]
  },
  {
   "cell_type": "code",
   "execution_count": 5,
   "metadata": {
    "scrolled": true
   },
   "outputs": [
    {
     "name": "stdout",
     "output_type": "stream",
     "text": [
      "59    530019502003244\n",
      "60    530019502003250\n",
      "61    530019502003251\n",
      "62    530019502003252\n",
      "63    530019502003254\n",
      "Name: geoid, dtype: object\n",
      "{15}\n"
     ]
    }
   ],
   "source": [
    "# get a list of all cols needed for geoid\n",
    "lower_locs = [i.lower() for i in locs]\n",
    "\n",
    "# convert to strings\n",
    "decennial[lower_locs] = decennial[locs].astype(float).astype(int).astype(str)\n",
    "decennial[lower_locs] = decennial[lower_locs].astype(str)\n",
    "\n",
    "# rearrange loc vars to be strings of uniform length\n",
    "decennial.county = [('00' + i) if len(i)==1\n",
    "             else '0' + i if len(i)==2\n",
    "             else i for i in decennial.county]\n",
    "\n",
    "decennial.tract = ['0' + i if len(i)==5\n",
    "            else '00' + i if len(i)==4\n",
    "            else '000' + i if len(i)==3\n",
    "            else i for i in decennial.tract]\n",
    "\n",
    "decennial.block = ['0' + i if len(i)==3\n",
    "            else '00' + i if len(i)==2\n",
    "            else '000' + i if len(i)==1\n",
    "            else i for i in decennial.block]\n",
    "\n",
    "# add geoid\n",
    "decennial['geoid'] = decennial['state'] + decennial['county'] + decennial['tract'] + decennial['block']\n",
    "print(decennial['geoid'].head())\n",
    "\n",
    "#these should all be length 15:\n",
    "print(set([len(i) for i in decennial.geoid]))"
   ]
  },
  {
   "cell_type": "code",
   "execution_count": 6,
   "metadata": {},
   "outputs": [
    {
     "data": {
      "text/plain": [
       "Index(['STATE', 'COUNTY', 'TRACT', 'BLKGRP', 'BLOCK', 'P0010001', 'P0120001',\n",
       "       'P0120002', 'P0120003', 'P0120004', 'P0120005', 'P0120006', 'P0120007',\n",
       "       'P0120008', 'P0120009', 'P0120010', 'P0120011', 'P0120012', 'P0120013',\n",
       "       'P0120014', 'P0120015', 'P0120016', 'P0120017', 'P0120018', 'P0120019',\n",
       "       'P0120020', 'P0120021', 'P0120022', 'P0120023', 'P0120024', 'P0120025',\n",
       "       'P0120026', 'P0120027', 'P0120028', 'P0120029', 'P0120030', 'P0120031',\n",
       "       'P0120032', 'P0120033', 'P0120034', 'P0120035', 'P0120036', 'P0120037',\n",
       "       'P0120038', 'P0120039', 'P0120040', 'P0120041', 'P0120042', 'P0120043',\n",
       "       'P0120044', 'P0120045', 'P0120046', 'P0120047', 'P0120048', 'P0120049',\n",
       "       'state', 'county', 'tract', 'blkgrp', 'block', 'geoid'],\n",
       "      dtype='object')"
      ]
     },
     "execution_count": 6,
     "metadata": {},
     "output_type": "execute_result"
    }
   ],
   "source": [
    "decennial.columns"
   ]
  },
  {
   "cell_type": "code",
   "execution_count": 7,
   "metadata": {},
   "outputs": [],
   "source": [
    "# subset to king county\n",
    "decennial = decennial[decennial.COUNTY==33]"
   ]
  },
  {
   "cell_type": "markdown",
   "metadata": {},
   "source": [
    "## pull in shapefiles"
   ]
  },
  {
   "cell_type": "code",
   "execution_count": 8,
   "metadata": {},
   "outputs": [],
   "source": [
    "block_shapes = gpd.read_file('/home/j/temp/beatrixh/sim_science/census_GIS/tl_2010_53_tabblock10/tl_2010_53_tabblock10.shp')"
   ]
  },
  {
   "cell_type": "code",
   "execution_count": 9,
   "metadata": {},
   "outputs": [
    {
     "data": {
      "text/html": [
       "<div>\n",
       "<style scoped>\n",
       "    .dataframe tbody tr th:only-of-type {\n",
       "        vertical-align: middle;\n",
       "    }\n",
       "\n",
       "    .dataframe tbody tr th {\n",
       "        vertical-align: top;\n",
       "    }\n",
       "\n",
       "    .dataframe thead th {\n",
       "        text-align: right;\n",
       "    }\n",
       "</style>\n",
       "<table border=\"1\" class=\"dataframe\">\n",
       "  <thead>\n",
       "    <tr style=\"text-align: right;\">\n",
       "      <th></th>\n",
       "      <th>STATEFP10</th>\n",
       "      <th>COUNTYFP10</th>\n",
       "      <th>TRACTCE10</th>\n",
       "      <th>BLOCKCE10</th>\n",
       "      <th>GEOID10</th>\n",
       "      <th>NAME10</th>\n",
       "      <th>MTFCC10</th>\n",
       "      <th>UR10</th>\n",
       "      <th>UACE10</th>\n",
       "      <th>UATYP10</th>\n",
       "      <th>FUNCSTAT10</th>\n",
       "      <th>ALAND10</th>\n",
       "      <th>AWATER10</th>\n",
       "      <th>INTPTLAT10</th>\n",
       "      <th>INTPTLON10</th>\n",
       "      <th>geometry</th>\n",
       "    </tr>\n",
       "  </thead>\n",
       "  <tbody>\n",
       "    <tr>\n",
       "      <th>0</th>\n",
       "      <td>53</td>\n",
       "      <td>001</td>\n",
       "      <td>950100</td>\n",
       "      <td>1004</td>\n",
       "      <td>530019501001004</td>\n",
       "      <td>Block 1004</td>\n",
       "      <td>G5040</td>\n",
       "      <td>R</td>\n",
       "      <td>None</td>\n",
       "      <td>None</td>\n",
       "      <td>S</td>\n",
       "      <td>0</td>\n",
       "      <td>477164</td>\n",
       "      <td>+47.2397419</td>\n",
       "      <td>-117.9780911</td>\n",
       "      <td>POLYGON ((-117.98390 47.23402, -117.98440 47.2...</td>\n",
       "    </tr>\n",
       "    <tr>\n",
       "      <th>1</th>\n",
       "      <td>53</td>\n",
       "      <td>001</td>\n",
       "      <td>950100</td>\n",
       "      <td>1220</td>\n",
       "      <td>530019501001220</td>\n",
       "      <td>Block 1220</td>\n",
       "      <td>G5040</td>\n",
       "      <td>R</td>\n",
       "      <td>None</td>\n",
       "      <td>None</td>\n",
       "      <td>S</td>\n",
       "      <td>950028</td>\n",
       "      <td>0</td>\n",
       "      <td>+47.2132824</td>\n",
       "      <td>-117.9639088</td>\n",
       "      <td>POLYGON ((-117.96049 47.22108, -117.96047 47.2...</td>\n",
       "    </tr>\n",
       "    <tr>\n",
       "      <th>2</th>\n",
       "      <td>53</td>\n",
       "      <td>001</td>\n",
       "      <td>950100</td>\n",
       "      <td>1226</td>\n",
       "      <td>530019501001226</td>\n",
       "      <td>Block 1226</td>\n",
       "      <td>G5040</td>\n",
       "      <td>R</td>\n",
       "      <td>None</td>\n",
       "      <td>None</td>\n",
       "      <td>S</td>\n",
       "      <td>606144</td>\n",
       "      <td>0</td>\n",
       "      <td>+47.1896716</td>\n",
       "      <td>-117.9620025</td>\n",
       "      <td>POLYGON ((-117.96031 47.19978, -117.96026 47.1...</td>\n",
       "    </tr>\n",
       "    <tr>\n",
       "      <th>3</th>\n",
       "      <td>53</td>\n",
       "      <td>001</td>\n",
       "      <td>950100</td>\n",
       "      <td>1235</td>\n",
       "      <td>530019501001235</td>\n",
       "      <td>Block 1235</td>\n",
       "      <td>G5040</td>\n",
       "      <td>R</td>\n",
       "      <td>None</td>\n",
       "      <td>None</td>\n",
       "      <td>S</td>\n",
       "      <td>7599</td>\n",
       "      <td>0</td>\n",
       "      <td>+47.0853664</td>\n",
       "      <td>-117.9938390</td>\n",
       "      <td>POLYGON ((-117.99392 47.08451, -117.99393 47.0...</td>\n",
       "    </tr>\n",
       "    <tr>\n",
       "      <th>4</th>\n",
       "      <td>53</td>\n",
       "      <td>001</td>\n",
       "      <td>950100</td>\n",
       "      <td>1228</td>\n",
       "      <td>530019501001228</td>\n",
       "      <td>Block 1228</td>\n",
       "      <td>G5040</td>\n",
       "      <td>R</td>\n",
       "      <td>None</td>\n",
       "      <td>None</td>\n",
       "      <td>S</td>\n",
       "      <td>3643139</td>\n",
       "      <td>0</td>\n",
       "      <td>+47.1079086</td>\n",
       "      <td>-117.9687545</td>\n",
       "      <td>POLYGON ((-117.95994 47.09514, -117.96034 47.0...</td>\n",
       "    </tr>\n",
       "  </tbody>\n",
       "</table>\n",
       "</div>"
      ],
      "text/plain": [
       "  STATEFP10 COUNTYFP10 TRACTCE10 BLOCKCE10          GEOID10      NAME10  \\\n",
       "0        53        001    950100      1004  530019501001004  Block 1004   \n",
       "1        53        001    950100      1220  530019501001220  Block 1220   \n",
       "2        53        001    950100      1226  530019501001226  Block 1226   \n",
       "3        53        001    950100      1235  530019501001235  Block 1235   \n",
       "4        53        001    950100      1228  530019501001228  Block 1228   \n",
       "\n",
       "  MTFCC10 UR10 UACE10 UATYP10 FUNCSTAT10  ALAND10  AWATER10   INTPTLAT10  \\\n",
       "0   G5040    R   None    None          S        0    477164  +47.2397419   \n",
       "1   G5040    R   None    None          S   950028         0  +47.2132824   \n",
       "2   G5040    R   None    None          S   606144         0  +47.1896716   \n",
       "3   G5040    R   None    None          S     7599         0  +47.0853664   \n",
       "4   G5040    R   None    None          S  3643139         0  +47.1079086   \n",
       "\n",
       "     INTPTLON10                                           geometry  \n",
       "0  -117.9780911  POLYGON ((-117.98390 47.23402, -117.98440 47.2...  \n",
       "1  -117.9639088  POLYGON ((-117.96049 47.22108, -117.96047 47.2...  \n",
       "2  -117.9620025  POLYGON ((-117.96031 47.19978, -117.96026 47.1...  \n",
       "3  -117.9938390  POLYGON ((-117.99392 47.08451, -117.99393 47.0...  \n",
       "4  -117.9687545  POLYGON ((-117.95994 47.09514, -117.96034 47.0...  "
      ]
     },
     "execution_count": 9,
     "metadata": {},
     "output_type": "execute_result"
    }
   ],
   "source": [
    "block_shapes.head()"
   ]
  },
  {
   "cell_type": "code",
   "execution_count": 10,
   "metadata": {},
   "outputs": [],
   "source": [
    "# subset to king county\n",
    "block_shapes = block_shapes[block_shapes.COUNTYFP10=='033']"
   ]
  },
  {
   "cell_type": "code",
   "execution_count": 11,
   "metadata": {},
   "outputs": [
    {
     "name": "stderr",
     "output_type": "stream",
     "text": [
      "/share/code/beatrixh/miniconda/envs/gis/lib/python3.6/site-packages/pyproj/crs/crs.py:55: FutureWarning: '+init=<authority>:<code>' syntax is deprecated. '<authority>:<code>' is the preferred initialization method. When making the change, be mindful of axis order changes: https://pyproj4.github.io/pyproj/stable/gotchas.html#axis-order-changes-in-proj-6\n",
      "  return _prepare_from_string(\" \".join(pjargs))\n"
     ]
    }
   ],
   "source": [
    "# cartesian projection\n",
    "block_shapes = block_shapes.to_crs({'init': 'epsg:3857'})"
   ]
  },
  {
   "cell_type": "code",
   "execution_count": 12,
   "metadata": {},
   "outputs": [],
   "source": [
    "# get area\n",
    "block_shapes['area'] = block_shapes.geometry.area\n",
    "\n",
    "# convert to km**2\n",
    "block_shapes.area = block_shapes.area/10**6"
   ]
  },
  {
   "cell_type": "code",
   "execution_count": 13,
   "metadata": {},
   "outputs": [],
   "source": [
    "# convert key to string for merging\n",
    "\n",
    "block_shapes.GEOID10 = block_shapes.GEOID10.astype(str)\n",
    "decennial.geoid = decennial.geoid.astype(str)"
   ]
  },
  {
   "cell_type": "markdown",
   "metadata": {},
   "source": [
    "## combine area w/ pop counts"
   ]
  },
  {
   "cell_type": "code",
   "execution_count": 14,
   "metadata": {},
   "outputs": [],
   "source": [
    "decennial = decennial.merge(block_shapes[['GEOID10','area']], left_on = 'geoid', right_on = 'GEOID10', how='left')"
   ]
  },
  {
   "cell_type": "code",
   "execution_count": 15,
   "metadata": {},
   "outputs": [
    {
     "data": {
      "text/html": [
       "<div>\n",
       "<style scoped>\n",
       "    .dataframe tbody tr th:only-of-type {\n",
       "        vertical-align: middle;\n",
       "    }\n",
       "\n",
       "    .dataframe tbody tr th {\n",
       "        vertical-align: top;\n",
       "    }\n",
       "\n",
       "    .dataframe thead th {\n",
       "        text-align: right;\n",
       "    }\n",
       "</style>\n",
       "<table border=\"1\" class=\"dataframe\">\n",
       "  <thead>\n",
       "    <tr style=\"text-align: right;\">\n",
       "      <th></th>\n",
       "      <th>STATE</th>\n",
       "      <th>COUNTY</th>\n",
       "      <th>TRACT</th>\n",
       "      <th>BLKGRP</th>\n",
       "      <th>BLOCK</th>\n",
       "      <th>P0010001</th>\n",
       "      <th>P0120001</th>\n",
       "      <th>P0120002</th>\n",
       "      <th>P0120003</th>\n",
       "      <th>P0120004</th>\n",
       "      <th>...</th>\n",
       "      <th>P0120048</th>\n",
       "      <th>P0120049</th>\n",
       "      <th>state</th>\n",
       "      <th>county</th>\n",
       "      <th>tract</th>\n",
       "      <th>blkgrp</th>\n",
       "      <th>block</th>\n",
       "      <th>geoid</th>\n",
       "      <th>GEOID10</th>\n",
       "      <th>area</th>\n",
       "    </tr>\n",
       "  </thead>\n",
       "  <tbody>\n",
       "    <tr>\n",
       "      <th>0</th>\n",
       "      <td>53</td>\n",
       "      <td>33.0</td>\n",
       "      <td>31202.0</td>\n",
       "      <td>1.0</td>\n",
       "      <td>1014.0</td>\n",
       "      <td>0</td>\n",
       "      <td>0</td>\n",
       "      <td>0</td>\n",
       "      <td>0</td>\n",
       "      <td>0</td>\n",
       "      <td>...</td>\n",
       "      <td>0</td>\n",
       "      <td>0</td>\n",
       "      <td>53</td>\n",
       "      <td>033</td>\n",
       "      <td>031202</td>\n",
       "      <td>1</td>\n",
       "      <td>1014</td>\n",
       "      <td>530330312021014</td>\n",
       "      <td>530330312021014</td>\n",
       "      <td>0.033603</td>\n",
       "    </tr>\n",
       "    <tr>\n",
       "      <th>1</th>\n",
       "      <td>53</td>\n",
       "      <td>33.0</td>\n",
       "      <td>31202.0</td>\n",
       "      <td>1.0</td>\n",
       "      <td>1017.0</td>\n",
       "      <td>309</td>\n",
       "      <td>309</td>\n",
       "      <td>158</td>\n",
       "      <td>7</td>\n",
       "      <td>11</td>\n",
       "      <td>...</td>\n",
       "      <td>1</td>\n",
       "      <td>2</td>\n",
       "      <td>53</td>\n",
       "      <td>033</td>\n",
       "      <td>031202</td>\n",
       "      <td>1</td>\n",
       "      <td>1017</td>\n",
       "      <td>530330312021017</td>\n",
       "      <td>530330312021017</td>\n",
       "      <td>2.149353</td>\n",
       "    </tr>\n",
       "    <tr>\n",
       "      <th>2</th>\n",
       "      <td>53</td>\n",
       "      <td>33.0</td>\n",
       "      <td>31202.0</td>\n",
       "      <td>1.0</td>\n",
       "      <td>1018.0</td>\n",
       "      <td>6</td>\n",
       "      <td>6</td>\n",
       "      <td>2</td>\n",
       "      <td>0</td>\n",
       "      <td>0</td>\n",
       "      <td>...</td>\n",
       "      <td>0</td>\n",
       "      <td>0</td>\n",
       "      <td>53</td>\n",
       "      <td>033</td>\n",
       "      <td>031202</td>\n",
       "      <td>1</td>\n",
       "      <td>1018</td>\n",
       "      <td>530330312021018</td>\n",
       "      <td>530330312021018</td>\n",
       "      <td>0.005844</td>\n",
       "    </tr>\n",
       "    <tr>\n",
       "      <th>3</th>\n",
       "      <td>53</td>\n",
       "      <td>33.0</td>\n",
       "      <td>31202.0</td>\n",
       "      <td>2.0</td>\n",
       "      <td>2000.0</td>\n",
       "      <td>0</td>\n",
       "      <td>0</td>\n",
       "      <td>0</td>\n",
       "      <td>0</td>\n",
       "      <td>0</td>\n",
       "      <td>...</td>\n",
       "      <td>0</td>\n",
       "      <td>0</td>\n",
       "      <td>53</td>\n",
       "      <td>033</td>\n",
       "      <td>031202</td>\n",
       "      <td>2</td>\n",
       "      <td>2000</td>\n",
       "      <td>530330312022000</td>\n",
       "      <td>530330312022000</td>\n",
       "      <td>0.123027</td>\n",
       "    </tr>\n",
       "    <tr>\n",
       "      <th>4</th>\n",
       "      <td>53</td>\n",
       "      <td>33.0</td>\n",
       "      <td>31202.0</td>\n",
       "      <td>2.0</td>\n",
       "      <td>2001.0</td>\n",
       "      <td>97</td>\n",
       "      <td>97</td>\n",
       "      <td>50</td>\n",
       "      <td>0</td>\n",
       "      <td>0</td>\n",
       "      <td>...</td>\n",
       "      <td>0</td>\n",
       "      <td>1</td>\n",
       "      <td>53</td>\n",
       "      <td>033</td>\n",
       "      <td>031202</td>\n",
       "      <td>2</td>\n",
       "      <td>2001</td>\n",
       "      <td>530330312022001</td>\n",
       "      <td>530330312022001</td>\n",
       "      <td>0.268237</td>\n",
       "    </tr>\n",
       "  </tbody>\n",
       "</table>\n",
       "<p>5 rows × 63 columns</p>\n",
       "</div>"
      ],
      "text/plain": [
       "   STATE  COUNTY    TRACT  BLKGRP   BLOCK  P0010001  P0120001  P0120002  \\\n",
       "0     53    33.0  31202.0     1.0  1014.0         0         0         0   \n",
       "1     53    33.0  31202.0     1.0  1017.0       309       309       158   \n",
       "2     53    33.0  31202.0     1.0  1018.0         6         6         2   \n",
       "3     53    33.0  31202.0     2.0  2000.0         0         0         0   \n",
       "4     53    33.0  31202.0     2.0  2001.0        97        97        50   \n",
       "\n",
       "   P0120003  P0120004  ...  P0120048  P0120049  state  county   tract  blkgrp  \\\n",
       "0         0         0  ...         0         0     53     033  031202       1   \n",
       "1         7        11  ...         1         2     53     033  031202       1   \n",
       "2         0         0  ...         0         0     53     033  031202       1   \n",
       "3         0         0  ...         0         0     53     033  031202       2   \n",
       "4         0         0  ...         0         1     53     033  031202       2   \n",
       "\n",
       "   block            geoid          GEOID10      area  \n",
       "0   1014  530330312021014  530330312021014  0.033603  \n",
       "1   1017  530330312021017  530330312021017  2.149353  \n",
       "2   1018  530330312021018  530330312021018  0.005844  \n",
       "3   2000  530330312022000  530330312022000  0.123027  \n",
       "4   2001  530330312022001  530330312022001  0.268237  \n",
       "\n",
       "[5 rows x 63 columns]"
      ]
     },
     "execution_count": 15,
     "metadata": {},
     "output_type": "execute_result"
    }
   ],
   "source": [
    "decennial.head()"
   ]
  },
  {
   "cell_type": "code",
   "execution_count": 16,
   "metadata": {},
   "outputs": [],
   "source": [
    "decennial['pop_density'] = decennial['P0010001'] / decennial['area']"
   ]
  },
  {
   "cell_type": "markdown",
   "metadata": {},
   "source": [
    "## rename vars"
   ]
  },
  {
   "cell_type": "code",
   "execution_count": 17,
   "metadata": {},
   "outputs": [],
   "source": [
    "## var labels\n",
    "\n",
    "# Total: P0120001 04 9\n",
    "# Male: P0120002 04 9\n",
    "# Under 5 years P0120003 04 9\n",
    "# 5 to 9 years P0120004 04 9\n",
    "# 10 to 14 years P0120005 04 9\n",
    "# 15 to 17 years P0120006 04 9\n",
    "# 18 and 19 years P0120007 04 9\n",
    "# 20 years P0120008 04 9\n",
    "# 21 years P0120009 04 9\n",
    "# 22 to 24 years P0120010 04 9\n",
    "# 25 to 29 years P0120011 04 9\n",
    "# 30 to 34 years P0120012 04 9\n",
    "# 35 to 39 years P0120013 04 9\n",
    "# 40 to 44 years P0120014 04 9\n",
    "# 45 to 49 years P0120015 04 9\n",
    "# 50 to 54 years P0120016 04 9\n",
    "# 55 to 59 years P0120017 04 9\n",
    "# 60 and 61 years P0120018 04 9\n",
    "# 62 to 64 years P0120019 04 9\n",
    "# 65 and 66 years P0120020 04 9\n",
    "# 67 to 69 years P0120021 04 9\n",
    "# 70 to 74 years P0120022 04 9\n",
    "# 75 to 79 years P0120023 04 9\n",
    "# 80 to 84 years P0120024 04 9\n",
    "# 85 years and over P0120025 04 9\n",
    "# Female: P0120026 04 9\n",
    "# Under 5 years P0120027 04 9\n",
    "# 5 to 9 years P0120028 04 9\n",
    "# 10 to 14 years P0120029 04 9\n",
    "# 15 to 17 years P0120030 04 9\n",
    "# 18 and 19 years P0120031 04 9\n",
    "# 20 years P0120032 04 9\n",
    "# 21 years P0120033 04 9\n",
    "# 22 to 24 years P0120034 04 9\n",
    "# 25 to 29 years P0120035 04 9\n",
    "# 30 to 34 years P0120036 04 9\n",
    "# 35 to 39 years P0120037 04 9\n",
    "# 40 to 44 years P0120038 04 9\n",
    "# 45 to 49 years P0120039 04 9\n",
    "# 50 to 54 years P0120040 04 9\n",
    "# 55 to 59 years P0120041 04 9\n",
    "# 60 and 61 years P0120042 04 9\n",
    "# 62 to 64 years P0120043 04 9\n",
    "# 65 and 66 years P0120044 04 9\n",
    "# 67 to 69 years P0120045 04 9\n",
    "# 70 to 74 years P0120046 04 9\n",
    "# 75 to 79 years P0120047 04 9\n",
    "# 80 to 84 years P0120048 04 9\n",
    "# 85 years and over P0120049 04 9"
   ]
  },
  {
   "cell_type": "code",
   "execution_count": 18,
   "metadata": {},
   "outputs": [],
   "source": [
    "male = ['P012000' + str(i) for i in np.arange(3,10)] + ['P01200' + str(i) for i in np.arange(10,26)]\n",
    "female = ['P01200' + str(i) for i in np.arange(27,50)]"
   ]
  },
  {
   "cell_type": "code",
   "execution_count": 19,
   "metadata": {},
   "outputs": [],
   "source": [
    "ages = ['0_4','5_9','10_14','15_17','18_19','20','21','22_24'] + [str(i) + '_' + str(i +4) for i in np.arange(25,56,5)] + ['60_61','62_64','65_66','67_69','70_74','75_79','80_84','85_plus']"
   ]
  },
  {
   "cell_type": "code",
   "execution_count": 20,
   "metadata": {},
   "outputs": [],
   "source": [
    "male_labs = ['m_' + i for i in ages]\n",
    "female_labs =  ['f_' + i for i in ages]"
   ]
  },
  {
   "cell_type": "code",
   "execution_count": 21,
   "metadata": {},
   "outputs": [],
   "source": [
    "renaming = {}\n",
    "for i in np.arange(len(female)):\n",
    "    renaming[male[i]] = male_labs[i]\n",
    "    renaming[female[i]] = female_labs[i]\n",
    "    \n",
    "renaming['P0010001'] = 'total_pop'\n",
    "renaming['P0120002'] = 'm_total'\n",
    "renaming['P0120026'] = 'f_total'"
   ]
  },
  {
   "cell_type": "code",
   "execution_count": 22,
   "metadata": {},
   "outputs": [],
   "source": [
    "output = decennial.rename(columns=renaming)"
   ]
  },
  {
   "cell_type": "code",
   "execution_count": 23,
   "metadata": {},
   "outputs": [],
   "source": [
    "to_drop = locs + ['P0120001','GEOID10'] #duplicates: total pop, geoid\n",
    "output = output.drop(columns=to_drop)"
   ]
  },
  {
   "cell_type": "code",
   "execution_count": 24,
   "metadata": {
    "scrolled": true
   },
   "outputs": [
    {
     "data": {
      "text/plain": [
       "Index(['total_pop', 'm_total', 'm_0_4', 'm_5_9', 'm_10_14', 'm_15_17',\n",
       "       'm_18_19', 'm_20', 'm_21', 'm_22_24', 'm_25_29', 'm_30_34', 'm_35_39',\n",
       "       'm_40_44', 'm_45_49', 'm_50_54', 'm_55_59', 'm_60_61', 'm_62_64',\n",
       "       'm_65_66', 'm_67_69', 'm_70_74', 'm_75_79', 'm_80_84', 'm_85_plus',\n",
       "       'f_total', 'f_0_4', 'f_5_9', 'f_10_14', 'f_15_17', 'f_18_19', 'f_20',\n",
       "       'f_21', 'f_22_24', 'f_25_29', 'f_30_34', 'f_35_39', 'f_40_44',\n",
       "       'f_45_49', 'f_50_54', 'f_55_59', 'f_60_61', 'f_62_64', 'f_65_66',\n",
       "       'f_67_69', 'f_70_74', 'f_75_79', 'f_80_84', 'f_85_plus', 'state',\n",
       "       'county', 'tract', 'blkgrp', 'block', 'geoid', 'area', 'pop_density'],\n",
       "      dtype='object')"
      ]
     },
     "execution_count": 24,
     "metadata": {},
     "output_type": "execute_result"
    }
   ],
   "source": [
    "output.columns"
   ]
  },
  {
   "cell_type": "code",
   "execution_count": 25,
   "metadata": {
    "scrolled": false
   },
   "outputs": [
    {
     "data": {
      "text/html": [
       "<div>\n",
       "<style scoped>\n",
       "    .dataframe tbody tr th:only-of-type {\n",
       "        vertical-align: middle;\n",
       "    }\n",
       "\n",
       "    .dataframe tbody tr th {\n",
       "        vertical-align: top;\n",
       "    }\n",
       "\n",
       "    .dataframe thead th {\n",
       "        text-align: right;\n",
       "    }\n",
       "</style>\n",
       "<table border=\"1\" class=\"dataframe\">\n",
       "  <thead>\n",
       "    <tr style=\"text-align: right;\">\n",
       "      <th></th>\n",
       "      <th>total_pop</th>\n",
       "      <th>m_total</th>\n",
       "      <th>m_0_4</th>\n",
       "      <th>m_5_9</th>\n",
       "      <th>m_10_14</th>\n",
       "      <th>m_15_17</th>\n",
       "      <th>m_18_19</th>\n",
       "      <th>m_20</th>\n",
       "      <th>m_21</th>\n",
       "      <th>m_22_24</th>\n",
       "      <th>...</th>\n",
       "      <th>f_80_84</th>\n",
       "      <th>f_85_plus</th>\n",
       "      <th>state</th>\n",
       "      <th>county</th>\n",
       "      <th>tract</th>\n",
       "      <th>blkgrp</th>\n",
       "      <th>block</th>\n",
       "      <th>geoid</th>\n",
       "      <th>area</th>\n",
       "      <th>pop_density</th>\n",
       "    </tr>\n",
       "  </thead>\n",
       "  <tbody>\n",
       "    <tr>\n",
       "      <th>0</th>\n",
       "      <td>0</td>\n",
       "      <td>0</td>\n",
       "      <td>0</td>\n",
       "      <td>0</td>\n",
       "      <td>0</td>\n",
       "      <td>0</td>\n",
       "      <td>0</td>\n",
       "      <td>0</td>\n",
       "      <td>0</td>\n",
       "      <td>0</td>\n",
       "      <td>...</td>\n",
       "      <td>0</td>\n",
       "      <td>0</td>\n",
       "      <td>53</td>\n",
       "      <td>033</td>\n",
       "      <td>031202</td>\n",
       "      <td>1</td>\n",
       "      <td>1014</td>\n",
       "      <td>530330312021014</td>\n",
       "      <td>0.033603</td>\n",
       "      <td>0.000000</td>\n",
       "    </tr>\n",
       "    <tr>\n",
       "      <th>1</th>\n",
       "      <td>309</td>\n",
       "      <td>158</td>\n",
       "      <td>7</td>\n",
       "      <td>11</td>\n",
       "      <td>14</td>\n",
       "      <td>16</td>\n",
       "      <td>3</td>\n",
       "      <td>2</td>\n",
       "      <td>2</td>\n",
       "      <td>6</td>\n",
       "      <td>...</td>\n",
       "      <td>1</td>\n",
       "      <td>2</td>\n",
       "      <td>53</td>\n",
       "      <td>033</td>\n",
       "      <td>031202</td>\n",
       "      <td>1</td>\n",
       "      <td>1017</td>\n",
       "      <td>530330312021017</td>\n",
       "      <td>2.149353</td>\n",
       "      <td>143.764175</td>\n",
       "    </tr>\n",
       "    <tr>\n",
       "      <th>2</th>\n",
       "      <td>6</td>\n",
       "      <td>2</td>\n",
       "      <td>0</td>\n",
       "      <td>0</td>\n",
       "      <td>0</td>\n",
       "      <td>0</td>\n",
       "      <td>0</td>\n",
       "      <td>0</td>\n",
       "      <td>0</td>\n",
       "      <td>0</td>\n",
       "      <td>...</td>\n",
       "      <td>0</td>\n",
       "      <td>0</td>\n",
       "      <td>53</td>\n",
       "      <td>033</td>\n",
       "      <td>031202</td>\n",
       "      <td>1</td>\n",
       "      <td>1018</td>\n",
       "      <td>530330312021018</td>\n",
       "      <td>0.005844</td>\n",
       "      <td>1026.702491</td>\n",
       "    </tr>\n",
       "    <tr>\n",
       "      <th>3</th>\n",
       "      <td>0</td>\n",
       "      <td>0</td>\n",
       "      <td>0</td>\n",
       "      <td>0</td>\n",
       "      <td>0</td>\n",
       "      <td>0</td>\n",
       "      <td>0</td>\n",
       "      <td>0</td>\n",
       "      <td>0</td>\n",
       "      <td>0</td>\n",
       "      <td>...</td>\n",
       "      <td>0</td>\n",
       "      <td>0</td>\n",
       "      <td>53</td>\n",
       "      <td>033</td>\n",
       "      <td>031202</td>\n",
       "      <td>2</td>\n",
       "      <td>2000</td>\n",
       "      <td>530330312022000</td>\n",
       "      <td>0.123027</td>\n",
       "      <td>0.000000</td>\n",
       "    </tr>\n",
       "    <tr>\n",
       "      <th>4</th>\n",
       "      <td>97</td>\n",
       "      <td>50</td>\n",
       "      <td>0</td>\n",
       "      <td>0</td>\n",
       "      <td>1</td>\n",
       "      <td>25</td>\n",
       "      <td>13</td>\n",
       "      <td>1</td>\n",
       "      <td>0</td>\n",
       "      <td>0</td>\n",
       "      <td>...</td>\n",
       "      <td>0</td>\n",
       "      <td>1</td>\n",
       "      <td>53</td>\n",
       "      <td>033</td>\n",
       "      <td>031202</td>\n",
       "      <td>2</td>\n",
       "      <td>2001</td>\n",
       "      <td>530330312022001</td>\n",
       "      <td>0.268237</td>\n",
       "      <td>361.620856</td>\n",
       "    </tr>\n",
       "  </tbody>\n",
       "</table>\n",
       "<p>5 rows × 57 columns</p>\n",
       "</div>"
      ],
      "text/plain": [
       "   total_pop  m_total  m_0_4  m_5_9  m_10_14  m_15_17  m_18_19  m_20  m_21  \\\n",
       "0          0        0      0      0        0        0        0     0     0   \n",
       "1        309      158      7     11       14       16        3     2     2   \n",
       "2          6        2      0      0        0        0        0     0     0   \n",
       "3          0        0      0      0        0        0        0     0     0   \n",
       "4         97       50      0      0        1       25       13     1     0   \n",
       "\n",
       "   m_22_24  ...  f_80_84  f_85_plus  state  county   tract  blkgrp  block  \\\n",
       "0        0  ...        0          0     53     033  031202       1   1014   \n",
       "1        6  ...        1          2     53     033  031202       1   1017   \n",
       "2        0  ...        0          0     53     033  031202       1   1018   \n",
       "3        0  ...        0          0     53     033  031202       2   2000   \n",
       "4        0  ...        0          1     53     033  031202       2   2001   \n",
       "\n",
       "             geoid      area  pop_density  \n",
       "0  530330312021014  0.033603     0.000000  \n",
       "1  530330312021017  2.149353   143.764175  \n",
       "2  530330312021018  0.005844  1026.702491  \n",
       "3  530330312022000  0.123027     0.000000  \n",
       "4  530330312022001  0.268237   361.620856  \n",
       "\n",
       "[5 rows x 57 columns]"
      ]
     },
     "execution_count": 25,
     "metadata": {},
     "output_type": "execute_result"
    }
   ],
   "source": [
    "output.head()"
   ]
  },
  {
   "cell_type": "code",
   "execution_count": 26,
   "metadata": {},
   "outputs": [],
   "source": [
    "output.to_csv('/home/j/Project/simulation_science/covid/data/census_data/2020_05_14_king_county_population_distribution_2010.csv', index = False)"
   ]
  },
  {
   "cell_type": "markdown",
   "metadata": {},
   "source": [
    "## viz results"
   ]
  },
  {
   "cell_type": "code",
   "execution_count": 172,
   "metadata": {
    "scrolled": true
   },
   "outputs": [
    {
     "name": "stderr",
     "output_type": "stream",
     "text": [
      "/share/code/beatrixh/miniconda/envs/gis/lib/python3.6/site-packages/pyproj/crs/crs.py:55: FutureWarning: '+init=<authority>:<code>' syntax is deprecated. '<authority>:<code>' is the preferred initialization method. When making the change, be mindful of axis order changes: https://pyproj4.github.io/pyproj/stable/gotchas.html#axis-order-changes-in-proj-6\n",
      "  return _prepare_from_string(\" \".join(pjargs))\n"
     ]
    }
   ],
   "source": [
    "viz_dt = block_shapes.to_crs({'init': 'EPSG:4326'})"
   ]
  },
  {
   "cell_type": "code",
   "execution_count": 173,
   "metadata": {},
   "outputs": [
    {
     "data": {
      "text/plain": [
       "<function matplotlib.pyplot.show(*args, **kw)>"
      ]
     },
     "execution_count": 173,
     "metadata": {},
     "output_type": "execute_result"
    },
    {
     "data": {
      "image/png": "[encoded data removed]",
      "text/plain": [
       "<Figure size 432x288 with 1 Axes>"
      ]
     },
     "metadata": {
      "needs_background": "light"
     },
     "output_type": "display_data"
    }
   ],
   "source": [
    "plt.hist(output.pop_density, bins = 100)\n",
    "plt.show"
   ]
  },
  {
   "cell_type": "code",
   "execution_count": 144,
   "metadata": {},
   "outputs": [],
   "source": [
    "viz_dt = viz_dt.merge(output[['total_pop','pop_density','geoid']], left_on='GEOID10', right_on = 'geoid', how = 'left')"
   ]
  },
  {
   "cell_type": "code",
   "execution_count": 194,
   "metadata": {},
   "outputs": [],
   "source": [
    "viz_dt['key'] = viz_dt.GEOID10.astype(int)\n",
    "output['key'] = output.geoid.astype(int)"
   ]
  },
  {
   "cell_type": "code",
   "execution_count": 195,
   "metadata": {},
   "outputs": [],
   "source": [
    "viz_dt = viz_dt.sort_values(by='key')\n",
    "output = output.sort_values(by='key')"
   ]
  },
  {
   "cell_type": "code",
   "execution_count": 197,
   "metadata": {},
   "outputs": [],
   "source": [
    "viz_dt['pop_density'] = output.pop_density.tolist()"
   ]
  },
  {
   "cell_type": "code",
   "execution_count": 198,
   "metadata": {},
   "outputs": [],
   "source": [
    "viz_dt['log_pop_density'] = np.log(viz_dt.pop_density + 1)"
   ]
  },
  {
   "cell_type": "code",
   "execution_count": 206,
   "metadata": {},
   "outputs": [
    {
     "data": {
      "image/png": "[encoded data removed]",
      "text/plain": [
       "<Figure size 1080x1080 with 2 Axes>"
      ]
     },
     "metadata": {
      "needs_background": "light"
     },
     "output_type": "display_data"
    }
   ],
   "source": [
    "fig, ax = plt.subplots(figsize = (15,15))\n",
    "\n",
    "ax.set_xlim(-122.332927, -122.276884)\n",
    "ax.set_ylim(47.647, 47.67)\n",
    "\n",
    "plt.title('Population density around UW, 2010')\n",
    "\n",
    "viz_dt.plot(ax=ax, column='log_pop_density', cmap = 'YlGn',\n",
    "            legend = True,\n",
    "            legend_kwds={'label': \"Log capita/km^2\",'orientation': \"horizontal\"})\n",
    "plt.show()"
   ]
  },
  {
   "cell_type": "code",
   "execution_count": 221,
   "metadata": {},
   "outputs": [
    {
     "data": {
      "text/html": [
       "<div>\n",
       "<style scoped>\n",
       "    .dataframe tbody tr th:only-of-type {\n",
       "        vertical-align: middle;\n",
       "    }\n",
       "\n",
       "    .dataframe tbody tr th {\n",
       "        vertical-align: top;\n",
       "    }\n",
       "\n",
       "    .dataframe thead th {\n",
       "        text-align: right;\n",
       "    }\n",
       "</style>\n",
       "<table border=\"1\" class=\"dataframe\">\n",
       "  <thead>\n",
       "    <tr style=\"text-align: right;\">\n",
       "      <th></th>\n",
       "      <th>STATEFP10</th>\n",
       "      <th>COUNTYFP10</th>\n",
       "      <th>TRACTCE10</th>\n",
       "      <th>BLOCKCE10</th>\n",
       "      <th>GEOID10</th>\n",
       "      <th>NAME10</th>\n",
       "      <th>MTFCC10</th>\n",
       "      <th>UR10</th>\n",
       "      <th>UACE10</th>\n",
       "      <th>UATYP10</th>\n",
       "      <th>...</th>\n",
       "      <th>geometry</th>\n",
       "      <th>area</th>\n",
       "      <th>test</th>\n",
       "      <th>pls_work</th>\n",
       "      <th>log_pls_work</th>\n",
       "      <th>key</th>\n",
       "      <th>pop_density_x</th>\n",
       "      <th>log_pop_density</th>\n",
       "      <th>pop_density_y</th>\n",
       "      <th>geoid</th>\n",
       "    </tr>\n",
       "  </thead>\n",
       "  <tbody>\n",
       "  </tbody>\n",
       "</table>\n",
       "<p>0 rows × 25 columns</p>\n",
       "</div>"
      ],
      "text/plain": [
       "Empty GeoDataFrame\n",
       "Columns: [STATEFP10, COUNTYFP10, TRACTCE10, BLOCKCE10, GEOID10, NAME10, MTFCC10, UR10, UACE10, UATYP10, FUNCSTAT10, ALAND10, AWATER10, INTPTLAT10, INTPTLON10, geometry, area, test, pls_work, log_pls_work, key, pop_density_x, log_pop_density, pop_density_y, geoid]\n",
       "Index: []\n",
       "\n",
       "[0 rows x 25 columns]"
      ]
     },
     "execution_count": 221,
     "metadata": {},
     "output_type": "execute_result"
    }
   ],
   "source": [
    "## make sure correctly added pop_density col\n",
    "test = viz_dt.merge(output[['pop_density','geoid']], left_on = 'GEOID10', right_on = 'geoid', how = 'left')\n",
    "test[test.pop_density_x!=test.pop_density_y]"
   ]
  },
  {
   "cell_type": "code",
   "execution_count": null,
   "metadata": {},
   "outputs": [],
   "source": []
  }
 ],
 "metadata": {
  "kernelspec": {
   "display_name": "Python 3",
   "language": "python",
   "name": "python3"
  },
  "language_info": {
   "codemirror_mode": {
    "name": "ipython",
    "version": 3
   },
   "file_extension": ".py",
   "mimetype": "text/x-python",
   "name": "python",
   "nbconvert_exporter": "python",
   "pygments_lexer": "ipython3",
   "version": "3.6.10"
  }
 },
 "nbformat": 4,
 "nbformat_minor": 4
}
