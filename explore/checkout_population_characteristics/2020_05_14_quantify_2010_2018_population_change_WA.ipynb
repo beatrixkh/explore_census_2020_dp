{
 "cells": [
  {
   "cell_type": "code",
   "execution_count": 1,
   "metadata": {},
   "outputs": [
    {
     "name": "stdout",
     "output_type": "stream",
     "text": [
      "Thu May 14 14:47:48 PDT 2020\r\n"
     ]
    }
   ],
   "source": [
    "import pandas as pd\n",
    "import numpy as np\n",
    "import matplotlib.pyplot as plt\n",
    "\n",
    "import geopandas as gpd\n",
    "\n",
    "pd.set_option('display.max_rows', 10)\n",
    "!date"
   ]
  },
  {
   "cell_type": "markdown",
   "metadata": {},
   "source": [
    "# Quantify population structure change in King County from 2010 (decennial) to 2018 (acs)"
   ]
  },
  {
   "cell_type": "markdown",
   "metadata": {},
   "source": [
    "decennial data from: https://ciser.cornell.edu/data/data-archive/census-2010-sf1-download-center/`"
   ]
  },
  {
   "cell_type": "markdown",
   "metadata": {},
   "source": [
    "decennial data codebook: https://cisermgmt.cornell.edu/go/pub/2010SF1/Census_2010_SF1_Technical_Documentation.pdf"
   ]
  },
  {
   "cell_type": "markdown",
   "metadata": {},
   "source": [
    "ACS data from : https://data.census.gov/cedsci/advanced"
   ]
  },
  {
   "cell_type": "markdown",
   "metadata": {},
   "source": [
    "shapefiles from: https://www.census.gov/geographies/mapping-files/time-series/geo/tiger-line-file.html, 'web interface'"
   ]
  },
  {
   "cell_type": "markdown",
   "metadata": {},
   "source": [
    "## read in decennial data"
   ]
  },
  {
   "cell_type": "code",
   "execution_count": 3,
   "metadata": {},
   "outputs": [],
   "source": [
    "locs = ['STATE', 'COUNTY', 'TRACT', 'BLKGRP', 'BLOCK']\n",
    "\n",
    "keep_cols = ['P0010001', 'ZCTA'] + locs\n",
    "\n",
    "def my_cols(x):\n",
    "    if x.startswith('P01200'):\n",
    "        return True\n",
    "    else:\n",
    "        return (x in keep_cols)"
   ]
  },
  {
   "cell_type": "code",
   "execution_count": 4,
   "metadata": {},
   "outputs": [
    {
     "name": "stdout",
     "output_type": "stream",
     "text": [
      "CPU times: user 39.2 s, sys: 1.45 s, total: 40.6 s\n",
      "Wall time: 43.2 s\n"
     ]
    }
   ],
   "source": [
    "%%time\n",
    "\n",
    "decennial = pd.read_csv('/home/j/temp/beatrixh/2020_census/wa2010ur1_all_vars.CSV', usecols = my_cols)"
   ]
  },
  {
   "cell_type": "code",
   "execution_count": 5,
   "metadata": {},
   "outputs": [],
   "source": [
    "decennial = decennial[decennial.BLOCK.notna()]"
   ]
  },
  {
   "cell_type": "code",
   "execution_count": 6,
   "metadata": {},
   "outputs": [
    {
     "name": "stdout",
     "output_type": "stream",
     "text": [
      "59    530019502003244\n",
      "60    530019502003250\n",
      "61    530019502003251\n",
      "62    530019502003252\n",
      "63    530019502003254\n",
      "Name: geoid, dtype: object\n",
      "{15}\n"
     ]
    }
   ],
   "source": [
    "#add geoid\n",
    "\n",
    "# get a list of all cols needed for geoid\n",
    "lower_locs = [i.lower() for i in locs]\n",
    "\n",
    "# convert to strings\n",
    "decennial[lower_locs] = decennial[locs].astype(float).astype(int).astype(str)\n",
    "decennial[lower_locs] = decennial[lower_locs].astype(str)\n",
    "\n",
    "# rearrange loc vars to be strings of uniform length\n",
    "decennial.county = [('00' + i) if len(i)==1\n",
    "             else '0' + i if len(i)==2\n",
    "             else i for i in decennial.county]\n",
    "\n",
    "decennial.tract = ['0' + i if len(i)==5\n",
    "            else '00' + i if len(i)==4\n",
    "            else '000' + i if len(i)==3\n",
    "            else i for i in decennial.tract]\n",
    "\n",
    "decennial.block = ['0' + i if len(i)==3\n",
    "            else '00' + i if len(i)==2\n",
    "            else '000' + i if len(i)==1\n",
    "            else i for i in decennial.block]\n",
    "\n",
    "# add geoid\n",
    "decennial['geoid'] = decennial['state'] + decennial['county'] + decennial['tract'] + decennial['block']\n",
    "print(decennial['geoid'].head())\n",
    "\n",
    "#these should all be length 15:\n",
    "print(set([len(i) for i in decennial.geoid]))"
   ]
  },
  {
   "cell_type": "markdown",
   "metadata": {},
   "source": [
    "## read in acs"
   ]
  },
  {
   "cell_type": "code",
   "execution_count": 13,
   "metadata": {},
   "outputs": [],
   "source": [
    "acs = pd.read_csv('/home/j/temp/beatrixh/sim_science/ACS_2018/ACSST5Y2018.S0101-age_sex/ACSST5Y2018.S0101_data_with_overlays_2020-05-14T175825.csv')\n",
    "metadata = pd.read_csv('/home/j/temp/beatrixh/sim_science/ACS_2018/ACSST5Y2018.S0101-age_sex/ACSST5Y2018.S0101_metadata_2020-05-14T175825.csv')"
   ]
  },
  {
   "cell_type": "code",
   "execution_count": 14,
   "metadata": {},
   "outputs": [
    {
     "data": {
      "text/html": [
       "<div>\n",
       "<style scoped>\n",
       "    .dataframe tbody tr th:only-of-type {\n",
       "        vertical-align: middle;\n",
       "    }\n",
       "\n",
       "    .dataframe tbody tr th {\n",
       "        vertical-align: top;\n",
       "    }\n",
       "\n",
       "    .dataframe thead th {\n",
       "        text-align: right;\n",
       "    }\n",
       "</style>\n",
       "<table border=\"1\" class=\"dataframe\">\n",
       "  <thead>\n",
       "    <tr style=\"text-align: right;\">\n",
       "      <th></th>\n",
       "      <th>GEO_ID</th>\n",
       "      <th>NAME</th>\n",
       "      <th>S0101_C01_001E</th>\n",
       "      <th>S0101_C01_001M</th>\n",
       "      <th>S0101_C02_001E</th>\n",
       "      <th>S0101_C02_001M</th>\n",
       "      <th>S0101_C03_001E</th>\n",
       "      <th>S0101_C03_001M</th>\n",
       "      <th>S0101_C04_001E</th>\n",
       "      <th>S0101_C04_001M</th>\n",
       "      <th>...</th>\n",
       "      <th>S0101_C02_038E</th>\n",
       "      <th>S0101_C02_038M</th>\n",
       "      <th>S0101_C03_038E</th>\n",
       "      <th>S0101_C03_038M</th>\n",
       "      <th>S0101_C04_038E</th>\n",
       "      <th>S0101_C04_038M</th>\n",
       "      <th>S0101_C05_038E</th>\n",
       "      <th>S0101_C05_038M</th>\n",
       "      <th>S0101_C06_038E</th>\n",
       "      <th>S0101_C06_038M</th>\n",
       "    </tr>\n",
       "  </thead>\n",
       "  <tbody>\n",
       "    <tr>\n",
       "      <th>0</th>\n",
       "      <td>id</td>\n",
       "      <td>Geographic Area Name</td>\n",
       "      <td>Estimate!!Total!!Total population</td>\n",
       "      <td>Margin of Error!!Total MOE!!Total population</td>\n",
       "      <td>Estimate!!Percent!!Total population</td>\n",
       "      <td>Margin of Error!!Percent MOE!!Total population</td>\n",
       "      <td>Estimate!!Male!!Total population</td>\n",
       "      <td>Margin of Error!!Male MOE!!Total population</td>\n",
       "      <td>Estimate!!Percent Male!!Total population</td>\n",
       "      <td>Margin of Error!!Percent Male MOE!!Total popul...</td>\n",
       "      <td>...</td>\n",
       "      <td>Estimate!!Percent!!PERCENT ALLOCATED!!Age</td>\n",
       "      <td>Margin of Error!!Percent MOE!!PERCENT ALLOCATE...</td>\n",
       "      <td>Estimate!!Male!!PERCENT ALLOCATED!!Age</td>\n",
       "      <td>Margin of Error!!Male MOE!!PERCENT ALLOCATED!!Age</td>\n",
       "      <td>Estimate!!Percent Male!!PERCENT ALLOCATED!!Age</td>\n",
       "      <td>Margin of Error!!Percent Male MOE!!PERCENT ALL...</td>\n",
       "      <td>Estimate!!Female!!PERCENT ALLOCATED!!Age</td>\n",
       "      <td>Margin of Error!!Female MOE!!PERCENT ALLOCATED...</td>\n",
       "      <td>Estimate!!Percent Female!!PERCENT ALLOCATED!!Age</td>\n",
       "      <td>Margin of Error!!Percent Female MOE!!PERCENT A...</td>\n",
       "    </tr>\n",
       "    <tr>\n",
       "      <th>1</th>\n",
       "      <td>1400000US53001950100</td>\n",
       "      <td>Census Tract 9501, Adams County, Washington</td>\n",
       "      <td>2493</td>\n",
       "      <td>201</td>\n",
       "      <td>(X)</td>\n",
       "      <td>(X)</td>\n",
       "      <td>1289</td>\n",
       "      <td>108</td>\n",
       "      <td>(X)</td>\n",
       "      <td>(X)</td>\n",
       "      <td>...</td>\n",
       "      <td>3.0</td>\n",
       "      <td>(X)</td>\n",
       "      <td>(X)</td>\n",
       "      <td>(X)</td>\n",
       "      <td>(X)</td>\n",
       "      <td>(X)</td>\n",
       "      <td>(X)</td>\n",
       "      <td>(X)</td>\n",
       "      <td>(X)</td>\n",
       "      <td>(X)</td>\n",
       "    </tr>\n",
       "    <tr>\n",
       "      <th>2</th>\n",
       "      <td>1400000US53001950200</td>\n",
       "      <td>Census Tract 9502, Adams County, Washington</td>\n",
       "      <td>1705</td>\n",
       "      <td>159</td>\n",
       "      <td>(X)</td>\n",
       "      <td>(X)</td>\n",
       "      <td>815</td>\n",
       "      <td>83</td>\n",
       "      <td>(X)</td>\n",
       "      <td>(X)</td>\n",
       "      <td>...</td>\n",
       "      <td>0.2</td>\n",
       "      <td>(X)</td>\n",
       "      <td>(X)</td>\n",
       "      <td>(X)</td>\n",
       "      <td>(X)</td>\n",
       "      <td>(X)</td>\n",
       "      <td>(X)</td>\n",
       "      <td>(X)</td>\n",
       "      <td>(X)</td>\n",
       "      <td>(X)</td>\n",
       "    </tr>\n",
       "    <tr>\n",
       "      <th>3</th>\n",
       "      <td>1400000US53001950300</td>\n",
       "      <td>Census Tract 9503, Adams County, Washington</td>\n",
       "      <td>6884</td>\n",
       "      <td>276</td>\n",
       "      <td>(X)</td>\n",
       "      <td>(X)</td>\n",
       "      <td>3430</td>\n",
       "      <td>217</td>\n",
       "      <td>(X)</td>\n",
       "      <td>(X)</td>\n",
       "      <td>...</td>\n",
       "      <td>2.3</td>\n",
       "      <td>(X)</td>\n",
       "      <td>(X)</td>\n",
       "      <td>(X)</td>\n",
       "      <td>(X)</td>\n",
       "      <td>(X)</td>\n",
       "      <td>(X)</td>\n",
       "      <td>(X)</td>\n",
       "      <td>(X)</td>\n",
       "      <td>(X)</td>\n",
       "    </tr>\n",
       "    <tr>\n",
       "      <th>4</th>\n",
       "      <td>1400000US53001950400</td>\n",
       "      <td>Census Tract 9504, Adams County, Washington</td>\n",
       "      <td>3399</td>\n",
       "      <td>342</td>\n",
       "      <td>(X)</td>\n",
       "      <td>(X)</td>\n",
       "      <td>1766</td>\n",
       "      <td>237</td>\n",
       "      <td>(X)</td>\n",
       "      <td>(X)</td>\n",
       "      <td>...</td>\n",
       "      <td>4.1</td>\n",
       "      <td>(X)</td>\n",
       "      <td>(X)</td>\n",
       "      <td>(X)</td>\n",
       "      <td>(X)</td>\n",
       "      <td>(X)</td>\n",
       "      <td>(X)</td>\n",
       "      <td>(X)</td>\n",
       "      <td>(X)</td>\n",
       "      <td>(X)</td>\n",
       "    </tr>\n",
       "  </tbody>\n",
       "</table>\n",
       "<p>5 rows × 458 columns</p>\n",
       "</div>"
      ],
      "text/plain": [
       "                 GEO_ID                                         NAME  \\\n",
       "0                    id                         Geographic Area Name   \n",
       "1  1400000US53001950100  Census Tract 9501, Adams County, Washington   \n",
       "2  1400000US53001950200  Census Tract 9502, Adams County, Washington   \n",
       "3  1400000US53001950300  Census Tract 9503, Adams County, Washington   \n",
       "4  1400000US53001950400  Census Tract 9504, Adams County, Washington   \n",
       "\n",
       "                      S0101_C01_001E  \\\n",
       "0  Estimate!!Total!!Total population   \n",
       "1                               2493   \n",
       "2                               1705   \n",
       "3                               6884   \n",
       "4                               3399   \n",
       "\n",
       "                                 S0101_C01_001M  \\\n",
       "0  Margin of Error!!Total MOE!!Total population   \n",
       "1                                           201   \n",
       "2                                           159   \n",
       "3                                           276   \n",
       "4                                           342   \n",
       "\n",
       "                        S0101_C02_001E  \\\n",
       "0  Estimate!!Percent!!Total population   \n",
       "1                                  (X)   \n",
       "2                                  (X)   \n",
       "3                                  (X)   \n",
       "4                                  (X)   \n",
       "\n",
       "                                   S0101_C02_001M  \\\n",
       "0  Margin of Error!!Percent MOE!!Total population   \n",
       "1                                             (X)   \n",
       "2                                             (X)   \n",
       "3                                             (X)   \n",
       "4                                             (X)   \n",
       "\n",
       "                     S0101_C03_001E  \\\n",
       "0  Estimate!!Male!!Total population   \n",
       "1                              1289   \n",
       "2                               815   \n",
       "3                              3430   \n",
       "4                              1766   \n",
       "\n",
       "                                S0101_C03_001M  \\\n",
       "0  Margin of Error!!Male MOE!!Total population   \n",
       "1                                          108   \n",
       "2                                           83   \n",
       "3                                          217   \n",
       "4                                          237   \n",
       "\n",
       "                             S0101_C04_001E  \\\n",
       "0  Estimate!!Percent Male!!Total population   \n",
       "1                                       (X)   \n",
       "2                                       (X)   \n",
       "3                                       (X)   \n",
       "4                                       (X)   \n",
       "\n",
       "                                      S0101_C04_001M  ...  \\\n",
       "0  Margin of Error!!Percent Male MOE!!Total popul...  ...   \n",
       "1                                                (X)  ...   \n",
       "2                                                (X)  ...   \n",
       "3                                                (X)  ...   \n",
       "4                                                (X)  ...   \n",
       "\n",
       "                              S0101_C02_038E  \\\n",
       "0  Estimate!!Percent!!PERCENT ALLOCATED!!Age   \n",
       "1                                        3.0   \n",
       "2                                        0.2   \n",
       "3                                        2.3   \n",
       "4                                        4.1   \n",
       "\n",
       "                                      S0101_C02_038M  \\\n",
       "0  Margin of Error!!Percent MOE!!PERCENT ALLOCATE...   \n",
       "1                                                (X)   \n",
       "2                                                (X)   \n",
       "3                                                (X)   \n",
       "4                                                (X)   \n",
       "\n",
       "                           S0101_C03_038E  \\\n",
       "0  Estimate!!Male!!PERCENT ALLOCATED!!Age   \n",
       "1                                     (X)   \n",
       "2                                     (X)   \n",
       "3                                     (X)   \n",
       "4                                     (X)   \n",
       "\n",
       "                                      S0101_C03_038M  \\\n",
       "0  Margin of Error!!Male MOE!!PERCENT ALLOCATED!!Age   \n",
       "1                                                (X)   \n",
       "2                                                (X)   \n",
       "3                                                (X)   \n",
       "4                                                (X)   \n",
       "\n",
       "                                   S0101_C04_038E  \\\n",
       "0  Estimate!!Percent Male!!PERCENT ALLOCATED!!Age   \n",
       "1                                             (X)   \n",
       "2                                             (X)   \n",
       "3                                             (X)   \n",
       "4                                             (X)   \n",
       "\n",
       "                                      S0101_C04_038M  \\\n",
       "0  Margin of Error!!Percent Male MOE!!PERCENT ALL...   \n",
       "1                                                (X)   \n",
       "2                                                (X)   \n",
       "3                                                (X)   \n",
       "4                                                (X)   \n",
       "\n",
       "                             S0101_C05_038E  \\\n",
       "0  Estimate!!Female!!PERCENT ALLOCATED!!Age   \n",
       "1                                       (X)   \n",
       "2                                       (X)   \n",
       "3                                       (X)   \n",
       "4                                       (X)   \n",
       "\n",
       "                                      S0101_C05_038M  \\\n",
       "0  Margin of Error!!Female MOE!!PERCENT ALLOCATED...   \n",
       "1                                                (X)   \n",
       "2                                                (X)   \n",
       "3                                                (X)   \n",
       "4                                                (X)   \n",
       "\n",
       "                                     S0101_C06_038E  \\\n",
       "0  Estimate!!Percent Female!!PERCENT ALLOCATED!!Age   \n",
       "1                                               (X)   \n",
       "2                                               (X)   \n",
       "3                                               (X)   \n",
       "4                                               (X)   \n",
       "\n",
       "                                      S0101_C06_038M  \n",
       "0  Margin of Error!!Percent Female MOE!!PERCENT A...  \n",
       "1                                                (X)  \n",
       "2                                                (X)  \n",
       "3                                                (X)  \n",
       "4                                                (X)  \n",
       "\n",
       "[5 rows x 458 columns]"
      ]
     },
     "execution_count": 14,
     "metadata": {},
     "output_type": "execute_result"
    }
   ],
   "source": [
    "acs.head()"
   ]
  },
  {
   "cell_type": "code",
   "execution_count": 15,
   "metadata": {
    "scrolled": true
   },
   "outputs": [
    {
     "data": {
      "text/html": [
       "<div>\n",
       "<style scoped>\n",
       "    .dataframe tbody tr th:only-of-type {\n",
       "        vertical-align: middle;\n",
       "    }\n",
       "\n",
       "    .dataframe tbody tr th {\n",
       "        vertical-align: top;\n",
       "    }\n",
       "\n",
       "    .dataframe thead th {\n",
       "        text-align: right;\n",
       "    }\n",
       "</style>\n",
       "<table border=\"1\" class=\"dataframe\">\n",
       "  <thead>\n",
       "    <tr style=\"text-align: right;\">\n",
       "      <th></th>\n",
       "      <th>GEO_ID</th>\n",
       "      <th>id</th>\n",
       "      <th>Unnamed: 2</th>\n",
       "    </tr>\n",
       "  </thead>\n",
       "  <tbody>\n",
       "    <tr>\n",
       "      <th>0</th>\n",
       "      <td>NAME</td>\n",
       "      <td>Geographic Area Name</td>\n",
       "      <td>NaN</td>\n",
       "    </tr>\n",
       "    <tr>\n",
       "      <th>1</th>\n",
       "      <td>S0101_C01_001E</td>\n",
       "      <td>Estimate!!Total!!Total population</td>\n",
       "      <td>NaN</td>\n",
       "    </tr>\n",
       "    <tr>\n",
       "      <th>2</th>\n",
       "      <td>S0101_C01_001M</td>\n",
       "      <td>Margin of Error!!Total MOE!!Total population</td>\n",
       "      <td>NaN</td>\n",
       "    </tr>\n",
       "    <tr>\n",
       "      <th>3</th>\n",
       "      <td>S0101_C01_002E</td>\n",
       "      <td>Estimate!!Total!!Total population!!AGE!!Under ...</td>\n",
       "      <td>NaN</td>\n",
       "    </tr>\n",
       "    <tr>\n",
       "      <th>4</th>\n",
       "      <td>S0101_C01_002M</td>\n",
       "      <td>Margin of Error!!Total MOE!!Total population!!...</td>\n",
       "      <td>NaN</td>\n",
       "    </tr>\n",
       "  </tbody>\n",
       "</table>\n",
       "</div>"
      ],
      "text/plain": [
       "           GEO_ID                                                 id  \\\n",
       "0            NAME                               Geographic Area Name   \n",
       "1  S0101_C01_001E                  Estimate!!Total!!Total population   \n",
       "2  S0101_C01_001M       Margin of Error!!Total MOE!!Total population   \n",
       "3  S0101_C01_002E  Estimate!!Total!!Total population!!AGE!!Under ...   \n",
       "4  S0101_C01_002M  Margin of Error!!Total MOE!!Total population!!...   \n",
       "\n",
       "   Unnamed: 2  \n",
       "0         NaN  \n",
       "1         NaN  \n",
       "2         NaN  \n",
       "3         NaN  \n",
       "4         NaN  "
      ]
     },
     "execution_count": 15,
     "metadata": {},
     "output_type": "execute_result"
    }
   ],
   "source": [
    "metadata.head()"
   ]
  },
  {
   "cell_type": "code",
   "execution_count": 124,
   "metadata": {},
   "outputs": [],
   "source": [
    "age_vars = metadata[(metadata.id=='Estimate!!Total!!Total population') | (metadata.id.str.contains('Estimate!!Total!!Total population!!AGE!!'))].GEO_ID.tolist()"
   ]
  },
  {
   "cell_type": "code",
   "execution_count": 132,
   "metadata": {},
   "outputs": [],
   "source": [
    "# subset to vars of interest\n",
    "acs_age = acs[['GEO_ID','NAME'] + age_vars]"
   ]
  },
  {
   "cell_type": "code",
   "execution_count": 133,
   "metadata": {},
   "outputs": [
    {
     "name": "stderr",
     "output_type": "stream",
     "text": [
      "/share/code/beatrixh/miniconda/envs/gis/lib/python3.6/site-packages/ipykernel_launcher.py:1: SettingWithCopyWarning: \n",
      "A value is trying to be set on a copy of a slice from a DataFrame.\n",
      "Try using .loc[row_indexer,col_indexer] = value instead\n",
      "\n",
      "See the caveats in the documentation: https://pandas.pydata.org/pandas-docs/stable/user_guide/indexing.html#returning-a-view-versus-a-copy\n",
      "  \"\"\"Entry point for launching an IPython kernel.\n"
     ]
    }
   ],
   "source": [
    "acs_age['GEO_ID'] = acs_age.GEO_ID.str[9:]"
   ]
  },
  {
   "cell_type": "code",
   "execution_count": 134,
   "metadata": {},
   "outputs": [],
   "source": [
    "# rename vars\n",
    "new_labs = ['total_pop'] + ['age_' + str(i) + '_' + str(i+4) for i in np.arange(0,81,5)] + ['age_85_plus']\n",
    "\n",
    "renaming = {}\n",
    "for i in np.arange(len(acs_age.columns[2:])):\n",
    "    renaming[acs_age.columns[2:][i]] = new_labs[i]\n",
    "    \n",
    "renaming['GEO_ID'] = 'tract_geoid'"
   ]
  },
  {
   "cell_type": "code",
   "execution_count": 135,
   "metadata": {},
   "outputs": [],
   "source": [
    "acs_age = acs_age.iloc[1:].rename(columns=renaming)"
   ]
  },
  {
   "cell_type": "code",
   "execution_count": 234,
   "metadata": {},
   "outputs": [],
   "source": [
    "#subset to king county\n",
    "\n",
    "acs_age = acs_age[acs_age.tract_geoid.str[:5]=='53033']"
   ]
  },
  {
   "cell_type": "markdown",
   "metadata": {},
   "source": [
    "## read in decennial data"
   ]
  },
  {
   "cell_type": "code",
   "execution_count": 212,
   "metadata": {},
   "outputs": [],
   "source": [
    "decennial = pd.read_csv('/home/j/Project/simulation_science/covid/data/census_data/2020_05_14_king_county_population_distribution_2010.csv')"
   ]
  },
  {
   "cell_type": "code",
   "execution_count": 213,
   "metadata": {},
   "outputs": [
    {
     "data": {
      "text/html": [
       "<div>\n",
       "<style scoped>\n",
       "    .dataframe tbody tr th:only-of-type {\n",
       "        vertical-align: middle;\n",
       "    }\n",
       "\n",
       "    .dataframe tbody tr th {\n",
       "        vertical-align: top;\n",
       "    }\n",
       "\n",
       "    .dataframe thead th {\n",
       "        text-align: right;\n",
       "    }\n",
       "</style>\n",
       "<table border=\"1\" class=\"dataframe\">\n",
       "  <thead>\n",
       "    <tr style=\"text-align: right;\">\n",
       "      <th></th>\n",
       "      <th>total_pop</th>\n",
       "      <th>m_total</th>\n",
       "      <th>m_0_4</th>\n",
       "      <th>m_5_9</th>\n",
       "      <th>m_10_14</th>\n",
       "      <th>m_15_17</th>\n",
       "      <th>m_18_19</th>\n",
       "      <th>m_20</th>\n",
       "      <th>m_21</th>\n",
       "      <th>m_22_24</th>\n",
       "      <th>...</th>\n",
       "      <th>f_80_84</th>\n",
       "      <th>f_85_plus</th>\n",
       "      <th>state</th>\n",
       "      <th>county</th>\n",
       "      <th>tract</th>\n",
       "      <th>blkgrp</th>\n",
       "      <th>block</th>\n",
       "      <th>geoid</th>\n",
       "      <th>area</th>\n",
       "      <th>pop_density</th>\n",
       "    </tr>\n",
       "  </thead>\n",
       "  <tbody>\n",
       "    <tr>\n",
       "      <th>0</th>\n",
       "      <td>0</td>\n",
       "      <td>0</td>\n",
       "      <td>0</td>\n",
       "      <td>0</td>\n",
       "      <td>0</td>\n",
       "      <td>0</td>\n",
       "      <td>0</td>\n",
       "      <td>0</td>\n",
       "      <td>0</td>\n",
       "      <td>0</td>\n",
       "      <td>...</td>\n",
       "      <td>0</td>\n",
       "      <td>0</td>\n",
       "      <td>53</td>\n",
       "      <td>33</td>\n",
       "      <td>31202</td>\n",
       "      <td>1</td>\n",
       "      <td>1014</td>\n",
       "      <td>530330312021014</td>\n",
       "      <td>0.033603</td>\n",
       "      <td>0.000000</td>\n",
       "    </tr>\n",
       "    <tr>\n",
       "      <th>1</th>\n",
       "      <td>309</td>\n",
       "      <td>158</td>\n",
       "      <td>7</td>\n",
       "      <td>11</td>\n",
       "      <td>14</td>\n",
       "      <td>16</td>\n",
       "      <td>3</td>\n",
       "      <td>2</td>\n",
       "      <td>2</td>\n",
       "      <td>6</td>\n",
       "      <td>...</td>\n",
       "      <td>1</td>\n",
       "      <td>2</td>\n",
       "      <td>53</td>\n",
       "      <td>33</td>\n",
       "      <td>31202</td>\n",
       "      <td>1</td>\n",
       "      <td>1017</td>\n",
       "      <td>530330312021017</td>\n",
       "      <td>2.149353</td>\n",
       "      <td>143.764175</td>\n",
       "    </tr>\n",
       "    <tr>\n",
       "      <th>2</th>\n",
       "      <td>6</td>\n",
       "      <td>2</td>\n",
       "      <td>0</td>\n",
       "      <td>0</td>\n",
       "      <td>0</td>\n",
       "      <td>0</td>\n",
       "      <td>0</td>\n",
       "      <td>0</td>\n",
       "      <td>0</td>\n",
       "      <td>0</td>\n",
       "      <td>...</td>\n",
       "      <td>0</td>\n",
       "      <td>0</td>\n",
       "      <td>53</td>\n",
       "      <td>33</td>\n",
       "      <td>31202</td>\n",
       "      <td>1</td>\n",
       "      <td>1018</td>\n",
       "      <td>530330312021018</td>\n",
       "      <td>0.005844</td>\n",
       "      <td>1026.702491</td>\n",
       "    </tr>\n",
       "    <tr>\n",
       "      <th>3</th>\n",
       "      <td>0</td>\n",
       "      <td>0</td>\n",
       "      <td>0</td>\n",
       "      <td>0</td>\n",
       "      <td>0</td>\n",
       "      <td>0</td>\n",
       "      <td>0</td>\n",
       "      <td>0</td>\n",
       "      <td>0</td>\n",
       "      <td>0</td>\n",
       "      <td>...</td>\n",
       "      <td>0</td>\n",
       "      <td>0</td>\n",
       "      <td>53</td>\n",
       "      <td>33</td>\n",
       "      <td>31202</td>\n",
       "      <td>2</td>\n",
       "      <td>2000</td>\n",
       "      <td>530330312022000</td>\n",
       "      <td>0.123027</td>\n",
       "      <td>0.000000</td>\n",
       "    </tr>\n",
       "    <tr>\n",
       "      <th>4</th>\n",
       "      <td>97</td>\n",
       "      <td>50</td>\n",
       "      <td>0</td>\n",
       "      <td>0</td>\n",
       "      <td>1</td>\n",
       "      <td>25</td>\n",
       "      <td>13</td>\n",
       "      <td>1</td>\n",
       "      <td>0</td>\n",
       "      <td>0</td>\n",
       "      <td>...</td>\n",
       "      <td>0</td>\n",
       "      <td>1</td>\n",
       "      <td>53</td>\n",
       "      <td>33</td>\n",
       "      <td>31202</td>\n",
       "      <td>2</td>\n",
       "      <td>2001</td>\n",
       "      <td>530330312022001</td>\n",
       "      <td>0.268237</td>\n",
       "      <td>361.620856</td>\n",
       "    </tr>\n",
       "  </tbody>\n",
       "</table>\n",
       "<p>5 rows × 57 columns</p>\n",
       "</div>"
      ],
      "text/plain": [
       "   total_pop  m_total  m_0_4  m_5_9  m_10_14  m_15_17  m_18_19  m_20  m_21  \\\n",
       "0          0        0      0      0        0        0        0     0     0   \n",
       "1        309      158      7     11       14       16        3     2     2   \n",
       "2          6        2      0      0        0        0        0     0     0   \n",
       "3          0        0      0      0        0        0        0     0     0   \n",
       "4         97       50      0      0        1       25       13     1     0   \n",
       "\n",
       "   m_22_24  ...  f_80_84  f_85_plus  state  county  tract  blkgrp  block  \\\n",
       "0        0  ...        0          0     53      33  31202       1   1014   \n",
       "1        6  ...        1          2     53      33  31202       1   1017   \n",
       "2        0  ...        0          0     53      33  31202       1   1018   \n",
       "3        0  ...        0          0     53      33  31202       2   2000   \n",
       "4        0  ...        0          1     53      33  31202       2   2001   \n",
       "\n",
       "             geoid      area  pop_density  \n",
       "0  530330312021014  0.033603     0.000000  \n",
       "1  530330312021017  2.149353   143.764175  \n",
       "2  530330312021018  0.005844  1026.702491  \n",
       "3  530330312022000  0.123027     0.000000  \n",
       "4  530330312022001  0.268237   361.620856  \n",
       "\n",
       "[5 rows x 57 columns]"
      ]
     },
     "execution_count": 213,
     "metadata": {},
     "output_type": "execute_result"
    }
   ],
   "source": [
    "decennial.head()"
   ]
  },
  {
   "cell_type": "code",
   "execution_count": 214,
   "metadata": {},
   "outputs": [],
   "source": [
    "decennial['m_15_19'] = decennial[['m_15_17','m_18_19']].sum(axis=1)\n",
    "decennial['f_15_19'] = decennial[['f_15_17','f_18_19']].sum(axis=1)\n",
    "\n",
    "decennial['m_20_24'] = decennial[['m_20','m_21','m_22_24']].sum(axis=1)\n",
    "decennial['f_20_24'] = decennial[['f_20','f_21','f_22_24']].sum(axis=1)\n",
    "\n",
    "decennial['m_60_64'] = decennial[['m_60_61', 'm_62_64']].sum(axis=1)\n",
    "decennial['f_60_64'] = decennial[['f_60_61', 'f_62_64']].sum(axis=1)\n",
    "\n",
    "decennial['m_65_69'] = decennial[['m_65_66', 'm_67_69']].sum(axis=1)\n",
    "decennial['f_65_69'] = decennial[['f_65_66', 'f_67_69']].sum(axis=1)"
   ]
  },
  {
   "cell_type": "code",
   "execution_count": 215,
   "metadata": {},
   "outputs": [],
   "source": [
    "decennial = decennial.drop(columns=['m_15_17','m_18_19','f_15_17','f_18_19',\n",
    "                                    'm_20','m_21','m_22_24','f_20','f_21','f_22_24',\n",
    "                                    'm_60_61', 'm_62_64','f_60_61', 'f_62_64',\n",
    "                                    'm_65_66', 'm_67_69','f_65_66', 'f_67_69'])"
   ]
  },
  {
   "cell_type": "code",
   "execution_count": 216,
   "metadata": {},
   "outputs": [],
   "source": [
    "endings =  [str(i) + '_' + str(i+4) for i in np.arange(0,81,5)] + ['85_plus']\n",
    "\n",
    "for i in endings:\n",
    "    var = 'age_' + i\n",
    "    decennial[var] = decennial.loc[:,decennial.columns.str.endswith(i)].sum(axis=1)"
   ]
  },
  {
   "cell_type": "code",
   "execution_count": 217,
   "metadata": {},
   "outputs": [],
   "source": [
    "decennial['tract_geoid'] = decennial.geoid.astype(str).str[:11]\n",
    "decennial = decennial.groupby('tract_geoid').sum()"
   ]
  },
  {
   "cell_type": "code",
   "execution_count": 220,
   "metadata": {},
   "outputs": [],
   "source": [
    "decennial.reset_index(inplace=True)"
   ]
  },
  {
   "cell_type": "code",
   "execution_count": 248,
   "metadata": {
    "scrolled": true
   },
   "outputs": [],
   "source": [
    "decennial = decennial[['tract_geoid','total_pop'] + ['age_' + str(i) + '_' + str(i+4) for i in np.arange(0,81,5)] + ['age_85_plus']]"
   ]
  },
  {
   "cell_type": "code",
   "execution_count": 249,
   "metadata": {},
   "outputs": [
    {
     "data": {
      "text/html": [
       "<div>\n",
       "<style scoped>\n",
       "    .dataframe tbody tr th:only-of-type {\n",
       "        vertical-align: middle;\n",
       "    }\n",
       "\n",
       "    .dataframe tbody tr th {\n",
       "        vertical-align: top;\n",
       "    }\n",
       "\n",
       "    .dataframe thead th {\n",
       "        text-align: right;\n",
       "    }\n",
       "</style>\n",
       "<table border=\"1\" class=\"dataframe\">\n",
       "  <thead>\n",
       "    <tr style=\"text-align: right;\">\n",
       "      <th></th>\n",
       "      <th>tract_geoid</th>\n",
       "      <th>total_pop</th>\n",
       "      <th>age_0_4</th>\n",
       "      <th>age_5_9</th>\n",
       "      <th>age_10_14</th>\n",
       "      <th>age_15_19</th>\n",
       "      <th>age_20_24</th>\n",
       "      <th>age_25_29</th>\n",
       "      <th>age_30_34</th>\n",
       "      <th>age_35_39</th>\n",
       "      <th>age_40_44</th>\n",
       "      <th>age_45_49</th>\n",
       "      <th>age_50_54</th>\n",
       "      <th>age_55_59</th>\n",
       "      <th>age_60_64</th>\n",
       "      <th>age_65_69</th>\n",
       "      <th>age_70_74</th>\n",
       "      <th>age_75_79</th>\n",
       "      <th>age_80_84</th>\n",
       "      <th>age_85_plus</th>\n",
       "    </tr>\n",
       "  </thead>\n",
       "  <tbody>\n",
       "    <tr>\n",
       "      <th>0</th>\n",
       "      <td>53033000100</td>\n",
       "      <td>6255</td>\n",
       "      <td>362</td>\n",
       "      <td>287</td>\n",
       "      <td>227</td>\n",
       "      <td>324</td>\n",
       "      <td>624</td>\n",
       "      <td>667</td>\n",
       "      <td>527</td>\n",
       "      <td>464</td>\n",
       "      <td>408</td>\n",
       "      <td>431</td>\n",
       "      <td>449</td>\n",
       "      <td>439</td>\n",
       "      <td>372</td>\n",
       "      <td>223</td>\n",
       "      <td>147</td>\n",
       "      <td>101</td>\n",
       "      <td>97</td>\n",
       "      <td>106</td>\n",
       "    </tr>\n",
       "    <tr>\n",
       "      <th>1</th>\n",
       "      <td>53033000200</td>\n",
       "      <td>7646</td>\n",
       "      <td>423</td>\n",
       "      <td>319</td>\n",
       "      <td>289</td>\n",
       "      <td>335</td>\n",
       "      <td>570</td>\n",
       "      <td>728</td>\n",
       "      <td>695</td>\n",
       "      <td>607</td>\n",
       "      <td>574</td>\n",
       "      <td>499</td>\n",
       "      <td>570</td>\n",
       "      <td>536</td>\n",
       "      <td>437</td>\n",
       "      <td>293</td>\n",
       "      <td>203</td>\n",
       "      <td>191</td>\n",
       "      <td>190</td>\n",
       "      <td>187</td>\n",
       "    </tr>\n",
       "    <tr>\n",
       "      <th>2</th>\n",
       "      <td>53033000300</td>\n",
       "      <td>2603</td>\n",
       "      <td>176</td>\n",
       "      <td>125</td>\n",
       "      <td>117</td>\n",
       "      <td>112</td>\n",
       "      <td>158</td>\n",
       "      <td>217</td>\n",
       "      <td>244</td>\n",
       "      <td>225</td>\n",
       "      <td>199</td>\n",
       "      <td>207</td>\n",
       "      <td>214</td>\n",
       "      <td>202</td>\n",
       "      <td>136</td>\n",
       "      <td>95</td>\n",
       "      <td>74</td>\n",
       "      <td>45</td>\n",
       "      <td>40</td>\n",
       "      <td>17</td>\n",
       "    </tr>\n",
       "    <tr>\n",
       "      <th>3</th>\n",
       "      <td>53033000401</td>\n",
       "      <td>5551</td>\n",
       "      <td>260</td>\n",
       "      <td>179</td>\n",
       "      <td>160</td>\n",
       "      <td>246</td>\n",
       "      <td>508</td>\n",
       "      <td>627</td>\n",
       "      <td>406</td>\n",
       "      <td>348</td>\n",
       "      <td>344</td>\n",
       "      <td>315</td>\n",
       "      <td>330</td>\n",
       "      <td>326</td>\n",
       "      <td>359</td>\n",
       "      <td>307</td>\n",
       "      <td>209</td>\n",
       "      <td>200</td>\n",
       "      <td>224</td>\n",
       "      <td>203</td>\n",
       "    </tr>\n",
       "    <tr>\n",
       "      <th>4</th>\n",
       "      <td>53033000402</td>\n",
       "      <td>4841</td>\n",
       "      <td>243</td>\n",
       "      <td>184</td>\n",
       "      <td>145</td>\n",
       "      <td>168</td>\n",
       "      <td>255</td>\n",
       "      <td>382</td>\n",
       "      <td>363</td>\n",
       "      <td>354</td>\n",
       "      <td>329</td>\n",
       "      <td>315</td>\n",
       "      <td>318</td>\n",
       "      <td>316</td>\n",
       "      <td>230</td>\n",
       "      <td>150</td>\n",
       "      <td>114</td>\n",
       "      <td>109</td>\n",
       "      <td>237</td>\n",
       "      <td>629</td>\n",
       "    </tr>\n",
       "  </tbody>\n",
       "</table>\n",
       "</div>"
      ],
      "text/plain": [
       "   tract_geoid  total_pop  age_0_4  age_5_9  age_10_14  age_15_19  age_20_24  \\\n",
       "0  53033000100       6255      362      287        227        324        624   \n",
       "1  53033000200       7646      423      319        289        335        570   \n",
       "2  53033000300       2603      176      125        117        112        158   \n",
       "3  53033000401       5551      260      179        160        246        508   \n",
       "4  53033000402       4841      243      184        145        168        255   \n",
       "\n",
       "   age_25_29  age_30_34  age_35_39  age_40_44  age_45_49  age_50_54  \\\n",
       "0        667        527        464        408        431        449   \n",
       "1        728        695        607        574        499        570   \n",
       "2        217        244        225        199        207        214   \n",
       "3        627        406        348        344        315        330   \n",
       "4        382        363        354        329        315        318   \n",
       "\n",
       "   age_55_59  age_60_64  age_65_69  age_70_74  age_75_79  age_80_84  \\\n",
       "0        439        372        223        147        101         97   \n",
       "1        536        437        293        203        191        190   \n",
       "2        202        136         95         74         45         40   \n",
       "3        326        359        307        209        200        224   \n",
       "4        316        230        150        114        109        237   \n",
       "\n",
       "   age_85_plus  \n",
       "0          106  \n",
       "1          187  \n",
       "2           17  \n",
       "3          203  \n",
       "4          629  "
      ]
     },
     "execution_count": 249,
     "metadata": {},
     "output_type": "execute_result"
    }
   ],
   "source": [
    "decennial.head()"
   ]
  },
  {
   "cell_type": "code",
   "execution_count": 250,
   "metadata": {},
   "outputs": [],
   "source": [
    "decennial_long = decennial.melt(id_vars='tract_geoid', value_vars = decennial.iloc[:,1:].columns.tolist(), value_name='decennial')\n",
    "acs_long = acs_age.melt(id_vars='tract_geoid', value_vars = acs_age.iloc[:,2:].columns.tolist(), value_name='acs')"
   ]
  },
  {
   "cell_type": "code",
   "execution_count": 256,
   "metadata": {},
   "outputs": [],
   "source": [
    "df_long = acs_long.merge(decennial_long, on = ['tract_geoid','variable'])"
   ]
  },
  {
   "cell_type": "code",
   "execution_count": 281,
   "metadata": {},
   "outputs": [
    {
     "data": {
      "text/html": [
       "<div>\n",
       "<style scoped>\n",
       "    .dataframe tbody tr th:only-of-type {\n",
       "        vertical-align: middle;\n",
       "    }\n",
       "\n",
       "    .dataframe tbody tr th {\n",
       "        vertical-align: top;\n",
       "    }\n",
       "\n",
       "    .dataframe thead th {\n",
       "        text-align: right;\n",
       "    }\n",
       "</style>\n",
       "<table border=\"1\" class=\"dataframe\">\n",
       "  <thead>\n",
       "    <tr style=\"text-align: right;\">\n",
       "      <th></th>\n",
       "      <th>tract_geoid</th>\n",
       "      <th>variable</th>\n",
       "      <th>acs</th>\n",
       "      <th>decennial</th>\n",
       "    </tr>\n",
       "  </thead>\n",
       "  <tbody>\n",
       "    <tr>\n",
       "      <th>0</th>\n",
       "      <td>53033000100</td>\n",
       "      <td>total_pop</td>\n",
       "      <td>7985</td>\n",
       "      <td>6255</td>\n",
       "    </tr>\n",
       "    <tr>\n",
       "      <th>1</th>\n",
       "      <td>53033000200</td>\n",
       "      <td>total_pop</td>\n",
       "      <td>8498</td>\n",
       "      <td>7646</td>\n",
       "    </tr>\n",
       "    <tr>\n",
       "      <th>2</th>\n",
       "      <td>53033000300</td>\n",
       "      <td>total_pop</td>\n",
       "      <td>2991</td>\n",
       "      <td>2603</td>\n",
       "    </tr>\n",
       "    <tr>\n",
       "      <th>3</th>\n",
       "      <td>53033000401</td>\n",
       "      <td>total_pop</td>\n",
       "      <td>6560</td>\n",
       "      <td>5551</td>\n",
       "    </tr>\n",
       "    <tr>\n",
       "      <th>4</th>\n",
       "      <td>53033000402</td>\n",
       "      <td>total_pop</td>\n",
       "      <td>5419</td>\n",
       "      <td>4841</td>\n",
       "    </tr>\n",
       "  </tbody>\n",
       "</table>\n",
       "</div>"
      ],
      "text/plain": [
       "   tract_geoid   variable   acs  decennial\n",
       "0  53033000100  total_pop  7985       6255\n",
       "1  53033000200  total_pop  8498       7646\n",
       "2  53033000300  total_pop  2991       2603\n",
       "3  53033000401  total_pop  6560       5551\n",
       "4  53033000402  total_pop  5419       4841"
      ]
     },
     "execution_count": 281,
     "metadata": {},
     "output_type": "execute_result"
    }
   ],
   "source": [
    "df_long.head()"
   ]
  },
  {
   "cell_type": "code",
   "execution_count": 285,
   "metadata": {},
   "outputs": [],
   "source": [
    "df_long.acs = df_long.acs.astype(np.int64)"
   ]
  },
  {
   "cell_type": "code",
   "execution_count": 286,
   "metadata": {},
   "outputs": [],
   "source": [
    "df_long['pct_change'] = df_long['acs'] / df_long['decennial']\n",
    "df_long['abs_change'] = df_long['acs'] - df_long['decennial']"
   ]
  },
  {
   "cell_type": "code",
   "execution_count": 321,
   "metadata": {},
   "outputs": [
    {
     "data": {
      "text/html": [
       "<div>\n",
       "<style scoped>\n",
       "    .dataframe tbody tr th:only-of-type {\n",
       "        vertical-align: middle;\n",
       "    }\n",
       "\n",
       "    .dataframe tbody tr th {\n",
       "        vertical-align: top;\n",
       "    }\n",
       "\n",
       "    .dataframe thead th {\n",
       "        text-align: right;\n",
       "    }\n",
       "</style>\n",
       "<table border=\"1\" class=\"dataframe\">\n",
       "  <thead>\n",
       "    <tr style=\"text-align: right;\">\n",
       "      <th></th>\n",
       "      <th>tract_geoid</th>\n",
       "      <th>variable</th>\n",
       "      <th>acs</th>\n",
       "      <th>decennial</th>\n",
       "      <th>pct_change</th>\n",
       "      <th>abs_change</th>\n",
       "    </tr>\n",
       "  </thead>\n",
       "  <tbody>\n",
       "    <tr>\n",
       "      <th>0</th>\n",
       "      <td>53033000100</td>\n",
       "      <td>total_pop</td>\n",
       "      <td>7985</td>\n",
       "      <td>6255</td>\n",
       "      <td>1.276579</td>\n",
       "      <td>1730</td>\n",
       "    </tr>\n",
       "    <tr>\n",
       "      <th>1</th>\n",
       "      <td>53033000200</td>\n",
       "      <td>total_pop</td>\n",
       "      <td>8498</td>\n",
       "      <td>7646</td>\n",
       "      <td>1.111431</td>\n",
       "      <td>852</td>\n",
       "    </tr>\n",
       "    <tr>\n",
       "      <th>2</th>\n",
       "      <td>53033000300</td>\n",
       "      <td>total_pop</td>\n",
       "      <td>2991</td>\n",
       "      <td>2603</td>\n",
       "      <td>1.149059</td>\n",
       "      <td>388</td>\n",
       "    </tr>\n",
       "    <tr>\n",
       "      <th>3</th>\n",
       "      <td>53033000401</td>\n",
       "      <td>total_pop</td>\n",
       "      <td>6560</td>\n",
       "      <td>5551</td>\n",
       "      <td>1.181769</td>\n",
       "      <td>1009</td>\n",
       "    </tr>\n",
       "    <tr>\n",
       "      <th>4</th>\n",
       "      <td>53033000402</td>\n",
       "      <td>total_pop</td>\n",
       "      <td>5419</td>\n",
       "      <td>4841</td>\n",
       "      <td>1.119397</td>\n",
       "      <td>578</td>\n",
       "    </tr>\n",
       "  </tbody>\n",
       "</table>\n",
       "</div>"
      ],
      "text/plain": [
       "   tract_geoid   variable   acs  decennial  pct_change  abs_change\n",
       "0  53033000100  total_pop  7985       6255    1.276579        1730\n",
       "1  53033000200  total_pop  8498       7646    1.111431         852\n",
       "2  53033000300  total_pop  2991       2603    1.149059         388\n",
       "3  53033000401  total_pop  6560       5551    1.181769        1009\n",
       "4  53033000402  total_pop  5419       4841    1.119397         578"
      ]
     },
     "execution_count": 321,
     "metadata": {},
     "output_type": "execute_result"
    }
   ],
   "source": [
    "df_long.head()"
   ]
  },
  {
   "cell_type": "code",
   "execution_count": 322,
   "metadata": {},
   "outputs": [],
   "source": [
    "df_long.to_csv('/home/j/Project/simulation_science/covid/data/census_data/2020_05_14_king_county_population_change_2010-2018.csv', index = False)"
   ]
  },
  {
   "cell_type": "markdown",
   "metadata": {},
   "source": [
    "## viz results"
   ]
  },
  {
   "cell_type": "code",
   "execution_count": 287,
   "metadata": {},
   "outputs": [],
   "source": [
    "shapes = gpd.read_file('/home/j/temp/beatrixh/sim_science/census_GIS/tl_2018_53_tract/tl_2018_53_tract.shp')"
   ]
  },
  {
   "cell_type": "code",
   "execution_count": 288,
   "metadata": {},
   "outputs": [],
   "source": [
    "# subset to king county\n",
    "shapes = shapes[shapes.COUNTYFP=='033']"
   ]
  },
  {
   "cell_type": "code",
   "execution_count": 289,
   "metadata": {},
   "outputs": [
    {
     "name": "stderr",
     "output_type": "stream",
     "text": [
      "/share/code/beatrixh/miniconda/envs/gis/lib/python3.6/site-packages/ipykernel_launcher.py:5: SettingWithCopyWarning: \n",
      "A value is trying to be set on a copy of a slice from a DataFrame.\n",
      "Try using .loc[row_indexer,col_indexer] = value instead\n",
      "\n",
      "See the caveats in the documentation: https://pandas.pydata.org/pandas-docs/stable/user_guide/indexing.html#returning-a-view-versus-a-copy\n",
      "  \"\"\"\n"
     ]
    }
   ],
   "source": [
    "shapes['key'] = shapes.GEOID.astype(int)\n",
    "shapes = shapes.sort_values(by='key')\n",
    "\n",
    "df_total_pop = df_long[df_long.variable=='total_pop']\n",
    "df_total_pop['key'] = df_total_pop.tract_geoid.astype(int)\n",
    "df_total_pop = df_total_pop.sort_values(by='key')"
   ]
  },
  {
   "cell_type": "code",
   "execution_count": 306,
   "metadata": {},
   "outputs": [
    {
     "data": {
      "text/plain": [
       "0      1.276579\n",
       "1      1.111431\n",
       "2      1.149059\n",
       "3      1.181769\n",
       "4      1.119397\n",
       "         ...   \n",
       "393    1.026738\n",
       "394    1.131188\n",
       "395    1.172431\n",
       "396    0.823220\n",
       "397         NaN\n",
       "Name: pct_change, Length: 398, dtype: float64"
      ]
     },
     "execution_count": 306,
     "metadata": {},
     "output_type": "execute_result"
    }
   ],
   "source": [
    "df_total_pop['pct_change'].astype(float)"
   ]
  },
  {
   "cell_type": "code",
   "execution_count": 307,
   "metadata": {},
   "outputs": [],
   "source": [
    "shapes['total_pop_pct_change'] = df_total_pop['pct_change'].astype(float).tolist()\n",
    "shapes['total_pop_abs_change'] = df_total_pop.abs_change.astype(np.int64)"
   ]
  },
  {
   "cell_type": "code",
   "execution_count": 308,
   "metadata": {},
   "outputs": [
    {
     "data": {
      "text/plain": [
       "STATEFP                   object\n",
       "COUNTYFP                  object\n",
       "TRACTCE                   object\n",
       "GEOID                     object\n",
       "NAME                      object\n",
       "                          ...   \n",
       "INTPTLON                  object\n",
       "geometry                geometry\n",
       "key                        int64\n",
       "total_pop_pct_change     float64\n",
       "total_pop_abs_change     float64\n",
       "Length: 16, dtype: object"
      ]
     },
     "execution_count": 308,
     "metadata": {},
     "output_type": "execute_result"
    }
   ],
   "source": [
    "shapes.dtypes"
   ]
  },
  {
   "cell_type": "code",
   "execution_count": 320,
   "metadata": {},
   "outputs": [
    {
     "data": {
      "image/png": "[encoded data removed]",
      "text/plain": [
       "<Figure size 1080x1080 with 2 Axes>"
      ]
     },
     "metadata": {
      "needs_background": "light"
     },
     "output_type": "display_data"
    }
   ],
   "source": [
    "fig, ax = plt.subplots(figsize = (15,15))\n",
    "\n",
    "ax.set_xlim(-122.332927, -122.276884)\n",
    "ax.set_ylim(47.647, 47.67)\n",
    "\n",
    "plt.title('Change in total population, 2010 - 2018')\n",
    "\n",
    "shapes.plot(ax=ax, column='total_pop_pct_change', cmap = 'Blues',\n",
    "            legend = True,\n",
    "            legend_kwds={'label': \"Pct change in population\",'orientation': \"horizontal\"})\n",
    "plt.show()"
   ]
  },
  {
   "cell_type": "code",
   "execution_count": 311,
   "metadata": {},
   "outputs": [
    {
     "data": {
      "image/png": "[encoded data removed]",
      "text/plain": [
       "<Figure size 1080x1080 with 2 Axes>"
      ]
     },
     "metadata": {
      "needs_background": "light"
     },
     "output_type": "display_data"
    }
   ],
   "source": [
    "fig, ax = plt.subplots(figsize = (15,15))\n",
    "\n",
    "ax.set_xlim(-122.332927, -122.276884)\n",
    "ax.set_ylim(47.647, 47.67)\n",
    "\n",
    "plt.title('Change in total population, 2010 - 2018')\n",
    "\n",
    "shapes.plot(ax=ax, column='total_pop_abs_change', cmap = 'YlGn',\n",
    "            legend = True,\n",
    "            legend_kwds={'label': \"Absolute change in population\",'orientation': \"horizontal\"})\n",
    "plt.show()"
   ]
  },
  {
   "cell_type": "code",
   "execution_count": 316,
   "metadata": {},
   "outputs": [
    {
     "data": {
      "image/png": "[encoded data removed]",
      "text/plain": [
       "<Figure size 1080x1080 with 2 Axes>"
      ]
     },
     "metadata": {
      "needs_background": "light"
     },
     "output_type": "display_data"
    }
   ],
   "source": [
    "fig, ax = plt.subplots(figsize = (15,15))\n",
    "\n",
    "plt.title('Change in total population, 2010 - 2018')\n",
    "\n",
    "shapes.plot(ax=ax, column='total_pop_pct_change', cmap = 'Blues',\n",
    "            legend = True,\n",
    "            legend_kwds={'label': \"Pct change in population\",'orientation': \"horizontal\"})\n",
    "plt.show()"
   ]
  },
  {
   "cell_type": "code",
   "execution_count": null,
   "metadata": {},
   "outputs": [],
   "source": []
  }
 ],
 "metadata": {
  "kernelspec": {
   "display_name": "Python 3",
   "language": "python",
   "name": "python3"
  },
  "language_info": {
   "codemirror_mode": {
    "name": "ipython",
    "version": 3
   },
   "file_extension": ".py",
   "mimetype": "text/x-python",
   "name": "python",
   "nbconvert_exporter": "python",
   "pygments_lexer": "ipython3",
   "version": "3.6.10"
  }
 },
 "nbformat": 4,
 "nbformat_minor": 4
}
