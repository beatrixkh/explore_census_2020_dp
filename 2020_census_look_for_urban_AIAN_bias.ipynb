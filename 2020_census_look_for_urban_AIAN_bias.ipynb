{
 "cells": [
  {
   "cell_type": "code",
   "execution_count": 5,
   "metadata": {},
   "outputs": [],
   "source": [
    "# 1/20/2020 20 threads, 40G\n",
    "    #read csv: wall time: 7min 45s\n",
    "    #read dta: Wall time: 1h 3min 45s\n",
    "    \n",
    "# 1/21/2020 20 threads, 100G\n",
    "    #read csv: Wall time: 5min 48s\n",
    "    #read dta: Wall time: 37min 3s\n",
    "    \n",
    "# 1/21/2020 1:54PM, 20 threads, 100G\n",
    "    #read csv: Wall time: 8min 16s\n",
    "    #read dta: Wall time: "
   ]
  },
  {
   "cell_type": "code",
   "execution_count": 140,
   "metadata": {},
   "outputs": [
    {
     "name": "stdout",
     "output_type": "stream",
     "text": [
      "Fri Jan 24 18:44:32 PST 2020\r\n"
     ]
    }
   ],
   "source": [
    "import json\n",
    "import numpy as np\n",
    "import matplotlib.pyplot as plt\n",
    "import matplotlib.axes as axes\n",
    "import pandas as pd\n",
    "import seaborn as sns\n",
    "pd.set_option('display.max_rows', 20)\n",
    "!date"
   ]
  },
  {
   "cell_type": "markdown",
   "metadata": {},
   "source": [
    "# 2010 census demo data. AIAN pop in urban areas: looking for the downward bias in DP counts ala Akee's findings"
   ]
  },
  {
   "cell_type": "markdown",
   "metadata": {},
   "source": [
    "Akee's talk here: https://vimeo.com/380264104"
   ]
  },
  {
   "cell_type": "code",
   "execution_count": 7,
   "metadata": {},
   "outputs": [],
   "source": [
    "##Encoding of the AIANHH var:\n",
    "#0001–4999 Federally recognized American Indian reservation and/or off-reservation trust land\n",
    "#5000–5499 Hawaiian home land 5500–5999 Oklahoma tribal statistical area\n",
    "#5500–5999 Oklahoma tribal statistical area\n",
    "#6000–7999 Alaska Native village statistical area\n",
    "#8000–8999 Tribal designated statistical area\n",
    "#9000–9499 State-recognized American Indian reservation\n",
    "#9500–9998 State designated tribal statistical area "
   ]
  },
  {
   "cell_type": "code",
   "execution_count": 8,
   "metadata": {},
   "outputs": [],
   "source": [
    "location_cols = ['STATE', 'COUNTY', 'TRACT', 'BLKGRP', 'BLOCK']\n",
    "\n",
    "race_cols = ['P0030005','P0060004'] # AIAN alone, AIAN combo\n",
    "keep_cols = location_cols + race_cols\n",
    "\n",
    "def my_cols(x):\n",
    "    if x.startswith('P001'):\n",
    "        return True\n",
    "    elif x.startswith(('AIAN','AITS','TTRACT','TBLGRP','UA','UR')):\n",
    "        return True\n",
    "    else:\n",
    "        return (x in keep_cols)"
   ]
  },
  {
   "cell_type": "code",
   "execution_count": 9,
   "metadata": {},
   "outputs": [
    {
     "name": "stderr",
     "output_type": "stream",
     "text": [
      "<string>:2: DtypeWarning: Columns (28,32,33,47,49,50) have mixed types. Specify dtype option on import or set low_memory=False.\n"
     ]
    },
    {
     "name": "stdout",
     "output_type": "stream",
     "text": [
      "CPU times: user 5min 21s, sys: 22.3 s, total: 5min 43s\n",
      "Wall time: 6min\n"
     ]
    }
   ],
   "source": [
    "%%time\n",
    "\n",
    "df_dp = pd.read_csv('/home/j/temp/abie/fiftystates2010dhc.csv', usecols=my_cols)"
   ]
  },
  {
   "cell_type": "code",
   "execution_count": 10,
   "metadata": {},
   "outputs": [
    {
     "data": {
      "text/plain": [
       "['state',\n",
       " 'county',\n",
       " 'tract',\n",
       " 'blkgrp',\n",
       " 'block',\n",
       " 'aianhh',\n",
       " 'aianhhfp',\n",
       " 'aianhhcc',\n",
       " 'aitsce',\n",
       " 'aits',\n",
       " 'aitscc',\n",
       " 'ttract',\n",
       " 'ua',\n",
       " 'uasc',\n",
       " 'uatype',\n",
       " 'ur',\n",
       " 'aianhhns',\n",
       " 'aitsns',\n",
       " 'aianhhsc',\n",
       " 'P0010001',\n",
       " 'P0030005',\n",
       " 'P0060004']"
      ]
     },
     "execution_count": 10,
     "metadata": {},
     "output_type": "execute_result"
    }
   ],
   "source": [
    "dta_columns = [x.lower() for x in df_dp.columns] #grab col names as lowercase\n",
    "dta_columns[-3:] = df_dp.columns[-3:] #coded vars are capitalized\n",
    "dta_columns #check contents"
   ]
  },
  {
   "cell_type": "code",
   "execution_count": 11,
   "metadata": {},
   "outputs": [
    {
     "name": "stdout",
     "output_type": "stream",
     "text": [
      ". . . . . . . . . . . . . . . . . . . . . . . . . . . . . . . . . . . . . . . . . . . . . . . . . . . . . . . . . . . . . . . . . . . . . . . . . . . . . . . . . . . . . . . . . . . . . . . . . . . . . . . . . . . . . . . . . . . . . . . . . . . . . . . . . . . . . . . . . . CPU times: user 25min 46s, sys: 9min 17s, total: 35min 3s\n",
      "Wall time: 39min 15s\n"
     ]
    },
    {
     "data": {
      "text/plain": [
       "(11071790, 22)"
      ]
     },
     "execution_count": 11,
     "metadata": {},
     "output_type": "execute_result"
    }
   ],
   "source": [
    "#%%time\n",
    "\n",
    "#r = pd.read_stata('/home/j/temp/abie/all50states_2010ur1_all_vars.dta', columns=dta_columns,\n",
    "                  chunksize=100_000, convert_missing=True, preserve_dtypes=False)\n",
    "\n",
    "#df_sf = pd.DataFrame()\n",
    "#for t in r:\n",
    "#    print('.', flush=True, end=' ')\n",
    "#    df_sf = df_sf.append(t[t.block != ''])\n",
    "#df_sf.shape\n",
    "\n",
    "#saved AIAN-relevant vars here; loads faster than the .dta\n",
    "df_sf = pd.read_csv('/home/j/temp/beatrixh/all50states_AIAN_plus_ua_ur_sf.csv')"
   ]
  },
  {
   "cell_type": "code",
   "execution_count": 12,
   "metadata": {},
   "outputs": [],
   "source": [
    "#df_sf.to_csv(r'/home/j/temp/beatrixh/all50states_AIAN_plus_ua_ur_sf.csv', index = None, header=True)"
   ]
  },
  {
   "cell_type": "code",
   "execution_count": 14,
   "metadata": {},
   "outputs": [
    {
     "data": {
      "text/plain": [
       "<bound method NDFrame.head of          STATE COUNTY   TRACT BLKGRP BLOCK AIANHH AIANHHFP AIANHHCC AITSCE  \\\n",
       "59          02    013  000100      1  1363   9999    99999       99    999   \n",
       "60          02    013  000100      1  1366   9999    99999       99    999   \n",
       "61          02    013  000100      1  1369   9999    99999       99    999   \n",
       "62          02    013  000100      1  1370   6030    01095       E1    999   \n",
       "63          02    013  000100      1  1371   6030    01095       E1    999   \n",
       "...        ...    ...     ...    ...   ...    ...      ...      ...    ...   \n",
       "13713616    56    045  951100      1  1868   9999    99999       99    999   \n",
       "13713617    56    045  951100      1  1869   9999    99999       99    999   \n",
       "13713618    56    045  951100      1  1870   9999    99999       99    999   \n",
       "13713619    56    045  951100      1  1871   9999    99999       99    999   \n",
       "13713622    56    045  951100      2  2985   9999    99999       99    999   \n",
       "\n",
       "           AITS  ...     UA UASC UATYPE UR  AIANHHNS    AITSNS AIANHHSC  \\\n",
       "59        99999  ...  99999   99      9  R  99999999  99999999       00   \n",
       "60        99999  ...  99999   99      9  R  99999999  99999999       00   \n",
       "61        99999  ...  99999   99      9  R  99999999  99999999       00   \n",
       "62        99999  ...  99999   99      9  R  02418758  99999999       09   \n",
       "63        99999  ...  99999   99      9  R  02418758  99999999       09   \n",
       "...         ...  ...    ...  ...    ... ..       ...       ...      ...   \n",
       "13713616  99999  ...  99999   99      9  R  99999999  99999999       00   \n",
       "13713617  99999  ...  99999   99      9  R  99999999  99999999       00   \n",
       "13713618  99999  ...  99999   99      9  R  99999999  99999999       00   \n",
       "13713619  99999  ...  99999   99      9  R  99999999  99999999       00   \n",
       "13713622  99999  ...  99999   99      9  R  99999999  99999999       00   \n",
       "\n",
       "         P0010001 P0030005  P0060004  \n",
       "59             24        5         0  \n",
       "60              0        0         0  \n",
       "61              0        0         0  \n",
       "62              0        0         0  \n",
       "63            942      438        27  \n",
       "...           ...      ...       ...  \n",
       "13713616        0        0         0  \n",
       "13713617        0        0         0  \n",
       "13713618        0        0         0  \n",
       "13713619        0        0         0  \n",
       "13713622        0        0         0  \n",
       "\n",
       "[11071790 rows x 22 columns]>"
      ]
     },
     "execution_count": 14,
     "metadata": {},
     "output_type": "execute_result"
    }
   ],
   "source": [
    "df_sf.columns = [x.upper() for x in df_sf.columns]\n",
    "df_sf.head"
   ]
  },
  {
   "cell_type": "code",
   "execution_count": 17,
   "metadata": {},
   "outputs": [
    {
     "data": {
      "text/plain": [
       "STATE         int64\n",
       "COUNTY      float64\n",
       "TRACT       float64\n",
       "BLKGRP      float64\n",
       "BLOCK       float64\n",
       "             ...   \n",
       "AITSNS      float64\n",
       "AIANHHSC    float64\n",
       "P0010001      int64\n",
       "P0030005      int64\n",
       "P0060004      int64\n",
       "Length: 22, dtype: object"
      ]
     },
     "execution_count": 17,
     "metadata": {},
     "output_type": "execute_result"
    }
   ],
   "source": [
    "df_dp.dtypes"
   ]
  },
  {
   "cell_type": "code",
   "execution_count": 16,
   "metadata": {},
   "outputs": [
    {
     "data": {
      "text/plain": [
       "STATE         int64\n",
       "COUNTY      float64\n",
       "TRACT       float64\n",
       "BLKGRP      float64\n",
       "BLOCK       float64\n",
       "             ...   \n",
       "AITSNS      float64\n",
       "AIANHHSC    float64\n",
       "P0010001      int64\n",
       "P0030005      int64\n",
       "P0060004      int64\n",
       "Length: 22, dtype: object"
      ]
     },
     "execution_count": 16,
     "metadata": {},
     "output_type": "execute_result"
    }
   ],
   "source": [
    "#store columns by type\n",
    "float_cols = list(df_dp.loc[:, df_dp.dtypes == np.float64].columns)\n",
    "int_cols = df_dp.loc[:, df_dp.dtypes == np.int64].columns\n",
    "\n",
    "#conver df_sf to correct dtypes\n",
    "df_sf.loc[:,float_cols] = df_sf.loc[:,float_cols].astype(np.float64)\n",
    "df_sf.loc[:,int_cols] = df_sf.loc[:,int_cols].astype(np.int64)\n",
    "\n",
    "#check\n",
    "df_sf.dtypes"
   ]
  },
  {
   "cell_type": "code",
   "execution_count": 49,
   "metadata": {},
   "outputs": [
    {
     "name": "stderr",
     "output_type": "stream",
     "text": [
      "/share/code/beatrixh/miniconda/envs/beatrix/lib/python3.6/site-packages/pandas/core/ops/__init__.py:1115: FutureWarning: elementwise comparison failed; returning scalar instead, but in the future will perform elementwise comparison\n",
      "  result = method(y)\n"
     ]
    },
    {
     "data": {
      "text/html": [
       "<div>\n",
       "<style scoped>\n",
       "    .dataframe tbody tr th:only-of-type {\n",
       "        vertical-align: middle;\n",
       "    }\n",
       "\n",
       "    .dataframe tbody tr th {\n",
       "        vertical-align: top;\n",
       "    }\n",
       "\n",
       "    .dataframe thead th {\n",
       "        text-align: right;\n",
       "    }\n",
       "</style>\n",
       "<table border=\"1\" class=\"dataframe\">\n",
       "  <thead>\n",
       "    <tr style=\"text-align: right;\">\n",
       "      <th></th>\n",
       "      <th>STATE</th>\n",
       "      <th>COUNTY</th>\n",
       "      <th>TRACT</th>\n",
       "      <th>BLKGRP</th>\n",
       "      <th>BLOCK</th>\n",
       "      <th>P0030005_SF</th>\n",
       "      <th>P0060004_SF</th>\n",
       "      <th>P0010001_SF</th>\n",
       "      <th>AIANHH</th>\n",
       "      <th>AIANHHFP</th>\n",
       "      <th>...</th>\n",
       "      <th>UA</th>\n",
       "      <th>UASC</th>\n",
       "      <th>UATYPE</th>\n",
       "      <th>UR</th>\n",
       "      <th>AIANHHNS</th>\n",
       "      <th>AITSNS</th>\n",
       "      <th>AIANHHSC</th>\n",
       "      <th>P0010001_DP</th>\n",
       "      <th>P0030005_DP</th>\n",
       "      <th>P0060004_DP</th>\n",
       "    </tr>\n",
       "  </thead>\n",
       "  <tbody>\n",
       "    <tr>\n",
       "      <th>0</th>\n",
       "      <td>2</td>\n",
       "      <td>13.0</td>\n",
       "      <td>100.0</td>\n",
       "      <td>1.0</td>\n",
       "      <td>1363.0</td>\n",
       "      <td>5</td>\n",
       "      <td>0</td>\n",
       "      <td>24</td>\n",
       "      <td>9999.0</td>\n",
       "      <td>99999.0</td>\n",
       "      <td>...</td>\n",
       "      <td>99999</td>\n",
       "      <td>NaN</td>\n",
       "      <td>9</td>\n",
       "      <td>R</td>\n",
       "      <td>99999999.0</td>\n",
       "      <td>99999999.0</td>\n",
       "      <td>NaN</td>\n",
       "      <td>87</td>\n",
       "      <td>0</td>\n",
       "      <td>42</td>\n",
       "    </tr>\n",
       "    <tr>\n",
       "      <th>1</th>\n",
       "      <td>2</td>\n",
       "      <td>13.0</td>\n",
       "      <td>100.0</td>\n",
       "      <td>1.0</td>\n",
       "      <td>1366.0</td>\n",
       "      <td>0</td>\n",
       "      <td>0</td>\n",
       "      <td>0</td>\n",
       "      <td>9999.0</td>\n",
       "      <td>99999.0</td>\n",
       "      <td>...</td>\n",
       "      <td>99999</td>\n",
       "      <td>NaN</td>\n",
       "      <td>9</td>\n",
       "      <td>R</td>\n",
       "      <td>99999999.0</td>\n",
       "      <td>99999999.0</td>\n",
       "      <td>NaN</td>\n",
       "      <td>0</td>\n",
       "      <td>0</td>\n",
       "      <td>0</td>\n",
       "    </tr>\n",
       "    <tr>\n",
       "      <th>2</th>\n",
       "      <td>2</td>\n",
       "      <td>13.0</td>\n",
       "      <td>100.0</td>\n",
       "      <td>1.0</td>\n",
       "      <td>1369.0</td>\n",
       "      <td>0</td>\n",
       "      <td>0</td>\n",
       "      <td>0</td>\n",
       "      <td>9999.0</td>\n",
       "      <td>99999.0</td>\n",
       "      <td>...</td>\n",
       "      <td>99999</td>\n",
       "      <td>NaN</td>\n",
       "      <td>9</td>\n",
       "      <td>R</td>\n",
       "      <td>99999999.0</td>\n",
       "      <td>99999999.0</td>\n",
       "      <td>NaN</td>\n",
       "      <td>0</td>\n",
       "      <td>0</td>\n",
       "      <td>0</td>\n",
       "    </tr>\n",
       "    <tr>\n",
       "      <th>3</th>\n",
       "      <td>2</td>\n",
       "      <td>13.0</td>\n",
       "      <td>100.0</td>\n",
       "      <td>1.0</td>\n",
       "      <td>1370.0</td>\n",
       "      <td>0</td>\n",
       "      <td>0</td>\n",
       "      <td>0</td>\n",
       "      <td>6030.0</td>\n",
       "      <td>1095.0</td>\n",
       "      <td>...</td>\n",
       "      <td>99999</td>\n",
       "      <td>NaN</td>\n",
       "      <td>9</td>\n",
       "      <td>R</td>\n",
       "      <td>2418758.0</td>\n",
       "      <td>99999999.0</td>\n",
       "      <td>NaN</td>\n",
       "      <td>0</td>\n",
       "      <td>0</td>\n",
       "      <td>0</td>\n",
       "    </tr>\n",
       "    <tr>\n",
       "      <th>4</th>\n",
       "      <td>2</td>\n",
       "      <td>13.0</td>\n",
       "      <td>100.0</td>\n",
       "      <td>1.0</td>\n",
       "      <td>1371.0</td>\n",
       "      <td>438</td>\n",
       "      <td>27</td>\n",
       "      <td>942</td>\n",
       "      <td>6030.0</td>\n",
       "      <td>1095.0</td>\n",
       "      <td>...</td>\n",
       "      <td>99999</td>\n",
       "      <td>NaN</td>\n",
       "      <td>9</td>\n",
       "      <td>R</td>\n",
       "      <td>2418758.0</td>\n",
       "      <td>99999999.0</td>\n",
       "      <td>NaN</td>\n",
       "      <td>988</td>\n",
       "      <td>361</td>\n",
       "      <td>129</td>\n",
       "    </tr>\n",
       "    <tr>\n",
       "      <th>...</th>\n",
       "      <td>...</td>\n",
       "      <td>...</td>\n",
       "      <td>...</td>\n",
       "      <td>...</td>\n",
       "      <td>...</td>\n",
       "      <td>...</td>\n",
       "      <td>...</td>\n",
       "      <td>...</td>\n",
       "      <td>...</td>\n",
       "      <td>...</td>\n",
       "      <td>...</td>\n",
       "      <td>...</td>\n",
       "      <td>...</td>\n",
       "      <td>...</td>\n",
       "      <td>...</td>\n",
       "      <td>...</td>\n",
       "      <td>...</td>\n",
       "      <td>...</td>\n",
       "      <td>...</td>\n",
       "      <td>...</td>\n",
       "      <td>...</td>\n",
       "    </tr>\n",
       "    <tr>\n",
       "      <th>11071785</th>\n",
       "      <td>56</td>\n",
       "      <td>45.0</td>\n",
       "      <td>951100.0</td>\n",
       "      <td>1.0</td>\n",
       "      <td>1868.0</td>\n",
       "      <td>0</td>\n",
       "      <td>0</td>\n",
       "      <td>0</td>\n",
       "      <td>9999.0</td>\n",
       "      <td>99999.0</td>\n",
       "      <td>...</td>\n",
       "      <td>99999</td>\n",
       "      <td>NaN</td>\n",
       "      <td>9</td>\n",
       "      <td>R</td>\n",
       "      <td>99999999.0</td>\n",
       "      <td>99999999.0</td>\n",
       "      <td>NaN</td>\n",
       "      <td>0</td>\n",
       "      <td>0</td>\n",
       "      <td>0</td>\n",
       "    </tr>\n",
       "    <tr>\n",
       "      <th>11071786</th>\n",
       "      <td>56</td>\n",
       "      <td>45.0</td>\n",
       "      <td>951100.0</td>\n",
       "      <td>1.0</td>\n",
       "      <td>1869.0</td>\n",
       "      <td>0</td>\n",
       "      <td>0</td>\n",
       "      <td>0</td>\n",
       "      <td>9999.0</td>\n",
       "      <td>99999.0</td>\n",
       "      <td>...</td>\n",
       "      <td>99999</td>\n",
       "      <td>NaN</td>\n",
       "      <td>9</td>\n",
       "      <td>R</td>\n",
       "      <td>99999999.0</td>\n",
       "      <td>99999999.0</td>\n",
       "      <td>NaN</td>\n",
       "      <td>0</td>\n",
       "      <td>0</td>\n",
       "      <td>0</td>\n",
       "    </tr>\n",
       "    <tr>\n",
       "      <th>11071787</th>\n",
       "      <td>56</td>\n",
       "      <td>45.0</td>\n",
       "      <td>951100.0</td>\n",
       "      <td>1.0</td>\n",
       "      <td>1870.0</td>\n",
       "      <td>0</td>\n",
       "      <td>0</td>\n",
       "      <td>0</td>\n",
       "      <td>9999.0</td>\n",
       "      <td>99999.0</td>\n",
       "      <td>...</td>\n",
       "      <td>99999</td>\n",
       "      <td>NaN</td>\n",
       "      <td>9</td>\n",
       "      <td>R</td>\n",
       "      <td>99999999.0</td>\n",
       "      <td>99999999.0</td>\n",
       "      <td>NaN</td>\n",
       "      <td>0</td>\n",
       "      <td>0</td>\n",
       "      <td>0</td>\n",
       "    </tr>\n",
       "    <tr>\n",
       "      <th>11071788</th>\n",
       "      <td>56</td>\n",
       "      <td>45.0</td>\n",
       "      <td>951100.0</td>\n",
       "      <td>1.0</td>\n",
       "      <td>1871.0</td>\n",
       "      <td>0</td>\n",
       "      <td>0</td>\n",
       "      <td>0</td>\n",
       "      <td>9999.0</td>\n",
       "      <td>99999.0</td>\n",
       "      <td>...</td>\n",
       "      <td>99999</td>\n",
       "      <td>NaN</td>\n",
       "      <td>9</td>\n",
       "      <td>R</td>\n",
       "      <td>99999999.0</td>\n",
       "      <td>99999999.0</td>\n",
       "      <td>NaN</td>\n",
       "      <td>0</td>\n",
       "      <td>0</td>\n",
       "      <td>0</td>\n",
       "    </tr>\n",
       "    <tr>\n",
       "      <th>11071789</th>\n",
       "      <td>56</td>\n",
       "      <td>45.0</td>\n",
       "      <td>951100.0</td>\n",
       "      <td>2.0</td>\n",
       "      <td>2985.0</td>\n",
       "      <td>0</td>\n",
       "      <td>0</td>\n",
       "      <td>0</td>\n",
       "      <td>9999.0</td>\n",
       "      <td>99999.0</td>\n",
       "      <td>...</td>\n",
       "      <td>99999</td>\n",
       "      <td>NaN</td>\n",
       "      <td>9</td>\n",
       "      <td>R</td>\n",
       "      <td>99999999.0</td>\n",
       "      <td>99999999.0</td>\n",
       "      <td>NaN</td>\n",
       "      <td>0</td>\n",
       "      <td>0</td>\n",
       "      <td>0</td>\n",
       "    </tr>\n",
       "  </tbody>\n",
       "</table>\n",
       "<p>11071790 rows × 25 columns</p>\n",
       "</div>"
      ],
      "text/plain": [
       "          STATE  COUNTY     TRACT  BLKGRP   BLOCK  P0030005_SF  P0060004_SF  \\\n",
       "0             2    13.0     100.0     1.0  1363.0            5            0   \n",
       "1             2    13.0     100.0     1.0  1366.0            0            0   \n",
       "2             2    13.0     100.0     1.0  1369.0            0            0   \n",
       "3             2    13.0     100.0     1.0  1370.0            0            0   \n",
       "4             2    13.0     100.0     1.0  1371.0          438           27   \n",
       "...         ...     ...       ...     ...     ...          ...          ...   \n",
       "11071785     56    45.0  951100.0     1.0  1868.0            0            0   \n",
       "11071786     56    45.0  951100.0     1.0  1869.0            0            0   \n",
       "11071787     56    45.0  951100.0     1.0  1870.0            0            0   \n",
       "11071788     56    45.0  951100.0     1.0  1871.0            0            0   \n",
       "11071789     56    45.0  951100.0     2.0  2985.0            0            0   \n",
       "\n",
       "          P0010001_SF  AIANHH  AIANHHFP  ...     UA  UASC  UATYPE UR  \\\n",
       "0                  24  9999.0   99999.0  ...  99999   NaN       9  R   \n",
       "1                   0  9999.0   99999.0  ...  99999   NaN       9  R   \n",
       "2                   0  9999.0   99999.0  ...  99999   NaN       9  R   \n",
       "3                   0  6030.0    1095.0  ...  99999   NaN       9  R   \n",
       "4                 942  6030.0    1095.0  ...  99999   NaN       9  R   \n",
       "...               ...     ...       ...  ...    ...   ...     ... ..   \n",
       "11071785            0  9999.0   99999.0  ...  99999   NaN       9  R   \n",
       "11071786            0  9999.0   99999.0  ...  99999   NaN       9  R   \n",
       "11071787            0  9999.0   99999.0  ...  99999   NaN       9  R   \n",
       "11071788            0  9999.0   99999.0  ...  99999   NaN       9  R   \n",
       "11071789            0  9999.0   99999.0  ...  99999   NaN       9  R   \n",
       "\n",
       "            AIANHHNS      AITSNS  AIANHHSC P0010001_DP P0030005_DP  \\\n",
       "0         99999999.0  99999999.0       NaN          87           0   \n",
       "1         99999999.0  99999999.0       NaN           0           0   \n",
       "2         99999999.0  99999999.0       NaN           0           0   \n",
       "3          2418758.0  99999999.0       NaN           0           0   \n",
       "4          2418758.0  99999999.0       NaN         988         361   \n",
       "...              ...         ...       ...         ...         ...   \n",
       "11071785  99999999.0  99999999.0       NaN           0           0   \n",
       "11071786  99999999.0  99999999.0       NaN           0           0   \n",
       "11071787  99999999.0  99999999.0       NaN           0           0   \n",
       "11071788  99999999.0  99999999.0       NaN           0           0   \n",
       "11071789  99999999.0  99999999.0       NaN           0           0   \n",
       "\n",
       "          P0060004_DP  \n",
       "0                  42  \n",
       "1                   0  \n",
       "2                   0  \n",
       "3                   0  \n",
       "4                 129  \n",
       "...               ...  \n",
       "11071785            0  \n",
       "11071786            0  \n",
       "11071787            0  \n",
       "11071788            0  \n",
       "11071789            0  \n",
       "\n",
       "[11071790 rows x 25 columns]"
      ]
     },
     "execution_count": 49,
     "metadata": {},
     "output_type": "execute_result"
    }
   ],
   "source": [
    "left = df_sf[location_cols + race_cols + ['P0010001']]\n",
    "df = pd.merge(left[(left.BLOCK != '')], df_dp.dropna(subset=['BLOCK']), left_on=location_cols, right_on=location_cols, suffixes=('_SF', '_DP'))\n",
    "df"
   ]
  },
  {
   "cell_type": "code",
   "execution_count": 89,
   "metadata": {},
   "outputs": [
    {
     "data": {
      "text/html": [
       "<div>\n",
       "<style scoped>\n",
       "    .dataframe tbody tr th:only-of-type {\n",
       "        vertical-align: middle;\n",
       "    }\n",
       "\n",
       "    .dataframe tbody tr th {\n",
       "        vertical-align: top;\n",
       "    }\n",
       "\n",
       "    .dataframe thead th {\n",
       "        text-align: right;\n",
       "    }\n",
       "</style>\n",
       "<table border=\"1\" class=\"dataframe\">\n",
       "  <thead>\n",
       "    <tr style=\"text-align: right;\">\n",
       "      <th></th>\n",
       "      <th></th>\n",
       "      <th>P0030005_SF</th>\n",
       "      <th>P0030005_DP</th>\n",
       "      <th>P0060004_SF</th>\n",
       "      <th>P0060004_DP</th>\n",
       "      <th>P0010001_SF</th>\n",
       "      <th>P0010001_DP</th>\n",
       "    </tr>\n",
       "    <tr>\n",
       "      <th>STATE</th>\n",
       "      <th>COUNTY</th>\n",
       "      <th></th>\n",
       "      <th></th>\n",
       "      <th></th>\n",
       "      <th></th>\n",
       "      <th></th>\n",
       "      <th></th>\n",
       "    </tr>\n",
       "  </thead>\n",
       "  <tbody>\n",
       "    <tr>\n",
       "      <th rowspan=\"5\" valign=\"top\">1</th>\n",
       "      <th>1.0</th>\n",
       "      <td>415</td>\n",
       "      <td>420</td>\n",
       "      <td>308</td>\n",
       "      <td>291</td>\n",
       "      <td>31650</td>\n",
       "      <td>31436</td>\n",
       "    </tr>\n",
       "    <tr>\n",
       "      <th>3.0</th>\n",
       "      <td>1013</td>\n",
       "      <td>882</td>\n",
       "      <td>1065</td>\n",
       "      <td>1156</td>\n",
       "      <td>105205</td>\n",
       "      <td>104615</td>\n",
       "    </tr>\n",
       "    <tr>\n",
       "      <th>5.0</th>\n",
       "      <td>70</td>\n",
       "      <td>69</td>\n",
       "      <td>98</td>\n",
       "      <td>85</td>\n",
       "      <td>8844</td>\n",
       "      <td>8780</td>\n",
       "    </tr>\n",
       "    <tr>\n",
       "      <th>7.0</th>\n",
       "      <td>9</td>\n",
       "      <td>1</td>\n",
       "      <td>35</td>\n",
       "      <td>52</td>\n",
       "      <td>7252</td>\n",
       "      <td>7069</td>\n",
       "    </tr>\n",
       "    <tr>\n",
       "      <th>9.0</th>\n",
       "      <td>37</td>\n",
       "      <td>13</td>\n",
       "      <td>71</td>\n",
       "      <td>43</td>\n",
       "      <td>5760</td>\n",
       "      <td>5435</td>\n",
       "    </tr>\n",
       "    <tr>\n",
       "      <th>...</th>\n",
       "      <th>...</th>\n",
       "      <td>...</td>\n",
       "      <td>...</td>\n",
       "      <td>...</td>\n",
       "      <td>...</td>\n",
       "      <td>...</td>\n",
       "      <td>...</td>\n",
       "    </tr>\n",
       "    <tr>\n",
       "      <th rowspan=\"5\" valign=\"top\">56</th>\n",
       "      <th>37.0</th>\n",
       "      <td>323</td>\n",
       "      <td>296</td>\n",
       "      <td>644</td>\n",
       "      <td>597</td>\n",
       "      <td>39024</td>\n",
       "      <td>38482</td>\n",
       "    </tr>\n",
       "    <tr>\n",
       "      <th>39.0</th>\n",
       "      <td>156</td>\n",
       "      <td>107</td>\n",
       "      <td>162</td>\n",
       "      <td>135</td>\n",
       "      <td>11407</td>\n",
       "      <td>11032</td>\n",
       "    </tr>\n",
       "    <tr>\n",
       "      <th>41.0</th>\n",
       "      <td>36</td>\n",
       "      <td>15</td>\n",
       "      <td>265</td>\n",
       "      <td>261</td>\n",
       "      <td>12017</td>\n",
       "      <td>11554</td>\n",
       "    </tr>\n",
       "    <tr>\n",
       "      <th>43.0</th>\n",
       "      <td>34</td>\n",
       "      <td>30</td>\n",
       "      <td>122</td>\n",
       "      <td>150</td>\n",
       "      <td>5465</td>\n",
       "      <td>5433</td>\n",
       "    </tr>\n",
       "    <tr>\n",
       "      <th>45.0</th>\n",
       "      <td>8</td>\n",
       "      <td>0</td>\n",
       "      <td>82</td>\n",
       "      <td>115</td>\n",
       "      <td>3277</td>\n",
       "      <td>3191</td>\n",
       "    </tr>\n",
       "  </tbody>\n",
       "</table>\n",
       "<p>2440 rows × 6 columns</p>\n",
       "</div>"
      ],
      "text/plain": [
       "              P0030005_SF  P0030005_DP  P0060004_SF  P0060004_DP  P0010001_SF  \\\n",
       "STATE COUNTY                                                                    \n",
       "1     1.0             415          420          308          291        31650   \n",
       "      3.0            1013          882         1065         1156       105205   \n",
       "      5.0              70           69           98           85         8844   \n",
       "      7.0               9            1           35           52         7252   \n",
       "      9.0              37           13           71           43         5760   \n",
       "...                   ...          ...          ...          ...          ...   \n",
       "56    37.0            323          296          644          597        39024   \n",
       "      39.0            156          107          162          135        11407   \n",
       "      41.0             36           15          265          261        12017   \n",
       "      43.0             34           30          122          150         5465   \n",
       "      45.0              8            0           82          115         3277   \n",
       "\n",
       "              P0010001_DP  \n",
       "STATE COUNTY               \n",
       "1     1.0           31436  \n",
       "      3.0          104615  \n",
       "      5.0            8780  \n",
       "      7.0            7069  \n",
       "      9.0            5435  \n",
       "...                   ...  \n",
       "56    37.0          38482  \n",
       "      39.0          11032  \n",
       "      41.0          11554  \n",
       "      43.0           5433  \n",
       "      45.0           3191  \n",
       "\n",
       "[2440 rows x 6 columns]"
      ]
     },
     "execution_count": 89,
     "metadata": {},
     "output_type": "execute_result"
    }
   ],
   "source": [
    "#subset to urban areas, grouped by county\n",
    "urban_county = df[df.UR== 'U'].copy(deep=True)\n",
    "urban_county = urban_county.groupby(['STATE','COUNTY'])['P0030005_SF','P0030005_DP','P0060004_SF','P0060004_DP','P0010001_SF','P0010001_DP'].apply(lambda x : x.astype(int).sum())\n",
    "urban_county"
   ]
  },
  {
   "cell_type": "code",
   "execution_count": 184,
   "metadata": {},
   "outputs": [
    {
     "data": {
      "image/png": "[encoded data removed]",
      "text/plain": [
       "<Figure size 432x432 with 1 Axes>"
      ]
     },
     "metadata": {
      "needs_background": "light"
     },
     "output_type": "display_data"
    }
   ],
   "source": [
    "x = urban_county[[\"P0030005_SF\"]]\n",
    "y = urban_county[[\"P0030005_DP\"]]\n",
    "\n",
    "fig = plt.figure() \n",
    "fig.set_size_inches(6,6)\n",
    "\n",
    "ax = fig.add_subplot(111)\n",
    "ax.scatter(x, y, facecolors='none', edgecolors = 'cornflowerblue')\n",
    "ax.set_aspect('equal', adjustable='box')\n",
    "\n",
    "plt.xticks(np.arange(0, 1.4e6, step = 4e5))\n",
    "plt.yticks(np.arange(0, 1.4e6, step = 4e5))\n",
    "\n",
    "xleft, xright = ax.get_xlim()\n",
    "ybottom, ytop = ax.get_ylim()\n",
    "ax.plot([-1,xright],[-1,ytop], 'red', linewidth=1)\n",
    "\n",
    "plt.xlabel('SF urban AIAN alone, counts')\n",
    "plt.ylabel('DP urban AIAN alone, counts')\n",
    "plt.title('county level: urban AIAN alone count change')\n",
    "\n",
    "plt.show()"
   ]
  },
  {
   "cell_type": "code",
   "execution_count": 193,
   "metadata": {},
   "outputs": [
    {
     "data": {
      "image/png": "[encoded data removed]",
      "text/plain": [
       "<Figure size 432x432 with 1 Axes>"
      ]
     },
     "metadata": {
      "needs_background": "light"
     },
     "output_type": "display_data"
    }
   ],
   "source": [
    "#let's zoom in\n",
    "x = urban_county[(ur_county.P0030005_DP<1e3) | (ur_county.P0030005_SF<1e3)][[\"P0030005_SF\"]]\n",
    "y = urban_county[(ur_county.P0030005_DP<1e3) | (ur_county.P0030005_SF<1e3)][[\"P0030005_DP\"]]\n",
    "\n",
    "fig = plt.figure() \n",
    "fig.set_size_inches(6,6)\n",
    "\n",
    "ax = fig.add_subplot(111)\n",
    "ax.scatter(x, y, facecolors='none', edgecolors = 'cornflowerblue')\n",
    "ax.set_aspect('equal', adjustable='box')\n",
    "\n",
    "xleft, xright = ax.get_xlim()\n",
    "ybottom, ytop = ax.get_ylim()\n",
    "lim = max(xright,ytop)\n",
    "ax.plot([-1,lim],[-1,lim], 'red', linewidth=1)\n",
    "\n",
    "plt.xlabel('SF urban AIAN alone, counts')\n",
    "plt.ylabel('DP urban AIAN alone, counts')\n",
    "plt.title('county level: urban AIAN alone count change')\n",
    "\n",
    "plt.show()"
   ]
  },
  {
   "cell_type": "code",
   "execution_count": 96,
   "metadata": {},
   "outputs": [
    {
     "data": {
      "image/png": "[encoded data removed]",
      "text/plain": [
       "<Figure size 432x288 with 1 Axes>"
      ]
     },
     "metadata": {
      "needs_background": "light"
     },
     "output_type": "display_data"
    }
   ],
   "source": [
    "#check out count difference\n",
    "urban_county['abs_diff'] = urban_county['P0030005_DP'] - urban_county['P0030005_SF']\n",
    "\n",
    "#plot histogram\n",
    "fig = plt.figure()\n",
    "ax = fig.add_subplot(111)\n",
    "plt.hist(urban_county[(urban_county.P0030005_DP!=0) | (urban_county.P0030005_SF!=0)].abs_diff, bins = 100)\n",
    "\n",
    "plt.title('County level; urban AIAN count difference, excluding points that remained at 0.')\n",
    "\n",
    "plt.show() "
   ]
  },
  {
   "cell_type": "code",
   "execution_count": 97,
   "metadata": {},
   "outputs": [
    {
     "data": {
      "image/png": "[encoded data removed]",
      "text/plain": [
       "<Figure size 432x288 with 1 Axes>"
      ]
     },
     "metadata": {
      "needs_background": "light"
     },
     "output_type": "display_data"
    }
   ],
   "source": [
    "#zoom in (counts in log space)\n",
    "fig = plt.figure()\n",
    "ax = fig.add_subplot(111)\n",
    "plt.hist(urban_county[(urban_county.P0030005_DP!=0) | (urban_county.P0030005_SF!=0)].abs_diff, bins = 100)\n",
    "plt.yscale('log')\n",
    "\n",
    "plt.title('County level; urban AIAN count difference, excluding points that remained at 0.')\n",
    "\n",
    "plt.show() "
   ]
  },
  {
   "cell_type": "code",
   "execution_count": 100,
   "metadata": {},
   "outputs": [],
   "source": [
    "#subset to urban areas, grouped by county\n",
    "urban_tract = df[df.UR== 'U'].copy(deep=True)\n",
    "urban_tract = urban_tract.groupby(['STATE','COUNTY','TRACT'])['P0030005_SF','P0030005_DP',\n",
    "                                                              'P0060004_SF','P0060004_DP',\n",
    "                                                              'P0010001_SF','P0010001_DP'].apply(lambda x : x.astype(int).sum())"
   ]
  },
  {
   "cell_type": "code",
   "execution_count": 198,
   "metadata": {},
   "outputs": [
    {
     "data": {
      "image/png": "[encoded data removed]",
      "text/plain": [
       "<Figure size 432x432 with 1 Axes>"
      ]
     },
     "metadata": {
      "needs_background": "light"
     },
     "output_type": "display_data"
    }
   ],
   "source": [
    "#plot urban areas by tract, dp vs sf\n",
    "x = urban_tract[[\"P0030005_SF\"]]\n",
    "y = urban_tract[[\"P0030005_DP\"]]\n",
    "\n",
    "fig = plt.figure() \n",
    "fig.set_size_inches(6,6)\n",
    "\n",
    "ax = fig.add_subplot(111)\n",
    "ax.scatter(x, y, facecolors='none', edgecolors = 'cornflowerblue')\n",
    "ax.set_aspect('equal', adjustable='box')\n",
    "\n",
    "xleft, xright = ax.get_xlim()\n",
    "ybottom, ytop = ax.get_ylim()\n",
    "lim = max(xright,ytop)\n",
    "ax.plot([-1,lim],[-1,lim], 'red', linewidth=1)\n",
    "\n",
    "plt.xlabel('SF urban AIAN alone, counts')\n",
    "plt.ylabel('DP urban AIAN alone, counts')\n",
    "plt.title('tract level: urban AIAN alone count change')\n",
    "\n",
    "plt.show()"
   ]
  },
  {
   "cell_type": "code",
   "execution_count": 200,
   "metadata": {},
   "outputs": [
    {
     "data": {
      "image/png": "[encoded data removed]",
      "text/plain": [
       "<Figure size 432x432 with 1 Axes>"
      ]
     },
     "metadata": {
      "needs_background": "light"
     },
     "output_type": "display_data"
    }
   ],
   "source": [
    "#let's zoom in\n",
    "x = urban_county[(ur_county.P0030005_DP<5e2) | (ur_county.P0030005_SF<5e2)][[\"P0030005_SF\"]]\n",
    "y = urban_county[(ur_county.P0030005_DP<5e2) | (ur_county.P0030005_SF<5e2)][[\"P0030005_DP\"]]\n",
    "\n",
    "fig = plt.figure() \n",
    "fig.set_size_inches(6,6)\n",
    "\n",
    "ax = fig.add_subplot(111)\n",
    "ax.scatter(x, y, facecolors='none', edgecolors = 'cornflowerblue')\n",
    "ax.set_aspect('equal', adjustable='box')\n",
    "\n",
    "xleft, xright = ax.get_xlim()\n",
    "ybottom, ytop = ax.get_ylim()\n",
    "lim = max(xright,ytop)\n",
    "ax.plot([-1,lim],[-1,lim], 'red', linewidth=1)\n",
    "\n",
    "plt.xlabel('SF urban AIAN alone, counts')\n",
    "plt.ylabel('DP urban AIAN alone, counts')\n",
    "plt.title('county level: urban AIAN alone count change')\n",
    "\n",
    "plt.show()"
   ]
  },
  {
   "cell_type": "code",
   "execution_count": 203,
   "metadata": {},
   "outputs": [
    {
     "data": {
      "image/png": "[encoded data removed]",
      "text/plain": [
       "<Figure size 432x288 with 1 Axes>"
      ]
     },
     "metadata": {
      "needs_background": "light"
     },
     "output_type": "display_data"
    }
   ],
   "source": [
    "#check out count difference\n",
    "urban_tract['abs_diff'] = urban_tract['P0030005_DP'] - urban_tract['P0030005_SF']\n",
    "\n",
    "#plot histogram\n",
    "fig = plt.figure()\n",
    "ax = fig.add_subplot(111)\n",
    "plt.hist(urban_tract[(urban_tract.P0030005_DP!=0) | (urban_tract.P0030005_SF!=0)].abs_diff, bins = 100)\n",
    "\n",
    "plt.title('Tract level; urban AIAN count difference, excluding points that remained at 0.')\n",
    "\n",
    "plt.show() "
   ]
  },
  {
   "cell_type": "code",
   "execution_count": 206,
   "metadata": {},
   "outputs": [
    {
     "data": {
      "image/png": "[encoded data removed]",
      "text/plain": [
       "<Figure size 432x288 with 1 Axes>"
      ]
     },
     "metadata": {
      "needs_background": "light"
     },
     "output_type": "display_data"
    }
   ],
   "source": [
    "#zoom in (counts in log space)\n",
    "urban_tract['abs_diff'] = urban_tract['P0030005_DP'] - urban_tract['P0030005_SF']\n",
    "\n",
    "#plot histogram\n",
    "fig = plt.figure()\n",
    "ax = fig.add_subplot(111)\n",
    "plt.hist(urban_tract[(urban_tract.P0030005_DP!=0) | (urban_tract.P0030005_SF!=0)].abs_diff, bins = 100)\n",
    "plt.yscale('log')\n",
    "\n",
    "plt.title('Tract level; urban AIAN count difference, excluding points that remained at 0.')\n",
    "\n",
    "plt.show() "
   ]
  }
 ],
 "metadata": {
  "kernelspec": {
   "display_name": "Python 3",
   "language": "python",
   "name": "python3"
  },
  "language_info": {
   "codemirror_mode": {
    "name": "ipython",
    "version": 3
   },
   "file_extension": ".py",
   "mimetype": "text/x-python",
   "name": "python",
   "nbconvert_exporter": "python",
   "pygments_lexer": "ipython3",
   "version": "3.6.10"
  }
 },
 "nbformat": 4,
 "nbformat_minor": 4
}
