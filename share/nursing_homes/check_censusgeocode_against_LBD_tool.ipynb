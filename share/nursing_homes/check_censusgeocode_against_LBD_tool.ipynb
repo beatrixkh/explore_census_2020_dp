{
 "cells": [
  {
   "cell_type": "code",
   "execution_count": 1,
   "metadata": {},
   "outputs": [],
   "source": [
    "import pandas as pd, numpy as np, matplotlib.pyplot as plt\n",
    "import geopandas as gpd, descartes\n",
    "import itertools\n",
    "import os"
   ]
  },
  {
   "cell_type": "markdown",
   "metadata": {},
   "source": [
    "# Compare censusgeomatch vs LBD's batchgeocode site."
   ]
  },
  {
   "cell_type": "markdown",
   "metadata": {},
   "source": [
    "LBD has a geocoding site here: https://batchgeocode.ihme.washington.edu/index. It costs $ to query google maps.\n",
    "The censusgeocode package is more efficient, but LBD folks indicated google maps is the source they trust the most. I tagged 58 locations with both tools. Comparing what pct of tags ended up in the same blockgroup."
   ]
  },
  {
   "cell_type": "markdown",
   "metadata": {},
   "source": [
    "RESULTS: out of 58 locs, 12% were tagged to different blockgroups."
   ]
  },
  {
   "cell_type": "code",
   "execution_count": 2,
   "metadata": {},
   "outputs": [],
   "source": [
    "# load in points with coord tags\n",
    "snfs = pd.read_csv('/homes/beatrixh/repos/geomatch/king_county_03_30_2020/king_county_geocode_for_vetting.csv')"
   ]
  },
  {
   "cell_type": "code",
   "execution_count": 3,
   "metadata": {},
   "outputs": [
    {
     "data": {
      "text/html": [
       "<div>\n",
       "<style scoped>\n",
       "    .dataframe tbody tr th:only-of-type {\n",
       "        vertical-align: middle;\n",
       "    }\n",
       "\n",
       "    .dataframe tbody tr th {\n",
       "        vertical-align: top;\n",
       "    }\n",
       "\n",
       "    .dataframe thead th {\n",
       "        text-align: right;\n",
       "    }\n",
       "</style>\n",
       "<table border=\"1\" class=\"dataframe\">\n",
       "  <thead>\n",
       "    <tr style=\"text-align: right;\">\n",
       "      <th></th>\n",
       "      <th>Unnamed: 0</th>\n",
       "      <th>address</th>\n",
       "      <th>lat</th>\n",
       "      <th>lon</th>\n",
       "      <th>best_lat</th>\n",
       "      <th>best_long</th>\n",
       "    </tr>\n",
       "  </thead>\n",
       "  <tbody>\n",
       "    <tr>\n",
       "      <th>0</th>\n",
       "      <td>0</td>\n",
       "      <td>805 FRONT ST SOUTH, ISSAQUAH, WA,</td>\n",
       "      <td>47.522125</td>\n",
       "      <td>-122.034225</td>\n",
       "      <td>47.521655</td>\n",
       "      <td>-122.034809</td>\n",
       "    </tr>\n",
       "    <tr>\n",
       "      <th>1</th>\n",
       "      <td>1</td>\n",
       "      <td>901 12TH AVENUE, SEATTLE, WA</td>\n",
       "      <td>47.610485</td>\n",
       "      <td>-122.316790</td>\n",
       "      <td>47.610229</td>\n",
       "      <td>-122.317629</td>\n",
       "    </tr>\n",
       "    <tr>\n",
       "      <th>2</th>\n",
       "      <td>2</td>\n",
       "      <td>491 SOUTH 338TH STREET, FEDERAL WAY, WA,</td>\n",
       "      <td>47.298603</td>\n",
       "      <td>-122.326700</td>\n",
       "      <td>47.298048</td>\n",
       "      <td>-122.326598</td>\n",
       "    </tr>\n",
       "    <tr>\n",
       "      <th>3</th>\n",
       "      <td>3</td>\n",
       "      <td>1334 TERRY AVENUE, SEATTLE, WA,</td>\n",
       "      <td>47.611380</td>\n",
       "      <td>-122.328540</td>\n",
       "      <td>47.611873</td>\n",
       "      <td>-122.328573</td>\n",
       "    </tr>\n",
       "    <tr>\n",
       "      <th>4</th>\n",
       "      <td>4</td>\n",
       "      <td>135 SOUTH 336TH STREET, FEDERAL WAY, WA,</td>\n",
       "      <td>47.299880</td>\n",
       "      <td>-122.328480</td>\n",
       "      <td>47.298797</td>\n",
       "      <td>-122.331097</td>\n",
       "    </tr>\n",
       "  </tbody>\n",
       "</table>\n",
       "</div>"
      ],
      "text/plain": [
       "   Unnamed: 0                                    address        lat  \\\n",
       "0           0         805 FRONT ST SOUTH, ISSAQUAH, WA,   47.522125   \n",
       "1           1               901 12TH AVENUE, SEATTLE, WA  47.610485   \n",
       "2           2  491 SOUTH 338TH STREET, FEDERAL WAY, WA,   47.298603   \n",
       "3           3           1334 TERRY AVENUE, SEATTLE, WA,   47.611380   \n",
       "4           4  135 SOUTH 336TH STREET, FEDERAL WAY, WA,   47.299880   \n",
       "\n",
       "          lon   best_lat   best_long  \n",
       "0 -122.034225  47.521655 -122.034809  \n",
       "1 -122.316790  47.610229 -122.317629  \n",
       "2 -122.326700  47.298048 -122.326598  \n",
       "3 -122.328540  47.611873 -122.328573  \n",
       "4 -122.328480  47.298797 -122.331097  "
      ]
     },
     "execution_count": 3,
     "metadata": {},
     "output_type": "execute_result"
    }
   ],
   "source": [
    "snfs.head()"
   ]
  },
  {
   "cell_type": "code",
   "execution_count": 4,
   "metadata": {},
   "outputs": [],
   "source": [
    "# turn into geodataframe using lbd coord results\n",
    "snfs = gpd.GeoDataFrame(snfs, geometry=gpd.points_from_xy(snfs.best_long,snfs.best_lat))"
   ]
  },
  {
   "cell_type": "code",
   "execution_count": 5,
   "metadata": {},
   "outputs": [],
   "source": [
    "# read in shapefile. these are blockgoup level, washington 2018\n",
    "# https://www.census.gov/cgi-bin/geo/shapefiles/index.php?year=2018&layergroup=Block+Groups\n",
    "wa_bg = gpd.read_file('/home/j/temp/beatrixh/sim_science/census_GIS/tl_2018_53_bg/tl_2018_53_bg.shp')\n",
    "king_bg = wa_bg[wa_bg.GEOID.str[:5]=='53033'][['GEOID','geometry']]"
   ]
  },
  {
   "cell_type": "code",
   "execution_count": 6,
   "metadata": {},
   "outputs": [
    {
     "data": {
      "text/html": [
       "<div>\n",
       "<style scoped>\n",
       "    .dataframe tbody tr th:only-of-type {\n",
       "        vertical-align: middle;\n",
       "    }\n",
       "\n",
       "    .dataframe tbody tr th {\n",
       "        vertical-align: top;\n",
       "    }\n",
       "\n",
       "    .dataframe thead th {\n",
       "        text-align: right;\n",
       "    }\n",
       "</style>\n",
       "<table border=\"1\" class=\"dataframe\">\n",
       "  <thead>\n",
       "    <tr style=\"text-align: right;\">\n",
       "      <th></th>\n",
       "      <th>GEOID</th>\n",
       "      <th>geometry</th>\n",
       "    </tr>\n",
       "  </thead>\n",
       "  <tbody>\n",
       "    <tr>\n",
       "      <th>7</th>\n",
       "      <td>530330219042</td>\n",
       "      <td>POLYGON ((-122.17557 47.72344, -122.17328 47.7...</td>\n",
       "    </tr>\n",
       "    <tr>\n",
       "      <th>8</th>\n",
       "      <td>530330219044</td>\n",
       "      <td>POLYGON ((-122.17558 47.72581, -122.17323 47.7...</td>\n",
       "    </tr>\n",
       "    <tr>\n",
       "      <th>9</th>\n",
       "      <td>530330219051</td>\n",
       "      <td>POLYGON ((-122.18723 47.74653, -122.18719 47.7...</td>\n",
       "    </tr>\n",
       "    <tr>\n",
       "      <th>10</th>\n",
       "      <td>530330219052</td>\n",
       "      <td>POLYGON ((-122.18910 47.72612, -122.18908 47.7...</td>\n",
       "    </tr>\n",
       "    <tr>\n",
       "      <th>11</th>\n",
       "      <td>530330220032</td>\n",
       "      <td>POLYGON ((-122.20776 47.72030, -122.20754 47.7...</td>\n",
       "    </tr>\n",
       "  </tbody>\n",
       "</table>\n",
       "</div>"
      ],
      "text/plain": [
       "           GEOID                                           geometry\n",
       "7   530330219042  POLYGON ((-122.17557 47.72344, -122.17328 47.7...\n",
       "8   530330219044  POLYGON ((-122.17558 47.72581, -122.17323 47.7...\n",
       "9   530330219051  POLYGON ((-122.18723 47.74653, -122.18719 47.7...\n",
       "10  530330219052  POLYGON ((-122.18910 47.72612, -122.18908 47.7...\n",
       "11  530330220032  POLYGON ((-122.20776 47.72030, -122.20754 47.7..."
      ]
     },
     "execution_count": 6,
     "metadata": {},
     "output_type": "execute_result"
    }
   ],
   "source": [
    "king_bg.head()"
   ]
  },
  {
   "cell_type": "code",
   "execution_count": 8,
   "metadata": {},
   "outputs": [],
   "source": [
    "# create cols to hold geoids associated with each snf\n",
    "snfs['geoid_lbd'] = ''\n",
    "\n",
    "for i in range(snfs.shape[0]): #loop through snfs\n",
    "    for j in range(king_bg.shape[0]): #loop through blockgroups\n",
    "        if snfs.iloc[i,].geometry.intersects(king_bg.iloc[j].geometry): #if there's an intersection\n",
    "            snfs.iloc[i,-1] += str(king_bg.iloc[j,].GEOID) + ' ' #record geoid"
   ]
  },
  {
   "cell_type": "code",
   "execution_count": 9,
   "metadata": {},
   "outputs": [],
   "source": [
    "# turn into geodataframe using censusgeomatch coords\n",
    "snfs_compare_geoids = gpd.GeoDataFrame(snfs[['address','lat','lon','geoid_lbd']], geometry=gpd.points_from_xy(snfs.lon,snfs.lat))"
   ]
  },
  {
   "cell_type": "code",
   "execution_count": 10,
   "metadata": {},
   "outputs": [],
   "source": [
    "# create cols to hold geoids associated with each snf\n",
    "snfs_compare_geoids['geoid_censusgeomatch'] = ''\n",
    "\n",
    "for i in range(snfs_compare_geoids.shape[0]): #loop through snfs\n",
    "    for j in range(king_bg.shape[0]): #loop through blockgroups\n",
    "        if snfs_compare_geoids.iloc[i,].geometry.intersects(king_bg.iloc[j].geometry): #if there's an intersection\n",
    "            snfs_compare_geoids.iloc[i,-1] += str(king_bg.iloc[j,].GEOID) + ' ' #record geoid"
   ]
  },
  {
   "cell_type": "code",
   "execution_count": 11,
   "metadata": {
    "scrolled": false
   },
   "outputs": [
    {
     "data": {
      "text/html": [
       "<div>\n",
       "<style scoped>\n",
       "    .dataframe tbody tr th:only-of-type {\n",
       "        vertical-align: middle;\n",
       "    }\n",
       "\n",
       "    .dataframe tbody tr th {\n",
       "        vertical-align: top;\n",
       "    }\n",
       "\n",
       "    .dataframe thead th {\n",
       "        text-align: right;\n",
       "    }\n",
       "</style>\n",
       "<table border=\"1\" class=\"dataframe\">\n",
       "  <thead>\n",
       "    <tr style=\"text-align: right;\">\n",
       "      <th></th>\n",
       "      <th>address</th>\n",
       "      <th>lat</th>\n",
       "      <th>lon</th>\n",
       "      <th>geoid_lbd</th>\n",
       "      <th>geometry</th>\n",
       "      <th>geoid_censusgeomatch</th>\n",
       "    </tr>\n",
       "  </thead>\n",
       "  <tbody>\n",
       "    <tr>\n",
       "      <th>0</th>\n",
       "      <td>805 FRONT ST SOUTH, ISSAQUAH, WA,</td>\n",
       "      <td>47.522125</td>\n",
       "      <td>-122.034225</td>\n",
       "      <td>530330321043</td>\n",
       "      <td>POINT (-122.03423 47.52213)</td>\n",
       "      <td>530330321043</td>\n",
       "    </tr>\n",
       "    <tr>\n",
       "      <th>1</th>\n",
       "      <td>901 12TH AVENUE, SEATTLE, WA</td>\n",
       "      <td>47.610485</td>\n",
       "      <td>-122.316790</td>\n",
       "      <td>530330086002</td>\n",
       "      <td>POINT (-122.31679 47.61048)</td>\n",
       "      <td>530330086002</td>\n",
       "    </tr>\n",
       "    <tr>\n",
       "      <th>2</th>\n",
       "      <td>491 SOUTH 338TH STREET, FEDERAL WAY, WA,</td>\n",
       "      <td>47.298603</td>\n",
       "      <td>-122.326700</td>\n",
       "      <td>530330303132</td>\n",
       "      <td>POINT (-122.32670 47.29860)</td>\n",
       "      <td>530330303132</td>\n",
       "    </tr>\n",
       "    <tr>\n",
       "      <th>3</th>\n",
       "      <td>1334 TERRY AVENUE, SEATTLE, WA,</td>\n",
       "      <td>47.611380</td>\n",
       "      <td>-122.328540</td>\n",
       "      <td>530330083002</td>\n",
       "      <td>POINT (-122.32854 47.61138)</td>\n",
       "      <td>530330083002</td>\n",
       "    </tr>\n",
       "    <tr>\n",
       "      <th>4</th>\n",
       "      <td>135 SOUTH 336TH STREET, FEDERAL WAY, WA,</td>\n",
       "      <td>47.299880</td>\n",
       "      <td>-122.328480</td>\n",
       "      <td>530330303092</td>\n",
       "      <td>POINT (-122.32848 47.29988)</td>\n",
       "      <td>530330303132</td>\n",
       "    </tr>\n",
       "  </tbody>\n",
       "</table>\n",
       "</div>"
      ],
      "text/plain": [
       "                                     address        lat         lon  \\\n",
       "0         805 FRONT ST SOUTH, ISSAQUAH, WA,   47.522125 -122.034225   \n",
       "1               901 12TH AVENUE, SEATTLE, WA  47.610485 -122.316790   \n",
       "2  491 SOUTH 338TH STREET, FEDERAL WAY, WA,   47.298603 -122.326700   \n",
       "3           1334 TERRY AVENUE, SEATTLE, WA,   47.611380 -122.328540   \n",
       "4  135 SOUTH 336TH STREET, FEDERAL WAY, WA,   47.299880 -122.328480   \n",
       "\n",
       "       geoid_lbd                     geometry geoid_censusgeomatch  \n",
       "0  530330321043   POINT (-122.03423 47.52213)        530330321043   \n",
       "1  530330086002   POINT (-122.31679 47.61048)        530330086002   \n",
       "2  530330303132   POINT (-122.32670 47.29860)        530330303132   \n",
       "3  530330083002   POINT (-122.32854 47.61138)        530330083002   \n",
       "4  530330303092   POINT (-122.32848 47.29988)        530330303132   "
      ]
     },
     "execution_count": 11,
     "metadata": {},
     "output_type": "execute_result"
    }
   ],
   "source": [
    "snfs_compare_geoids.head()"
   ]
  },
  {
   "cell_type": "code",
   "execution_count": 15,
   "metadata": {},
   "outputs": [
    {
     "name": "stdout",
     "output_type": "stream",
     "text": [
      "pct of geoids that differ: 0.1206896551724138\n",
      "pct of sample size: 58\n"
     ]
    }
   ],
   "source": [
    "print(f'pct of geoids that differ: {snfs_compare_geoids[snfs_compare_geoids.geoid_censusgeomatch!=snfs_compare_geoids.geoid_lbd].shape[0]/snfs_compare_geoids.shape[0]}')\n",
    "print(f'pct of sample size: {snfs_compare_geoids.shape[0]}')"
   ]
  }
 ],
 "metadata": {
  "kernelspec": {
   "display_name": "Python 3",
   "language": "python",
   "name": "python3"
  },
  "language_info": {
   "codemirror_mode": {
    "name": "ipython",
    "version": 3
   },
   "file_extension": ".py",
   "mimetype": "text/x-python",
   "name": "python",
   "nbconvert_exporter": "python",
   "pygments_lexer": "ipython3",
   "version": "3.6.10"
  }
 },
 "nbformat": 4,
 "nbformat_minor": 4
}
