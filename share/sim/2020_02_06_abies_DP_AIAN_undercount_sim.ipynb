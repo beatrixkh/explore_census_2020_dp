{
 "cells": [
  {
   "cell_type": "code",
   "execution_count": 470,
   "metadata": {
    "scrolled": true
   },
   "outputs": [
    {
     "name": "stdout",
     "output_type": "stream",
     "text": [
      "Fri Feb  7 00:31:48 PST 2020\n",
      "The autoreload extension is already loaded. To reload it, use:\n",
      "  %reload_ext autoreload\n"
     ]
    }
   ],
   "source": [
    "import numpy as np, pandas as pd, matplotlib.pyplot as plt\n",
    "import math\n",
    "pd.set_option('display.max_rows', 22)\n",
    "!date\n",
    "\n",
    "%load_ext autoreload\n",
    "%autoreload 2"
   ]
  },
  {
   "cell_type": "code",
   "execution_count": 820,
   "metadata": {},
   "outputs": [],
   "source": [
    "# the complex part of the TopDown Algorithm is an optimization step that\n",
    "# removes illogical counts such as negatives, using constrained convex optimization\n",
    "\n",
    "# in this minimal example, I will optimize to find counts that are \"close\" to the dp counts,\n",
    "# are non-negative, and have race-stratified sums that match the precise total sum for both minority and majority\n",
    "# groups\n",
    "\n",
    "import pyomo.environ\n",
    "from pyomo.core import *\n",
    "from pyomo.opt import SolverFactory\n"
   ]
  },
  {
   "cell_type": "markdown",
   "metadata": {},
   "source": [
    "# Abie's minimal DP model, reproducing undercounts in AIAN pop found by Akee. Parameterized detailed area population."
   ]
  },
  {
   "cell_type": "code",
   "execution_count": 822,
   "metadata": {},
   "outputs": [],
   "source": [
    "# add Geometric noise, to make counts differentially private\n",
    "def GDPC(epsilon, exact_counts):\n",
    "    \"\"\" Geometric DP Counts\n",
    "    Parameters\n",
    "    ----------\n",
    "    epsilon : float-able\n",
    "    exact_counts : pd.Series\n",
    "    \n",
    "    Results\n",
    "    -------\n",
    "    returns dp_counts, a pd.Series with index matching exact_counts\"\"\"\n",
    "    \n",
    "    z = float(epsilon)\n",
    "\n",
    "    all_errors = (np.random.geometric(z, size=len(exact_counts))\n",
    "                    - np.random.geometric(z, size=len(exact_counts)))\n",
    "    dp_counts = exact_counts + all_errors\n",
    "    return dp_counts\n"
   ]
  },
  {
   "cell_type": "code",
   "execution_count": 824,
   "metadata": {},
   "outputs": [],
   "source": [
    "def nonnegative_optimize(imprecise_counts, control_total):\n",
    "    \"\"\"optimize the imprecise counts so that they sum to\n",
    "    the control total and are non-negative\n",
    "    \n",
    "    Parameters\n",
    "    ----------\n",
    "    imprecise_counts : list-like of floats\n",
    "    control_total : float\n",
    "    \n",
    "    Results\n",
    "    -------\n",
    "    returns optimized_counts, which are close to imprecise counts,\n",
    "    but not negative, and match control total in aggregate\n",
    "    \"\"\"\n",
    "    imprecise_counts = list(imprecise_counts)\n",
    "    \n",
    "    model = ConcreteModel()\n",
    "    model.I = range(len(imprecise_counts))\n",
    "    model.x = Var(model.I, within=NonNegativeReals)\n",
    "    model.objective = Objective(\n",
    "        expr=sum((model.x[i] - imprecise_counts[i])**2 for i in model.I))\n",
    "    model.constraint = Constraint(\n",
    "        expr=summation(model.x) == control_total)\n",
    "    \n",
    "    solver = SolverFactory('ipopt')\n",
    "    results = solver.solve(model, options={'acceptable_tol':1e-4}, tee=False)\n",
    "    optimized_counts = [value(model.x[i]) for i in model.I]\n",
    "        \n",
    "    return np.array(optimized_counts)"
   ]
  },
  {
   "cell_type": "markdown",
   "metadata": {},
   "source": [
    "## set parameters"
   ]
  },
  {
   "cell_type": "code",
   "execution_count": 699,
   "metadata": {},
   "outputs": [],
   "source": [
    "seed = 1\n",
    "np.random.seed(seed) # set random seed for reproducibility"
   ]
  },
  {
   "cell_type": "code",
   "execution_count": 826,
   "metadata": {},
   "outputs": [
    {
     "name": "stdout",
     "output_type": "stream",
     "text": [
      "Minority majority areas if size was large: 377 out of 10000\n"
     ]
    }
   ],
   "source": [
    "epsilon = '0.1'\n",
    "K = 10_000  # number of areas at most-detailed level\n",
    "\n",
    "# parameters for the distribution of population counts per detailed area\n",
    "a = .2 # smaller causes greater undercount\n",
    "b = 10\n",
    "n_k = 3e3* np.random.beta(a, b, K) # number of individuals in area k\n",
    "\n",
    "\n",
    "overall_minority_share = 0.05 # 2% of total population is in minority race group\n",
    "segregation_factor = 1 # tunable parameter controlling how many areas are \"majority minority\". smaller *eventually* increases bias rapidly\n",
    "\n",
    "minority_share = np.random.beta(overall_minority_share/segregation_factor,\n",
    "                                (1-overall_minority_share)/segregation_factor, size=K)\n",
    "\n",
    "print('Minority majority areas if size was large:', (minority_share > .5).sum(), 'out of', K)"
   ]
  },
  {
   "cell_type": "markdown",
   "metadata": {},
   "source": [
    "## checkout parameters"
   ]
  },
  {
   "cell_type": "code",
   "execution_count": 808,
   "metadata": {
    "scrolled": false
   },
   "outputs": [
    {
     "data": {
      "image/png": "[encoded data removed]",
      "text/plain": [
       "<Figure size 432x288 with 1 Axes>"
      ]
     },
     "metadata": {
      "needs_background": "light"
     },
     "output_type": "display_data"
    },
    {
     "name": "stdout",
     "output_type": "stream",
     "text": [
      "589133.186546268\n"
     ]
    }
   ],
   "source": [
    "# checkout distribution of area sizes\n",
    "plt.hist(n_k, bins = 80)\n",
    "plt.title(\"Distribution of area counts\")\n",
    "plt.show()\n",
    "total_pop = sum(n_k)\n",
    "print(total_pop)"
   ]
  },
  {
   "cell_type": "code",
   "execution_count": 819,
   "metadata": {},
   "outputs": [
    {
     "data": {
      "image/png": "[encoded data removed]",
      "text/plain": [
       "<Figure size 432x288 with 1 Axes>"
      ]
     },
     "metadata": {
      "needs_background": "light"
     },
     "output_type": "display_data"
    },
    {
     "name": "stdout",
     "output_type": "stream",
     "text": [
      "580808.8358850431\n"
     ]
    }
   ],
   "source": [
    "# checkout distribution of minority share\n",
    "plt.hist(minority_share, bins = 80)\n",
    "plt.title(\"Distribution of minority share\")\n",
    "plt.show()\n",
    "total_pop = sum(n_k)\n",
    "print(total_pop)"
   ]
  },
  {
   "cell_type": "code",
   "execution_count": 827,
   "metadata": {},
   "outputs": [],
   "source": [
    "#see county distribution notebook. these two distributions aren't actually independent, as modeled here."
   ]
  },
  {
   "cell_type": "markdown",
   "metadata": {},
   "source": [
    "## run sim"
   ]
  },
  {
   "cell_type": "code",
   "execution_count": 810,
   "metadata": {},
   "outputs": [
    {
     "name": "stdout",
     "output_type": "stream",
     "text": [
      "Minority majority areas with size from sim: 245 out of 10000\n"
     ]
    }
   ],
   "source": [
    "# simulate race-/location-stratified counts\n",
    "precise_minority_count = np.random.binomial(n_k.astype(int), minority_share)\n",
    "precise_majority_count = n_k - precise_minority_count\n",
    "\n",
    "print('Minority majority areas with size from sim:',\n",
    "      (precise_minority_count > precise_majority_count).sum(), 'out of', K)"
   ]
  },
  {
   "cell_type": "code",
   "execution_count": 811,
   "metadata": {},
   "outputs": [
    {
     "name": "stdout",
     "output_type": "stream",
     "text": [
      "Overall minority share if size was large : 5.0 %\n",
      "Overall minority share with size from sim: 5.110389414064253 %\n"
     ]
    }
   ],
   "source": [
    "print('Overall minority share if size was large :', 100*overall_minority_share, '%')\n",
    "print('Overall minority share with size from sim:', 100*precise_minority_count.sum()/(n_k.mean()*K), '%')"
   ]
  },
  {
   "cell_type": "code",
   "execution_count": 812,
   "metadata": {},
   "outputs": [],
   "source": [
    "# Add geometric noise\n",
    "dp_minority_count = GDPC(epsilon, precise_minority_count)\n",
    "dp_majority_count = GDPC(epsilon, precise_majority_count)"
   ]
  },
  {
   "cell_type": "code",
   "execution_count": 813,
   "metadata": {},
   "outputs": [
    {
     "name": "stdout",
     "output_type": "stream",
     "text": [
      "DP estimate of minority share: 5.1995116061570865 %\n"
     ]
    }
   ],
   "source": [
    "print('DP estimate of minority share:', 100*dp_minority_count.sum()/(dp_minority_count + dp_majority_count).sum(), '%')"
   ]
  },
  {
   "cell_type": "code",
   "execution_count": 814,
   "metadata": {},
   "outputs": [
    {
     "name": "stdout",
     "output_type": "stream",
     "text": [
      "Number of negative minority counts in DP estimate: 4486\n",
      "Number of negative majority counts in DP estimate: 2464\n"
     ]
    }
   ],
   "source": [
    "# but this probably includes illogical counts, such as negative numbers of the minority population\n",
    "print('Number of negative minority counts in DP estimate:', (dp_minority_count < 0).sum())\n",
    "print('Number of negative majority counts in DP estimate:', (dp_majority_count < 0).sum())"
   ]
  },
  {
   "cell_type": "code",
   "execution_count": 815,
   "metadata": {},
   "outputs": [],
   "source": [
    "# optimize to remove all negatives, keep total constant\n",
    "nn_minority_count = nonnegative_optimize(dp_minority_count, precise_minority_count.sum())\n",
    "nn_majority_count = nonnegative_optimize(dp_majority_count, precise_majority_count.sum())"
   ]
  },
  {
   "cell_type": "code",
   "execution_count": 817,
   "metadata": {
    "scrolled": false
   },
   "outputs": [
    {
     "name": "stdout",
     "output_type": "stream",
     "text": [
      "Minority counts in minority-majority areas\n",
      "precise 17064,\n",
      "     dp 17191,\n",
      "non-neg 14329.800005950765\n",
      "pct diff 0.16023206716181637\n"
     ]
    }
   ],
   "source": [
    "# results\n",
    "minority_majority_area = (minority_share > .5)\n",
    "print(f'Minority counts in minority-majority areas')\n",
    "print(f'''precise {precise_minority_count[minority_majority_area].sum()},\n",
    "     dp {dp_minority_count[minority_majority_area].sum()},\n",
    "non-neg {nn_minority_count[minority_majority_area].sum()}''')\n",
    "print(f'pct diff {1-(nn_minority_count[minority_majority_area].sum()/precise_minority_count[minority_majority_area].sum())}')"
   ]
  },
  {
   "cell_type": "code",
   "execution_count": 744,
   "metadata": {},
   "outputs": [],
   "source": [
    "# output.to_csv(\"/share/scratch/users/beatrixh/02_06_2020/seed_{}_minority_{}_nkalpha_{}_nkbeta_{}.csv\".format(seed,\n",
    "#                                                                                               overall_minority_share,\n",
    "#                                                                                               a,b),\n",
    "#              index=False)"
   ]
  }
 ],
 "metadata": {
  "kernelspec": {
   "display_name": "Python 3",
   "language": "python",
   "name": "python3"
  },
  "language_info": {
   "codemirror_mode": {
    "name": "ipython",
    "version": 3
   },
   "file_extension": ".py",
   "mimetype": "text/x-python",
   "name": "python",
   "nbconvert_exporter": "python",
   "pygments_lexer": "ipython3",
   "version": "3.6.10"
  }
 },
 "nbformat": 4,
 "nbformat_minor": 2
}
