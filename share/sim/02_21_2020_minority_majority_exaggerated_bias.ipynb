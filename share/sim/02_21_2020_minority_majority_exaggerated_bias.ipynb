{
 "cells": [
  {
   "cell_type": "code",
   "execution_count": 1,
   "metadata": {},
   "outputs": [],
   "source": [
    "import numpy as np, pandas as pd\n",
    "import sys, os\n",
    "import time, datetime\n",
    "import matplotlib.pyplot as plt\n",
    "import pyomo.environ\n",
    "from pyomo.core import *\n",
    "from pyomo.opt import SolverFactory"
   ]
  },
  {
   "cell_type": "markdown",
   "metadata": {},
   "source": [
    "# Minority majority sim for 2020 census DP "
   ]
  },
  {
   "cell_type": "markdown",
   "metadata": {},
   "source": [
    "illustration of the minority minority areas pulling the minority majority counts down after nonneg optimization"
   ]
  },
  {
   "cell_type": "code",
   "execution_count": 2,
   "metadata": {},
   "outputs": [],
   "source": [
    "# function to add geometric noise to counts\n",
    "def GDPC(eps, exact_counts):\n",
    "        \"\"\" Geometric DP Counts\n",
    "        Parameters\n",
    "        ----------\n",
    "        eps : float-able\n",
    "        exact_counts : pd.Series\n",
    "\n",
    "        Results\n",
    "        -------\n",
    "        returns dp_counts, a pd.Series with index matching exact_counts\"\"\"\n",
    "\n",
    "        z = float(eps)\n",
    "\n",
    "        all_errors = (np.random.geometric(z, size=len(exact_counts))\n",
    "                        - np.random.geometric(z, size=len(exact_counts)))\n",
    "        dp_counts = exact_counts + all_errors\n",
    "        return dp_counts"
   ]
  },
  {
   "cell_type": "code",
   "execution_count": 3,
   "metadata": {},
   "outputs": [],
   "source": [
    "# function to generate final synthetic counts\n",
    "def nonnegative_optimize(imprecise_counts, control_total):\n",
    "    \"\"\"optimize the imprecise counts so that they sum to\n",
    "    the control total and are non-negative\n",
    "\n",
    "    Parameters\n",
    "    ----------\n",
    "    imprecise_counts : list-like of floats\n",
    "    control_total : float\n",
    "\n",
    "    Results\n",
    "    -------\n",
    "    returns optimized_counts, which are close to imprecise counts,\n",
    "    but not negative, and match control total in aggregate\n",
    "    \"\"\"\n",
    "    imprecise_counts = list(imprecise_counts)\n",
    "\n",
    "    model = ConcreteModel()\n",
    "    model.I = range(len(imprecise_counts))\n",
    "    model.x = Var(model.I, within=NonNegativeReals)\n",
    "    model.objective = Objective(\n",
    "        expr=sum((model.x[i] - imprecise_counts[i])**2 for i in model.I))\n",
    "    model.constraint = Constraint(\n",
    "        expr=summation(model.x) == control_total)\n",
    "\n",
    "    solver = SolverFactory('ipopt')\n",
    "    results = solver.solve(model, options={'acceptable_tol':1e-4}, tee=False)\n",
    "    optimized_counts = [value(model.x[i]) for i in model.I]\n",
    "\n",
    "    return np.array(optimized_counts)"
   ]
  },
  {
   "cell_type": "code",
   "execution_count": 4,
   "metadata": {},
   "outputs": [],
   "source": [
    "#set random seed\n",
    "np.random.seed(1)\n",
    "\n",
    "#set privacy budget\n",
    "epsilon = '0.1'\n",
    "\n",
    "#parameters for distribution of county sizes (beta)\n",
    "a = .02\n",
    "b = 10\n",
    "K = 10_000\n",
    "\n",
    "#parameters for distribution of pct minority per county\n",
    "pct_minority = .05\n",
    "segregation_factor = 1"
   ]
  },
  {
   "cell_type": "code",
   "execution_count": 5,
   "metadata": {},
   "outputs": [
    {
     "name": "stdout",
     "output_type": "stream",
     "text": [
      "total pop: 56142.34797563072\n"
     ]
    }
   ],
   "source": [
    "#create distribution of county sizes\n",
    "n_k = np.random.beta(a, b, K) # number of individuals in area k\n",
    "n_k *= 3e3\n",
    "total_pop = sum(n_k)\n",
    "print(f'total pop: {total_pop}')"
   ]
  },
  {
   "cell_type": "code",
   "execution_count": 6,
   "metadata": {},
   "outputs": [
    {
     "data": {
      "image/png": "[encoded data removed]",
      "text/plain": [
       "<Figure size 432x288 with 1 Axes>"
      ]
     },
     "metadata": {
      "needs_background": "light"
     },
     "output_type": "display_data"
    }
   ],
   "source": [
    "plt.hist(n_k, bins = 100)\n",
    "plt.title(\"distribution of county sizes\")\n",
    "plt.show()"
   ]
  },
  {
   "cell_type": "code",
   "execution_count": 7,
   "metadata": {},
   "outputs": [],
   "source": [
    "minority_share = np.random.beta(pct_minority/segregation_factor,\n",
    "                                (1-pct_minority)/segregation_factor, size=K)"
   ]
  },
  {
   "cell_type": "code",
   "execution_count": 8,
   "metadata": {
    "scrolled": true
   },
   "outputs": [
    {
     "data": {
      "image/png": "[encoded data removed]",
      "text/plain": [
       "<Figure size 432x288 with 1 Axes>"
      ]
     },
     "metadata": {
      "needs_background": "light"
     },
     "output_type": "display_data"
    }
   ],
   "source": [
    "plt.hist(minority_share, bins = 100)\n",
    "plt.title(\"distribution of % minority per county\")\n",
    "plt.show()"
   ]
  },
  {
   "cell_type": "code",
   "execution_count": 9,
   "metadata": {},
   "outputs": [],
   "source": [
    "# simulate race-/location-stratified counts\n",
    "precise_minority_count = np.random.binomial(n_k.astype(int), minority_share)\n",
    "precise_majority_count = n_k - precise_minority_count"
   ]
  },
  {
   "cell_type": "code",
   "execution_count": 10,
   "metadata": {
    "scrolled": true
   },
   "outputs": [
    {
     "name": "stdout",
     "output_type": "stream",
     "text": [
      "overall minority percentage:  0.03239978493221479\n"
     ]
    }
   ],
   "source": [
    "print(f'overall minority percentage: ',precise_minority_count.sum()/total_pop)"
   ]
  },
  {
   "cell_type": "code",
   "execution_count": 11,
   "metadata": {},
   "outputs": [
    {
     "data": {
      "image/png": "[encoded data removed]",
      "text/plain": [
       "<Figure size 432x288 with 1 Axes>"
      ]
     },
     "metadata": {
      "needs_background": "light"
     },
     "output_type": "display_data"
    }
   ],
   "source": [
    "plt.hist(precise_majority_count, bins = 100)\n",
    "plt.hist(precise_minority_count, bins = 100)\n",
    "plt.title(\"distribution of minority vs majority counts per county\")\n",
    "plt.show()"
   ]
  },
  {
   "cell_type": "code",
   "execution_count": 12,
   "metadata": {},
   "outputs": [
    {
     "data": {
      "image/png": "[encoded data removed]",
      "text/plain": [
       "<Figure size 432x288 with 1 Axes>"
      ]
     },
     "metadata": {
      "needs_background": "light"
     },
     "output_type": "display_data"
    }
   ],
   "source": [
    "plt.hist(precise_majority_count, bins = 100, log=True)\n",
    "plt.hist(precise_minority_count, bins = 100, log=True)\n",
    "plt.title(\"log scale: distribution of minority vs majority counts per county\")\n",
    "plt.show()"
   ]
  },
  {
   "cell_type": "code",
   "execution_count": 13,
   "metadata": {},
   "outputs": [],
   "source": [
    "# add Geometric noise, to make counts differentially private\n",
    "dp_minority_count = GDPC(epsilon, precise_minority_count)\n",
    "dp_majority_count = GDPC(epsilon, precise_majority_count)"
   ]
  },
  {
   "cell_type": "code",
   "execution_count": 14,
   "metadata": {},
   "outputs": [],
   "source": [
    "# optimize to find counts that are \"close\" to the dp counts,\n",
    "# are non-negative, and have race-stratified sums that match the precise t\n",
    "\n",
    "# total sum for both minority and m\n",
    "nn_minority_count = nonnegative_optimize(dp_minority_count, precise_minority_count.sum())\n",
    "nn_majority_count = nonnegative_optimize(dp_majority_count, precise_majority_count.sum())"
   ]
  },
  {
   "cell_type": "code",
   "execution_count": 15,
   "metadata": {},
   "outputs": [],
   "source": [
    "minority_majority_area = (minority_share > .5)\n",
    "min_min_area = (minority_share <= .5)"
   ]
  },
  {
   "cell_type": "code",
   "execution_count": 16,
   "metadata": {},
   "outputs": [
    {
     "name": "stdout",
     "output_type": "stream",
     "text": [
      "precise minority count in minority majority areas:  1036\n",
      "precise minority count in minority minority areas:  783\n"
     ]
    }
   ],
   "source": [
    "print(f'precise minority count in minority majority areas: ',precise_minority_count[minority_majority_area].sum())\n",
    "print(f'precise minority count in minority minority areas: ',precise_minority_count[minority_share <= .5].sum())"
   ]
  },
  {
   "cell_type": "code",
   "execution_count": 23,
   "metadata": {},
   "outputs": [
    {
     "name": "stdout",
     "output_type": "stream",
     "text": [
      "dp minority count in minority majority areas:  552\n",
      "dp minority count in minority minority areas:  291\n"
     ]
    }
   ],
   "source": [
    "print(f'dp minority count in minority majority areas: ',dp_minority_count[minority_majority_area].sum())\n",
    "print(f'dp minority count in minority minority areas: ',dp_minority_count[minority_share <= .5].sum())"
   ]
  },
  {
   "cell_type": "code",
   "execution_count": 36,
   "metadata": {},
   "outputs": [
    {
     "name": "stdout",
     "output_type": "stream",
     "text": [
      "sum of minority negatives in min maj areas:  -1894\n",
      "sum of minority negatives in min min areas:  -45651\n"
     ]
    }
   ],
   "source": [
    "print(f'sum of minority negatives in min maj areas: ',dp_minority_count[(minority_majority_area) & (dp_minority_count < 1)].sum())\n",
    "print(f'sum of minority negatives in min min areas: ',dp_minority_count[(min_min_area) & (dp_minority_count < 1)].sum())"
   ]
  },
  {
   "cell_type": "code",
   "execution_count": 17,
   "metadata": {},
   "outputs": [
    {
     "name": "stdout",
     "output_type": "stream",
     "text": [
      "nn minority count in minority majority areas: 416.3137331220462,\n",
      "nn minority count in minority minority areas: 1402.6863643581148\n"
     ]
    }
   ],
   "source": [
    "print(f'''nn minority count in minority majority areas: {nn_minority_count[minority_majority_area].sum()},\n",
    "nn minority count in minority minority areas: {nn_minority_count[minority_share <= .5].sum()}''')"
   ]
  },
  {
   "cell_type": "code",
   "execution_count": 18,
   "metadata": {
    "scrolled": true
   },
   "outputs": [
    {
     "name": "stdout",
     "output_type": "stream",
     "text": [
      "minority majority areas\n",
      "precise 1036,\n",
      "     dp 552,\n",
      "non-neg 416.3137331220462\n",
      "pct diff 0.5981527672567122\n"
     ]
    }
   ],
   "source": [
    "print(f'''minority majority areas\n",
    "precise {precise_minority_count[minority_majority_area].sum()},\n",
    "     dp {dp_minority_count[minority_majority_area].sum()},\n",
    "non-neg {nn_minority_count[minority_majority_area].sum()}''')\n",
    "print(f'pct diff {1-(nn_minority_count[minority_majority_area].sum()/precise_minority_count[minority_majority_area].sum())}')"
   ]
  },
  {
   "cell_type": "code",
   "execution_count": 20,
   "metadata": {},
   "outputs": [
    {
     "name": "stdout",
     "output_type": "stream",
     "text": [
      "minority minority areas\n",
      "precise 783,\n",
      "     dp 291,\n",
      "non-neg 1402.6863643581148\n",
      "pct diff -0.791425752692356\n"
     ]
    }
   ],
   "source": [
    "print(f'''minority minority areas\n",
    "precise {precise_minority_count[min_min_area].sum()},\n",
    "     dp {dp_minority_count[min_min_area].sum()},\n",
    "non-neg {nn_minority_count[min_min_area].sum()}''')\n",
    "print(f'pct diff {1-(nn_minority_count[min_min_area].sum()/precise_minority_count[min_min_area].sum())}')"
   ]
  }
 ],
 "metadata": {
  "kernelspec": {
   "display_name": "Python 3",
   "language": "python",
   "name": "python3"
  },
  "language_info": {
   "codemirror_mode": {
    "name": "ipython",
    "version": 3
   },
   "file_extension": ".py",
   "mimetype": "text/x-python",
   "name": "python",
   "nbconvert_exporter": "python",
   "pygments_lexer": "ipython3",
   "version": "3.6.10"
  }
 },
 "nbformat": 4,
 "nbformat_minor": 4
}
